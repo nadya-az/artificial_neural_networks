{
  "nbformat": 4,
  "nbformat_minor": 0,
  "metadata": {
    "colab": {
      "provenance": [],
      "authorship_tag": "ABX9TyN4LFFuKwPmGifv/cstqYoe",
      "include_colab_link": true
    },
    "kernelspec": {
      "name": "python3",
      "display_name": "Python 3"
    },
    "language_info": {
      "name": "python"
    }
  },
  "cells": [
    {
      "cell_type": "markdown",
      "metadata": {
        "id": "view-in-github",
        "colab_type": "text"
      },
      "source": [
        "<a href=\"https://colab.research.google.com/github/nadya-az/artificial_neural_networks/blob/main/%D0%9F%D1%80%D0%B0%D0%BA%D1%82%D0%B8%D1%87%D0%B5%D1%81%D0%BA%D0%B0%D1%8F_%D1%80%D0%B0%D0%B1%D0%BE%D1%82%D0%B0_%E2%84%962.ipynb\" target=\"_parent\"><img src=\"https://colab.research.google.com/assets/colab-badge.svg\" alt=\"Open In Colab\"/></a>"
      ]
    },
    {
      "cell_type": "code",
      "execution_count": null,
      "metadata": {
        "colab": {
          "base_uri": "https://localhost:8080/",
          "height": 206
        },
        "id": "_1PcigekWgBn",
        "outputId": "383be514-f10d-4c47-8164-5fc0f0f6706b"
      },
      "outputs": [
        {
          "output_type": "execute_result",
          "data": {
            "text/plain": [
              "   MedInc  HouseAge  AveRooms  AveBedrms  Population  AveOccup  Latitude  \\\n",
              "0  8.3252      41.0  6.984127   1.023810       322.0  2.555556     37.88   \n",
              "1  8.3014      21.0  6.238137   0.971880      2401.0  2.109842     37.86   \n",
              "2  7.2574      52.0  8.288136   1.073446       496.0  2.802260     37.85   \n",
              "3  5.6431      52.0  5.817352   1.073059       558.0  2.547945     37.85   \n",
              "4  3.8462      52.0  6.281853   1.081081       565.0  2.181467     37.85   \n",
              "\n",
              "   Longitude  \n",
              "0    -122.23  \n",
              "1    -122.22  \n",
              "2    -122.24  \n",
              "3    -122.25  \n",
              "4    -122.25  "
            ],
            "text/html": [
              "\n",
              "  <div id=\"df-2913e23d-615c-42e9-ba2b-43e01d2c62fa\">\n",
              "    <div class=\"colab-df-container\">\n",
              "      <div>\n",
              "<style scoped>\n",
              "    .dataframe tbody tr th:only-of-type {\n",
              "        vertical-align: middle;\n",
              "    }\n",
              "\n",
              "    .dataframe tbody tr th {\n",
              "        vertical-align: top;\n",
              "    }\n",
              "\n",
              "    .dataframe thead th {\n",
              "        text-align: right;\n",
              "    }\n",
              "</style>\n",
              "<table border=\"1\" class=\"dataframe\">\n",
              "  <thead>\n",
              "    <tr style=\"text-align: right;\">\n",
              "      <th></th>\n",
              "      <th>MedInc</th>\n",
              "      <th>HouseAge</th>\n",
              "      <th>AveRooms</th>\n",
              "      <th>AveBedrms</th>\n",
              "      <th>Population</th>\n",
              "      <th>AveOccup</th>\n",
              "      <th>Latitude</th>\n",
              "      <th>Longitude</th>\n",
              "    </tr>\n",
              "  </thead>\n",
              "  <tbody>\n",
              "    <tr>\n",
              "      <th>0</th>\n",
              "      <td>8.3252</td>\n",
              "      <td>41.0</td>\n",
              "      <td>6.984127</td>\n",
              "      <td>1.023810</td>\n",
              "      <td>322.0</td>\n",
              "      <td>2.555556</td>\n",
              "      <td>37.88</td>\n",
              "      <td>-122.23</td>\n",
              "    </tr>\n",
              "    <tr>\n",
              "      <th>1</th>\n",
              "      <td>8.3014</td>\n",
              "      <td>21.0</td>\n",
              "      <td>6.238137</td>\n",
              "      <td>0.971880</td>\n",
              "      <td>2401.0</td>\n",
              "      <td>2.109842</td>\n",
              "      <td>37.86</td>\n",
              "      <td>-122.22</td>\n",
              "    </tr>\n",
              "    <tr>\n",
              "      <th>2</th>\n",
              "      <td>7.2574</td>\n",
              "      <td>52.0</td>\n",
              "      <td>8.288136</td>\n",
              "      <td>1.073446</td>\n",
              "      <td>496.0</td>\n",
              "      <td>2.802260</td>\n",
              "      <td>37.85</td>\n",
              "      <td>-122.24</td>\n",
              "    </tr>\n",
              "    <tr>\n",
              "      <th>3</th>\n",
              "      <td>5.6431</td>\n",
              "      <td>52.0</td>\n",
              "      <td>5.817352</td>\n",
              "      <td>1.073059</td>\n",
              "      <td>558.0</td>\n",
              "      <td>2.547945</td>\n",
              "      <td>37.85</td>\n",
              "      <td>-122.25</td>\n",
              "    </tr>\n",
              "    <tr>\n",
              "      <th>4</th>\n",
              "      <td>3.8462</td>\n",
              "      <td>52.0</td>\n",
              "      <td>6.281853</td>\n",
              "      <td>1.081081</td>\n",
              "      <td>565.0</td>\n",
              "      <td>2.181467</td>\n",
              "      <td>37.85</td>\n",
              "      <td>-122.25</td>\n",
              "    </tr>\n",
              "  </tbody>\n",
              "</table>\n",
              "</div>\n",
              "      <button class=\"colab-df-convert\" onclick=\"convertToInteractive('df-2913e23d-615c-42e9-ba2b-43e01d2c62fa')\"\n",
              "              title=\"Convert this dataframe to an interactive table.\"\n",
              "              style=\"display:none;\">\n",
              "        \n",
              "  <svg xmlns=\"http://www.w3.org/2000/svg\" height=\"24px\"viewBox=\"0 0 24 24\"\n",
              "       width=\"24px\">\n",
              "    <path d=\"M0 0h24v24H0V0z\" fill=\"none\"/>\n",
              "    <path d=\"M18.56 5.44l.94 2.06.94-2.06 2.06-.94-2.06-.94-.94-2.06-.94 2.06-2.06.94zm-11 1L8.5 8.5l.94-2.06 2.06-.94-2.06-.94L8.5 2.5l-.94 2.06-2.06.94zm10 10l.94 2.06.94-2.06 2.06-.94-2.06-.94-.94-2.06-.94 2.06-2.06.94z\"/><path d=\"M17.41 7.96l-1.37-1.37c-.4-.4-.92-.59-1.43-.59-.52 0-1.04.2-1.43.59L10.3 9.45l-7.72 7.72c-.78.78-.78 2.05 0 2.83L4 21.41c.39.39.9.59 1.41.59.51 0 1.02-.2 1.41-.59l7.78-7.78 2.81-2.81c.8-.78.8-2.07 0-2.86zM5.41 20L4 18.59l7.72-7.72 1.47 1.35L5.41 20z\"/>\n",
              "  </svg>\n",
              "      </button>\n",
              "      \n",
              "  <style>\n",
              "    .colab-df-container {\n",
              "      display:flex;\n",
              "      flex-wrap:wrap;\n",
              "      gap: 12px;\n",
              "    }\n",
              "\n",
              "    .colab-df-convert {\n",
              "      background-color: #E8F0FE;\n",
              "      border: none;\n",
              "      border-radius: 50%;\n",
              "      cursor: pointer;\n",
              "      display: none;\n",
              "      fill: #1967D2;\n",
              "      height: 32px;\n",
              "      padding: 0 0 0 0;\n",
              "      width: 32px;\n",
              "    }\n",
              "\n",
              "    .colab-df-convert:hover {\n",
              "      background-color: #E2EBFA;\n",
              "      box-shadow: 0px 1px 2px rgba(60, 64, 67, 0.3), 0px 1px 3px 1px rgba(60, 64, 67, 0.15);\n",
              "      fill: #174EA6;\n",
              "    }\n",
              "\n",
              "    [theme=dark] .colab-df-convert {\n",
              "      background-color: #3B4455;\n",
              "      fill: #D2E3FC;\n",
              "    }\n",
              "\n",
              "    [theme=dark] .colab-df-convert:hover {\n",
              "      background-color: #434B5C;\n",
              "      box-shadow: 0px 1px 3px 1px rgba(0, 0, 0, 0.15);\n",
              "      filter: drop-shadow(0px 1px 2px rgba(0, 0, 0, 0.3));\n",
              "      fill: #FFFFFF;\n",
              "    }\n",
              "  </style>\n",
              "\n",
              "      <script>\n",
              "        const buttonEl =\n",
              "          document.querySelector('#df-2913e23d-615c-42e9-ba2b-43e01d2c62fa button.colab-df-convert');\n",
              "        buttonEl.style.display =\n",
              "          google.colab.kernel.accessAllowed ? 'block' : 'none';\n",
              "\n",
              "        async function convertToInteractive(key) {\n",
              "          const element = document.querySelector('#df-2913e23d-615c-42e9-ba2b-43e01d2c62fa');\n",
              "          const dataTable =\n",
              "            await google.colab.kernel.invokeFunction('convertToInteractive',\n",
              "                                                     [key], {});\n",
              "          if (!dataTable) return;\n",
              "\n",
              "          const docLinkHtml = 'Like what you see? Visit the ' +\n",
              "            '<a target=\"_blank\" href=https://colab.research.google.com/notebooks/data_table.ipynb>data table notebook</a>'\n",
              "            + ' to learn more about interactive tables.';\n",
              "          element.innerHTML = '';\n",
              "          dataTable['output_type'] = 'display_data';\n",
              "          await google.colab.output.renderOutput(dataTable, element);\n",
              "          const docLink = document.createElement('div');\n",
              "          docLink.innerHTML = docLinkHtml;\n",
              "          element.appendChild(docLink);\n",
              "        }\n",
              "      </script>\n",
              "    </div>\n",
              "  </div>\n",
              "  "
            ]
          },
          "metadata": {},
          "execution_count": 101
        }
      ],
      "source": [
        "from sklearn.datasets import fetch_california_housing\n",
        "import pandas as pd\n",
        "\n",
        "\n",
        "data = fetch_california_housing()\n",
        "\n",
        "X = pd.DataFrame(data['data'], columns=data['feature_names'])\n",
        "y = data['target']\n",
        "\n",
        "X.head()"
      ]
    },
    {
      "cell_type": "code",
      "source": [
        "y"
      ],
      "metadata": {
        "colab": {
          "base_uri": "https://localhost:8080/"
        },
        "id": "hthJTbCGmzo4",
        "outputId": "ff41c076-31b0-4364-8aa0-3064cec00bcb"
      },
      "execution_count": null,
      "outputs": [
        {
          "output_type": "execute_result",
          "data": {
            "text/plain": [
              "array([4.526, 3.585, 3.521, ..., 0.923, 0.847, 0.894])"
            ]
          },
          "metadata": {},
          "execution_count": 102
        }
      ]
    },
    {
      "cell_type": "markdown",
      "source": [
        "1.1  Разбиваем данные на обучение и тест\n"
      ],
      "metadata": {
        "id": "ffljyLE9J2fL"
      }
    },
    {
      "cell_type": "code",
      "source": [
        "from sklearn.model_selection import train_test_split\n",
        "\n",
        "X_train, X_test, y_train, y_test = train_test_split(X.values, y, test_size=0.2, random_state=0)\n",
        "X_train.shape, X_test.shape\n",
        "\n",
        "X_train[0]"
      ],
      "metadata": {
        "colab": {
          "base_uri": "https://localhost:8080/"
        },
        "id": "22M_wvoMbUtp",
        "outputId": "130b747e-3aac-434f-bdf5-a773edb0bb48"
      },
      "execution_count": null,
      "outputs": [
        {
          "output_type": "execute_result",
          "data": {
            "text/plain": [
              "array([   4.2386    ,    6.        ,    7.72307692,    1.16923077,\n",
              "        228.        ,    3.50769231,   33.83      , -117.55      ])"
            ]
          },
          "metadata": {},
          "execution_count": 103
        }
      ]
    },
    {
      "cell_type": "markdown",
      "source": [],
      "metadata": {
        "id": "X9HN4qNiWPdu"
      }
    },
    {
      "cell_type": "code",
      "source": [
        "from sklearn.preprocessing import MinMaxScaler\n",
        "\n",
        "scale = MinMaxScaler()\n",
        "X_train = scale.fit_transform(X_train)\n",
        "X_test = scale.fit_transform(X_test)\n",
        "\n",
        "X_train[0]\n",
        "X_test[0]"
      ],
      "metadata": {
        "colab": {
          "base_uri": "https://localhost:8080/"
        },
        "id": "8Oj4VeObWP7Y",
        "outputId": "16ff160e-2dc0-4e5e-d217-854b10dfd11f"
      },
      "execution_count": null,
      "outputs": [
        {
          "output_type": "execute_result",
          "data": {
            "text/plain": [
              "array([0.2518517 , 0.41176471, 0.08193933, 0.05890028, 0.09468   ,\n",
              "       0.00280715, 0.00215517, 0.74588477])"
            ]
          },
          "metadata": {},
          "execution_count": 104
        }
      ]
    },
    {
      "cell_type": "markdown",
      "source": [
        "1.2 Создаем архитектуру "
      ],
      "metadata": {
        "id": "DXdJpCpXKBZf"
      }
    },
    {
      "cell_type": "code",
      "source": [
        "from keras.models import Sequential\n",
        "from keras.layers import Dense\n",
        "\n",
        "model = Sequential()\n",
        "\n",
        "model.add(Dense(128, input_shape=(8, ), activation='relu'))\n",
        "model.add(Dense(64, activation='relu'))\n",
        "model.add(Dense(1, activation='linear'))\n",
        "\n",
        "model.summary()"
      ],
      "metadata": {
        "id": "EiwQ9bDApAsg",
        "colab": {
          "base_uri": "https://localhost:8080/"
        },
        "outputId": "e72797bf-73b5-4eca-a653-98b3255c81cf"
      },
      "execution_count": null,
      "outputs": [
        {
          "output_type": "stream",
          "name": "stdout",
          "text": [
            "Model: \"sequential_8\"\n",
            "_________________________________________________________________\n",
            " Layer (type)                Output Shape              Param #   \n",
            "=================================================================\n",
            " dense_24 (Dense)            (None, 128)               1152      \n",
            "                                                                 \n",
            " dense_25 (Dense)            (None, 64)                8256      \n",
            "                                                                 \n",
            " dense_26 (Dense)            (None, 1)                 65        \n",
            "                                                                 \n",
            "=================================================================\n",
            "Total params: 9,473\n",
            "Trainable params: 9,473\n",
            "Non-trainable params: 0\n",
            "_________________________________________________________________\n"
          ]
        }
      ]
    },
    {
      "cell_type": "code",
      "source": [
        "model.get_weights()"
      ],
      "metadata": {
        "colab": {
          "base_uri": "https://localhost:8080/"
        },
        "id": "XqkVotlkef1b",
        "outputId": "b8dc60af-1576-4679-e7ed-965d47e8d690"
      },
      "execution_count": null,
      "outputs": [
        {
          "output_type": "execute_result",
          "data": {
            "text/plain": [
              "[array([[-0.10708372,  0.07524724,  0.02317506, ..., -0.0005445 ,\n",
              "          0.13537033, -0.07855888],\n",
              "        [ 0.19603352, -0.11142357,  0.01911443, ..., -0.06549481,\n",
              "          0.20812123, -0.09801345],\n",
              "        [-0.08834351,  0.08545561,  0.15941428, ...,  0.01510917,\n",
              "         -0.1373133 ,  0.06894378],\n",
              "        ...,\n",
              "        [-0.14670977, -0.01143745,  0.08094801, ...,  0.13821681,\n",
              "          0.19002928, -0.09112589],\n",
              "        [-0.15840326,  0.01924445, -0.12197278, ...,  0.02469768,\n",
              "          0.09188716, -0.12027414],\n",
              "        [ 0.11471553, -0.08533332, -0.15921247, ..., -0.01114875,\n",
              "          0.0140453 ,  0.12040575]], dtype=float32),\n",
              " array([0., 0., 0., 0., 0., 0., 0., 0., 0., 0., 0., 0., 0., 0., 0., 0., 0.,\n",
              "        0., 0., 0., 0., 0., 0., 0., 0., 0., 0., 0., 0., 0., 0., 0., 0., 0.,\n",
              "        0., 0., 0., 0., 0., 0., 0., 0., 0., 0., 0., 0., 0., 0., 0., 0., 0.,\n",
              "        0., 0., 0., 0., 0., 0., 0., 0., 0., 0., 0., 0., 0., 0., 0., 0., 0.,\n",
              "        0., 0., 0., 0., 0., 0., 0., 0., 0., 0., 0., 0., 0., 0., 0., 0., 0.,\n",
              "        0., 0., 0., 0., 0., 0., 0., 0., 0., 0., 0., 0., 0., 0., 0., 0., 0.,\n",
              "        0., 0., 0., 0., 0., 0., 0., 0., 0., 0., 0., 0., 0., 0., 0., 0., 0.,\n",
              "        0., 0., 0., 0., 0., 0., 0., 0., 0.], dtype=float32),\n",
              " array([[ 0.1141649 , -0.00906263,  0.05242376, ...,  0.04660977,\n",
              "          0.04057604,  0.14602141],\n",
              "        [ 0.05431893, -0.06588201, -0.0828116 , ..., -0.04466192,\n",
              "         -0.1024122 , -0.1376468 ],\n",
              "        [ 0.10737284, -0.003492  , -0.10774496, ...,  0.05018847,\n",
              "         -0.02853754, -0.11077148],\n",
              "        ...,\n",
              "        [-0.05114482,  0.10223199,  0.02079512, ...,  0.15049417,\n",
              "         -0.13267022, -0.12126491],\n",
              "        [ 0.0877534 ,  0.09912698, -0.11735912, ...,  0.12198959,\n",
              "         -0.05566651,  0.14996667],\n",
              "        [-0.03177118, -0.13721496,  0.04341598, ..., -0.1441125 ,\n",
              "         -0.10183939, -0.00207283]], dtype=float32),\n",
              " array([0., 0., 0., 0., 0., 0., 0., 0., 0., 0., 0., 0., 0., 0., 0., 0., 0.,\n",
              "        0., 0., 0., 0., 0., 0., 0., 0., 0., 0., 0., 0., 0., 0., 0., 0., 0.,\n",
              "        0., 0., 0., 0., 0., 0., 0., 0., 0., 0., 0., 0., 0., 0., 0., 0., 0.,\n",
              "        0., 0., 0., 0., 0., 0., 0., 0., 0., 0., 0., 0., 0.], dtype=float32),\n",
              " array([[-0.23739925],\n",
              "        [-0.27593452],\n",
              "        [-0.1569047 ],\n",
              "        [ 0.12341863],\n",
              "        [-0.26603356],\n",
              "        [-0.25616717],\n",
              "        [ 0.15592572],\n",
              "        [ 0.25970137],\n",
              "        [-0.01504743],\n",
              "        [-0.16195883],\n",
              "        [-0.16098621],\n",
              "        [-0.25007793],\n",
              "        [-0.25787118],\n",
              "        [-0.14127356],\n",
              "        [-0.27407405],\n",
              "        [ 0.13993457],\n",
              "        [-0.02767786],\n",
              "        [ 0.1805332 ],\n",
              "        [-0.09361024],\n",
              "        [ 0.12045488],\n",
              "        [-0.18775842],\n",
              "        [-0.09040898],\n",
              "        [ 0.07394069],\n",
              "        [-0.0178006 ],\n",
              "        [-0.15859058],\n",
              "        [ 0.05388534],\n",
              "        [ 0.11890408],\n",
              "        [-0.12056309],\n",
              "        [-0.02667975],\n",
              "        [-0.18028408],\n",
              "        [ 0.14399537],\n",
              "        [ 0.27796036],\n",
              "        [-0.07393208],\n",
              "        [-0.30219263],\n",
              "        [ 0.05651206],\n",
              "        [ 0.2718634 ],\n",
              "        [ 0.08942008],\n",
              "        [-0.04080898],\n",
              "        [-0.01394039],\n",
              "        [ 0.26610065],\n",
              "        [ 0.25024837],\n",
              "        [-0.04258209],\n",
              "        [ 0.14047235],\n",
              "        [ 0.0404768 ],\n",
              "        [ 0.21397525],\n",
              "        [-0.11111039],\n",
              "        [-0.26844716],\n",
              "        [-0.1965339 ],\n",
              "        [ 0.03239459],\n",
              "        [-0.28857806],\n",
              "        [-0.26380628],\n",
              "        [ 0.09908459],\n",
              "        [ 0.25902915],\n",
              "        [ 0.03449988],\n",
              "        [-0.19242659],\n",
              "        [ 0.2824186 ],\n",
              "        [-0.22462727],\n",
              "        [ 0.04954624],\n",
              "        [ 0.23405367],\n",
              "        [-0.22277397],\n",
              "        [-0.22467457],\n",
              "        [ 0.03425434],\n",
              "        [ 0.2529397 ],\n",
              "        [ 0.08145839]], dtype=float32),\n",
              " array([0.], dtype=float32)]"
            ]
          },
          "metadata": {},
          "execution_count": 106
        }
      ]
    },
    {
      "cell_type": "markdown",
      "source": [
        "1.3 Скомпилируем сеть"
      ],
      "metadata": {
        "id": "GIQtrsPONjCX"
      }
    },
    {
      "cell_type": "code",
      "source": [
        "model.compile(optimizer='adam', loss='mse', metrics=['mae'])\n"
      ],
      "metadata": {
        "id": "wchcEY84iAtV"
      },
      "execution_count": null,
      "outputs": []
    },
    {
      "cell_type": "markdown",
      "source": [
        "1.4 Обучение нейросети\n"
      ],
      "metadata": {
        "id": "t56du2-HNfZg"
      }
    },
    {
      "cell_type": "code",
      "source": [
        "EPOCH = 50"
      ],
      "metadata": {
        "id": "0_qYG7XbSy0Z"
      },
      "execution_count": null,
      "outputs": []
    },
    {
      "cell_type": "code",
      "source": [
        "H = model.fit(X_train, y_train, epochs=EPOCH, validation_split=0.025)"
      ],
      "metadata": {
        "id": "ml5Onc4ksjWL",
        "colab": {
          "base_uri": "https://localhost:8080/"
        },
        "outputId": "4a1073ba-f0f0-4d33-af30-6ea59216f380"
      },
      "execution_count": null,
      "outputs": [
        {
          "output_type": "stream",
          "name": "stdout",
          "text": [
            "Epoch 1/50\n",
            "504/504 [==============================] - 2s 3ms/step - loss: 0.9139 - mae: 0.6938 - val_loss: 0.4857 - val_mae: 0.5033\n",
            "Epoch 2/50\n",
            "504/504 [==============================] - 52s 104ms/step - loss: 0.5414 - mae: 0.5370 - val_loss: 0.4476 - val_mae: 0.4875\n",
            "Epoch 3/50\n",
            "504/504 [==============================] - 1s 2ms/step - loss: 0.4960 - mae: 0.5099 - val_loss: 0.4286 - val_mae: 0.4866\n",
            "Epoch 4/50\n",
            "504/504 [==============================] - 1s 2ms/step - loss: 0.4650 - mae: 0.4890 - val_loss: 0.4010 - val_mae: 0.4734\n",
            "Epoch 5/50\n",
            "504/504 [==============================] - 1s 2ms/step - loss: 0.4423 - mae: 0.4726 - val_loss: 0.4461 - val_mae: 0.4609\n",
            "Epoch 6/50\n",
            "504/504 [==============================] - 1s 2ms/step - loss: 0.4266 - mae: 0.4623 - val_loss: 0.4243 - val_mae: 0.4495\n",
            "Epoch 7/50\n",
            "504/504 [==============================] - 1s 2ms/step - loss: 0.4185 - mae: 0.4551 - val_loss: 0.3736 - val_mae: 0.4377\n",
            "Epoch 8/50\n",
            "504/504 [==============================] - 1s 2ms/step - loss: 0.4042 - mae: 0.4456 - val_loss: 0.3647 - val_mae: 0.4367\n",
            "Epoch 9/50\n",
            "504/504 [==============================] - 1s 2ms/step - loss: 0.3936 - mae: 0.4391 - val_loss: 0.3940 - val_mae: 0.4369\n",
            "Epoch 10/50\n",
            "504/504 [==============================] - 2s 3ms/step - loss: 0.3873 - mae: 0.4347 - val_loss: 0.3805 - val_mae: 0.4266\n",
            "Epoch 11/50\n",
            "504/504 [==============================] - 2s 3ms/step - loss: 0.3848 - mae: 0.4331 - val_loss: 0.3327 - val_mae: 0.4093\n",
            "Epoch 12/50\n",
            "504/504 [==============================] - 1s 2ms/step - loss: 0.3756 - mae: 0.4267 - val_loss: 0.3552 - val_mae: 0.4479\n",
            "Epoch 13/50\n",
            "504/504 [==============================] - 1s 2ms/step - loss: 0.3689 - mae: 0.4222 - val_loss: 0.3403 - val_mae: 0.4350\n",
            "Epoch 14/50\n",
            "504/504 [==============================] - 1s 2ms/step - loss: 0.3622 - mae: 0.4175 - val_loss: 0.3201 - val_mae: 0.3965\n",
            "Epoch 15/50\n",
            "504/504 [==============================] - 1s 2ms/step - loss: 0.3635 - mae: 0.4201 - val_loss: 0.3637 - val_mae: 0.4638\n",
            "Epoch 16/50\n",
            "504/504 [==============================] - 1s 2ms/step - loss: 0.3530 - mae: 0.4121 - val_loss: 0.3293 - val_mae: 0.4231\n",
            "Epoch 17/50\n",
            "504/504 [==============================] - 1s 2ms/step - loss: 0.3531 - mae: 0.4121 - val_loss: 0.3874 - val_mae: 0.4705\n",
            "Epoch 18/50\n",
            "504/504 [==============================] - 1s 2ms/step - loss: 0.3512 - mae: 0.4120 - val_loss: 0.3250 - val_mae: 0.4040\n",
            "Epoch 19/50\n",
            "504/504 [==============================] - 1s 2ms/step - loss: 0.3436 - mae: 0.4058 - val_loss: 0.3287 - val_mae: 0.4135\n",
            "Epoch 20/50\n",
            "504/504 [==============================] - 2s 4ms/step - loss: 0.3457 - mae: 0.4093 - val_loss: 0.3214 - val_mae: 0.3881\n",
            "Epoch 21/50\n",
            "504/504 [==============================] - 2s 3ms/step - loss: 0.3433 - mae: 0.4058 - val_loss: 0.3075 - val_mae: 0.3958\n",
            "Epoch 22/50\n",
            "504/504 [==============================] - 1s 2ms/step - loss: 0.3407 - mae: 0.4051 - val_loss: 0.3176 - val_mae: 0.3854\n",
            "Epoch 23/50\n",
            "504/504 [==============================] - 1s 2ms/step - loss: 0.3358 - mae: 0.4013 - val_loss: 0.3682 - val_mae: 0.4640\n",
            "Epoch 24/50\n",
            "504/504 [==============================] - 1s 2ms/step - loss: 0.3344 - mae: 0.3996 - val_loss: 0.2965 - val_mae: 0.3866\n",
            "Epoch 25/50\n",
            "504/504 [==============================] - 1s 2ms/step - loss: 0.3292 - mae: 0.3970 - val_loss: 0.3167 - val_mae: 0.4082\n",
            "Epoch 26/50\n",
            "504/504 [==============================] - 1s 2ms/step - loss: 0.3301 - mae: 0.3980 - val_loss: 0.3152 - val_mae: 0.3915\n",
            "Epoch 27/50\n",
            "504/504 [==============================] - 1s 2ms/step - loss: 0.3270 - mae: 0.3948 - val_loss: 0.2993 - val_mae: 0.3906\n",
            "Epoch 28/50\n",
            "504/504 [==============================] - 1s 2ms/step - loss: 0.3190 - mae: 0.3906 - val_loss: 0.2889 - val_mae: 0.3757\n",
            "Epoch 29/50\n",
            "504/504 [==============================] - 1s 2ms/step - loss: 0.3243 - mae: 0.3946 - val_loss: 0.3257 - val_mae: 0.4074\n",
            "Epoch 30/50\n",
            "504/504 [==============================] - 2s 4ms/step - loss: 0.3195 - mae: 0.3905 - val_loss: 0.2830 - val_mae: 0.3734\n",
            "Epoch 31/50\n",
            "504/504 [==============================] - 1s 3ms/step - loss: 0.3214 - mae: 0.3922 - val_loss: 0.2969 - val_mae: 0.3743\n",
            "Epoch 32/50\n",
            "504/504 [==============================] - 1s 2ms/step - loss: 0.3228 - mae: 0.3937 - val_loss: 0.3062 - val_mae: 0.3934\n",
            "Epoch 33/50\n",
            "504/504 [==============================] - 1s 2ms/step - loss: 0.3151 - mae: 0.3882 - val_loss: 0.3907 - val_mae: 0.4933\n",
            "Epoch 34/50\n",
            "504/504 [==============================] - 1s 2ms/step - loss: 0.3152 - mae: 0.3879 - val_loss: 0.2811 - val_mae: 0.3715\n",
            "Epoch 35/50\n",
            "504/504 [==============================] - 1s 2ms/step - loss: 0.3100 - mae: 0.3858 - val_loss: 0.2890 - val_mae: 0.3806\n",
            "Epoch 36/50\n",
            "504/504 [==============================] - 1s 2ms/step - loss: 0.3089 - mae: 0.3837 - val_loss: 0.2972 - val_mae: 0.3931\n",
            "Epoch 37/50\n",
            "504/504 [==============================] - 1s 2ms/step - loss: 0.3163 - mae: 0.3884 - val_loss: 0.2830 - val_mae: 0.3772\n",
            "Epoch 38/50\n",
            "504/504 [==============================] - 1s 2ms/step - loss: 0.3060 - mae: 0.3812 - val_loss: 0.2815 - val_mae: 0.3721\n",
            "Epoch 39/50\n",
            "504/504 [==============================] - 1s 2ms/step - loss: 0.3016 - mae: 0.3783 - val_loss: 0.2880 - val_mae: 0.3921\n",
            "Epoch 40/50\n",
            "504/504 [==============================] - 2s 3ms/step - loss: 0.3050 - mae: 0.3819 - val_loss: 0.2986 - val_mae: 0.4002\n",
            "Epoch 41/50\n",
            "504/504 [==============================] - 2s 3ms/step - loss: 0.3043 - mae: 0.3806 - val_loss: 0.2775 - val_mae: 0.3711\n",
            "Epoch 42/50\n",
            "504/504 [==============================] - 1s 2ms/step - loss: 0.3093 - mae: 0.3848 - val_loss: 0.3219 - val_mae: 0.4216\n",
            "Epoch 43/50\n",
            "504/504 [==============================] - 1s 2ms/step - loss: 0.3012 - mae: 0.3790 - val_loss: 0.2737 - val_mae: 0.3684\n",
            "Epoch 44/50\n",
            "504/504 [==============================] - 1s 2ms/step - loss: 0.2973 - mae: 0.3760 - val_loss: 0.3349 - val_mae: 0.4292\n",
            "Epoch 45/50\n",
            "504/504 [==============================] - 1s 2ms/step - loss: 0.3004 - mae: 0.3775 - val_loss: 0.2702 - val_mae: 0.3643\n",
            "Epoch 46/50\n",
            "504/504 [==============================] - 1s 2ms/step - loss: 0.3038 - mae: 0.3809 - val_loss: 0.2739 - val_mae: 0.3678\n",
            "Epoch 47/50\n",
            "504/504 [==============================] - 1s 2ms/step - loss: 0.2950 - mae: 0.3734 - val_loss: 0.2667 - val_mae: 0.3695\n",
            "Epoch 48/50\n",
            "504/504 [==============================] - 1s 2ms/step - loss: 0.2912 - mae: 0.3708 - val_loss: 0.2651 - val_mae: 0.3726\n",
            "Epoch 49/50\n",
            "504/504 [==============================] - 1s 2ms/step - loss: 0.2947 - mae: 0.3742 - val_loss: 0.2956 - val_mae: 0.3877\n",
            "Epoch 50/50\n",
            "504/504 [==============================] - 2s 3ms/step - loss: 0.2945 - mae: 0.3733 - val_loss: 0.2795 - val_mae: 0.3804\n"
          ]
        }
      ]
    },
    {
      "cell_type": "markdown",
      "source": [
        "1.5 Вывод об обучении модели\n",
        "\n",
        "Модель обучается хорошо"
      ],
      "metadata": {
        "id": "smW2ufPymc6N"
      }
    },
    {
      "cell_type": "markdown",
      "source": [
        "1.6 Предсказание на тестовых данных\n",
        "\n",
        "1.7 Метрика качества на тестовых данных\n"
      ],
      "metadata": {
        "id": "_xHbRNeFm2BQ"
      }
    },
    {
      "cell_type": "code",
      "source": [
        "print(\"Предсказание нейронной сети: \")\n",
        "print(model.evaluate(X_test, y_test))"
      ],
      "metadata": {
        "colab": {
          "base_uri": "https://localhost:8080/"
        },
        "id": "sFvxZ051m-EV",
        "outputId": "7c77eabc-4dd2-4757-8946-b966ae261ee8"
      },
      "execution_count": null,
      "outputs": [
        {
          "output_type": "stream",
          "name": "stdout",
          "text": [
            "Предсказание нейронной сети: \n",
            "129/129 [==============================] - 0s 2ms/step - loss: 2.2776 - mae: 1.2269\n",
            "[2.2776169776916504, 1.226916790008545]\n"
          ]
        }
      ]
    },
    {
      "cell_type": "code",
      "source": [
        "import numpy as np\n",
        "import matplotlib.pyplot as plt\n",
        "import cv2\n",
        "from google.colab.patches import cv2_imshow\n",
        "\n",
        "N = np.arange(0, EPOCH)\n",
        "plt.style.use(\"ggplot\")\n",
        "plt.figure()\n",
        "plt.plot(N, H.history[\"loss\"], label=\"train_loss\")\n",
        "plt.plot(N, H.history[\"val_loss\"], label=\"val_loss\")\n",
        "plt.xlabel(\"Epoch #\")\n",
        "plt.legend()\n",
        "#cv2_imshow(cv2.imread(\"plot.png\"))"
      ],
      "metadata": {
        "id": "6E462J8bnHCB",
        "colab": {
          "base_uri": "https://localhost:8080/",
          "height": 300
        },
        "outputId": "3098e7d8-c185-418f-a8bc-400d4decf600"
      },
      "execution_count": null,
      "outputs": [
        {
          "output_type": "execute_result",
          "data": {
            "text/plain": [
              "<matplotlib.legend.Legend at 0x7fd7313d87f0>"
            ]
          },
          "metadata": {},
          "execution_count": 115
        },
        {
          "output_type": "display_data",
          "data": {
            "text/plain": [
              "<Figure size 432x288 with 1 Axes>"
            ],
            "image/png": "[encoded data removed]"
          },
          "metadata": {}
        }
      ]
    },
    {
      "cell_type": "code",
      "source": [
        "import pandas as pd\n",
        "\n",
        "scale = MinMaxScaler()\n",
        "X = scale.fit_transform(X)\n",
        "\n",
        "pd.DataFrame({\n",
        "   'true': np.squeeze(y),\n",
        "   'pred': np.squeeze(model.predict(X))\n",
        "})"
      ],
      "metadata": {
        "colab": {
          "base_uri": "https://localhost:8080/",
          "height": 442
        },
        "id": "nEhO4ZAITFVO",
        "outputId": "2d8b459c-86a9-4a04-d16e-e707302fdd7e"
      },
      "execution_count": null,
      "outputs": [
        {
          "output_type": "stream",
          "name": "stdout",
          "text": [
            "645/645 [==============================] - 1s 1ms/step\n"
          ]
        },
        {
          "output_type": "execute_result",
          "data": {
            "text/plain": [
              "        true      pred\n",
              "0      4.526  4.664814\n",
              "1      3.585  4.650682\n",
              "2      3.521  4.473070\n",
              "3      3.413  4.092437\n",
              "4      3.422  3.470301\n",
              "...      ...       ...\n",
              "20635  0.781  0.722359\n",
              "20636  0.771  1.007061\n",
              "20637  0.923  0.856911\n",
              "20638  0.847  0.885098\n",
              "20639  0.894  0.993910\n",
              "\n",
              "[20640 rows x 2 columns]"
            ],
            "text/html": [
              "\n",
              "  <div id=\"df-2dcc45ab-6e72-43ba-92cc-9bcd8782321c\">\n",
              "    <div class=\"colab-df-container\">\n",
              "      <div>\n",
              "<style scoped>\n",
              "    .dataframe tbody tr th:only-of-type {\n",
              "        vertical-align: middle;\n",
              "    }\n",
              "\n",
              "    .dataframe tbody tr th {\n",
              "        vertical-align: top;\n",
              "    }\n",
              "\n",
              "    .dataframe thead th {\n",
              "        text-align: right;\n",
              "    }\n",
              "</style>\n",
              "<table border=\"1\" class=\"dataframe\">\n",
              "  <thead>\n",
              "    <tr style=\"text-align: right;\">\n",
              "      <th></th>\n",
              "      <th>true</th>\n",
              "      <th>pred</th>\n",
              "    </tr>\n",
              "  </thead>\n",
              "  <tbody>\n",
              "    <tr>\n",
              "      <th>0</th>\n",
              "      <td>4.526</td>\n",
              "      <td>4.664814</td>\n",
              "    </tr>\n",
              "    <tr>\n",
              "      <th>1</th>\n",
              "      <td>3.585</td>\n",
              "      <td>4.650682</td>\n",
              "    </tr>\n",
              "    <tr>\n",
              "      <th>2</th>\n",
              "      <td>3.521</td>\n",
              "      <td>4.473070</td>\n",
              "    </tr>\n",
              "    <tr>\n",
              "      <th>3</th>\n",
              "      <td>3.413</td>\n",
              "      <td>4.092437</td>\n",
              "    </tr>\n",
              "    <tr>\n",
              "      <th>4</th>\n",
              "      <td>3.422</td>\n",
              "      <td>3.470301</td>\n",
              "    </tr>\n",
              "    <tr>\n",
              "      <th>...</th>\n",
              "      <td>...</td>\n",
              "      <td>...</td>\n",
              "    </tr>\n",
              "    <tr>\n",
              "      <th>20635</th>\n",
              "      <td>0.781</td>\n",
              "      <td>0.722359</td>\n",
              "    </tr>\n",
              "    <tr>\n",
              "      <th>20636</th>\n",
              "      <td>0.771</td>\n",
              "      <td>1.007061</td>\n",
              "    </tr>\n",
              "    <tr>\n",
              "      <th>20637</th>\n",
              "      <td>0.923</td>\n",
              "      <td>0.856911</td>\n",
              "    </tr>\n",
              "    <tr>\n",
              "      <th>20638</th>\n",
              "      <td>0.847</td>\n",
              "      <td>0.885098</td>\n",
              "    </tr>\n",
              "    <tr>\n",
              "      <th>20639</th>\n",
              "      <td>0.894</td>\n",
              "      <td>0.993910</td>\n",
              "    </tr>\n",
              "  </tbody>\n",
              "</table>\n",
              "<p>20640 rows × 2 columns</p>\n",
              "</div>\n",
              "      <button class=\"colab-df-convert\" onclick=\"convertToInteractive('df-2dcc45ab-6e72-43ba-92cc-9bcd8782321c')\"\n",
              "              title=\"Convert this dataframe to an interactive table.\"\n",
              "              style=\"display:none;\">\n",
              "        \n",
              "  <svg xmlns=\"http://www.w3.org/2000/svg\" height=\"24px\"viewBox=\"0 0 24 24\"\n",
              "       width=\"24px\">\n",
              "    <path d=\"M0 0h24v24H0V0z\" fill=\"none\"/>\n",
              "    <path d=\"M18.56 5.44l.94 2.06.94-2.06 2.06-.94-2.06-.94-.94-2.06-.94 2.06-2.06.94zm-11 1L8.5 8.5l.94-2.06 2.06-.94-2.06-.94L8.5 2.5l-.94 2.06-2.06.94zm10 10l.94 2.06.94-2.06 2.06-.94-2.06-.94-.94-2.06-.94 2.06-2.06.94z\"/><path d=\"M17.41 7.96l-1.37-1.37c-.4-.4-.92-.59-1.43-.59-.52 0-1.04.2-1.43.59L10.3 9.45l-7.72 7.72c-.78.78-.78 2.05 0 2.83L4 21.41c.39.39.9.59 1.41.59.51 0 1.02-.2 1.41-.59l7.78-7.78 2.81-2.81c.8-.78.8-2.07 0-2.86zM5.41 20L4 18.59l7.72-7.72 1.47 1.35L5.41 20z\"/>\n",
              "  </svg>\n",
              "      </button>\n",
              "      \n",
              "  <style>\n",
              "    .colab-df-container {\n",
              "      display:flex;\n",
              "      flex-wrap:wrap;\n",
              "      gap: 12px;\n",
              "    }\n",
              "\n",
              "    .colab-df-convert {\n",
              "      background-color: #E8F0FE;\n",
              "      border: none;\n",
              "      border-radius: 50%;\n",
              "      cursor: pointer;\n",
              "      display: none;\n",
              "      fill: #1967D2;\n",
              "      height: 32px;\n",
              "      padding: 0 0 0 0;\n",
              "      width: 32px;\n",
              "    }\n",
              "\n",
              "    .colab-df-convert:hover {\n",
              "      background-color: #E2EBFA;\n",
              "      box-shadow: 0px 1px 2px rgba(60, 64, 67, 0.3), 0px 1px 3px 1px rgba(60, 64, 67, 0.15);\n",
              "      fill: #174EA6;\n",
              "    }\n",
              "\n",
              "    [theme=dark] .colab-df-convert {\n",
              "      background-color: #3B4455;\n",
              "      fill: #D2E3FC;\n",
              "    }\n",
              "\n",
              "    [theme=dark] .colab-df-convert:hover {\n",
              "      background-color: #434B5C;\n",
              "      box-shadow: 0px 1px 3px 1px rgba(0, 0, 0, 0.15);\n",
              "      filter: drop-shadow(0px 1px 2px rgba(0, 0, 0, 0.3));\n",
              "      fill: #FFFFFF;\n",
              "    }\n",
              "  </style>\n",
              "\n",
              "      <script>\n",
              "        const buttonEl =\n",
              "          document.querySelector('#df-2dcc45ab-6e72-43ba-92cc-9bcd8782321c button.colab-df-convert');\n",
              "        buttonEl.style.display =\n",
              "          google.colab.kernel.accessAllowed ? 'block' : 'none';\n",
              "\n",
              "        async function convertToInteractive(key) {\n",
              "          const element = document.querySelector('#df-2dcc45ab-6e72-43ba-92cc-9bcd8782321c');\n",
              "          const dataTable =\n",
              "            await google.colab.kernel.invokeFunction('convertToInteractive',\n",
              "                                                     [key], {});\n",
              "          if (!dataTable) return;\n",
              "\n",
              "          const docLinkHtml = 'Like what you see? Visit the ' +\n",
              "            '<a target=\"_blank\" href=https://colab.research.google.com/notebooks/data_table.ipynb>data table notebook</a>'\n",
              "            + ' to learn more about interactive tables.';\n",
              "          element.innerHTML = '';\n",
              "          dataTable['output_type'] = 'display_data';\n",
              "          await google.colab.output.renderOutput(dataTable, element);\n",
              "          const docLink = document.createElement('div');\n",
              "          docLink.innerHTML = docLinkHtml;\n",
              "          element.appendChild(docLink);\n",
              "        }\n",
              "      </script>\n",
              "    </div>\n",
              "  </div>\n",
              "  "
            ]
          },
          "metadata": {},
          "execution_count": 119
        }
      ]
    }
  ]
}