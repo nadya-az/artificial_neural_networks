{
  "cells": [
    {
      "cell_type": "markdown",
      "metadata": {
        "id": "view-in-github",
        "colab_type": "text"
      },
      "source": [
        "<a href=\"https://colab.research.google.com/github/nadya-az/artificial_neural_networks/blob/main/%D0%9F%D1%80%D0%B0%D0%BA%D1%82%D0%B8%D1%87%D0%B5%D1%81%D0%BA%D0%B0%D1%8F_%D1%80%D0%B0%D0%B1%D0%BE%D1%82%D0%B0_%E2%84%963.ipynb\" target=\"_parent\"><img src=\"https://colab.research.google.com/assets/colab-badge.svg\" alt=\"Open In Colab\"/></a>"
      ]
    },
    {
      "cell_type": "markdown",
      "metadata": {
        "id": "kS4hV47Vhlef"
      },
      "source": [
        "Задание №1. Использование глубокой сверточной нейронной сети для классификации предметов одежды на примере датасета Fashion MNIST"
      ]
    },
    {
      "cell_type": "code",
      "execution_count": 1,
      "metadata": {
        "id": "aYmVQdrbhk3d"
      },
      "outputs": [],
      "source": [
        "from keras.datasets import fashion_mnist # импорт исходного датасета\n",
        "from keras.models import Sequential\n",
        "\n",
        "\n",
        "from tensorflow import keras\n",
        "from tensorflow.keras.layers import Dense, Flatten, Dropout, Conv2D, MaxPooling2D, AveragePooling2D \n",
        "from keras.layers import Conv2D, MaxPooling2D, Dense, Flatten\n",
        "\n",
        "\n",
        "\n",
        " \n",
        "from keras.optimizers import Adam, SGD\n",
        "import matplotlib.pyplot as plt\n",
        "import numpy as np"
      ]
    },
    {
      "cell_type": "code",
      "execution_count": 2,
      "metadata": {
        "colab": {
          "base_uri": "https://localhost:8080/"
        },
        "id": "P_Bj5DEZf3JT",
        "outputId": "09adf47c-f570-4e67-854f-9000f8bbde0c"
      },
      "outputs": [
        {
          "output_type": "stream",
          "name": "stdout",
          "text": [
            "Downloading data from https://storage.googleapis.com/tensorflow/tf-keras-datasets/train-labels-idx1-ubyte.gz\n",
            "29515/29515 [==============================] - 0s 0us/step\n",
            "Downloading data from https://storage.googleapis.com/tensorflow/tf-keras-datasets/train-images-idx3-ubyte.gz\n",
            "26421880/26421880 [==============================] - 0s 0us/step\n",
            "Downloading data from https://storage.googleapis.com/tensorflow/tf-keras-datasets/t10k-labels-idx1-ubyte.gz\n",
            "5148/5148 [==============================] - 0s 0us/step\n",
            "Downloading data from https://storage.googleapis.com/tensorflow/tf-keras-datasets/t10k-images-idx3-ubyte.gz\n",
            "4422102/4422102 [==============================] - 0s 0us/step\n",
            "Train: X =  (60000, 28, 28, 1)\n",
            "Test: X =  (10000, 28, 28, 1)\n"
          ]
        }
      ],
      "source": [
        "(trainX, trainy), (testX, testy) = fashion_mnist.load_data()\n",
        "\n",
        "\n",
        "trainX = trainX / 255\n",
        "testX = testX / 255\n",
        " \n",
        "trainy = keras.utils.to_categorical(trainy, 10)\n",
        "testy = keras.utils.to_categorical(testy, 10)\n",
        "\n",
        "trainX = np.expand_dims(trainX, axis=3)\n",
        "testX = np.expand_dims(testX, axis=3)\n",
        "\n",
        "print('Train: X = ', trainX.shape)\n",
        "print('Test: X = ', testX.shape)"
      ]
    },
    {
      "cell_type": "code",
      "execution_count": 3,
      "metadata": {
        "colab": {
          "base_uri": "https://localhost:8080/",
          "height": 433
        },
        "id": "xitfYMSyiMGg",
        "outputId": "c0cca6dc-b6ef-4e79-f4f4-70b1f03a2536"
      },
      "outputs": [
        {
          "output_type": "display_data",
          "data": {
            "text/plain": [
              "<Figure size 640x480 with 9 Axes>"
            ],
            "image/png": "[encoded data removed]"
          },
          "metadata": {}
        }
      ],
      "source": [
        "for i in range(1, 10):\n",
        "    plt.subplot(3, 3, i)\n",
        "    plt.imshow(trainX[i], cmap=plt.get_cmap('gray'))\n",
        " \n",
        "plt.show()"
      ]
    },
    {
      "cell_type": "code",
      "execution_count": 4,
      "metadata": {
        "colab": {
          "base_uri": "https://localhost:8080/"
        },
        "id": "jDQmj_lRia9q",
        "outputId": "af495263-9c55-461b-c0d7-65d779d9e114"
      },
      "outputs": [
        {
          "output_type": "stream",
          "name": "stdout",
          "text": [
            "Model: \"sequential\"\n",
            "_________________________________________________________________\n",
            " Layer (type)                Output Shape              Param #   \n",
            "=================================================================\n",
            " conv2d (Conv2D)             (None, 24, 24, 6)         156       \n",
            "                                                                 \n",
            " average_pooling2d (AverageP  (None, 12, 12, 6)        0         \n",
            " ooling2D)                                                       \n",
            "                                                                 \n",
            " conv2d_1 (Conv2D)           (None, 8, 8, 16)          2416      \n",
            "                                                                 \n",
            " average_pooling2d_1 (Averag  (None, 4, 4, 16)         0         \n",
            " ePooling2D)                                                     \n",
            "                                                                 \n",
            " flatten (Flatten)           (None, 256)               0         \n",
            "                                                                 \n",
            " dense (Dense)               (None, 120)               30840     \n",
            "                                                                 \n",
            " dense_1 (Dense)             (None, 84)                10164     \n",
            "                                                                 \n",
            " dense_2 (Dense)             (None, 10)                850       \n",
            "                                                                 \n",
            "=================================================================\n",
            "Total params: 44,426\n",
            "Trainable params: 44,426\n",
            "Non-trainable params: 0\n",
            "_________________________________________________________________\n"
          ]
        }
      ],
      "source": [
        "model = keras.Sequential([\n",
        "    Conv2D(6, (5,5), strides=(1,1), activation='tanh', input_shape=(28,28,1)),\n",
        "    AveragePooling2D(pool_size=(2,2), strides=(2,2)),\n",
        "    Conv2D(16, (5,5), strides=(1,1), activation='tanh'),\n",
        "    AveragePooling2D(pool_size=(2,2), strides=(2,2)),\n",
        "\n",
        "    Flatten(),\n",
        "\n",
        "    Dense(units=120,activation='tanh'),\n",
        "    Dense(units=84,activation='tanh'),\n",
        "    Dense(units=10,activation='softmax')\n",
        "])\n",
        "\n",
        "model.summary()"
      ]
    },
    {
      "cell_type": "code",
      "execution_count": 5,
      "metadata": {
        "id": "1hqIohofjnBr"
      },
      "outputs": [],
      "source": [
        "model.compile(optimizer='adam',\n",
        "             loss='categorical_crossentropy',\n",
        "             metrics=['accuracy'])\n",
        "\n"
      ]
    },
    {
      "cell_type": "code",
      "execution_count": 6,
      "metadata": {
        "id": "ycWoTWl-zklB"
      },
      "outputs": [],
      "source": [
        "EPOCH = 5"
      ]
    },
    {
      "cell_type": "code",
      "execution_count": 7,
      "metadata": {
        "colab": {
          "base_uri": "https://localhost:8080/"
        },
        "id": "h0uB9cUckDJg",
        "outputId": "3f3118c8-1be6-4a41-aab3-fde93fb53fdf"
      },
      "outputs": [
        {
          "output_type": "stream",
          "name": "stdout",
          "text": [
            "Epoch 1/5\n",
            "1715/1715 [==============================] - 46s 26ms/step - loss: 0.5747 - accuracy: 0.7874 - val_loss: 0.4743 - val_accuracy: 0.8228\n",
            "Epoch 2/5\n",
            "1715/1715 [==============================] - 29s 17ms/step - loss: 0.4139 - accuracy: 0.8487 - val_loss: 0.3910 - val_accuracy: 0.8572\n",
            "Epoch 3/5\n",
            "1715/1715 [==============================] - 29s 17ms/step - loss: 0.3670 - accuracy: 0.8642 - val_loss: 0.3854 - val_accuracy: 0.8563\n",
            "Epoch 4/5\n",
            "1715/1715 [==============================] - 29s 17ms/step - loss: 0.3371 - accuracy: 0.8745 - val_loss: 0.3421 - val_accuracy: 0.8732\n",
            "Epoch 5/5\n",
            "1715/1715 [==============================] - 29s 17ms/step - loss: 0.3138 - accuracy: 0.8834 - val_loss: 0.3473 - val_accuracy: 0.8769\n"
          ]
        }
      ],
      "source": [
        "h = model.fit(trainX, trainy, batch_size=28, epochs=EPOCH, validation_split=0.2)"
      ]
    },
    {
      "cell_type": "code",
      "execution_count": null,
      "metadata": {
        "colab": {
          "base_uri": "https://localhost:8080/"
        },
        "id": "2TaCVHDBkDkB",
        "outputId": "70a3fa47-c635-447e-ddb7-a13d50b7590e"
      },
      "outputs": [
        {
          "name": "stdout",
          "output_type": "stream",
          "text": [
            "313/313 [==============================] - 2s 7ms/step - loss: 0.3657 - accuracy: 0.8654\n"
          ]
        },
        {
          "data": {
            "text/plain": [
              "[0.365741491317749, 0.8654000163078308]"
            ]
          },
          "execution_count": 8,
          "metadata": {},
          "output_type": "execute_result"
        }
      ],
      "source": [
        "model.evaluate(testX, testy)"
      ]
    },
    {
      "cell_type": "markdown",
      "metadata": {
        "id": "dqK9graHOQgc"
      },
      "source": [
        "1.6 Анализируем обученную модель. Строим график (графики) обучения"
      ]
    },
    {
      "cell_type": "code",
      "execution_count": null,
      "metadata": {
        "colab": {
          "base_uri": "https://localhost:8080/",
          "height": 495
        },
        "id": "urCaL4JZzCp0",
        "outputId": "3ad42010-b0c9-4568-9bac-af30a0a51931"
      },
      "outputs": [
        {
          "data": {
            "text/plain": [
              "<matplotlib.legend.Legend at 0x7fe42401c040>"
            ]
          },
          "execution_count": 9,
          "metadata": {},
          "output_type": "execute_result"
        },
        {
          "data": {
            "image/png": "[encoded data removed]",
            "text/plain": [
              "<Figure size 640x480 with 1 Axes>"
            ]
          },
          "metadata": {},
          "output_type": "display_data"
        }
      ],
      "source": [
        "N = np.arange(0, EPOCH)\n",
        "plt.style.use(\"ggplot\")\n",
        "plt.figure()\n",
        "plt.plot(N, h.history[\"loss\"], label=\"train_loss\")\n",
        "plt.plot(N, h.history[\"val_loss\"], label=\"val_loss\")\n",
        "plt.plot(N, h.history[\"accuracy\"], label=\"train_accuracy\")\n",
        "plt.plot(N, h.history[\"val_accuracy\"], label=\"val_accuracy\")\n",
        "plt.title(\"Training Loss and Accuracy (Simple NN)\")\n",
        "plt.xlabel(\"Epoch #\")\n",
        "plt.ylabel(\"Loss/Accuracy\")\n",
        "plt.legend()"
      ]
    },
    {
      "cell_type": "markdown",
      "metadata": {
        "id": "6r7hrUIXPDHd"
      },
      "source": [
        "1.7. Загружаем свои изображения. С помощью функции predict() получаем предсказание нейронной сети"
      ]
    },
    {
      "cell_type": "code",
      "execution_count": null,
      "metadata": {
        "colab": {
          "base_uri": "https://localhost:8080/",
          "height": 103
        },
        "id": "ux_91_VzO2eV",
        "outputId": "b899feab-e85c-4a48-e808-432c25915003"
      },
      "outputs": [
        {
          "data": {
            "text/html": [
              "\n",
              "     <input type=\"file\" id=\"files-ac724059-48ff-4b94-8901-6d962ec48e90\" name=\"files[]\" multiple disabled\n",
              "        style=\"border:none\" />\n",
              "     <output id=\"result-ac724059-48ff-4b94-8901-6d962ec48e90\">\n",
              "      Upload widget is only available when the cell has been executed in the\n",
              "      current browser session. Please rerun this cell to enable.\n",
              "      </output>\n",
              "      <script>// Copyright 2017 Google LLC\n",
              "//\n",
              "// Licensed under the Apache License, Version 2.0 (the \"License\");\n",
              "// you may not use this file except in compliance with the License.\n",
              "// You may obtain a copy of the License at\n",
              "//\n",
              "//      http://www.apache.org/licenses/LICENSE-2.0\n",
              "//\n",
              "// Unless required by applicable law or agreed to in writing, software\n",
              "// distributed under the License is distributed on an \"AS IS\" BASIS,\n",
              "// WITHOUT WARRANTIES OR CONDITIONS OF ANY KIND, either express or implied.\n",
              "// See the License for the specific language governing permissions and\n",
              "// limitations under the License.\n",
              "\n",
              "/**\n",
              " * @fileoverview Helpers for google.colab Python module.\n",
              " */\n",
              "(function(scope) {\n",
              "function span(text, styleAttributes = {}) {\n",
              "  const element = document.createElement('span');\n",
              "  element.textContent = text;\n",
              "  for (const key of Object.keys(styleAttributes)) {\n",
              "    element.style[key] = styleAttributes[key];\n",
              "  }\n",
              "  return element;\n",
              "}\n",
              "\n",
              "// Max number of bytes which will be uploaded at a time.\n",
              "const MAX_PAYLOAD_SIZE = 100 * 1024;\n",
              "\n",
              "function _uploadFiles(inputId, outputId) {\n",
              "  const steps = uploadFilesStep(inputId, outputId);\n",
              "  const outputElement = document.getElementById(outputId);\n",
              "  // Cache steps on the outputElement to make it available for the next call\n",
              "  // to uploadFilesContinue from Python.\n",
              "  outputElement.steps = steps;\n",
              "\n",
              "  return _uploadFilesContinue(outputId);\n",
              "}\n",
              "\n",
              "// This is roughly an async generator (not supported in the browser yet),\n",
              "// where there are multiple asynchronous steps and the Python side is going\n",
              "// to poll for completion of each step.\n",
              "// This uses a Promise to block the python side on completion of each step,\n",
              "// then passes the result of the previous step as the input to the next step.\n",
              "function _uploadFilesContinue(outputId) {\n",
              "  const outputElement = document.getElementById(outputId);\n",
              "  const steps = outputElement.steps;\n",
              "\n",
              "  const next = steps.next(outputElement.lastPromiseValue);\n",
              "  return Promise.resolve(next.value.promise).then((value) => {\n",
              "    // Cache the last promise value to make it available to the next\n",
              "    // step of the generator.\n",
              "    outputElement.lastPromiseValue = value;\n",
              "    return next.value.response;\n",
              "  });\n",
              "}\n",
              "\n",
              "/**\n",
              " * Generator function which is called between each async step of the upload\n",
              " * process.\n",
              " * @param {string} inputId Element ID of the input file picker element.\n",
              " * @param {string} outputId Element ID of the output display.\n",
              " * @return {!Iterable<!Object>} Iterable of next steps.\n",
              " */\n",
              "function* uploadFilesStep(inputId, outputId) {\n",
              "  const inputElement = document.getElementById(inputId);\n",
              "  inputElement.disabled = false;\n",
              "\n",
              "  const outputElement = document.getElementById(outputId);\n",
              "  outputElement.innerHTML = '';\n",
              "\n",
              "  const pickedPromise = new Promise((resolve) => {\n",
              "    inputElement.addEventListener('change', (e) => {\n",
              "      resolve(e.target.files);\n",
              "    });\n",
              "  });\n",
              "\n",
              "  const cancel = document.createElement('button');\n",
              "  inputElement.parentElement.appendChild(cancel);\n",
              "  cancel.textContent = 'Cancel upload';\n",
              "  const cancelPromise = new Promise((resolve) => {\n",
              "    cancel.onclick = () => {\n",
              "      resolve(null);\n",
              "    };\n",
              "  });\n",
              "\n",
              "  // Wait for the user to pick the files.\n",
              "  const files = yield {\n",
              "    promise: Promise.race([pickedPromise, cancelPromise]),\n",
              "    response: {\n",
              "      action: 'starting',\n",
              "    }\n",
              "  };\n",
              "\n",
              "  cancel.remove();\n",
              "\n",
              "  // Disable the input element since further picks are not allowed.\n",
              "  inputElement.disabled = true;\n",
              "\n",
              "  if (!files) {\n",
              "    return {\n",
              "      response: {\n",
              "        action: 'complete',\n",
              "      }\n",
              "    };\n",
              "  }\n",
              "\n",
              "  for (const file of files) {\n",
              "    const li = document.createElement('li');\n",
              "    li.append(span(file.name, {fontWeight: 'bold'}));\n",
              "    li.append(span(\n",
              "        `(${file.type || 'n/a'}) - ${file.size} bytes, ` +\n",
              "        `last modified: ${\n",
              "            file.lastModifiedDate ? file.lastModifiedDate.toLocaleDateString() :\n",
              "                                    'n/a'} - `));\n",
              "    const percent = span('0% done');\n",
              "    li.appendChild(percent);\n",
              "\n",
              "    outputElement.appendChild(li);\n",
              "\n",
              "    const fileDataPromise = new Promise((resolve) => {\n",
              "      const reader = new FileReader();\n",
              "      reader.onload = (e) => {\n",
              "        resolve(e.target.result);\n",
              "      };\n",
              "      reader.readAsArrayBuffer(file);\n",
              "    });\n",
              "    // Wait for the data to be ready.\n",
              "    let fileData = yield {\n",
              "      promise: fileDataPromise,\n",
              "      response: {\n",
              "        action: 'continue',\n",
              "      }\n",
              "    };\n",
              "\n",
              "    // Use a chunked sending to avoid message size limits. See b/62115660.\n",
              "    let position = 0;\n",
              "    do {\n",
              "      const length = Math.min(fileData.byteLength - position, MAX_PAYLOAD_SIZE);\n",
              "      const chunk = new Uint8Array(fileData, position, length);\n",
              "      position += length;\n",
              "\n",
              "      const base64 = btoa(String.fromCharCode.apply(null, chunk));\n",
              "      yield {\n",
              "        response: {\n",
              "          action: 'append',\n",
              "          file: file.name,\n",
              "          data: base64,\n",
              "        },\n",
              "      };\n",
              "\n",
              "      let percentDone = fileData.byteLength === 0 ?\n",
              "          100 :\n",
              "          Math.round((position / fileData.byteLength) * 100);\n",
              "      percent.textContent = `${percentDone}% done`;\n",
              "\n",
              "    } while (position < fileData.byteLength);\n",
              "  }\n",
              "\n",
              "  // All done.\n",
              "  yield {\n",
              "    response: {\n",
              "      action: 'complete',\n",
              "    }\n",
              "  };\n",
              "}\n",
              "\n",
              "scope.google = scope.google || {};\n",
              "scope.google.colab = scope.google.colab || {};\n",
              "scope.google.colab._files = {\n",
              "  _uploadFiles,\n",
              "  _uploadFilesContinue,\n",
              "};\n",
              "})(self);\n",
              "</script> "
            ],
            "text/plain": [
              "<IPython.core.display.HTML object>"
            ]
          },
          "metadata": {},
          "output_type": "display_data"
        },
        {
          "name": "stdout",
          "output_type": "stream",
          "text": [
            "Saving 6216631104.jpg to 6216631104.jpg\n"
          ]
        },
        {
          "data": {
            "image/png": "[encoded data removed]",
            "text/plain": [
              "<PIL.Image.Image image mode=L size=28x28 at 0x7FE424DB1460>"
            ]
          },
          "metadata": {},
          "output_type": "display_data"
        }
      ],
      "source": [
        "import cv2\n",
        "from google.colab.patches import cv2_imshow\n",
        "\n",
        "# Добавляем интерфейс для загрузки изображений напрямую из блокнота\n",
        "from google.colab import files\n",
        "uploaded = files.upload() \n",
        "\n",
        "# загружаем входное изображение, меняем его размер на необходимый и выводим его\n",
        "\n",
        "image = cv2.imread(list(uploaded.keys())[0], cv2.IMREAD_GRAYSCALE) # Преобразование изображения в оттенки серого при считывании\n",
        "image = cv2.resize(image, (28, 28)) # Изменение разрешения изображения\n",
        "image = cv2.bitwise_not(image) # Инверсия цветов (если в оригинале цифра написана черным цветом на белом фоне)\n",
        "orig = image\n",
        "image = image.reshape(-1, 28, 28, 1) # Приводим изображение из вида (28,28) в вид (1, 28, 28, 1)\n",
        "\n",
        "cv2_imshow(orig)"
      ]
    },
    {
      "cell_type": "code",
      "execution_count": null,
      "metadata": {
        "colab": {
          "base_uri": "https://localhost:8080/"
        },
        "id": "utqiEpD5Pj2k",
        "outputId": "d6543617-2cb0-4c11-a00c-1bc43b550601"
      },
      "outputs": [
        {
          "name": "stdout",
          "output_type": "stream",
          "text": [
            "1/1 [==============================] - 0s 176ms/step\n",
            "[[2.3475055e-05 9.9971145e-01 2.0708841e-05 1.7218333e-04 6.6942157e-05\n",
            "  1.6910695e-08 3.8063693e-06 4.2749394e-07 6.5839043e-07 4.6652247e-07]]\n"
          ]
        }
      ],
      "source": [
        "preds = model.predict(image)\n",
        "print(preds)"
      ]
    },
    {
      "cell_type": "code",
      "execution_count": null,
      "metadata": {
        "colab": {
          "base_uri": "https://localhost:8080/"
        },
        "id": "4ydyrbRxPmpz",
        "outputId": "11f7195d-5c2f-4709-ab10-be0aa887cf4b"
      },
      "outputs": [
        {
          "name": "stdout",
          "output_type": "stream",
          "text": [
            "Загружен тип одежды: 1\n"
          ]
        }
      ],
      "source": [
        "classes = ['T-shirt', 'Trouser', 'Pullover', 'Dress', 'Coat', 'Sandal', 'Shirt', 'Sneaker', 'Bag', 'Ankle boot']\n",
        "\n",
        "i = preds.argmax(axis=1)[0]\n",
        "print(f\"Загружен тип одежды: {i}\")\n"
      ]
    },
    {
      "cell_type": "markdown",
      "metadata": {
        "id": "9nM7RLP4gktv"
      },
      "source": [
        "Задание №2. Использование глубокой сверточной нейронной сети для классификации изображений по своему датасету"
      ]
    },
    {
      "cell_type": "markdown",
      "metadata": {
        "id": "7HqA-ymhibgj"
      },
      "source": [
        "Используя датасет, собранный для предыдущей работы, разработайте и обучите свою модель глубокой сверточной нейронной сети для классификации изображений"
      ]
    },
    {
      "cell_type": "code",
      "execution_count": null,
      "metadata": {
        "colab": {
          "base_uri": "https://localhost:8080/"
        },
        "id": "PuwmFVCQigRz",
        "outputId": "a4ab3e20-33c1-466a-fb62-b0c271565c33"
      },
      "outputs": [
        {
          "output_type": "stream",
          "name": "stdout",
          "text": [
            "Drive already mounted at /content/drive; to attempt to forcibly remount, call drive.mount(\"/content/drive\", force_remount=True).\n"
          ]
        }
      ],
      "source": [
        "from sklearn.preprocessing import LabelBinarizer\n",
        "from sklearn.model_selection import train_test_split\n",
        "from sklearn.metrics import classification_report\n",
        "from keras.models import Sequential\n",
        "from keras.layers.core import Dense\n",
        "from keras.optimizers import SGD\n",
        "from imutils import paths\n",
        "import matplotlib.pyplot as plt\n",
        "import numpy as np\n",
        "import random\n",
        "import pickle\n",
        "import cv2\n",
        "from google.colab.patches import cv2_imshow\n",
        "import os\n",
        "\n",
        "from keras.models import Sequential\n",
        "\n",
        "\n",
        "from tensorflow import keras\n",
        "from tensorflow.keras.layers import Dense, Flatten, Dropout, Conv2D, MaxPooling2D, AveragePooling2D \n",
        "from keras.layers import Conv2D, MaxPooling2D, Dense, Flatten\n",
        "\n",
        "\n",
        "\n",
        " \n",
        "from keras.optimizers import Adam, SGD\n",
        "import matplotlib.pyplot as plt\n",
        "import numpy as np\n",
        "\n",
        "from google.colab import drive\n",
        "drive.mount('/content/drive')"
      ]
    },
    {
      "cell_type": "code",
      "execution_count": null,
      "metadata": {
        "colab": {
          "base_uri": "https://localhost:8080/"
        },
        "id": "Iq6857iqszYs",
        "outputId": "09f1cd78-ff42-4cb4-fb68-3d44d2b7b983"
      },
      "outputs": [
        {
          "output_type": "stream",
          "name": "stdout",
          "text": [
            "[INFO] loading images...\n"
          ]
        }
      ],
      "source": [
        "print(\"[INFO] loading images...\")\n",
        "data = []\n",
        "labels = []"
      ]
    },
    {
      "cell_type": "code",
      "execution_count": null,
      "metadata": {
        "id": "IOkrIeSts4tL"
      },
      "outputs": [],
      "source": [
        "imagePaths = sorted(list(paths.list_images(\"/content/drive/MyDrive/flower_photos\")))\n",
        "\n",
        "random.shuffle(imagePaths)"
      ]
    },
    {
      "cell_type": "code",
      "execution_count": null,
      "metadata": {
        "id": "QuPdEUm4tsGf"
      },
      "outputs": [],
      "source": [
        "for imagePath in imagePaths:\n",
        "\t\n",
        "\timage = cv2.imread(imagePath) # загружаем изображение\n",
        "\timage = cv2.resize(image, (32, 32)) # меняем его разрешение на 32x32 пикселей (без учета соотношения сторон),\n",
        "\t\t\t\t\t\t\t\t\t\t\t\t\t\t\t\t\t\t\t\t\t\t\t\t# сглаживаем его в 32x32x3=3072 пикселей\n",
        "\tdata.append(image) # добавляем в список\n",
        "\n",
        "\tlabel = imagePath.split(os.path.sep)[-2] \t# извлекаем метку класса из пути к изображению (метка класса зависит от имени папки)\n",
        "\tlabels.append(label) # "
      ]
    },
    {
      "cell_type": "code",
      "execution_count": null,
      "metadata": {
        "id": "ypHea-9kt1s_"
      },
      "outputs": [],
      "source": [
        "data = np.array(data, dtype=\"float\") / 255.0\n",
        "labels = np.array(labels)"
      ]
    },
    {
      "cell_type": "code",
      "execution_count": null,
      "metadata": {
        "id": "XzyZVJARiyeB",
        "colab": {
          "base_uri": "https://localhost:8080/"
        },
        "outputId": "36132159-1ecc-4b6a-ab79-89eb472d63e0"
      },
      "outputs": [
        {
          "output_type": "stream",
          "name": "stdout",
          "text": [
            "Train: X =  (2272, 32, 32, 3)\n",
            "Test: X =  (758, 32, 32, 3)\n"
          ]
        }
      ],
      "source": [
        "(trainX, testX, trainY, testY)= train_test_split(data, labels, test_size=0.25, random_state=42)\n",
        "\n",
        "trainX = trainX / 255\n",
        "testX = testX / 255\n",
        " \n",
        "\n",
        "# trainX = np.expand_dims(trainX, axis=3)\n",
        "# testX = np.expand_dims(testX, axis=3)\n",
        "\n",
        "print('Train: X = ', trainX.shape)\n",
        "print('Test: X = ', testX.shape)"
      ]
    },
    {
      "cell_type": "code",
      "source": [
        "lb = LabelBinarizer()\n",
        "trainY = lb.fit_transform(trainY)\n",
        "testY = lb.transform(testY)"
      ],
      "metadata": {
        "id": "MgGx4aZfcCP9"
      },
      "execution_count": null,
      "outputs": []
    },
    {
      "cell_type": "code",
      "source": [
        "model_old = keras.Sequential([\n",
        "    Conv2D(6, (5,5), strides=(1,1), activation='relu', input_shape=(32,32,3)), \n",
        "    \n",
        "    AveragePooling2D(pool_size=(2,2), strides=(2,2)),\n",
        "    Conv2D(16, (5,5), strides=(1,1), activation='relu'),\n",
        "    AveragePooling2D(pool_size=(2,2), strides=(2,2)),\n",
        "\n",
        "    Flatten(),\n",
        "\n",
        "    Dense(units=120,activation='relu'),\n",
        "    Dense(units=84,activation='relu'),\n",
        "    Dense(units=5,activation='softmax') \n",
        "])\n",
        "\n",
        "model_old.summary()"
      ],
      "metadata": {
        "colab": {
          "base_uri": "https://localhost:8080/"
        },
        "id": "PX2AGxq8c215",
        "outputId": "51ae7ea9-8841-40ac-9b04-37c64a024304"
      },
      "execution_count": null,
      "outputs": [
        {
          "output_type": "stream",
          "name": "stdout",
          "text": [
            "Model: \"sequential\"\n",
            "_________________________________________________________________\n",
            " Layer (type)                Output Shape              Param #   \n",
            "=================================================================\n",
            " conv2d (Conv2D)             (None, 28, 28, 6)         456       \n",
            "                                                                 \n",
            " average_pooling2d (AverageP  (None, 14, 14, 6)        0         \n",
            " ooling2D)                                                       \n",
            "                                                                 \n",
            " conv2d_1 (Conv2D)           (None, 10, 10, 16)        2416      \n",
            "                                                                 \n",
            " average_pooling2d_1 (Averag  (None, 5, 5, 16)         0         \n",
            " ePooling2D)                                                     \n",
            "                                                                 \n",
            " flatten (Flatten)           (None, 400)               0         \n",
            "                                                                 \n",
            " dense (Dense)               (None, 120)               48120     \n",
            "                                                                 \n",
            " dense_1 (Dense)             (None, 84)                10164     \n",
            "                                                                 \n",
            " dense_2 (Dense)             (None, 5)                 425       \n",
            "                                                                 \n",
            "=================================================================\n",
            "Total params: 61,581\n",
            "Trainable params: 61,581\n",
            "Non-trainable params: 0\n",
            "_________________________________________________________________\n"
          ]
        }
      ]
    },
    {
      "cell_type": "code",
      "source": [
        "model_old.compile(optimizer='adam',\n",
        "             loss='categorical_crossentropy',\n",
        "             metrics=['accuracy'])"
      ],
      "metadata": {
        "id": "bKSHg6jbeUQx"
      },
      "execution_count": null,
      "outputs": []
    },
    {
      "cell_type": "code",
      "source": [
        "his = model_old.fit(trainX, trainY, batch_size=100, epochs=1000, validation_split=0.2)"
      ],
      "metadata": {
        "colab": {
          "base_uri": "https://localhost:8080/",
          "height": 1000
        },
        "id": "H1JsIuPXecoO",
        "outputId": "ccc975a7-ed4d-425a-85d8-155a39695f6b"
      },
      "execution_count": null,
      "outputs": [
        {
          "output_type": "stream",
          "name": "stdout",
          "text": [
            "Epoch 1/1000\n",
            "19/19 [==============================] - 2s 120ms/step - loss: 1.1435 - accuracy: 0.5190 - val_loss: 1.2352 - val_accuracy: 0.4637\n",
            "Epoch 2/1000\n",
            "19/19 [==============================] - 2s 112ms/step - loss: 1.1399 - accuracy: 0.5305 - val_loss: 1.2597 - val_accuracy: 0.4352\n",
            "Epoch 3/1000\n",
            "19/19 [==============================] - 1s 77ms/step - loss: 1.1325 - accuracy: 0.5272 - val_loss: 1.2365 - val_accuracy: 0.4527\n",
            "Epoch 4/1000\n",
            "19/19 [==============================] - 1s 68ms/step - loss: 1.1330 - accuracy: 0.5261 - val_loss: 1.2625 - val_accuracy: 0.4286\n",
            "Epoch 5/1000\n",
            "19/19 [==============================] - 1s 69ms/step - loss: 1.1293 - accuracy: 0.5294 - val_loss: 1.2460 - val_accuracy: 0.4527\n",
            "Epoch 6/1000\n",
            "19/19 [==============================] - 1s 69ms/step - loss: 1.1305 - accuracy: 0.5272 - val_loss: 1.2423 - val_accuracy: 0.4549\n",
            "Epoch 7/1000\n",
            "19/19 [==============================] - 1s 69ms/step - loss: 1.1285 - accuracy: 0.5250 - val_loss: 1.2402 - val_accuracy: 0.4527\n",
            "Epoch 8/1000\n",
            "19/19 [==============================] - 1s 69ms/step - loss: 1.1302 - accuracy: 0.5322 - val_loss: 1.2426 - val_accuracy: 0.4593\n",
            "Epoch 9/1000\n",
            "19/19 [==============================] - 1s 71ms/step - loss: 1.1370 - accuracy: 0.5294 - val_loss: 1.2466 - val_accuracy: 0.4571\n",
            "Epoch 10/1000\n",
            "19/19 [==============================] - 2s 108ms/step - loss: 1.1281 - accuracy: 0.5311 - val_loss: 1.2351 - val_accuracy: 0.4505\n",
            "Epoch 11/1000\n",
            "19/19 [==============================] - 2s 122ms/step - loss: 1.1173 - accuracy: 0.5349 - val_loss: 1.2292 - val_accuracy: 0.4571\n",
            "Epoch 12/1000\n",
            "19/19 [==============================] - 2s 83ms/step - loss: 1.1151 - accuracy: 0.5289 - val_loss: 1.2468 - val_accuracy: 0.4374\n",
            "Epoch 13/1000\n",
            "19/19 [==============================] - 1s 68ms/step - loss: 1.1193 - accuracy: 0.5338 - val_loss: 1.2369 - val_accuracy: 0.4505\n",
            "Epoch 14/1000\n",
            "19/19 [==============================] - 1s 69ms/step - loss: 1.1197 - accuracy: 0.5416 - val_loss: 1.2545 - val_accuracy: 0.4440\n",
            "Epoch 15/1000\n",
            "19/19 [==============================] - 1s 69ms/step - loss: 1.1141 - accuracy: 0.5316 - val_loss: 1.2305 - val_accuracy: 0.4593\n",
            "Epoch 16/1000\n",
            "19/19 [==============================] - 1s 69ms/step - loss: 1.1198 - accuracy: 0.5316 - val_loss: 1.2286 - val_accuracy: 0.4571\n",
            "Epoch 17/1000\n",
            "19/19 [==============================] - 1s 70ms/step - loss: 1.1135 - accuracy: 0.5333 - val_loss: 1.2324 - val_accuracy: 0.4571\n",
            "Epoch 18/1000\n",
            "19/19 [==============================] - 1s 69ms/step - loss: 1.1039 - accuracy: 0.5416 - val_loss: 1.2305 - val_accuracy: 0.4505\n",
            "Epoch 19/1000\n",
            "19/19 [==============================] - 1s 69ms/step - loss: 1.0950 - accuracy: 0.5410 - val_loss: 1.2317 - val_accuracy: 0.4505\n",
            "Epoch 20/1000\n",
            "19/19 [==============================] - 2s 118ms/step - loss: 1.0968 - accuracy: 0.5493 - val_loss: 1.2695 - val_accuracy: 0.4242\n",
            "Epoch 21/1000\n",
            "19/19 [==============================] - 2s 118ms/step - loss: 1.0996 - accuracy: 0.5416 - val_loss: 1.2492 - val_accuracy: 0.4440\n",
            "Epoch 22/1000\n",
            "19/19 [==============================] - 1s 70ms/step - loss: 1.0942 - accuracy: 0.5509 - val_loss: 1.2613 - val_accuracy: 0.4396\n",
            "Epoch 23/1000\n",
            "19/19 [==============================] - 1s 69ms/step - loss: 1.1087 - accuracy: 0.5427 - val_loss: 1.2680 - val_accuracy: 0.4374\n",
            "Epoch 24/1000\n",
            "19/19 [==============================] - 1s 71ms/step - loss: 1.0999 - accuracy: 0.5531 - val_loss: 1.2775 - val_accuracy: 0.4396\n",
            "Epoch 25/1000\n",
            "19/19 [==============================] - 1s 68ms/step - loss: 1.1066 - accuracy: 0.5382 - val_loss: 1.2493 - val_accuracy: 0.4484\n",
            "Epoch 26/1000\n",
            "19/19 [==============================] - 1s 69ms/step - loss: 1.0882 - accuracy: 0.5542 - val_loss: 1.2570 - val_accuracy: 0.4264\n",
            "Epoch 27/1000\n",
            "19/19 [==============================] - 1s 68ms/step - loss: 1.0824 - accuracy: 0.5493 - val_loss: 1.2345 - val_accuracy: 0.4549\n",
            "Epoch 28/1000\n",
            "19/19 [==============================] - 1s 68ms/step - loss: 1.0787 - accuracy: 0.5531 - val_loss: 1.2615 - val_accuracy: 0.4484\n",
            "Epoch 29/1000\n",
            "19/19 [==============================] - 2s 87ms/step - loss: 1.0895 - accuracy: 0.5526 - val_loss: 1.2349 - val_accuracy: 0.4571\n",
            "Epoch 30/1000\n",
            "19/19 [==============================] - 2s 126ms/step - loss: 1.0908 - accuracy: 0.5482 - val_loss: 1.2388 - val_accuracy: 0.4659\n",
            "Epoch 31/1000\n",
            "19/19 [==============================] - 2s 106ms/step - loss: 1.0757 - accuracy: 0.5504 - val_loss: 1.2271 - val_accuracy: 0.4527\n",
            "Epoch 32/1000\n",
            "19/19 [==============================] - 1s 72ms/step - loss: 1.0706 - accuracy: 0.5581 - val_loss: 1.2445 - val_accuracy: 0.4374\n",
            "Epoch 33/1000\n",
            "19/19 [==============================] - 1s 68ms/step - loss: 1.0705 - accuracy: 0.5619 - val_loss: 1.2509 - val_accuracy: 0.4549\n",
            "Epoch 34/1000\n",
            "19/19 [==============================] - 1s 67ms/step - loss: 1.0682 - accuracy: 0.5564 - val_loss: 1.2255 - val_accuracy: 0.4703\n",
            "Epoch 35/1000\n",
            "19/19 [==============================] - 1s 69ms/step - loss: 1.0827 - accuracy: 0.5432 - val_loss: 1.2940 - val_accuracy: 0.4462\n",
            "Epoch 36/1000\n",
            "19/19 [==============================] - 1s 71ms/step - loss: 1.0861 - accuracy: 0.5493 - val_loss: 1.2467 - val_accuracy: 0.4571\n",
            "Epoch 37/1000\n",
            "19/19 [==============================] - 1s 68ms/step - loss: 1.0740 - accuracy: 0.5597 - val_loss: 1.2303 - val_accuracy: 0.4374\n",
            "Epoch 38/1000\n",
            "19/19 [==============================] - 1s 70ms/step - loss: 1.0728 - accuracy: 0.5603 - val_loss: 1.2834 - val_accuracy: 0.4462\n",
            "Epoch 39/1000\n",
            "19/19 [==============================] - 2s 112ms/step - loss: 1.0725 - accuracy: 0.5531 - val_loss: 1.2440 - val_accuracy: 0.4418\n",
            "Epoch 40/1000\n",
            "19/19 [==============================] - 2s 119ms/step - loss: 1.0532 - accuracy: 0.5647 - val_loss: 1.2588 - val_accuracy: 0.4242\n",
            "Epoch 41/1000\n",
            "19/19 [==============================] - 2s 81ms/step - loss: 1.0520 - accuracy: 0.5652 - val_loss: 1.2354 - val_accuracy: 0.4418\n",
            "Epoch 42/1000\n",
            "19/19 [==============================] - 1s 70ms/step - loss: 1.0429 - accuracy: 0.5647 - val_loss: 1.2456 - val_accuracy: 0.4374\n",
            "Epoch 43/1000\n",
            "19/19 [==============================] - 1s 71ms/step - loss: 1.0394 - accuracy: 0.5746 - val_loss: 1.2774 - val_accuracy: 0.4308\n",
            "Epoch 44/1000\n",
            "19/19 [==============================] - 1s 74ms/step - loss: 1.0567 - accuracy: 0.5658 - val_loss: 1.2705 - val_accuracy: 0.4549\n",
            "Epoch 45/1000\n",
            "19/19 [==============================] - 2s 91ms/step - loss: 1.0401 - accuracy: 0.5724 - val_loss: 1.2408 - val_accuracy: 0.4264\n",
            "Epoch 46/1000\n",
            "19/19 [==============================] - 1s 71ms/step - loss: 1.0336 - accuracy: 0.5691 - val_loss: 1.2545 - val_accuracy: 0.4330\n",
            "Epoch 47/1000\n",
            "19/19 [==============================] - 1s 69ms/step - loss: 1.0338 - accuracy: 0.5729 - val_loss: 1.2489 - val_accuracy: 0.4440\n",
            "Epoch 48/1000\n",
            "19/19 [==============================] - 2s 103ms/step - loss: 1.0358 - accuracy: 0.5696 - val_loss: 1.2371 - val_accuracy: 0.4462\n",
            "Epoch 49/1000\n",
            "19/19 [==============================] - 2s 124ms/step - loss: 1.0300 - accuracy: 0.5790 - val_loss: 1.2495 - val_accuracy: 0.4308\n",
            "Epoch 50/1000\n",
            "19/19 [==============================] - 2s 92ms/step - loss: 1.0314 - accuracy: 0.5718 - val_loss: 1.2442 - val_accuracy: 0.4505\n",
            "Epoch 51/1000\n",
            "19/19 [==============================] - 1s 70ms/step - loss: 1.0297 - accuracy: 0.5702 - val_loss: 1.2490 - val_accuracy: 0.4352\n",
            "Epoch 52/1000\n",
            "19/19 [==============================] - 1s 72ms/step - loss: 1.0219 - accuracy: 0.5812 - val_loss: 1.2432 - val_accuracy: 0.4352\n",
            "Epoch 53/1000\n",
            "19/19 [==============================] - 1s 69ms/step - loss: 1.0269 - accuracy: 0.5762 - val_loss: 1.2659 - val_accuracy: 0.4352\n",
            "Epoch 54/1000\n",
            "19/19 [==============================] - 1s 69ms/step - loss: 1.0503 - accuracy: 0.5548 - val_loss: 1.2435 - val_accuracy: 0.4352\n",
            "Epoch 55/1000\n",
            "19/19 [==============================] - 1s 69ms/step - loss: 1.0150 - accuracy: 0.5773 - val_loss: 1.2485 - val_accuracy: 0.4396\n",
            "Epoch 56/1000\n",
            "19/19 [==============================] - 1s 69ms/step - loss: 1.0095 - accuracy: 0.5878 - val_loss: 1.2599 - val_accuracy: 0.4264\n",
            "Epoch 57/1000\n",
            "19/19 [==============================] - 2s 80ms/step - loss: 1.0129 - accuracy: 0.5746 - val_loss: 1.2581 - val_accuracy: 0.4198\n",
            "Epoch 58/1000\n",
            "19/19 [==============================] - 2s 127ms/step - loss: 1.0101 - accuracy: 0.5867 - val_loss: 1.2597 - val_accuracy: 0.4374\n",
            "Epoch 59/1000\n",
            "19/19 [==============================] - 2s 110ms/step - loss: 1.0106 - accuracy: 0.5801 - val_loss: 1.2511 - val_accuracy: 0.4462\n",
            "Epoch 60/1000\n",
            "19/19 [==============================] - 1s 70ms/step - loss: 1.0128 - accuracy: 0.5911 - val_loss: 1.2522 - val_accuracy: 0.4549\n",
            "Epoch 61/1000\n",
            "19/19 [==============================] - 1s 70ms/step - loss: 1.0048 - accuracy: 0.5938 - val_loss: 1.2519 - val_accuracy: 0.4396\n",
            "Epoch 62/1000\n",
            "19/19 [==============================] - 1s 69ms/step - loss: 1.0035 - accuracy: 0.5944 - val_loss: 1.2898 - val_accuracy: 0.4462\n",
            "Epoch 63/1000\n",
            "19/19 [==============================] - 1s 70ms/step - loss: 1.0067 - accuracy: 0.5916 - val_loss: 1.2715 - val_accuracy: 0.4308\n",
            "Epoch 64/1000\n",
            "19/19 [==============================] - 1s 73ms/step - loss: 0.9924 - accuracy: 0.5938 - val_loss: 1.2721 - val_accuracy: 0.4418\n",
            "Epoch 65/1000\n",
            "18/19 [===========================>..] - ETA: 0s - loss: 0.9921 - accuracy: 0.5967"
          ]
        },
        {
          "output_type": "error",
          "ename": "KeyboardInterrupt",
          "evalue": "ignored",
          "traceback": [
            "\u001b[0;31m---------------------------------------------------------------------------\u001b[0m",
            "\u001b[0;31mKeyboardInterrupt\u001b[0m                         Traceback (most recent call last)",
            "\u001b[0;32m<ipython-input-13-60644d1422e3>\u001b[0m in \u001b[0;36m<cell line: 1>\u001b[0;34m()\u001b[0m\n\u001b[0;32m----> 1\u001b[0;31m \u001b[0mhis\u001b[0m \u001b[0;34m=\u001b[0m \u001b[0mmodel_old\u001b[0m\u001b[0;34m.\u001b[0m\u001b[0mfit\u001b[0m\u001b[0;34m(\u001b[0m\u001b[0mtrainX\u001b[0m\u001b[0;34m,\u001b[0m \u001b[0mtrainY\u001b[0m\u001b[0;34m,\u001b[0m \u001b[0mbatch_size\u001b[0m\u001b[0;34m=\u001b[0m\u001b[0;36m100\u001b[0m\u001b[0;34m,\u001b[0m \u001b[0mepochs\u001b[0m\u001b[0;34m=\u001b[0m\u001b[0;36m1000\u001b[0m\u001b[0;34m,\u001b[0m \u001b[0mvalidation_split\u001b[0m\u001b[0;34m=\u001b[0m\u001b[0;36m0.2\u001b[0m\u001b[0;34m)\u001b[0m\u001b[0;34m\u001b[0m\u001b[0;34m\u001b[0m\u001b[0m\n\u001b[0m",
            "\u001b[0;32m/usr/local/lib/python3.9/dist-packages/keras/utils/traceback_utils.py\u001b[0m in \u001b[0;36merror_handler\u001b[0;34m(*args, **kwargs)\u001b[0m\n\u001b[1;32m     63\u001b[0m         \u001b[0mfiltered_tb\u001b[0m \u001b[0;34m=\u001b[0m \u001b[0;32mNone\u001b[0m\u001b[0;34m\u001b[0m\u001b[0;34m\u001b[0m\u001b[0m\n\u001b[1;32m     64\u001b[0m         \u001b[0;32mtry\u001b[0m\u001b[0;34m:\u001b[0m\u001b[0;34m\u001b[0m\u001b[0;34m\u001b[0m\u001b[0m\n\u001b[0;32m---> 65\u001b[0;31m             \u001b[0;32mreturn\u001b[0m \u001b[0mfn\u001b[0m\u001b[0;34m(\u001b[0m\u001b[0;34m*\u001b[0m\u001b[0margs\u001b[0m\u001b[0;34m,\u001b[0m \u001b[0;34m**\u001b[0m\u001b[0mkwargs\u001b[0m\u001b[0;34m)\u001b[0m\u001b[0;34m\u001b[0m\u001b[0;34m\u001b[0m\u001b[0m\n\u001b[0m\u001b[1;32m     66\u001b[0m         \u001b[0;32mexcept\u001b[0m \u001b[0mException\u001b[0m \u001b[0;32mas\u001b[0m \u001b[0me\u001b[0m\u001b[0;34m:\u001b[0m\u001b[0;34m\u001b[0m\u001b[0;34m\u001b[0m\u001b[0m\n\u001b[1;32m     67\u001b[0m             \u001b[0mfiltered_tb\u001b[0m \u001b[0;34m=\u001b[0m \u001b[0m_process_traceback_frames\u001b[0m\u001b[0;34m(\u001b[0m\u001b[0me\u001b[0m\u001b[0;34m.\u001b[0m\u001b[0m__traceback__\u001b[0m\u001b[0;34m)\u001b[0m\u001b[0;34m\u001b[0m\u001b[0;34m\u001b[0m\u001b[0m\n",
            "\u001b[0;32m/usr/local/lib/python3.9/dist-packages/keras/engine/training.py\u001b[0m in \u001b[0;36mfit\u001b[0;34m(self, x, y, batch_size, epochs, verbose, callbacks, validation_split, validation_data, shuffle, class_weight, sample_weight, initial_epoch, steps_per_epoch, validation_steps, validation_batch_size, validation_freq, max_queue_size, workers, use_multiprocessing)\u001b[0m\n\u001b[1;32m   1727\u001b[0m                             \u001b[0msteps_per_execution\u001b[0m\u001b[0;34m=\u001b[0m\u001b[0mself\u001b[0m\u001b[0;34m.\u001b[0m\u001b[0m_steps_per_execution\u001b[0m\u001b[0;34m,\u001b[0m\u001b[0;34m\u001b[0m\u001b[0;34m\u001b[0m\u001b[0m\n\u001b[1;32m   1728\u001b[0m                         )\n\u001b[0;32m-> 1729\u001b[0;31m                     val_logs = self.evaluate(\n\u001b[0m\u001b[1;32m   1730\u001b[0m                         \u001b[0mx\u001b[0m\u001b[0;34m=\u001b[0m\u001b[0mval_x\u001b[0m\u001b[0;34m,\u001b[0m\u001b[0;34m\u001b[0m\u001b[0;34m\u001b[0m\u001b[0m\n\u001b[1;32m   1731\u001b[0m                         \u001b[0my\u001b[0m\u001b[0;34m=\u001b[0m\u001b[0mval_y\u001b[0m\u001b[0;34m,\u001b[0m\u001b[0;34m\u001b[0m\u001b[0;34m\u001b[0m\u001b[0m\n",
            "\u001b[0;32m/usr/local/lib/python3.9/dist-packages/keras/utils/traceback_utils.py\u001b[0m in \u001b[0;36merror_handler\u001b[0;34m(*args, **kwargs)\u001b[0m\n\u001b[1;32m     63\u001b[0m         \u001b[0mfiltered_tb\u001b[0m \u001b[0;34m=\u001b[0m \u001b[0;32mNone\u001b[0m\u001b[0;34m\u001b[0m\u001b[0;34m\u001b[0m\u001b[0m\n\u001b[1;32m     64\u001b[0m         \u001b[0;32mtry\u001b[0m\u001b[0;34m:\u001b[0m\u001b[0;34m\u001b[0m\u001b[0;34m\u001b[0m\u001b[0m\n\u001b[0;32m---> 65\u001b[0;31m             \u001b[0;32mreturn\u001b[0m \u001b[0mfn\u001b[0m\u001b[0;34m(\u001b[0m\u001b[0;34m*\u001b[0m\u001b[0margs\u001b[0m\u001b[0;34m,\u001b[0m \u001b[0;34m**\u001b[0m\u001b[0mkwargs\u001b[0m\u001b[0;34m)\u001b[0m\u001b[0;34m\u001b[0m\u001b[0;34m\u001b[0m\u001b[0m\n\u001b[0m\u001b[1;32m     66\u001b[0m         \u001b[0;32mexcept\u001b[0m \u001b[0mException\u001b[0m \u001b[0;32mas\u001b[0m \u001b[0me\u001b[0m\u001b[0;34m:\u001b[0m\u001b[0;34m\u001b[0m\u001b[0;34m\u001b[0m\u001b[0m\n\u001b[1;32m     67\u001b[0m             \u001b[0mfiltered_tb\u001b[0m \u001b[0;34m=\u001b[0m \u001b[0m_process_traceback_frames\u001b[0m\u001b[0;34m(\u001b[0m\u001b[0me\u001b[0m\u001b[0;34m.\u001b[0m\u001b[0m__traceback__\u001b[0m\u001b[0;34m)\u001b[0m\u001b[0;34m\u001b[0m\u001b[0;34m\u001b[0m\u001b[0m\n",
            "\u001b[0;32m/usr/local/lib/python3.9/dist-packages/keras/engine/training.py\u001b[0m in \u001b[0;36mevaluate\u001b[0;34m(self, x, y, batch_size, verbose, sample_weight, steps, callbacks, max_queue_size, workers, use_multiprocessing, return_dict, **kwargs)\u001b[0m\n\u001b[1;32m   2070\u001b[0m                         ):\n\u001b[1;32m   2071\u001b[0m                             \u001b[0mcallbacks\u001b[0m\u001b[0;34m.\u001b[0m\u001b[0mon_test_batch_begin\u001b[0m\u001b[0;34m(\u001b[0m\u001b[0mstep\u001b[0m\u001b[0;34m)\u001b[0m\u001b[0;34m\u001b[0m\u001b[0;34m\u001b[0m\u001b[0m\n\u001b[0;32m-> 2072\u001b[0;31m                             \u001b[0mtmp_logs\u001b[0m \u001b[0;34m=\u001b[0m \u001b[0mself\u001b[0m\u001b[0;34m.\u001b[0m\u001b[0mtest_function\u001b[0m\u001b[0;34m(\u001b[0m\u001b[0miterator\u001b[0m\u001b[0;34m)\u001b[0m\u001b[0;34m\u001b[0m\u001b[0;34m\u001b[0m\u001b[0m\n\u001b[0m\u001b[1;32m   2073\u001b[0m                             \u001b[0;32mif\u001b[0m \u001b[0mdata_handler\u001b[0m\u001b[0;34m.\u001b[0m\u001b[0mshould_sync\u001b[0m\u001b[0;34m:\u001b[0m\u001b[0;34m\u001b[0m\u001b[0;34m\u001b[0m\u001b[0m\n\u001b[1;32m   2074\u001b[0m                                 \u001b[0mcontext\u001b[0m\u001b[0;34m.\u001b[0m\u001b[0masync_wait\u001b[0m\u001b[0;34m(\u001b[0m\u001b[0;34m)\u001b[0m\u001b[0;34m\u001b[0m\u001b[0;34m\u001b[0m\u001b[0m\n",
            "\u001b[0;32m/usr/local/lib/python3.9/dist-packages/tensorflow/python/util/traceback_utils.py\u001b[0m in \u001b[0;36merror_handler\u001b[0;34m(*args, **kwargs)\u001b[0m\n\u001b[1;32m    148\u001b[0m     \u001b[0mfiltered_tb\u001b[0m \u001b[0;34m=\u001b[0m \u001b[0;32mNone\u001b[0m\u001b[0;34m\u001b[0m\u001b[0;34m\u001b[0m\u001b[0m\n\u001b[1;32m    149\u001b[0m     \u001b[0;32mtry\u001b[0m\u001b[0;34m:\u001b[0m\u001b[0;34m\u001b[0m\u001b[0;34m\u001b[0m\u001b[0m\n\u001b[0;32m--> 150\u001b[0;31m       \u001b[0;32mreturn\u001b[0m \u001b[0mfn\u001b[0m\u001b[0;34m(\u001b[0m\u001b[0;34m*\u001b[0m\u001b[0margs\u001b[0m\u001b[0;34m,\u001b[0m \u001b[0;34m**\u001b[0m\u001b[0mkwargs\u001b[0m\u001b[0;34m)\u001b[0m\u001b[0;34m\u001b[0m\u001b[0;34m\u001b[0m\u001b[0m\n\u001b[0m\u001b[1;32m    151\u001b[0m     \u001b[0;32mexcept\u001b[0m \u001b[0mException\u001b[0m \u001b[0;32mas\u001b[0m \u001b[0me\u001b[0m\u001b[0;34m:\u001b[0m\u001b[0;34m\u001b[0m\u001b[0;34m\u001b[0m\u001b[0m\n\u001b[1;32m    152\u001b[0m       \u001b[0mfiltered_tb\u001b[0m \u001b[0;34m=\u001b[0m \u001b[0m_process_traceback_frames\u001b[0m\u001b[0;34m(\u001b[0m\u001b[0me\u001b[0m\u001b[0;34m.\u001b[0m\u001b[0m__traceback__\u001b[0m\u001b[0;34m)\u001b[0m\u001b[0;34m\u001b[0m\u001b[0;34m\u001b[0m\u001b[0m\n",
            "\u001b[0;32m/usr/local/lib/python3.9/dist-packages/tensorflow/python/eager/polymorphic_function/polymorphic_function.py\u001b[0m in \u001b[0;36m__call__\u001b[0;34m(self, *args, **kwds)\u001b[0m\n\u001b[1;32m    892\u001b[0m \u001b[0;34m\u001b[0m\u001b[0m\n\u001b[1;32m    893\u001b[0m       \u001b[0;32mwith\u001b[0m \u001b[0mOptionalXlaContext\u001b[0m\u001b[0;34m(\u001b[0m\u001b[0mself\u001b[0m\u001b[0;34m.\u001b[0m\u001b[0m_jit_compile\u001b[0m\u001b[0;34m)\u001b[0m\u001b[0;34m:\u001b[0m\u001b[0;34m\u001b[0m\u001b[0;34m\u001b[0m\u001b[0m\n\u001b[0;32m--> 894\u001b[0;31m         \u001b[0mresult\u001b[0m \u001b[0;34m=\u001b[0m \u001b[0mself\u001b[0m\u001b[0;34m.\u001b[0m\u001b[0m_call\u001b[0m\u001b[0;34m(\u001b[0m\u001b[0;34m*\u001b[0m\u001b[0margs\u001b[0m\u001b[0;34m,\u001b[0m \u001b[0;34m**\u001b[0m\u001b[0mkwds\u001b[0m\u001b[0;34m)\u001b[0m\u001b[0;34m\u001b[0m\u001b[0;34m\u001b[0m\u001b[0m\n\u001b[0m\u001b[1;32m    895\u001b[0m \u001b[0;34m\u001b[0m\u001b[0m\n\u001b[1;32m    896\u001b[0m       \u001b[0mnew_tracing_count\u001b[0m \u001b[0;34m=\u001b[0m \u001b[0mself\u001b[0m\u001b[0;34m.\u001b[0m\u001b[0mexperimental_get_tracing_count\u001b[0m\u001b[0;34m(\u001b[0m\u001b[0;34m)\u001b[0m\u001b[0;34m\u001b[0m\u001b[0;34m\u001b[0m\u001b[0m\n",
            "\u001b[0;32m/usr/local/lib/python3.9/dist-packages/tensorflow/python/eager/polymorphic_function/polymorphic_function.py\u001b[0m in \u001b[0;36m_call\u001b[0;34m(self, *args, **kwds)\u001b[0m\n\u001b[1;32m    931\u001b[0m       \u001b[0;31m# In this case we have not created variables on the first call. So we can\u001b[0m\u001b[0;34m\u001b[0m\u001b[0;34m\u001b[0m\u001b[0m\n\u001b[1;32m    932\u001b[0m       \u001b[0;31m# run the first trace but we should fail if variables are created.\u001b[0m\u001b[0;34m\u001b[0m\u001b[0;34m\u001b[0m\u001b[0m\n\u001b[0;32m--> 933\u001b[0;31m       \u001b[0mresults\u001b[0m \u001b[0;34m=\u001b[0m \u001b[0mself\u001b[0m\u001b[0;34m.\u001b[0m\u001b[0m_variable_creation_fn\u001b[0m\u001b[0;34m(\u001b[0m\u001b[0;34m*\u001b[0m\u001b[0margs\u001b[0m\u001b[0;34m,\u001b[0m \u001b[0;34m**\u001b[0m\u001b[0mkwds\u001b[0m\u001b[0;34m)\u001b[0m\u001b[0;34m\u001b[0m\u001b[0;34m\u001b[0m\u001b[0m\n\u001b[0m\u001b[1;32m    934\u001b[0m       \u001b[0;32mif\u001b[0m \u001b[0mself\u001b[0m\u001b[0;34m.\u001b[0m\u001b[0m_created_variables\u001b[0m \u001b[0;32mand\u001b[0m \u001b[0;32mnot\u001b[0m \u001b[0mALLOW_DYNAMIC_VARIABLE_CREATION\u001b[0m\u001b[0;34m:\u001b[0m\u001b[0;34m\u001b[0m\u001b[0;34m\u001b[0m\u001b[0m\n\u001b[1;32m    935\u001b[0m         raise ValueError(\"Creating variables on a non-first call to a function\"\n",
            "\u001b[0;32m/usr/local/lib/python3.9/dist-packages/tensorflow/python/eager/polymorphic_function/tracing_compiler.py\u001b[0m in \u001b[0;36m__call__\u001b[0;34m(self, *args, **kwargs)\u001b[0m\n\u001b[1;32m    141\u001b[0m       (concrete_function,\n\u001b[1;32m    142\u001b[0m        filtered_flat_args) = self._maybe_define_function(args, kwargs)\n\u001b[0;32m--> 143\u001b[0;31m     return concrete_function._call_flat(\n\u001b[0m\u001b[1;32m    144\u001b[0m         filtered_flat_args, captured_inputs=concrete_function.captured_inputs)  # pylint: disable=protected-access\n\u001b[1;32m    145\u001b[0m \u001b[0;34m\u001b[0m\u001b[0m\n",
            "\u001b[0;32m/usr/local/lib/python3.9/dist-packages/tensorflow/python/eager/polymorphic_function/monomorphic_function.py\u001b[0m in \u001b[0;36m_call_flat\u001b[0;34m(self, args, captured_inputs, cancellation_manager)\u001b[0m\n\u001b[1;32m   1755\u001b[0m         and executing_eagerly):\n\u001b[1;32m   1756\u001b[0m       \u001b[0;31m# No tape is watching; skip to running the function.\u001b[0m\u001b[0;34m\u001b[0m\u001b[0;34m\u001b[0m\u001b[0m\n\u001b[0;32m-> 1757\u001b[0;31m       return self._build_call_outputs(self._inference_function.call(\n\u001b[0m\u001b[1;32m   1758\u001b[0m           ctx, args, cancellation_manager=cancellation_manager))\n\u001b[1;32m   1759\u001b[0m     forward_backward = self._select_forward_and_backward_functions(\n",
            "\u001b[0;32m/usr/local/lib/python3.9/dist-packages/tensorflow/python/eager/polymorphic_function/monomorphic_function.py\u001b[0m in \u001b[0;36mcall\u001b[0;34m(self, ctx, args, cancellation_manager)\u001b[0m\n\u001b[1;32m    379\u001b[0m       \u001b[0;32mwith\u001b[0m \u001b[0m_InterpolateFunctionError\u001b[0m\u001b[0;34m(\u001b[0m\u001b[0mself\u001b[0m\u001b[0;34m)\u001b[0m\u001b[0;34m:\u001b[0m\u001b[0;34m\u001b[0m\u001b[0;34m\u001b[0m\u001b[0m\n\u001b[1;32m    380\u001b[0m         \u001b[0;32mif\u001b[0m \u001b[0mcancellation_manager\u001b[0m \u001b[0;32mis\u001b[0m \u001b[0;32mNone\u001b[0m\u001b[0;34m:\u001b[0m\u001b[0;34m\u001b[0m\u001b[0;34m\u001b[0m\u001b[0m\n\u001b[0;32m--> 381\u001b[0;31m           outputs = execute.execute(\n\u001b[0m\u001b[1;32m    382\u001b[0m               \u001b[0mstr\u001b[0m\u001b[0;34m(\u001b[0m\u001b[0mself\u001b[0m\u001b[0;34m.\u001b[0m\u001b[0msignature\u001b[0m\u001b[0;34m.\u001b[0m\u001b[0mname\u001b[0m\u001b[0;34m)\u001b[0m\u001b[0;34m,\u001b[0m\u001b[0;34m\u001b[0m\u001b[0;34m\u001b[0m\u001b[0m\n\u001b[1;32m    383\u001b[0m               \u001b[0mnum_outputs\u001b[0m\u001b[0;34m=\u001b[0m\u001b[0mself\u001b[0m\u001b[0;34m.\u001b[0m\u001b[0m_num_outputs\u001b[0m\u001b[0;34m,\u001b[0m\u001b[0;34m\u001b[0m\u001b[0;34m\u001b[0m\u001b[0m\n",
            "\u001b[0;32m/usr/local/lib/python3.9/dist-packages/tensorflow/python/eager/execute.py\u001b[0m in \u001b[0;36mquick_execute\u001b[0;34m(op_name, num_outputs, inputs, attrs, ctx, name)\u001b[0m\n\u001b[1;32m     50\u001b[0m   \u001b[0;32mtry\u001b[0m\u001b[0;34m:\u001b[0m\u001b[0;34m\u001b[0m\u001b[0;34m\u001b[0m\u001b[0m\n\u001b[1;32m     51\u001b[0m     \u001b[0mctx\u001b[0m\u001b[0;34m.\u001b[0m\u001b[0mensure_initialized\u001b[0m\u001b[0;34m(\u001b[0m\u001b[0;34m)\u001b[0m\u001b[0;34m\u001b[0m\u001b[0;34m\u001b[0m\u001b[0m\n\u001b[0;32m---> 52\u001b[0;31m     tensors = pywrap_tfe.TFE_Py_Execute(ctx._handle, device_name, op_name,\n\u001b[0m\u001b[1;32m     53\u001b[0m                                         inputs, attrs, num_outputs)\n\u001b[1;32m     54\u001b[0m   \u001b[0;32mexcept\u001b[0m \u001b[0mcore\u001b[0m\u001b[0;34m.\u001b[0m\u001b[0m_NotOkStatusException\u001b[0m \u001b[0;32mas\u001b[0m \u001b[0me\u001b[0m\u001b[0;34m:\u001b[0m\u001b[0;34m\u001b[0m\u001b[0;34m\u001b[0m\u001b[0m\n",
            "\u001b[0;31mKeyboardInterrupt\u001b[0m: "
          ]
        }
      ]
    }
  ],
  "metadata": {
    "colab": {
      "provenance": [],
      "mount_file_id": "12loUs-LgtYDfbiqgCgH2TrH126BQX4za",
      "authorship_tag": "ABX9TyPitJMzXvljSM2o8kb9SGtJ",
      "include_colab_link": true
    },
    "kernelspec": {
      "display_name": "Python 3",
      "name": "python3"
    },
    "language_info": {
      "name": "python"
    }
  },
  "nbformat": 4,
  "nbformat_minor": 0
}