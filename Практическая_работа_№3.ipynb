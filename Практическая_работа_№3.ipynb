{
  "cells": [
    {
      "cell_type": "markdown",
      "metadata": {
        "id": "view-in-github",
        "colab_type": "text"
      },
      "source": [
        "<a href=\"https://colab.research.google.com/github/nadya-az/artificial_neural_networks/blob/main/%D0%9F%D1%80%D0%B0%D0%BA%D1%82%D0%B8%D1%87%D0%B5%D1%81%D0%BA%D0%B0%D1%8F_%D1%80%D0%B0%D0%B1%D0%BE%D1%82%D0%B0_%E2%84%963.ipynb\" target=\"_parent\"><img src=\"https://colab.research.google.com/assets/colab-badge.svg\" alt=\"Open In Colab\"/></a>"
      ]
    },
    {
      "cell_type": "markdown",
      "metadata": {
        "id": "kS4hV47Vhlef"
      },
      "source": [
        "Задание №1. Использование глубокой сверточной нейронной сети для классификации предметов одежды на примере датасета Fashion MNIST"
      ]
    },
    {
      "cell_type": "code",
      "execution_count": null,
      "metadata": {
        "id": "aYmVQdrbhk3d"
      },
      "outputs": [],
      "source": [
        "from keras.datasets import fashion_mnist # импорт исходного датасета\n",
        "from keras.models import Sequential\n",
        "\n",
        "\n",
        "from tensorflow import keras\n",
        "from tensorflow.keras.layers import Dense, Flatten, Dropout, Conv2D, MaxPooling2D, AveragePooling2D \n",
        "from keras.layers import Conv2D, MaxPooling2D, Dense, Flatten\n",
        "\n",
        "\n",
        "\n",
        " \n",
        "from keras.optimizers import Adam, SGD\n",
        "import matplotlib.pyplot as plt\n",
        "import numpy as np"
      ]
    },
    {
      "cell_type": "code",
      "execution_count": null,
      "metadata": {
        "colab": {
          "base_uri": "https://localhost:8080/"
        },
        "id": "P_Bj5DEZf3JT",
        "outputId": "298e1708-0e1f-44ba-fcb5-468cef3cec73"
      },
      "outputs": [
        {
          "output_type": "stream",
          "name": "stdout",
          "text": [
            "Train: X =  (60000, 28, 28, 1)\n",
            "Test: X =  (10000, 28, 28, 1)\n",
            "Train: Y =  (60000, 10)\n",
            "Test: Y =  (10000, 10)\n"
          ]
        }
      ],
      "source": [
        "(trainX, trainy), (testX, testy) = fashion_mnist.load_data()\n",
        "\n",
        "\n",
        "trainX = trainX / 255\n",
        "testX = testX / 255\n",
        " \n",
        "trainy = keras.utils.to_categorical(trainy, 10)\n",
        "testy = keras.utils.to_categorical(testy, 10)\n",
        "\n",
        "trainX = np.expand_dims(trainX, axis=3)\n",
        "testX = np.expand_dims(testX, axis=3)\n",
        "\n",
        "print('Train: X = ', trainX.shape)\n",
        "print('Test: X = ', testX.shape)\n",
        "\n",
        "print('Train: Y = ', trainy.shape)\n",
        "print('Test: Y = ', testy.shape)"
      ]
    },
    {
      "cell_type": "code",
      "execution_count": null,
      "metadata": {
        "colab": {
          "base_uri": "https://localhost:8080/",
          "height": 433
        },
        "id": "xitfYMSyiMGg",
        "outputId": "24ab9d0c-9f91-4e23-d6fa-b4e65f2a4dc8"
      },
      "outputs": [
        {
          "output_type": "display_data",
          "data": {
            "text/plain": [
              "<Figure size 640x480 with 9 Axes>"
            ],
            "image/png": "[encoded data removed]"
          },
          "metadata": {}
        }
      ],
      "source": [
        "for i in range(1, 10):\n",
        "    plt.subplot(3, 3, i)\n",
        "    plt.imshow(trainX[i], cmap=plt.get_cmap('gray'))\n",
        " \n",
        "plt.show()"
      ]
    },
    {
      "cell_type": "code",
      "execution_count": null,
      "metadata": {
        "colab": {
          "base_uri": "https://localhost:8080/"
        },
        "id": "jDQmj_lRia9q",
        "outputId": "f2c27088-6c98-449f-c29a-651518ed879b"
      },
      "outputs": [
        {
          "output_type": "stream",
          "name": "stdout",
          "text": [
            "Model: \"sequential_1\"\n",
            "_________________________________________________________________\n",
            " Layer (type)                Output Shape              Param #   \n",
            "=================================================================\n",
            " conv2d_2 (Conv2D)           (None, 24, 24, 6)         156       \n",
            "                                                                 \n",
            " average_pooling2d_2 (Averag  (None, 12, 12, 6)        0         \n",
            " ePooling2D)                                                     \n",
            "                                                                 \n",
            " conv2d_3 (Conv2D)           (None, 8, 8, 16)          2416      \n",
            "                                                                 \n",
            " average_pooling2d_3 (Averag  (None, 4, 4, 16)         0         \n",
            " ePooling2D)                                                     \n",
            "                                                                 \n",
            " flatten_1 (Flatten)         (None, 256)               0         \n",
            "                                                                 \n",
            " dense_3 (Dense)             (None, 120)               30840     \n",
            "                                                                 \n",
            " dense_4 (Dense)             (None, 84)                10164     \n",
            "                                                                 \n",
            " dense_5 (Dense)             (None, 10)                850       \n",
            "                                                                 \n",
            "=================================================================\n",
            "Total params: 44,426\n",
            "Trainable params: 44,426\n",
            "Non-trainable params: 0\n",
            "_________________________________________________________________\n"
          ]
        }
      ],
      "source": [
        "model = keras.Sequential([\n",
        "    Conv2D(6, (5,5), strides=(1,1), activation='tanh', input_shape=(28,28,1)),\n",
        "    AveragePooling2D(pool_size=(2,2), strides=(2,2)),\n",
        "    Conv2D(16, (5,5), strides=(1,1), activation='tanh'),\n",
        "    AveragePooling2D(pool_size=(2,2), strides=(2,2)),\n",
        "\n",
        "    Flatten(),\n",
        "\n",
        "    Dense(units=120,activation='tanh'),\n",
        "    Dense(units=84,activation='tanh'),\n",
        "    Dense(units=10,activation='softmax')\n",
        "])\n",
        "\n",
        "model.summary()"
      ]
    },
    {
      "cell_type": "code",
      "execution_count": null,
      "metadata": {
        "id": "1hqIohofjnBr"
      },
      "outputs": [],
      "source": [
        "model.compile(optimizer='adam',\n",
        "             loss='categorical_crossentropy',\n",
        "             metrics=['accuracy'])\n",
        "\n"
      ]
    },
    {
      "cell_type": "code",
      "execution_count": null,
      "metadata": {
        "id": "ycWoTWl-zklB"
      },
      "outputs": [],
      "source": [
        "EPOCH = 5"
      ]
    },
    {
      "cell_type": "code",
      "execution_count": null,
      "metadata": {
        "colab": {
          "base_uri": "https://localhost:8080/"
        },
        "id": "h0uB9cUckDJg",
        "outputId": "a0e9fd37-427d-4d8b-9cc2-46eed9b8e58f"
      },
      "outputs": [
        {
          "output_type": "stream",
          "name": "stdout",
          "text": [
            "Epoch 1/5\n",
            "1715/1715 [==============================] - 40s 22ms/step - loss: 0.5805 - accuracy: 0.7839 - val_loss: 0.4605 - val_accuracy: 0.8313\n",
            "Epoch 2/5\n",
            "1715/1715 [==============================] - 36s 21ms/step - loss: 0.4169 - accuracy: 0.8475 - val_loss: 0.4085 - val_accuracy: 0.8512\n",
            "Epoch 3/5\n",
            "1715/1715 [==============================] - 37s 21ms/step - loss: 0.3696 - accuracy: 0.8644 - val_loss: 0.3752 - val_accuracy: 0.8591\n",
            "Epoch 4/5\n",
            "1715/1715 [==============================] - 38s 22ms/step - loss: 0.3404 - accuracy: 0.8727 - val_loss: 0.3558 - val_accuracy: 0.8712\n",
            "Epoch 5/5\n",
            "1715/1715 [==============================] - 36s 21ms/step - loss: 0.3192 - accuracy: 0.8833 - val_loss: 0.3486 - val_accuracy: 0.8734\n"
          ]
        }
      ],
      "source": [
        "h = model.fit(trainX, trainy, batch_size=28, epochs=EPOCH, validation_split=0.2)"
      ]
    },
    {
      "cell_type": "code",
      "execution_count": null,
      "metadata": {
        "colab": {
          "base_uri": "https://localhost:8080/"
        },
        "id": "2TaCVHDBkDkB",
        "outputId": "08d3c2f7-a49e-4dd7-965c-be1fe2ec21f4"
      },
      "outputs": [
        {
          "output_type": "stream",
          "name": "stdout",
          "text": [
            "313/313 [==============================] - 3s 8ms/step - loss: 0.3713 - accuracy: 0.8644\n"
          ]
        },
        {
          "output_type": "execute_result",
          "data": {
            "text/plain": [
              "[0.3713033199310303, 0.8644000291824341]"
            ]
          },
          "metadata": {},
          "execution_count": 15
        }
      ],
      "source": [
        "model.evaluate(testX, testy)"
      ]
    },
    {
      "cell_type": "markdown",
      "metadata": {
        "id": "dqK9graHOQgc"
      },
      "source": [
        "1.6 Анализируем обученную модель. Строим график (графики) обучения"
      ]
    },
    {
      "cell_type": "code",
      "execution_count": null,
      "metadata": {
        "colab": {
          "base_uri": "https://localhost:8080/",
          "height": 495
        },
        "id": "urCaL4JZzCp0",
        "outputId": "d9b60ce9-1de7-4abc-e1da-185493be6e4b"
      },
      "outputs": [
        {
          "output_type": "execute_result",
          "data": {
            "text/plain": [
              "<matplotlib.legend.Legend at 0x7f7de595b9d0>"
            ]
          },
          "metadata": {},
          "execution_count": 16
        },
        {
          "output_type": "display_data",
          "data": {
            "text/plain": [
              "<Figure size 640x480 with 1 Axes>"
            ],
            "image/png": "[encoded data removed]"
          },
          "metadata": {}
        }
      ],
      "source": [
        "N = np.arange(0, EPOCH)\n",
        "plt.style.use(\"ggplot\")\n",
        "plt.figure()\n",
        "plt.plot(N, h.history[\"loss\"], label=\"train_loss\")\n",
        "plt.plot(N, h.history[\"val_loss\"], label=\"val_loss\")\n",
        "plt.plot(N, h.history[\"accuracy\"], label=\"train_accuracy\")\n",
        "plt.plot(N, h.history[\"val_accuracy\"], label=\"val_accuracy\")\n",
        "plt.title(\"Training Loss and Accuracy (Simple NN)\")\n",
        "plt.xlabel(\"Epoch #\")\n",
        "plt.ylabel(\"Loss/Accuracy\")\n",
        "plt.legend()"
      ]
    },
    {
      "cell_type": "markdown",
      "metadata": {
        "id": "6r7hrUIXPDHd"
      },
      "source": [
        "1.7. Загружаем свои изображения. С помощью функции predict() получаем предсказание нейронной сети"
      ]
    },
    {
      "cell_type": "code",
      "execution_count": null,
      "metadata": {
        "colab": {
          "base_uri": "https://localhost:8080/",
          "height": 121
        },
        "id": "ux_91_VzO2eV",
        "outputId": "ffe8f44e-3b4b-49ff-8994-dd816f811098"
      },
      "outputs": [
        {
          "output_type": "display_data",
          "data": {
            "text/plain": [
              "<IPython.core.display.HTML object>"
            ],
            "text/html": [
              "\n",
              "     <input type=\"file\" id=\"files-f2dc9140-aaee-4bd0-a476-739062637106\" name=\"files[]\" multiple disabled\n",
              "        style=\"border:none\" />\n",
              "     <output id=\"result-f2dc9140-aaee-4bd0-a476-739062637106\">\n",
              "      Upload widget is only available when the cell has been executed in the\n",
              "      current browser session. Please rerun this cell to enable.\n",
              "      </output>\n",
              "      <script>// Copyright 2017 Google LLC\n",
              "//\n",
              "// Licensed under the Apache License, Version 2.0 (the \"License\");\n",
              "// you may not use this file except in compliance with the License.\n",
              "// You may obtain a copy of the License at\n",
              "//\n",
              "//      http://www.apache.org/licenses/LICENSE-2.0\n",
              "//\n",
              "// Unless required by applicable law or agreed to in writing, software\n",
              "// distributed under the License is distributed on an \"AS IS\" BASIS,\n",
              "// WITHOUT WARRANTIES OR CONDITIONS OF ANY KIND, either express or implied.\n",
              "// See the License for the specific language governing permissions and\n",
              "// limitations under the License.\n",
              "\n",
              "/**\n",
              " * @fileoverview Helpers for google.colab Python module.\n",
              " */\n",
              "(function(scope) {\n",
              "function span(text, styleAttributes = {}) {\n",
              "  const element = document.createElement('span');\n",
              "  element.textContent = text;\n",
              "  for (const key of Object.keys(styleAttributes)) {\n",
              "    element.style[key] = styleAttributes[key];\n",
              "  }\n",
              "  return element;\n",
              "}\n",
              "\n",
              "// Max number of bytes which will be uploaded at a time.\n",
              "const MAX_PAYLOAD_SIZE = 100 * 1024;\n",
              "\n",
              "function _uploadFiles(inputId, outputId) {\n",
              "  const steps = uploadFilesStep(inputId, outputId);\n",
              "  const outputElement = document.getElementById(outputId);\n",
              "  // Cache steps on the outputElement to make it available for the next call\n",
              "  // to uploadFilesContinue from Python.\n",
              "  outputElement.steps = steps;\n",
              "\n",
              "  return _uploadFilesContinue(outputId);\n",
              "}\n",
              "\n",
              "// This is roughly an async generator (not supported in the browser yet),\n",
              "// where there are multiple asynchronous steps and the Python side is going\n",
              "// to poll for completion of each step.\n",
              "// This uses a Promise to block the python side on completion of each step,\n",
              "// then passes the result of the previous step as the input to the next step.\n",
              "function _uploadFilesContinue(outputId) {\n",
              "  const outputElement = document.getElementById(outputId);\n",
              "  const steps = outputElement.steps;\n",
              "\n",
              "  const next = steps.next(outputElement.lastPromiseValue);\n",
              "  return Promise.resolve(next.value.promise).then((value) => {\n",
              "    // Cache the last promise value to make it available to the next\n",
              "    // step of the generator.\n",
              "    outputElement.lastPromiseValue = value;\n",
              "    return next.value.response;\n",
              "  });\n",
              "}\n",
              "\n",
              "/**\n",
              " * Generator function which is called between each async step of the upload\n",
              " * process.\n",
              " * @param {string} inputId Element ID of the input file picker element.\n",
              " * @param {string} outputId Element ID of the output display.\n",
              " * @return {!Iterable<!Object>} Iterable of next steps.\n",
              " */\n",
              "function* uploadFilesStep(inputId, outputId) {\n",
              "  const inputElement = document.getElementById(inputId);\n",
              "  inputElement.disabled = false;\n",
              "\n",
              "  const outputElement = document.getElementById(outputId);\n",
              "  outputElement.innerHTML = '';\n",
              "\n",
              "  const pickedPromise = new Promise((resolve) => {\n",
              "    inputElement.addEventListener('change', (e) => {\n",
              "      resolve(e.target.files);\n",
              "    });\n",
              "  });\n",
              "\n",
              "  const cancel = document.createElement('button');\n",
              "  inputElement.parentElement.appendChild(cancel);\n",
              "  cancel.textContent = 'Cancel upload';\n",
              "  const cancelPromise = new Promise((resolve) => {\n",
              "    cancel.onclick = () => {\n",
              "      resolve(null);\n",
              "    };\n",
              "  });\n",
              "\n",
              "  // Wait for the user to pick the files.\n",
              "  const files = yield {\n",
              "    promise: Promise.race([pickedPromise, cancelPromise]),\n",
              "    response: {\n",
              "      action: 'starting',\n",
              "    }\n",
              "  };\n",
              "\n",
              "  cancel.remove();\n",
              "\n",
              "  // Disable the input element since further picks are not allowed.\n",
              "  inputElement.disabled = true;\n",
              "\n",
              "  if (!files) {\n",
              "    return {\n",
              "      response: {\n",
              "        action: 'complete',\n",
              "      }\n",
              "    };\n",
              "  }\n",
              "\n",
              "  for (const file of files) {\n",
              "    const li = document.createElement('li');\n",
              "    li.append(span(file.name, {fontWeight: 'bold'}));\n",
              "    li.append(span(\n",
              "        `(${file.type || 'n/a'}) - ${file.size} bytes, ` +\n",
              "        `last modified: ${\n",
              "            file.lastModifiedDate ? file.lastModifiedDate.toLocaleDateString() :\n",
              "                                    'n/a'} - `));\n",
              "    const percent = span('0% done');\n",
              "    li.appendChild(percent);\n",
              "\n",
              "    outputElement.appendChild(li);\n",
              "\n",
              "    const fileDataPromise = new Promise((resolve) => {\n",
              "      const reader = new FileReader();\n",
              "      reader.onload = (e) => {\n",
              "        resolve(e.target.result);\n",
              "      };\n",
              "      reader.readAsArrayBuffer(file);\n",
              "    });\n",
              "    // Wait for the data to be ready.\n",
              "    let fileData = yield {\n",
              "      promise: fileDataPromise,\n",
              "      response: {\n",
              "        action: 'continue',\n",
              "      }\n",
              "    };\n",
              "\n",
              "    // Use a chunked sending to avoid message size limits. See b/62115660.\n",
              "    let position = 0;\n",
              "    do {\n",
              "      const length = Math.min(fileData.byteLength - position, MAX_PAYLOAD_SIZE);\n",
              "      const chunk = new Uint8Array(fileData, position, length);\n",
              "      position += length;\n",
              "\n",
              "      const base64 = btoa(String.fromCharCode.apply(null, chunk));\n",
              "      yield {\n",
              "        response: {\n",
              "          action: 'append',\n",
              "          file: file.name,\n",
              "          data: base64,\n",
              "        },\n",
              "      };\n",
              "\n",
              "      let percentDone = fileData.byteLength === 0 ?\n",
              "          100 :\n",
              "          Math.round((position / fileData.byteLength) * 100);\n",
              "      percent.textContent = `${percentDone}% done`;\n",
              "\n",
              "    } while (position < fileData.byteLength);\n",
              "  }\n",
              "\n",
              "  // All done.\n",
              "  yield {\n",
              "    response: {\n",
              "      action: 'complete',\n",
              "    }\n",
              "  };\n",
              "}\n",
              "\n",
              "scope.google = scope.google || {};\n",
              "scope.google.colab = scope.google.colab || {};\n",
              "scope.google.colab._files = {\n",
              "  _uploadFiles,\n",
              "  _uploadFilesContinue,\n",
              "};\n",
              "})(self);\n",
              "</script> "
            ]
          },
          "metadata": {}
        },
        {
          "output_type": "stream",
          "name": "stdout",
          "text": [
            "Saving Free-shipping-2012-women-bags-handbag-formal-summer-women-s-fashion-totes.jpg to Free-shipping-2012-women-bags-handbag-formal-summer-women-s-fashion-totes.jpg\n"
          ]
        },
        {
          "output_type": "display_data",
          "data": {
            "text/plain": [
              "<PIL.Image.Image image mode=L size=28x28 at 0x7F7DE593B220>"
            ],
            "image/png": "[encoded data removed]"
          },
          "metadata": {}
        }
      ],
      "source": [
        "import cv2\n",
        "from google.colab.patches import cv2_imshow\n",
        "\n",
        "# Добавляем интерфейс для загрузки изображений напрямую из блокнота\n",
        "from google.colab import files\n",
        "uploaded = files.upload() \n",
        "\n",
        "# загружаем входное изображение, меняем его размер на необходимый и выводим его\n",
        "\n",
        "image = cv2.imread(list(uploaded.keys())[0], cv2.IMREAD_GRAYSCALE) # Преобразование изображения в оттенки серого при считывании\n",
        "image = cv2.resize(image, (28, 28)) # Изменение разрешения изображения\n",
        "image = cv2.bitwise_not(image) # Инверсия цветов (если в оригинале цифра написана черным цветом на белом фоне)\n",
        "orig = image\n",
        "image = image.reshape(-1, 28, 28, 1) # Приводим изображение из вида (28,28) в вид (1, 28, 28, 1)\n",
        "\n",
        "cv2_imshow(orig)"
      ]
    },
    {
      "cell_type": "code",
      "execution_count": null,
      "metadata": {
        "colab": {
          "base_uri": "https://localhost:8080/"
        },
        "id": "utqiEpD5Pj2k",
        "outputId": "f33acf8a-b128-4a8e-c858-4f591383d59e"
      },
      "outputs": [
        {
          "output_type": "stream",
          "name": "stdout",
          "text": [
            "1/1 [==============================] - 0s 144ms/step\n",
            "[[2.6744408e-05 3.7213460e-05 4.9205817e-04 1.8554793e-04 5.7642478e-03\n",
            "  1.9448938e-05 7.5418159e-04 2.9398166e-04 9.9236661e-01 6.0009297e-05]]\n"
          ]
        }
      ],
      "source": [
        "preds = model.predict(image)\n",
        "\n",
        "print(preds)"
      ]
    },
    {
      "cell_type": "code",
      "execution_count": null,
      "metadata": {
        "colab": {
          "base_uri": "https://localhost:8080/"
        },
        "id": "4ydyrbRxPmpz",
        "outputId": "eef5f251-380c-4f91-9d1b-00effada337b"
      },
      "outputs": [
        {
          "output_type": "stream",
          "name": "stdout",
          "text": [
            "Загружен тип одежды: Bag\n"
          ]
        }
      ],
      "source": [
        "classes = ['T-shirt', 'Trouser', 'Pullover', 'Dress', 'Coat', 'Sandal', 'Shirt', 'Sneaker', 'Bag', 'Ankle boot']\n",
        "\n",
        "i = preds.argmax(axis=1)[0]\n",
        "type_clothes = classes[i]\n",
        "print(f\"Загружен тип одежды: {type_clothes}\")\n"
      ]
    },
    {
      "cell_type": "code",
      "source": [],
      "metadata": {
        "id": "42aJAuENp3AH"
      },
      "execution_count": null,
      "outputs": []
    },
    {
      "cell_type": "code",
      "execution_count": null,
      "metadata": {
        "colab": {
          "base_uri": "https://localhost:8080/",
          "height": 101
        },
        "outputId": "4431995c-a93b-47b6-a50e-6f260a8c3edc",
        "id": "IVycm8fDp3ax"
      },
      "outputs": [
        {
          "output_type": "display_data",
          "data": {
            "text/plain": [
              "<IPython.core.display.HTML object>"
            ],
            "text/html": [
              "\n",
              "     <input type=\"file\" id=\"files-ffc88ee1-d334-47db-b5d3-d0305ddc6fbb\" name=\"files[]\" multiple disabled\n",
              "        style=\"border:none\" />\n",
              "     <output id=\"result-ffc88ee1-d334-47db-b5d3-d0305ddc6fbb\">\n",
              "      Upload widget is only available when the cell has been executed in the\n",
              "      current browser session. Please rerun this cell to enable.\n",
              "      </output>\n",
              "      <script>// Copyright 2017 Google LLC\n",
              "//\n",
              "// Licensed under the Apache License, Version 2.0 (the \"License\");\n",
              "// you may not use this file except in compliance with the License.\n",
              "// You may obtain a copy of the License at\n",
              "//\n",
              "//      http://www.apache.org/licenses/LICENSE-2.0\n",
              "//\n",
              "// Unless required by applicable law or agreed to in writing, software\n",
              "// distributed under the License is distributed on an \"AS IS\" BASIS,\n",
              "// WITHOUT WARRANTIES OR CONDITIONS OF ANY KIND, either express or implied.\n",
              "// See the License for the specific language governing permissions and\n",
              "// limitations under the License.\n",
              "\n",
              "/**\n",
              " * @fileoverview Helpers for google.colab Python module.\n",
              " */\n",
              "(function(scope) {\n",
              "function span(text, styleAttributes = {}) {\n",
              "  const element = document.createElement('span');\n",
              "  element.textContent = text;\n",
              "  for (const key of Object.keys(styleAttributes)) {\n",
              "    element.style[key] = styleAttributes[key];\n",
              "  }\n",
              "  return element;\n",
              "}\n",
              "\n",
              "// Max number of bytes which will be uploaded at a time.\n",
              "const MAX_PAYLOAD_SIZE = 100 * 1024;\n",
              "\n",
              "function _uploadFiles(inputId, outputId) {\n",
              "  const steps = uploadFilesStep(inputId, outputId);\n",
              "  const outputElement = document.getElementById(outputId);\n",
              "  // Cache steps on the outputElement to make it available for the next call\n",
              "  // to uploadFilesContinue from Python.\n",
              "  outputElement.steps = steps;\n",
              "\n",
              "  return _uploadFilesContinue(outputId);\n",
              "}\n",
              "\n",
              "// This is roughly an async generator (not supported in the browser yet),\n",
              "// where there are multiple asynchronous steps and the Python side is going\n",
              "// to poll for completion of each step.\n",
              "// This uses a Promise to block the python side on completion of each step,\n",
              "// then passes the result of the previous step as the input to the next step.\n",
              "function _uploadFilesContinue(outputId) {\n",
              "  const outputElement = document.getElementById(outputId);\n",
              "  const steps = outputElement.steps;\n",
              "\n",
              "  const next = steps.next(outputElement.lastPromiseValue);\n",
              "  return Promise.resolve(next.value.promise).then((value) => {\n",
              "    // Cache the last promise value to make it available to the next\n",
              "    // step of the generator.\n",
              "    outputElement.lastPromiseValue = value;\n",
              "    return next.value.response;\n",
              "  });\n",
              "}\n",
              "\n",
              "/**\n",
              " * Generator function which is called between each async step of the upload\n",
              " * process.\n",
              " * @param {string} inputId Element ID of the input file picker element.\n",
              " * @param {string} outputId Element ID of the output display.\n",
              " * @return {!Iterable<!Object>} Iterable of next steps.\n",
              " */\n",
              "function* uploadFilesStep(inputId, outputId) {\n",
              "  const inputElement = document.getElementById(inputId);\n",
              "  inputElement.disabled = false;\n",
              "\n",
              "  const outputElement = document.getElementById(outputId);\n",
              "  outputElement.innerHTML = '';\n",
              "\n",
              "  const pickedPromise = new Promise((resolve) => {\n",
              "    inputElement.addEventListener('change', (e) => {\n",
              "      resolve(e.target.files);\n",
              "    });\n",
              "  });\n",
              "\n",
              "  const cancel = document.createElement('button');\n",
              "  inputElement.parentElement.appendChild(cancel);\n",
              "  cancel.textContent = 'Cancel upload';\n",
              "  const cancelPromise = new Promise((resolve) => {\n",
              "    cancel.onclick = () => {\n",
              "      resolve(null);\n",
              "    };\n",
              "  });\n",
              "\n",
              "  // Wait for the user to pick the files.\n",
              "  const files = yield {\n",
              "    promise: Promise.race([pickedPromise, cancelPromise]),\n",
              "    response: {\n",
              "      action: 'starting',\n",
              "    }\n",
              "  };\n",
              "\n",
              "  cancel.remove();\n",
              "\n",
              "  // Disable the input element since further picks are not allowed.\n",
              "  inputElement.disabled = true;\n",
              "\n",
              "  if (!files) {\n",
              "    return {\n",
              "      response: {\n",
              "        action: 'complete',\n",
              "      }\n",
              "    };\n",
              "  }\n",
              "\n",
              "  for (const file of files) {\n",
              "    const li = document.createElement('li');\n",
              "    li.append(span(file.name, {fontWeight: 'bold'}));\n",
              "    li.append(span(\n",
              "        `(${file.type || 'n/a'}) - ${file.size} bytes, ` +\n",
              "        `last modified: ${\n",
              "            file.lastModifiedDate ? file.lastModifiedDate.toLocaleDateString() :\n",
              "                                    'n/a'} - `));\n",
              "    const percent = span('0% done');\n",
              "    li.appendChild(percent);\n",
              "\n",
              "    outputElement.appendChild(li);\n",
              "\n",
              "    const fileDataPromise = new Promise((resolve) => {\n",
              "      const reader = new FileReader();\n",
              "      reader.onload = (e) => {\n",
              "        resolve(e.target.result);\n",
              "      };\n",
              "      reader.readAsArrayBuffer(file);\n",
              "    });\n",
              "    // Wait for the data to be ready.\n",
              "    let fileData = yield {\n",
              "      promise: fileDataPromise,\n",
              "      response: {\n",
              "        action: 'continue',\n",
              "      }\n",
              "    };\n",
              "\n",
              "    // Use a chunked sending to avoid message size limits. See b/62115660.\n",
              "    let position = 0;\n",
              "    do {\n",
              "      const length = Math.min(fileData.byteLength - position, MAX_PAYLOAD_SIZE);\n",
              "      const chunk = new Uint8Array(fileData, position, length);\n",
              "      position += length;\n",
              "\n",
              "      const base64 = btoa(String.fromCharCode.apply(null, chunk));\n",
              "      yield {\n",
              "        response: {\n",
              "          action: 'append',\n",
              "          file: file.name,\n",
              "          data: base64,\n",
              "        },\n",
              "      };\n",
              "\n",
              "      let percentDone = fileData.byteLength === 0 ?\n",
              "          100 :\n",
              "          Math.round((position / fileData.byteLength) * 100);\n",
              "      percent.textContent = `${percentDone}% done`;\n",
              "\n",
              "    } while (position < fileData.byteLength);\n",
              "  }\n",
              "\n",
              "  // All done.\n",
              "  yield {\n",
              "    response: {\n",
              "      action: 'complete',\n",
              "    }\n",
              "  };\n",
              "}\n",
              "\n",
              "scope.google = scope.google || {};\n",
              "scope.google.colab = scope.google.colab || {};\n",
              "scope.google.colab._files = {\n",
              "  _uploadFiles,\n",
              "  _uploadFilesContinue,\n",
              "};\n",
              "})(self);\n",
              "</script> "
            ]
          },
          "metadata": {}
        },
        {
          "output_type": "stream",
          "name": "stdout",
          "text": [
            "Saving 42ac22734c5c86571bf74138959b34ec.jpg to 42ac22734c5c86571bf74138959b34ec.jpg\n"
          ]
        },
        {
          "output_type": "display_data",
          "data": {
            "text/plain": [
              "<PIL.Image.Image image mode=L size=28x28 at 0x7F7DE8DF5000>"
            ],
            "image/png": "[encoded data removed]"
          },
          "metadata": {}
        }
      ],
      "source": [
        "import cv2\n",
        "from google.colab.patches import cv2_imshow\n",
        "\n",
        "# Добавляем интерфейс для загрузки изображений напрямую из блокнота\n",
        "from google.colab import files\n",
        "uploaded = files.upload() \n",
        "\n",
        "# загружаем входное изображение, меняем его размер на необходимый и выводим его\n",
        "\n",
        "image = cv2.imread(list(uploaded.keys())[0], cv2.IMREAD_GRAYSCALE) # Преобразование изображения в оттенки серого при считывании\n",
        "image = cv2.resize(image, (28, 28)) # Изменение разрешения изображения\n",
        "image = cv2.bitwise_not(image) # Инверсия цветов (если в оригинале цифра написана черным цветом на белом фоне)\n",
        "orig = image\n",
        "image = image.reshape(-1, 28, 28, 1) # Приводим изображение из вида (28,28) в вид (1, 28, 28, 1)\n",
        "\n",
        "cv2_imshow(orig)"
      ]
    },
    {
      "cell_type": "code",
      "execution_count": null,
      "metadata": {
        "colab": {
          "base_uri": "https://localhost:8080/"
        },
        "outputId": "ceee66b8-58b0-437b-cd76-bf6a0929e1e4",
        "id": "OME00rw1qBZd"
      },
      "outputs": [
        {
          "output_type": "stream",
          "name": "stdout",
          "text": [
            "1/1 [==============================] - 0s 168ms/step\n",
            "Загружен тип одежды: Trouser [[0.03088165 0.4663407  0.10812222 0.02814525 0.26851982 0.00079601\n",
            "  0.01833772 0.00074936 0.07706327 0.00104391]]\n"
          ]
        }
      ],
      "source": [
        "preds = model.predict(image)\n",
        "classes = ['T-shirt', 'Trouser', 'Pullover', 'Dress', 'Coat', 'Sandal', 'Shirt', 'Sneaker', 'Bag', 'Ankle boot']\n",
        "\n",
        "i = preds.argmax(axis=1)[0]\n",
        "type_clothes = classes[i]\n",
        "print(f\"Загружен тип одежды: {type_clothes}\", preds)\n",
        "\n"
      ]
    },
    {
      "cell_type": "code",
      "source": [
        "import cv2\n",
        "from google.colab.patches import cv2_imshow\n",
        "\n",
        "# Добавляем интерфейс для загрузки изображений напрямую из блокнота\n",
        "from google.colab import files\n",
        "uploaded = files.upload() \n",
        "\n",
        "# загружаем входное изображение, меняем его размер на необходимый и выводим его\n",
        "\n",
        "image = cv2.imread(list(uploaded.keys())[0], cv2.IMREAD_GRAYSCALE) # Преобразование изображения в оттенки серого при считывании\n",
        "image = cv2.resize(image, (28, 28)) # Изменение разрешения изображения\n",
        "image = cv2.bitwise_not(image) # Инверсия цветов (если в оригинале цифра написана черным цветом на белом фоне)\n",
        "orig = image\n",
        "image = image.reshape(-1, 28, 28, 1) # Приводим изображение из вида (28,28) в вид (1, 28, 28, 1)\n",
        "\n",
        "cv2_imshow(orig)"
      ],
      "metadata": {
        "colab": {
          "base_uri": "https://localhost:8080/",
          "height": 101
        },
        "id": "A6-9Fy6HqN9F",
        "outputId": "f5b111fa-6ccd-4a10-a4d1-d48a99fdf867"
      },
      "execution_count": null,
      "outputs": [
        {
          "output_type": "display_data",
          "data": {
            "text/plain": [
              "<IPython.core.display.HTML object>"
            ],
            "text/html": [
              "\n",
              "     <input type=\"file\" id=\"files-de501f90-2e14-4f34-9990-2525c5ae5a5a\" name=\"files[]\" multiple disabled\n",
              "        style=\"border:none\" />\n",
              "     <output id=\"result-de501f90-2e14-4f34-9990-2525c5ae5a5a\">\n",
              "      Upload widget is only available when the cell has been executed in the\n",
              "      current browser session. Please rerun this cell to enable.\n",
              "      </output>\n",
              "      <script>// Copyright 2017 Google LLC\n",
              "//\n",
              "// Licensed under the Apache License, Version 2.0 (the \"License\");\n",
              "// you may not use this file except in compliance with the License.\n",
              "// You may obtain a copy of the License at\n",
              "//\n",
              "//      http://www.apache.org/licenses/LICENSE-2.0\n",
              "//\n",
              "// Unless required by applicable law or agreed to in writing, software\n",
              "// distributed under the License is distributed on an \"AS IS\" BASIS,\n",
              "// WITHOUT WARRANTIES OR CONDITIONS OF ANY KIND, either express or implied.\n",
              "// See the License for the specific language governing permissions and\n",
              "// limitations under the License.\n",
              "\n",
              "/**\n",
              " * @fileoverview Helpers for google.colab Python module.\n",
              " */\n",
              "(function(scope) {\n",
              "function span(text, styleAttributes = {}) {\n",
              "  const element = document.createElement('span');\n",
              "  element.textContent = text;\n",
              "  for (const key of Object.keys(styleAttributes)) {\n",
              "    element.style[key] = styleAttributes[key];\n",
              "  }\n",
              "  return element;\n",
              "}\n",
              "\n",
              "// Max number of bytes which will be uploaded at a time.\n",
              "const MAX_PAYLOAD_SIZE = 100 * 1024;\n",
              "\n",
              "function _uploadFiles(inputId, outputId) {\n",
              "  const steps = uploadFilesStep(inputId, outputId);\n",
              "  const outputElement = document.getElementById(outputId);\n",
              "  // Cache steps on the outputElement to make it available for the next call\n",
              "  // to uploadFilesContinue from Python.\n",
              "  outputElement.steps = steps;\n",
              "\n",
              "  return _uploadFilesContinue(outputId);\n",
              "}\n",
              "\n",
              "// This is roughly an async generator (not supported in the browser yet),\n",
              "// where there are multiple asynchronous steps and the Python side is going\n",
              "// to poll for completion of each step.\n",
              "// This uses a Promise to block the python side on completion of each step,\n",
              "// then passes the result of the previous step as the input to the next step.\n",
              "function _uploadFilesContinue(outputId) {\n",
              "  const outputElement = document.getElementById(outputId);\n",
              "  const steps = outputElement.steps;\n",
              "\n",
              "  const next = steps.next(outputElement.lastPromiseValue);\n",
              "  return Promise.resolve(next.value.promise).then((value) => {\n",
              "    // Cache the last promise value to make it available to the next\n",
              "    // step of the generator.\n",
              "    outputElement.lastPromiseValue = value;\n",
              "    return next.value.response;\n",
              "  });\n",
              "}\n",
              "\n",
              "/**\n",
              " * Generator function which is called between each async step of the upload\n",
              " * process.\n",
              " * @param {string} inputId Element ID of the input file picker element.\n",
              " * @param {string} outputId Element ID of the output display.\n",
              " * @return {!Iterable<!Object>} Iterable of next steps.\n",
              " */\n",
              "function* uploadFilesStep(inputId, outputId) {\n",
              "  const inputElement = document.getElementById(inputId);\n",
              "  inputElement.disabled = false;\n",
              "\n",
              "  const outputElement = document.getElementById(outputId);\n",
              "  outputElement.innerHTML = '';\n",
              "\n",
              "  const pickedPromise = new Promise((resolve) => {\n",
              "    inputElement.addEventListener('change', (e) => {\n",
              "      resolve(e.target.files);\n",
              "    });\n",
              "  });\n",
              "\n",
              "  const cancel = document.createElement('button');\n",
              "  inputElement.parentElement.appendChild(cancel);\n",
              "  cancel.textContent = 'Cancel upload';\n",
              "  const cancelPromise = new Promise((resolve) => {\n",
              "    cancel.onclick = () => {\n",
              "      resolve(null);\n",
              "    };\n",
              "  });\n",
              "\n",
              "  // Wait for the user to pick the files.\n",
              "  const files = yield {\n",
              "    promise: Promise.race([pickedPromise, cancelPromise]),\n",
              "    response: {\n",
              "      action: 'starting',\n",
              "    }\n",
              "  };\n",
              "\n",
              "  cancel.remove();\n",
              "\n",
              "  // Disable the input element since further picks are not allowed.\n",
              "  inputElement.disabled = true;\n",
              "\n",
              "  if (!files) {\n",
              "    return {\n",
              "      response: {\n",
              "        action: 'complete',\n",
              "      }\n",
              "    };\n",
              "  }\n",
              "\n",
              "  for (const file of files) {\n",
              "    const li = document.createElement('li');\n",
              "    li.append(span(file.name, {fontWeight: 'bold'}));\n",
              "    li.append(span(\n",
              "        `(${file.type || 'n/a'}) - ${file.size} bytes, ` +\n",
              "        `last modified: ${\n",
              "            file.lastModifiedDate ? file.lastModifiedDate.toLocaleDateString() :\n",
              "                                    'n/a'} - `));\n",
              "    const percent = span('0% done');\n",
              "    li.appendChild(percent);\n",
              "\n",
              "    outputElement.appendChild(li);\n",
              "\n",
              "    const fileDataPromise = new Promise((resolve) => {\n",
              "      const reader = new FileReader();\n",
              "      reader.onload = (e) => {\n",
              "        resolve(e.target.result);\n",
              "      };\n",
              "      reader.readAsArrayBuffer(file);\n",
              "    });\n",
              "    // Wait for the data to be ready.\n",
              "    let fileData = yield {\n",
              "      promise: fileDataPromise,\n",
              "      response: {\n",
              "        action: 'continue',\n",
              "      }\n",
              "    };\n",
              "\n",
              "    // Use a chunked sending to avoid message size limits. See b/62115660.\n",
              "    let position = 0;\n",
              "    do {\n",
              "      const length = Math.min(fileData.byteLength - position, MAX_PAYLOAD_SIZE);\n",
              "      const chunk = new Uint8Array(fileData, position, length);\n",
              "      position += length;\n",
              "\n",
              "      const base64 = btoa(String.fromCharCode.apply(null, chunk));\n",
              "      yield {\n",
              "        response: {\n",
              "          action: 'append',\n",
              "          file: file.name,\n",
              "          data: base64,\n",
              "        },\n",
              "      };\n",
              "\n",
              "      let percentDone = fileData.byteLength === 0 ?\n",
              "          100 :\n",
              "          Math.round((position / fileData.byteLength) * 100);\n",
              "      percent.textContent = `${percentDone}% done`;\n",
              "\n",
              "    } while (position < fileData.byteLength);\n",
              "  }\n",
              "\n",
              "  // All done.\n",
              "  yield {\n",
              "    response: {\n",
              "      action: 'complete',\n",
              "    }\n",
              "  };\n",
              "}\n",
              "\n",
              "scope.google = scope.google || {};\n",
              "scope.google.colab = scope.google.colab || {};\n",
              "scope.google.colab._files = {\n",
              "  _uploadFiles,\n",
              "  _uploadFilesContinue,\n",
              "};\n",
              "})(self);\n",
              "</script> "
            ]
          },
          "metadata": {}
        },
        {
          "output_type": "stream",
          "name": "stdout",
          "text": [
            "Saving tolstovka-zhenskaya-moline.jpg to tolstovka-zhenskaya-moline.jpg\n"
          ]
        },
        {
          "output_type": "display_data",
          "data": {
            "text/plain": [
              "<PIL.Image.Image image mode=L size=28x28 at 0x7F7DE5938B50>"
            ],
            "image/png": "[encoded data removed]"
          },
          "metadata": {}
        }
      ]
    },
    {
      "cell_type": "code",
      "source": [
        "preds = model.predict(image)\n",
        "classes = ['T-shirt', 'Trouser', 'Pullover', 'Dress', 'Coat', 'Sandal', 'Shirt', 'Sneaker', 'Bag', 'Ankle boot']\n",
        "\n",
        "i = preds.argmax(axis=1)[0]\n",
        "type_clothes = classes[i]\n",
        "print(f\"Загружен тип одежды: {type_clothes}\", preds)\n"
      ],
      "metadata": {
        "colab": {
          "base_uri": "https://localhost:8080/"
        },
        "id": "vijcpFsmqgwU",
        "outputId": "5e1dce93-5431-4eed-e58e-958d94c1d106"
      },
      "execution_count": null,
      "outputs": [
        {
          "output_type": "stream",
          "name": "stdout",
          "text": [
            "1/1 [==============================] - 0s 373ms/step\n",
            "Загружен тип одежды: Coat [[3.4388681e-03 1.0643069e-03 1.7738309e-02 3.3592932e-02 9.0551150e-01\n",
            "  1.0610794e-03 1.2065779e-02 4.4596216e-04 2.5036128e-02 4.5190005e-05]]\n"
          ]
        }
      ]
    },
    {
      "cell_type": "markdown",
      "metadata": {
        "id": "9nM7RLP4gktv"
      },
      "source": [
        "Задание №2. Использование глубокой сверточной нейронной сети для классификации изображений по своему датасету"
      ]
    },
    {
      "cell_type": "markdown",
      "metadata": {
        "id": "7HqA-ymhibgj"
      },
      "source": [
        "Используя датасет, собранный для предыдущей работы, разработайте и обучите свою модель глубокой сверточной нейронной сети для классификации изображений"
      ]
    },
    {
      "cell_type": "code",
      "execution_count": 94,
      "metadata": {
        "colab": {
          "base_uri": "https://localhost:8080/"
        },
        "id": "PuwmFVCQigRz",
        "outputId": "188c9c88-b873-410e-d2b3-931ee219d700"
      },
      "outputs": [
        {
          "output_type": "stream",
          "name": "stdout",
          "text": [
            "Drive already mounted at /content/drive; to attempt to forcibly remount, call drive.mount(\"/content/drive\", force_remount=True).\n"
          ]
        }
      ],
      "source": [
        "from sklearn.preprocessing import LabelBinarizer\n",
        "from sklearn.model_selection import train_test_split\n",
        "from sklearn.metrics import classification_report\n",
        "from keras.models import Sequential\n",
        "from keras.layers.core import Dense\n",
        "from keras.optimizers import SGD\n",
        "from imutils import paths\n",
        "import matplotlib.pyplot as plt\n",
        "import numpy as np\n",
        "import random\n",
        "import pickle\n",
        "import cv2\n",
        "from google.colab.patches import cv2_imshow\n",
        "import os\n",
        "\n",
        "from keras.models import Sequential\n",
        "\n",
        "\n",
        "from tensorflow import keras\n",
        "from tensorflow.keras.layers import Dense, Flatten, Dropout, Conv2D, MaxPooling2D, AveragePooling2D \n",
        "from keras.layers import Conv2D, MaxPooling2D, Dense, Flatten\n",
        "\n",
        "\n",
        "\n",
        " \n",
        "from keras.optimizers import Adam, SGD\n",
        "import matplotlib.pyplot as plt\n",
        "import numpy as np\n",
        "\n",
        "from google.colab import drive\n",
        "drive.mount('/content/drive')"
      ]
    },
    {
      "cell_type": "code",
      "execution_count": 95,
      "metadata": {
        "colab": {
          "base_uri": "https://localhost:8080/"
        },
        "id": "Iq6857iqszYs",
        "outputId": "e6f5aa76-7be5-464f-b2d8-38c6f665d31e"
      },
      "outputs": [
        {
          "output_type": "stream",
          "name": "stdout",
          "text": [
            "[INFO] loading images...\n"
          ]
        }
      ],
      "source": [
        "print(\"[INFO] loading images...\")\n",
        "data = []\n",
        "labels = []"
      ]
    },
    {
      "cell_type": "code",
      "execution_count": 96,
      "metadata": {
        "id": "IOkrIeSts4tL"
      },
      "outputs": [],
      "source": [
        "imagePaths = sorted(list(paths.list_images(\"/content/drive/MyDrive/flower_photos 2\")))\n",
        "\n",
        "random.shuffle(imagePaths)"
      ]
    },
    {
      "cell_type": "code",
      "execution_count": 97,
      "metadata": {
        "id": "QuPdEUm4tsGf"
      },
      "outputs": [],
      "source": [
        "for imagePath in imagePaths:\n",
        "\t\n",
        "\timage = cv2.imread(imagePath) # загружаем изображение\n",
        "\timage = cv2.resize(image, (32, 32)) # меняем его разрешение на 32x32 пикселей (без учета соотношения сторон),\n",
        "\t\t\t\t\t\t\t\t\t\t\t\t\t\t\t\t\t\t\t\t\t\t\t\t# сглаживаем его в 32x32x3=3072 пикселей\n",
        "\tdata.append(image) # добавляем в список\n",
        "\n",
        "\tlabel = imagePath.split(os.path.sep)[-2] \t# извлекаем метку класса из пути к изображению (метка класса зависит от имени папки)\n",
        "\tlabels.append(label) # "
      ]
    },
    {
      "cell_type": "code",
      "execution_count": 98,
      "metadata": {
        "id": "ypHea-9kt1s_"
      },
      "outputs": [],
      "source": [
        "data = np.array(data, dtype=\"float\") / 255.0\n",
        "labels = np.array(labels)"
      ]
    },
    {
      "cell_type": "code",
      "execution_count": 99,
      "metadata": {
        "colab": {
          "base_uri": "https://localhost:8080/"
        },
        "id": "XzyZVJARiyeB",
        "outputId": "2d888b55-e5b0-423b-9e68-852d55965d64"
      },
      "outputs": [
        {
          "output_type": "stream",
          "name": "stdout",
          "text": [
            "Train: X =  (2272, 32, 32, 3)\n",
            "Test: X =  (758, 32, 32, 3)\n"
          ]
        }
      ],
      "source": [
        "(trainX, testX, trainY, testY)= train_test_split(data, labels, test_size=0.25, random_state=42)\n",
        "\n",
        "trainX = trainX / 255\n",
        "testX = testX / 255\n",
        " \n",
        "\n",
        "# trainX = np.expand_dims(trainX, axis=3)\n",
        "# testX = np.expand_dims(testX, axis=3)\n",
        "\n",
        "print('Train: X = ', trainX.shape)\n",
        "print('Test: X = ', testX.shape)"
      ]
    },
    {
      "cell_type": "code",
      "execution_count": 100,
      "metadata": {
        "colab": {
          "base_uri": "https://localhost:8080/"
        },
        "id": "MgGx4aZfcCP9",
        "outputId": "81923350-054f-4bf0-b82c-505478a79bbc"
      },
      "outputs": [
        {
          "output_type": "stream",
          "name": "stdout",
          "text": [
            "Train: Y =  (2272, 5)\n",
            "Test: Y =  (758, 5)\n"
          ]
        }
      ],
      "source": [
        "lb = LabelBinarizer()\n",
        "trainY = lb.fit_transform(trainY)\n",
        "testY = lb.transform(testY)\n",
        "\n",
        "print('Train: Y = ', trainY.shape)\n",
        "print('Test: Y = ', testY.shape)"
      ]
    },
    {
      "cell_type": "code",
      "execution_count": 130,
      "metadata": {
        "colab": {
          "base_uri": "https://localhost:8080/"
        },
        "id": "PX2AGxq8c215",
        "outputId": "a70e4d41-fc8b-44fa-c050-f28c4f0a21d7"
      },
      "outputs": [
        {
          "output_type": "stream",
          "name": "stdout",
          "text": [
            "Model: \"sequential_7\"\n",
            "_________________________________________________________________\n",
            " Layer (type)                Output Shape              Param #   \n",
            "=================================================================\n",
            " conv2d_6 (Conv2D)           (None, 28, 28, 6)         456       \n",
            "                                                                 \n",
            " average_pooling2d_6 (Averag  (None, 14, 14, 6)        0         \n",
            " ePooling2D)                                                     \n",
            "                                                                 \n",
            " conv2d_7 (Conv2D)           (None, 10, 10, 16)        2416      \n",
            "                                                                 \n",
            " average_pooling2d_7 (Averag  (None, 5, 5, 16)         0         \n",
            " ePooling2D)                                                     \n",
            "                                                                 \n",
            " flatten_3 (Flatten)         (None, 400)               0         \n",
            "                                                                 \n",
            " dense_25 (Dense)            (None, 128)               51328     \n",
            "                                                                 \n",
            " dense_26 (Dense)            (None, 64)                8256      \n",
            "                                                                 \n",
            " dense_27 (Dense)            (None, 5)                 325       \n",
            "                                                                 \n",
            "=================================================================\n",
            "Total params: 62,781\n",
            "Trainable params: 62,781\n",
            "Non-trainable params: 0\n",
            "_________________________________________________________________\n"
          ]
        }
      ],
      "source": [
        "model_old = keras.Sequential([\n",
        "    Conv2D(6, (5,5), strides=(1,1), activation='relu', input_shape=(32,32,3)), # В оригинальной архитектуре входные данные \n",
        "                                                                               # имели размерность 32,32,1)\n",
        "    AveragePooling2D(pool_size=(2,2), strides=(2,2)),\n",
        "    Conv2D(16, (5,5), strides=(1,1), activation='relu'),\n",
        "    AveragePooling2D(pool_size=(2,2), strides=(2,2)),\n",
        "\n",
        "    Flatten(),\n",
        "\n",
        "    Dense(units=128,activation='relu'),\n",
        "    Dense(units=64,activation='relu'),\n",
        "    Dense(units=5,activation='softmax') \n",
        "])\n",
        "\n",
        "model_old.summary()"
      ]
    },
    {
      "cell_type": "code",
      "execution_count": 131,
      "metadata": {
        "id": "bKSHg6jbeUQx"
      },
      "outputs": [],
      "source": [
        "model_old.compile(optimizer='adam',\n",
        "             loss='categorical_crossentropy',\n",
        "             metrics=['accuracy'])"
      ]
    },
    {
      "cell_type": "code",
      "source": [
        "EPOCHS = 100"
      ],
      "metadata": {
        "id": "NjWmn_FlPUfN"
      },
      "execution_count": 132,
      "outputs": []
    },
    {
      "cell_type": "code",
      "execution_count": 133,
      "metadata": {
        "colab": {
          "base_uri": "https://localhost:8080/"
        },
        "id": "H1JsIuPXecoO",
        "outputId": "b9ba2ce6-ab33-438a-890f-3a1ec7542d0a"
      },
      "outputs": [
        {
          "output_type": "stream",
          "name": "stdout",
          "text": [
            "Epoch 1/100\n",
            "8/8 [==============================] - 2s 183ms/step - loss: 1.6095 - accuracy: 0.1967 - val_loss: 1.6098 - val_accuracy: 0.2018\n",
            "Epoch 2/100\n",
            "8/8 [==============================] - 1s 153ms/step - loss: 1.6087 - accuracy: 0.2172 - val_loss: 1.6098 - val_accuracy: 0.2018\n",
            "Epoch 3/100\n",
            "8/8 [==============================] - 2s 284ms/step - loss: 1.6079 - accuracy: 0.2172 - val_loss: 1.6096 - val_accuracy: 0.2018\n",
            "Epoch 4/100\n",
            "8/8 [==============================] - 2s 285ms/step - loss: 1.6058 - accuracy: 0.2172 - val_loss: 1.6059 - val_accuracy: 0.2018\n",
            "Epoch 5/100\n",
            "8/8 [==============================] - 1s 152ms/step - loss: 1.6015 - accuracy: 0.2177 - val_loss: 1.6018 - val_accuracy: 0.2018\n",
            "Epoch 6/100\n",
            "8/8 [==============================] - 1s 154ms/step - loss: 1.5936 - accuracy: 0.2500 - val_loss: 1.5899 - val_accuracy: 0.3202\n",
            "Epoch 7/100\n",
            "8/8 [==============================] - 1s 152ms/step - loss: 1.5791 - accuracy: 0.2852 - val_loss: 1.5750 - val_accuracy: 0.3289\n",
            "Epoch 8/100\n",
            "8/8 [==============================] - 1s 155ms/step - loss: 1.5614 - accuracy: 0.2999 - val_loss: 1.5602 - val_accuracy: 0.3377\n",
            "Epoch 9/100\n",
            "8/8 [==============================] - 1s 151ms/step - loss: 1.5443 - accuracy: 0.3219 - val_loss: 1.5437 - val_accuracy: 0.3246\n",
            "Epoch 10/100\n",
            "8/8 [==============================] - 1s 154ms/step - loss: 1.5343 - accuracy: 0.3297 - val_loss: 1.5425 - val_accuracy: 0.3289\n",
            "Epoch 11/100\n",
            "8/8 [==============================] - 1s 151ms/step - loss: 1.5189 - accuracy: 0.3346 - val_loss: 1.5261 - val_accuracy: 0.3158\n",
            "Epoch 12/100\n",
            "8/8 [==============================] - 1s 152ms/step - loss: 1.5071 - accuracy: 0.3454 - val_loss: 1.5371 - val_accuracy: 0.3070\n",
            "Epoch 13/100\n",
            "8/8 [==============================] - 2s 238ms/step - loss: 1.4987 - accuracy: 0.3371 - val_loss: 1.5045 - val_accuracy: 0.3158\n",
            "Epoch 14/100\n",
            "8/8 [==============================] - 2s 281ms/step - loss: 1.4906 - accuracy: 0.3405 - val_loss: 1.5000 - val_accuracy: 0.3114\n",
            "Epoch 15/100\n",
            "8/8 [==============================] - 2s 191ms/step - loss: 1.4852 - accuracy: 0.3434 - val_loss: 1.4947 - val_accuracy: 0.3377\n",
            "Epoch 16/100\n",
            "8/8 [==============================] - 1s 154ms/step - loss: 1.4789 - accuracy: 0.3425 - val_loss: 1.4911 - val_accuracy: 0.3289\n",
            "Epoch 17/100\n",
            "8/8 [==============================] - 1s 153ms/step - loss: 1.4747 - accuracy: 0.3449 - val_loss: 1.4900 - val_accuracy: 0.3114\n",
            "Epoch 18/100\n",
            "8/8 [==============================] - 1s 151ms/step - loss: 1.4728 - accuracy: 0.3449 - val_loss: 1.5118 - val_accuracy: 0.2895\n",
            "Epoch 19/100\n",
            "8/8 [==============================] - 1s 154ms/step - loss: 1.4706 - accuracy: 0.3523 - val_loss: 1.5083 - val_accuracy: 0.3114\n",
            "Epoch 20/100\n",
            "8/8 [==============================] - 1s 149ms/step - loss: 1.4688 - accuracy: 0.3474 - val_loss: 1.4848 - val_accuracy: 0.3158\n",
            "Epoch 21/100\n",
            "8/8 [==============================] - 1s 152ms/step - loss: 1.4643 - accuracy: 0.3361 - val_loss: 1.4816 - val_accuracy: 0.3158\n",
            "Epoch 22/100\n",
            "8/8 [==============================] - 1s 154ms/step - loss: 1.4614 - accuracy: 0.3518 - val_loss: 1.4814 - val_accuracy: 0.3246\n",
            "Epoch 23/100\n",
            "8/8 [==============================] - 2s 201ms/step - loss: 1.4561 - accuracy: 0.3498 - val_loss: 1.4812 - val_accuracy: 0.3202\n",
            "Epoch 24/100\n",
            "8/8 [==============================] - 2s 286ms/step - loss: 1.4544 - accuracy: 0.3518 - val_loss: 1.4794 - val_accuracy: 0.3333\n",
            "Epoch 25/100\n",
            "8/8 [==============================] - 2s 225ms/step - loss: 1.4513 - accuracy: 0.3581 - val_loss: 1.4759 - val_accuracy: 0.3246\n",
            "Epoch 26/100\n",
            "8/8 [==============================] - 1s 153ms/step - loss: 1.4493 - accuracy: 0.3625 - val_loss: 1.4713 - val_accuracy: 0.3333\n",
            "Epoch 27/100\n",
            "8/8 [==============================] - 1s 150ms/step - loss: 1.4468 - accuracy: 0.3576 - val_loss: 1.4713 - val_accuracy: 0.3421\n",
            "Epoch 28/100\n",
            "8/8 [==============================] - 1s 153ms/step - loss: 1.4431 - accuracy: 0.3620 - val_loss: 1.4696 - val_accuracy: 0.3509\n",
            "Epoch 29/100\n",
            "8/8 [==============================] - 1s 151ms/step - loss: 1.4413 - accuracy: 0.3733 - val_loss: 1.4699 - val_accuracy: 0.3246\n",
            "Epoch 30/100\n",
            "8/8 [==============================] - 1s 151ms/step - loss: 1.4388 - accuracy: 0.3630 - val_loss: 1.4683 - val_accuracy: 0.3509\n",
            "Epoch 31/100\n",
            "8/8 [==============================] - 1s 154ms/step - loss: 1.4362 - accuracy: 0.3694 - val_loss: 1.4630 - val_accuracy: 0.3421\n",
            "Epoch 32/100\n",
            "8/8 [==============================] - 1s 152ms/step - loss: 1.4347 - accuracy: 0.3645 - val_loss: 1.4606 - val_accuracy: 0.3640\n",
            "Epoch 33/100\n",
            "8/8 [==============================] - 1s 176ms/step - loss: 1.4335 - accuracy: 0.3684 - val_loss: 1.4586 - val_accuracy: 0.3596\n",
            "Epoch 34/100\n",
            "8/8 [==============================] - 2s 275ms/step - loss: 1.4279 - accuracy: 0.3748 - val_loss: 1.4558 - val_accuracy: 0.3596\n",
            "Epoch 35/100\n",
            "8/8 [==============================] - 2s 259ms/step - loss: 1.4246 - accuracy: 0.3757 - val_loss: 1.4630 - val_accuracy: 0.3509\n",
            "Epoch 36/100\n",
            "8/8 [==============================] - 1s 151ms/step - loss: 1.4227 - accuracy: 0.3708 - val_loss: 1.4600 - val_accuracy: 0.3377\n",
            "Epoch 37/100\n",
            "8/8 [==============================] - 1s 153ms/step - loss: 1.4202 - accuracy: 0.3826 - val_loss: 1.4684 - val_accuracy: 0.3246\n",
            "Epoch 38/100\n",
            "8/8 [==============================] - 1s 155ms/step - loss: 1.4206 - accuracy: 0.3787 - val_loss: 1.4651 - val_accuracy: 0.3246\n",
            "Epoch 39/100\n",
            "8/8 [==============================] - 1s 153ms/step - loss: 1.4196 - accuracy: 0.3748 - val_loss: 1.4609 - val_accuracy: 0.3246\n",
            "Epoch 40/100\n",
            "8/8 [==============================] - 1s 151ms/step - loss: 1.4147 - accuracy: 0.3767 - val_loss: 1.4542 - val_accuracy: 0.3465\n",
            "Epoch 41/100\n",
            "8/8 [==============================] - 1s 151ms/step - loss: 1.4206 - accuracy: 0.3728 - val_loss: 1.4497 - val_accuracy: 0.3421\n",
            "Epoch 42/100\n",
            "8/8 [==============================] - 1s 152ms/step - loss: 1.4139 - accuracy: 0.3796 - val_loss: 1.4441 - val_accuracy: 0.3333\n",
            "Epoch 43/100\n",
            "8/8 [==============================] - 1s 152ms/step - loss: 1.4081 - accuracy: 0.3782 - val_loss: 1.4452 - val_accuracy: 0.3553\n",
            "Epoch 44/100\n",
            "8/8 [==============================] - 2s 260ms/step - loss: 1.4053 - accuracy: 0.3796 - val_loss: 1.4426 - val_accuracy: 0.3377\n",
            "Epoch 45/100\n",
            "8/8 [==============================] - 2s 285ms/step - loss: 1.4069 - accuracy: 0.3757 - val_loss: 1.4377 - val_accuracy: 0.3553\n",
            "Epoch 46/100\n",
            "8/8 [==============================] - 1s 177ms/step - loss: 1.4057 - accuracy: 0.3889 - val_loss: 1.4470 - val_accuracy: 0.3465\n",
            "Epoch 47/100\n",
            "8/8 [==============================] - 1s 155ms/step - loss: 1.3990 - accuracy: 0.3919 - val_loss: 1.4540 - val_accuracy: 0.3377\n",
            "Epoch 48/100\n",
            "8/8 [==============================] - 1s 151ms/step - loss: 1.4010 - accuracy: 0.3841 - val_loss: 1.4389 - val_accuracy: 0.3509\n",
            "Epoch 49/100\n",
            "8/8 [==============================] - 1s 151ms/step - loss: 1.3988 - accuracy: 0.3924 - val_loss: 1.4391 - val_accuracy: 0.3421\n",
            "Epoch 50/100\n",
            "8/8 [==============================] - 1s 151ms/step - loss: 1.3920 - accuracy: 0.3919 - val_loss: 1.4253 - val_accuracy: 0.3904\n",
            "Epoch 51/100\n",
            "8/8 [==============================] - 1s 188ms/step - loss: 1.3976 - accuracy: 0.3924 - val_loss: 1.4298 - val_accuracy: 0.3553\n",
            "Epoch 52/100\n",
            "8/8 [==============================] - 2s 164ms/step - loss: 1.3882 - accuracy: 0.3992 - val_loss: 1.4251 - val_accuracy: 0.3596\n",
            "Epoch 53/100\n",
            "8/8 [==============================] - 1s 153ms/step - loss: 1.3860 - accuracy: 0.3968 - val_loss: 1.4243 - val_accuracy: 0.3640\n",
            "Epoch 54/100\n",
            "8/8 [==============================] - 2s 284ms/step - loss: 1.3835 - accuracy: 0.4051 - val_loss: 1.4265 - val_accuracy: 0.3596\n",
            "Epoch 55/100\n",
            "8/8 [==============================] - 2s 275ms/step - loss: 1.3844 - accuracy: 0.3987 - val_loss: 1.4220 - val_accuracy: 0.3596\n",
            "Epoch 56/100\n",
            "8/8 [==============================] - 1s 152ms/step - loss: 1.3872 - accuracy: 0.3992 - val_loss: 1.4474 - val_accuracy: 0.3377\n",
            "Epoch 57/100\n",
            "8/8 [==============================] - 1s 155ms/step - loss: 1.3877 - accuracy: 0.4041 - val_loss: 1.4478 - val_accuracy: 0.3509\n",
            "Epoch 58/100\n",
            "8/8 [==============================] - 1s 154ms/step - loss: 1.3853 - accuracy: 0.3933 - val_loss: 1.4177 - val_accuracy: 0.3596\n",
            "Epoch 59/100\n",
            "8/8 [==============================] - 1s 155ms/step - loss: 1.3753 - accuracy: 0.3977 - val_loss: 1.4126 - val_accuracy: 0.3728\n",
            "Epoch 60/100\n",
            "8/8 [==============================] - 1s 153ms/step - loss: 1.3744 - accuracy: 0.4100 - val_loss: 1.4203 - val_accuracy: 0.3904\n",
            "Epoch 61/100\n",
            "8/8 [==============================] - 1s 153ms/step - loss: 1.3774 - accuracy: 0.4036 - val_loss: 1.4176 - val_accuracy: 0.3465\n",
            "Epoch 62/100\n",
            "8/8 [==============================] - 1s 153ms/step - loss: 1.3708 - accuracy: 0.4100 - val_loss: 1.4204 - val_accuracy: 0.3377\n",
            "Epoch 63/100\n",
            "8/8 [==============================] - 1s 153ms/step - loss: 1.3720 - accuracy: 0.3987 - val_loss: 1.4033 - val_accuracy: 0.3991\n",
            "Epoch 64/100\n",
            "8/8 [==============================] - 2s 269ms/step - loss: 1.3703 - accuracy: 0.3997 - val_loss: 1.4044 - val_accuracy: 0.3947\n",
            "Epoch 65/100\n",
            "8/8 [==============================] - 2s 280ms/step - loss: 1.3620 - accuracy: 0.4134 - val_loss: 1.4263 - val_accuracy: 0.3333\n",
            "Epoch 66/100\n",
            "8/8 [==============================] - 1s 167ms/step - loss: 1.3649 - accuracy: 0.4085 - val_loss: 1.4035 - val_accuracy: 0.4035\n",
            "Epoch 67/100\n",
            "8/8 [==============================] - 1s 155ms/step - loss: 1.3610 - accuracy: 0.4100 - val_loss: 1.3985 - val_accuracy: 0.3860\n",
            "Epoch 68/100\n",
            "8/8 [==============================] - 1s 153ms/step - loss: 1.3538 - accuracy: 0.4163 - val_loss: 1.3951 - val_accuracy: 0.3772\n",
            "Epoch 69/100\n",
            "8/8 [==============================] - 1s 153ms/step - loss: 1.3550 - accuracy: 0.4129 - val_loss: 1.3834 - val_accuracy: 0.4079\n",
            "Epoch 70/100\n",
            "8/8 [==============================] - 1s 154ms/step - loss: 1.3499 - accuracy: 0.4183 - val_loss: 1.3831 - val_accuracy: 0.4167\n",
            "Epoch 71/100\n",
            "8/8 [==============================] - 1s 152ms/step - loss: 1.3470 - accuracy: 0.4193 - val_loss: 1.3796 - val_accuracy: 0.4079\n",
            "Epoch 72/100\n",
            "8/8 [==============================] - 1s 154ms/step - loss: 1.3406 - accuracy: 0.4237 - val_loss: 1.3819 - val_accuracy: 0.4035\n",
            "Epoch 73/100\n",
            "8/8 [==============================] - 1s 153ms/step - loss: 1.3365 - accuracy: 0.4193 - val_loss: 1.3821 - val_accuracy: 0.4035\n",
            "Epoch 74/100\n",
            "8/8 [==============================] - 2s 231ms/step - loss: 1.3377 - accuracy: 0.4242 - val_loss: 1.3721 - val_accuracy: 0.4079\n",
            "Epoch 75/100\n",
            "8/8 [==============================] - 2s 287ms/step - loss: 1.3400 - accuracy: 0.4173 - val_loss: 1.3617 - val_accuracy: 0.3991\n",
            "Epoch 76/100\n",
            "8/8 [==============================] - 2s 195ms/step - loss: 1.3335 - accuracy: 0.4300 - val_loss: 1.3746 - val_accuracy: 0.3991\n",
            "Epoch 77/100\n",
            "8/8 [==============================] - 1s 153ms/step - loss: 1.3203 - accuracy: 0.4305 - val_loss: 1.3435 - val_accuracy: 0.4123\n",
            "Epoch 78/100\n",
            "8/8 [==============================] - 1s 153ms/step - loss: 1.3173 - accuracy: 0.4359 - val_loss: 1.3382 - val_accuracy: 0.4079\n",
            "Epoch 79/100\n",
            "8/8 [==============================] - 1s 152ms/step - loss: 1.3079 - accuracy: 0.4369 - val_loss: 1.3407 - val_accuracy: 0.4254\n",
            "Epoch 80/100\n",
            "8/8 [==============================] - 1s 149ms/step - loss: 1.3025 - accuracy: 0.4349 - val_loss: 1.3293 - val_accuracy: 0.4430\n",
            "Epoch 81/100\n",
            "8/8 [==============================] - 1s 152ms/step - loss: 1.2906 - accuracy: 0.4496 - val_loss: 1.3231 - val_accuracy: 0.4342\n",
            "Epoch 82/100\n",
            "8/8 [==============================] - 1s 154ms/step - loss: 1.2893 - accuracy: 0.4432 - val_loss: 1.3000 - val_accuracy: 0.4298\n",
            "Epoch 83/100\n",
            "8/8 [==============================] - 1s 152ms/step - loss: 1.2869 - accuracy: 0.4432 - val_loss: 1.2993 - val_accuracy: 0.4342\n",
            "Epoch 84/100\n",
            "8/8 [==============================] - 2s 196ms/step - loss: 1.2790 - accuracy: 0.4555 - val_loss: 1.2719 - val_accuracy: 0.4518\n",
            "Epoch 85/100\n",
            "8/8 [==============================] - 2s 269ms/step - loss: 1.2645 - accuracy: 0.4555 - val_loss: 1.2779 - val_accuracy: 0.4430\n",
            "Epoch 86/100\n",
            "8/8 [==============================] - 2s 245ms/step - loss: 1.2537 - accuracy: 0.4662 - val_loss: 1.2687 - val_accuracy: 0.4298\n",
            "Epoch 87/100\n",
            "8/8 [==============================] - 1s 158ms/step - loss: 1.2822 - accuracy: 0.4442 - val_loss: 1.2875 - val_accuracy: 0.4342\n",
            "Epoch 88/100\n",
            "8/8 [==============================] - 1s 151ms/step - loss: 1.2492 - accuracy: 0.4667 - val_loss: 1.2390 - val_accuracy: 0.4430\n",
            "Epoch 89/100\n",
            "8/8 [==============================] - 1s 153ms/step - loss: 1.2296 - accuracy: 0.4780 - val_loss: 1.2569 - val_accuracy: 0.4430\n",
            "Epoch 90/100\n",
            "8/8 [==============================] - 1s 152ms/step - loss: 1.2377 - accuracy: 0.4746 - val_loss: 1.2744 - val_accuracy: 0.4079\n",
            "Epoch 91/100\n",
            "8/8 [==============================] - 1s 154ms/step - loss: 1.2234 - accuracy: 0.4858 - val_loss: 1.2206 - val_accuracy: 0.4518\n",
            "Epoch 92/100\n",
            "8/8 [==============================] - 1s 156ms/step - loss: 1.2078 - accuracy: 0.4839 - val_loss: 1.2235 - val_accuracy: 0.4605\n",
            "Epoch 93/100\n",
            "8/8 [==============================] - 1s 156ms/step - loss: 1.2048 - accuracy: 0.4936 - val_loss: 1.2188 - val_accuracy: 0.4605\n",
            "Epoch 94/100\n",
            "8/8 [==============================] - 1s 153ms/step - loss: 1.2011 - accuracy: 0.4907 - val_loss: 1.2101 - val_accuracy: 0.4605\n",
            "Epoch 95/100\n",
            "8/8 [==============================] - 2s 267ms/step - loss: 1.2014 - accuracy: 0.4917 - val_loss: 1.2151 - val_accuracy: 0.4254\n",
            "Epoch 96/100\n",
            "8/8 [==============================] - 2s 275ms/step - loss: 1.2044 - accuracy: 0.4834 - val_loss: 1.2192 - val_accuracy: 0.4561\n",
            "Epoch 97/100\n",
            "8/8 [==============================] - 1s 156ms/step - loss: 1.2007 - accuracy: 0.4927 - val_loss: 1.2024 - val_accuracy: 0.4342\n",
            "Epoch 98/100\n",
            "8/8 [==============================] - 1s 152ms/step - loss: 1.1919 - accuracy: 0.4917 - val_loss: 1.2063 - val_accuracy: 0.4474\n",
            "Epoch 99/100\n",
            "8/8 [==============================] - 1s 152ms/step - loss: 1.1855 - accuracy: 0.4951 - val_loss: 1.2375 - val_accuracy: 0.4386\n",
            "Epoch 100/100\n",
            "8/8 [==============================] - 1s 151ms/step - loss: 1.1869 - accuracy: 0.4917 - val_loss: 1.1985 - val_accuracy: 0.4386\n"
          ]
        }
      ],
      "source": [
        "his = model_old.fit(trainX, trainY, batch_size=256, epochs=EPOCHS, validation_split=0.1)"
      ]
    },
    {
      "cell_type": "code",
      "source": [
        "number_one = model_old.evaluate(testX, testY)"
      ],
      "metadata": {
        "colab": {
          "base_uri": "https://localhost:8080/"
        },
        "id": "L7pVx183ube8",
        "outputId": "0cb41e44-be43-46b9-e51f-427a997cdb81"
      },
      "execution_count": 134,
      "outputs": [
        {
          "output_type": "stream",
          "name": "stdout",
          "text": [
            "24/24 [==============================] - 0s 9ms/step - loss: 1.1856 - accuracy: 0.5119\n"
          ]
        }
      ]
    },
    {
      "cell_type": "code",
      "source": [
        "print(\"[INFO] serializing network and label binarizer...\")\n",
        "model_old.save(\"model_old.h5\", save_format=\"h5\")\n",
        "f = open(\"label_bin_old\", \"wb\")\n",
        "f.write(pickle.dumps(lb))\n",
        "f.close()"
      ],
      "metadata": {
        "colab": {
          "base_uri": "https://localhost:8080/"
        },
        "id": "2xDf18Fk5Gbn",
        "outputId": "92c406c9-b4d7-436c-d526-36eb056eba38"
      },
      "execution_count": 135,
      "outputs": [
        {
          "output_type": "stream",
          "name": "stdout",
          "text": [
            "[INFO] serializing network and label binarizer...\n"
          ]
        }
      ]
    },
    {
      "cell_type": "code",
      "source": [
        "N = np.arange(0, EPOCHS)\n",
        "plt.style.use(\"ggplot\")\n",
        "plt.figure()\n",
        "plt.plot(N, his.history[\"loss\"], label=\"train_loss\")\n",
        "plt.plot(N, his.history[\"val_loss\"], label=\"val_loss\")\n",
        "plt.plot(N, his.history[\"accuracy\"], label=\"train_acc\")\n",
        "plt.plot(N, his.history[\"val_accuracy\"], label=\"val_acc\")\n",
        "plt.title(\"Training Loss and Accuracy (Simple NN)\")\n",
        "plt.xlabel(\"Epoch #\")\n",
        "plt.ylabel(\"Loss/Accuracy\")\n",
        "plt.legend()\n",
        "plt.savefig('plot.png')\n",
        "cv2_imshow(cv2.imread(\"plot.png\"))"
      ],
      "metadata": {
        "id": "uopIfeVZPQv3",
        "colab": {
          "base_uri": "https://localhost:8080/",
          "height": 957
        },
        "outputId": "b68a3249-78f1-4d93-ef8d-4fd61e1b2671"
      },
      "execution_count": 136,
      "outputs": [
        {
          "output_type": "display_data",
          "data": {
            "text/plain": [
              "<PIL.Image.Image image mode=RGB size=640x480 at 0x7FC3D1E80DC0>"
            ],
            "image/png": "[encoded data removed]"
          },
          "metadata": {}
        },
        {
          "output_type": "display_data",
          "data": {
            "text/plain": [
              "<Figure size 640x480 with 1 Axes>"
            ],
            "image/png": "[encoded data removed]"
          },
          "metadata": {}
        }
      ]
    },
    {
      "cell_type": "markdown",
      "source": [
        "2-я модель\n"
      ],
      "metadata": {
        "id": "PO_B-V3M9Z5k"
      }
    },
    {
      "cell_type": "code",
      "source": [
        "print(\"[INFO] loading images...\")\n",
        "data = []\n",
        "labels = []"
      ],
      "metadata": {
        "colab": {
          "base_uri": "https://localhost:8080/"
        },
        "id": "DM5I_CIcTy9o",
        "outputId": "8c8b1319-8cf9-4029-a689-ba78450cde07"
      },
      "execution_count": null,
      "outputs": [
        {
          "output_type": "stream",
          "name": "stdout",
          "text": [
            "[INFO] loading images...\n"
          ]
        }
      ]
    },
    {
      "cell_type": "code",
      "source": [
        "imagePaths = sorted(list(paths.list_images(\"/content/drive/MyDrive/flower_photos\")))\n",
        "\n",
        "random.shuffle(imagePaths)"
      ],
      "metadata": {
        "id": "1Cd-XDQcT5Be"
      },
      "execution_count": null,
      "outputs": []
    },
    {
      "cell_type": "code",
      "source": [
        "for imagePath in imagePaths:\n",
        "\t\n",
        "\timage = cv2.imread(imagePath) # загружаем изображение\n",
        "\timage = cv2.resize(image, (32, 32)).flatten() # меняем его разрешение на 32x32 пикселей (без учета соотношения сторон),\n",
        "\t\t\t\t\t\t\t\t\t\t\t\t\t\t\t\t\t\t\t\t\t\t\t\t# сглаживаем его в 32x32x3=3072 пикселей\n",
        "\tdata.append(image) # добавляем в список\n",
        "\n",
        "\tlabel = imagePath.split(os.path.sep)[-2] \t# извлекаем метку класса из пути к изображению (метка класса зависит от имени папки)\n",
        "\tlabels.append(label) # "
      ],
      "metadata": {
        "id": "9AExa5NfLnH9"
      },
      "execution_count": null,
      "outputs": []
    },
    {
      "cell_type": "code",
      "source": [
        "data = np.array(data, dtype=\"float\") / 255.0\n",
        "labels = np.array(labels)"
      ],
      "metadata": {
        "id": "NwG8N7x9HfL7"
      },
      "execution_count": null,
      "outputs": []
    },
    {
      "cell_type": "code",
      "source": [
        "(trainX, testX, trainY, testY) = train_test_split(data,\n",
        "\tlabels, test_size=0.25, random_state=42)\n"
      ],
      "metadata": {
        "id": "kuJsQvSQ8Wx7"
      },
      "execution_count": null,
      "outputs": []
    },
    {
      "cell_type": "code",
      "source": [
        "lb = LabelBinarizer()\n",
        "trainY = lb.fit_transform(trainY)\n",
        "testY = lb.transform(testY)\n"
      ],
      "metadata": {
        "id": "XlLUjrsT8h8b"
      },
      "execution_count": null,
      "outputs": []
    },
    {
      "cell_type": "code",
      "source": [
        "model = Sequential()\n",
        "model.add(Dense(1024, input_shape=(3072,), activation=\"relu\"))\n",
        "model.add(Dense(128, activation=\"relu\"))\n",
        "model.add(Dense(64, activation=\"relu\"))\n",
        "\n",
        "model.add(Dense(len(lb.classes_), activation=\"softmax\"))"
      ],
      "metadata": {
        "id": "XhZDBIt1lqFM"
      },
      "execution_count": null,
      "outputs": []
    },
    {
      "cell_type": "code",
      "source": [
        "INIT_LR = 0.01\n",
        "EPOCHS = 35"
      ],
      "metadata": {
        "id": "A2_6I5KDl5mC"
      },
      "execution_count": null,
      "outputs": []
    },
    {
      "cell_type": "code",
      "source": [
        "opt = SGD(lr=INIT_LR)\n",
        "model.compile(loss=\"categorical_crossentropy\", optimizer=opt,\n",
        "\tmetrics=[\"accuracy\"])"
      ],
      "metadata": {
        "colab": {
          "base_uri": "https://localhost:8080/"
        },
        "id": "DTv2anmal6PV",
        "outputId": "8304b47e-034e-4a02-eb82-98f4a534ae72"
      },
      "execution_count": null,
      "outputs": [
        {
          "output_type": "stream",
          "name": "stderr",
          "text": [
            "/usr/local/lib/python3.10/dist-packages/keras/optimizers/legacy/gradient_descent.py:114: UserWarning: The `lr` argument is deprecated, use `learning_rate` instead.\n",
            "  super().__init__(name, **kwargs)\n"
          ]
        }
      ]
    },
    {
      "cell_type": "code",
      "source": [
        "H = model.fit(trainX, trainY, validation_data=(trainX, trainY), \n",
        "\tepochs=EPOCHS, batch_size=256)"
      ],
      "metadata": {
        "colab": {
          "base_uri": "https://localhost:8080/"
        },
        "id": "ax2P-nyhl91k",
        "outputId": "ced41993-4260-4243-9b4d-f14bae690910"
      },
      "execution_count": null,
      "outputs": [
        {
          "output_type": "stream",
          "name": "stdout",
          "text": [
            "Epoch 1/35\n",
            "8/8 [==============================] - 1s 122ms/step - loss: 1.3134 - accuracy: 0.3479 - val_loss: 1.2132 - val_accuracy: 0.4406\n",
            "Epoch 2/35\n",
            "8/8 [==============================] - 1s 105ms/step - loss: 1.2010 - accuracy: 0.4558 - val_loss: 1.1762 - val_accuracy: 0.4891\n",
            "Epoch 3/35\n",
            "8/8 [==============================] - 1s 106ms/step - loss: 1.1659 - accuracy: 0.4902 - val_loss: 1.1621 - val_accuracy: 0.4417\n",
            "Epoch 4/35\n",
            "8/8 [==============================] - 1s 106ms/step - loss: 1.1417 - accuracy: 0.4935 - val_loss: 1.1221 - val_accuracy: 0.5076\n",
            "Epoch 5/35\n",
            "8/8 [==============================] - 1s 92ms/step - loss: 1.1155 - accuracy: 0.5174 - val_loss: 1.1014 - val_accuracy: 0.5305\n",
            "Epoch 6/35\n",
            "8/8 [==============================] - 1s 93ms/step - loss: 1.0997 - accuracy: 0.5284 - val_loss: 1.0831 - val_accuracy: 0.5491\n",
            "Epoch 7/35\n",
            "8/8 [==============================] - 1s 90ms/step - loss: 1.0843 - accuracy: 0.5338 - val_loss: 1.0705 - val_accuracy: 0.5485\n",
            "Epoch 8/35\n",
            "8/8 [==============================] - 1s 93ms/step - loss: 1.0639 - accuracy: 0.5398 - val_loss: 1.0526 - val_accuracy: 0.5562\n",
            "Epoch 9/35\n",
            "8/8 [==============================] - 1s 97ms/step - loss: 1.0517 - accuracy: 0.5409 - val_loss: 1.0630 - val_accuracy: 0.5267\n",
            "Epoch 10/35\n",
            "8/8 [==============================] - 1s 192ms/step - loss: 1.0430 - accuracy: 0.5463 - val_loss: 1.0444 - val_accuracy: 0.5403\n",
            "Epoch 11/35\n",
            "8/8 [==============================] - 1s 159ms/step - loss: 1.0353 - accuracy: 0.5534 - val_loss: 1.0461 - val_accuracy: 0.5322\n",
            "Epoch 12/35\n",
            "8/8 [==============================] - 1s 197ms/step - loss: 1.0258 - accuracy: 0.5534 - val_loss: 1.0119 - val_accuracy: 0.5742\n",
            "Epoch 13/35\n",
            "8/8 [==============================] - 1s 103ms/step - loss: 1.0094 - accuracy: 0.5709 - val_loss: 1.0148 - val_accuracy: 0.5643\n",
            "Epoch 14/35\n",
            "8/8 [==============================] - 1s 93ms/step - loss: 1.0025 - accuracy: 0.5616 - val_loss: 1.0314 - val_accuracy: 0.5463\n",
            "Epoch 15/35\n",
            "8/8 [==============================] - 1s 90ms/step - loss: 0.9988 - accuracy: 0.5682 - val_loss: 1.0193 - val_accuracy: 0.5491\n",
            "Epoch 16/35\n",
            "8/8 [==============================] - 1s 90ms/step - loss: 1.0056 - accuracy: 0.5540 - val_loss: 1.0375 - val_accuracy: 0.5273\n",
            "Epoch 17/35\n",
            "8/8 [==============================] - 1s 91ms/step - loss: 0.9803 - accuracy: 0.5714 - val_loss: 1.0163 - val_accuracy: 0.5245\n",
            "Epoch 18/35\n",
            "8/8 [==============================] - 1s 93ms/step - loss: 0.9836 - accuracy: 0.5769 - val_loss: 0.9472 - val_accuracy: 0.6041\n",
            "Epoch 19/35\n",
            "8/8 [==============================] - 1s 92ms/step - loss: 0.9491 - accuracy: 0.6009 - val_loss: 0.9483 - val_accuracy: 0.6014\n",
            "Epoch 20/35\n",
            "8/8 [==============================] - 1s 90ms/step - loss: 0.9432 - accuracy: 0.6074 - val_loss: 1.0484 - val_accuracy: 0.4929\n",
            "Epoch 21/35\n",
            "8/8 [==============================] - 1s 105ms/step - loss: 0.9619 - accuracy: 0.5834 - val_loss: 0.9314 - val_accuracy: 0.6074\n",
            "Epoch 22/35\n",
            "8/8 [==============================] - 1s 104ms/step - loss: 0.9240 - accuracy: 0.6150 - val_loss: 0.9189 - val_accuracy: 0.6270\n",
            "Epoch 23/35\n",
            "8/8 [==============================] - 1s 91ms/step - loss: 0.9349 - accuracy: 0.6014 - val_loss: 0.9385 - val_accuracy: 0.6009\n",
            "Epoch 24/35\n",
            "8/8 [==============================] - 1s 90ms/step - loss: 0.9433 - accuracy: 0.6009 - val_loss: 0.9434 - val_accuracy: 0.6003\n",
            "Epoch 25/35\n",
            "8/8 [==============================] - 1s 91ms/step - loss: 0.9227 - accuracy: 0.6172 - val_loss: 0.9367 - val_accuracy: 0.5731\n",
            "Epoch 26/35\n",
            "8/8 [==============================] - 1s 111ms/step - loss: 0.9438 - accuracy: 0.5872 - val_loss: 1.0779 - val_accuracy: 0.5033\n",
            "Epoch 27/35\n",
            "8/8 [==============================] - 1s 192ms/step - loss: 0.9825 - accuracy: 0.5736 - val_loss: 0.9528 - val_accuracy: 0.5872\n",
            "Epoch 28/35\n",
            "8/8 [==============================] - 1s 159ms/step - loss: 0.9232 - accuracy: 0.6112 - val_loss: 0.8928 - val_accuracy: 0.6210\n",
            "Epoch 29/35\n",
            "8/8 [==============================] - 1s 195ms/step - loss: 0.8930 - accuracy: 0.6243 - val_loss: 0.8995 - val_accuracy: 0.6205\n",
            "Epoch 30/35\n",
            "8/8 [==============================] - 1s 104ms/step - loss: 0.9481 - accuracy: 0.5818 - val_loss: 0.8847 - val_accuracy: 0.6423\n",
            "Epoch 31/35\n",
            "8/8 [==============================] - 1s 107ms/step - loss: 0.8795 - accuracy: 0.6407 - val_loss: 0.9336 - val_accuracy: 0.6150\n",
            "Epoch 32/35\n",
            "8/8 [==============================] - 1s 92ms/step - loss: 0.8806 - accuracy: 0.6390 - val_loss: 0.9014 - val_accuracy: 0.5932\n",
            "Epoch 33/35\n",
            "8/8 [==============================] - 1s 103ms/step - loss: 0.9446 - accuracy: 0.6009 - val_loss: 0.8588 - val_accuracy: 0.6439\n",
            "Epoch 34/35\n",
            "8/8 [==============================] - 1s 102ms/step - loss: 0.8795 - accuracy: 0.6374 - val_loss: 0.8638 - val_accuracy: 0.6429\n",
            "Epoch 35/35\n",
            "8/8 [==============================] - 1s 107ms/step - loss: 0.8692 - accuracy: 0.6330 - val_loss: 0.9049 - val_accuracy: 0.5987\n"
          ]
        }
      ]
    },
    {
      "cell_type": "code",
      "source": [
        "model.evaluate(testX, testY)"
      ],
      "metadata": {
        "colab": {
          "base_uri": "https://localhost:8080/"
        },
        "id": "p7bE7KlFxRq-",
        "outputId": "9498aec6-158e-4c32-9823-3c4ba54fcc6d"
      },
      "execution_count": null,
      "outputs": [
        {
          "output_type": "stream",
          "name": "stdout",
          "text": [
            "20/20 [==============================] - 0s 9ms/step - loss: 0.9993 - accuracy: 0.5882\n"
          ]
        },
        {
          "output_type": "execute_result",
          "data": {
            "text/plain": [
              "[0.9993226528167725, 0.5882353186607361]"
            ]
          },
          "metadata": {},
          "execution_count": 85
        }
      ]
    },
    {
      "cell_type": "code",
      "source": [
        "N = np.arange(0, EPOCHS)\n",
        "plt.style.use(\"ggplot\")\n",
        "plt.figure()\n",
        "plt.plot(N, H.history[\"loss\"], label=\"train_loss\")\n",
        "plt.plot(N, H.history[\"val_loss\"], label=\"val_loss\")\n",
        "plt.plot(N, H.history[\"accuracy\"], label=\"train_acc\")\n",
        "plt.plot(N, H.history[\"val_accuracy\"], label=\"val_acc\")\n",
        "plt.title(\"Training Loss and Accuracy (Simple NN)\")\n",
        "plt.xlabel(\"Epoch #\")\n",
        "plt.ylabel(\"Loss/Accuracy\")\n",
        "plt.legend()\n",
        "plt.savefig('plot.png')\n",
        "cv2_imshow(cv2.imread(\"plot.png\"))"
      ],
      "metadata": {
        "colab": {
          "base_uri": "https://localhost:8080/",
          "height": 957
        },
        "id": "Wd6NgmUAEr7A",
        "outputId": "8ee3dd23-bca7-4256-bbcc-7c9e76a74298"
      },
      "execution_count": null,
      "outputs": [
        {
          "output_type": "display_data",
          "data": {
            "text/plain": [
              "<PIL.Image.Image image mode=RGB size=640x480 at 0x7FC3E4E59F30>"
            ],
            "image/png": "[encoded data removed]"
          },
          "metadata": {}
        },
        {
          "output_type": "display_data",
          "data": {
            "text/plain": [
              "<Figure size 640x480 with 1 Axes>"
            ],
            "image/png": "[encoded data removed]"
          },
          "metadata": {}
        }
      ]
    },
    {
      "cell_type": "code",
      "source": [
        "import os\n",
        "import cv2\n",
        "import numpy as np\n",
        "from google.colab.patches import cv2_imshow # Импорт функции cv2_imshow для вывода изображений\n",
        "\n",
        "data_path = \"/content/drive/MyDrive/flower/\"\n",
        "\n",
        "# Загрузка изображений и обрезка до размера 32x32\n",
        "images = []\n",
        "for filename in os.listdir(data_path):\n",
        "    img = cv2.imread(os.path.join(data_path, filename))\n",
        "    img = cv2.resize(img, (32, 32))\n",
        "    images.append(img)\n",
        "\n",
        "# Преобразование списка изображений в массив numpy\n",
        "images = np.array(images)\n",
        "\n",
        "# Вывод изображений на экран\n",
        "for img in images:\n",
        "    cv2_imshow(img)\n",
        "    cv2.waitKey(0)\n",
        "cv2.destroyAllWindows()"
      ],
      "metadata": {
        "colab": {
          "base_uri": "https://localhost:8080/",
          "height": 497
        },
        "id": "OlLsF6DeTWZ5",
        "outputId": "0c7639ef-85b7-4532-c20f-3bec73d6bf9e"
      },
      "execution_count": 126,
      "outputs": [
        {
          "output_type": "display_data",
          "data": {
            "text/plain": [
              "<PIL.Image.Image image mode=RGB size=32x32 at 0x7FC3D38FFB20>"
            ],
            "image/png": "[encoded data removed]"
          },
          "metadata": {}
        },
        {
          "output_type": "display_data",
          "data": {
            "text/plain": [
              "<PIL.Image.Image image mode=RGB size=32x32 at 0x7FC3D38FEC50>"
            ],
            "image/png": "[encoded data removed]"
          },
          "metadata": {}
        },
        {
          "output_type": "display_data",
          "data": {
            "text/plain": [
              "<PIL.Image.Image image mode=RGB size=32x32 at 0x7FC3D38FF280>"
            ],
            "image/png": "[encoded data removed]"
          },
          "metadata": {}
        },
        {
          "output_type": "display_data",
          "data": {
            "text/plain": [
              "<PIL.Image.Image image mode=RGB size=32x32 at 0x7FC3D38FF280>"
            ],
            "image/png": "[encoded data removed]"
          },
          "metadata": {}
        },
        {
          "output_type": "display_data",
          "data": {
            "text/plain": [
              "<PIL.Image.Image image mode=RGB size=32x32 at 0x7FC3D38FFA00>"
            ],
            "image/png": "[encoded data removed]"
          },
          "metadata": {}
        },
        {
          "output_type": "display_data",
          "data": {
            "text/plain": [
              "<PIL.Image.Image image mode=RGB size=32x32 at 0x7FC3D38FFEE0>"
            ],
            "image/png": "[encoded data removed]"
          },
          "metadata": {}
        },
        {
          "output_type": "display_data",
          "data": {
            "text/plain": [
              "<PIL.Image.Image image mode=RGB size=32x32 at 0x7FC3D38FEC50>"
            ],
            "image/png": "[encoded data removed]"
          },
          "metadata": {}
        },
        {
          "output_type": "display_data",
          "data": {
            "text/plain": [
              "<PIL.Image.Image image mode=RGB size=32x32 at 0x7FC3D38FFEE0>"
            ],
            "image/png": "[encoded data removed]"
          },
          "metadata": {}
        },
        {
          "output_type": "display_data",
          "data": {
            "text/plain": [
              "<PIL.Image.Image image mode=RGB size=32x32 at 0x7FC3D38FEC50>"
            ],
            "image/png": "[encoded data removed]"
          },
          "metadata": {}
        },
        {
          "output_type": "display_data",
          "data": {
            "text/plain": [
              "<PIL.Image.Image image mode=RGB size=32x32 at 0x7FC3D38FFEE0>"
            ],
            "image/png": "[encoded data removed]"
          },
          "metadata": {}
        },
        {
          "output_type": "display_data",
          "data": {
            "text/plain": [
              "<PIL.Image.Image image mode=RGB size=32x32 at 0x7FC3D38FEC50>"
            ],
            "image/png": "[encoded data removed]"
          },
          "metadata": {}
        },
        {
          "output_type": "display_data",
          "data": {
            "text/plain": [
              "<PIL.Image.Image image mode=RGB size=32x32 at 0x7FC3D38FFEE0>"
            ],
            "image/png": "[encoded data removed]"
          },
          "metadata": {}
        },
        {
          "output_type": "display_data",
          "data": {
            "text/plain": [
              "<PIL.Image.Image image mode=RGB size=32x32 at 0x7FC3D38FEC50>"
            ],
            "image/png": "[encoded data removed]"
          },
          "metadata": {}
        },
        {
          "output_type": "display_data",
          "data": {
            "text/plain": [
              "<PIL.Image.Image image mode=RGB size=32x32 at 0x7FC3D38FFEE0>"
            ],
            "image/png": "[encoded data removed]"
          },
          "metadata": {}
        },
        {
          "output_type": "display_data",
          "data": {
            "text/plain": [
              "<PIL.Image.Image image mode=RGB size=32x32 at 0x7FC3D38FEC50>"
            ],
            "image/png": "[encoded data removed]"
          },
          "metadata": {}
        }
      ]
    },
    {
      "cell_type": "code",
      "source": [
        "import tensorflow as tf\n",
        "\n",
        "for imag in images:\n",
        "  img_c = imag.copy()\n",
        "  img_c = tf.expand_dims(imag, axis=0)\n",
        "  img_c.shape\n",
        "  preds = model_old.predict(img_c)\n",
        "  i = preds.argmax(axis=1)[0]\n",
        "  lab = ['daisy', 'dandelion', 'roses', 'sunflowers', 'tulips']\n",
        "  label = lab[i]\n",
        "  print(f\"Загружено: { label, preds}\")"
      ],
      "metadata": {
        "id": "sb1_cFt90IC9",
        "colab": {
          "base_uri": "https://localhost:8080/"
        },
        "outputId": "a5a829a7-67a3-4ddd-9220-9047168048a2"
      },
      "execution_count": 161,
      "outputs": [
        {
          "output_type": "stream",
          "name": "stdout",
          "text": [
            "1/1 [==============================] - 0s 31ms/step\n",
            "Загружено: ('roses', array([[0., 0., 1., 0., 0.]], dtype=float32))\n",
            "1/1 [==============================] - 0s 31ms/step\n",
            "Загружено: ('roses', array([[0., 0., 1., 0., 0.]], dtype=float32))\n",
            "1/1 [==============================] - 0s 39ms/step\n",
            "Загружено: ('roses', array([[0., 0., 1., 0., 0.]], dtype=float32))\n",
            "1/1 [==============================] - 0s 30ms/step\n",
            "Загружено: ('daisy', array([[1., 0., 0., 0., 0.]], dtype=float32))\n",
            "1/1 [==============================] - 0s 34ms/step\n",
            "Загружено: ('dandelion', array([[0., 1., 0., 0., 0.]], dtype=float32))\n",
            "1/1 [==============================] - 0s 29ms/step\n",
            "Загружено: ('dandelion', array([[0., 1., 0., 0., 0.]], dtype=float32))\n",
            "1/1 [==============================] - 0s 35ms/step\n",
            "Загружено: ('roses', array([[0., 0., 1., 0., 0.]], dtype=float32))\n",
            "1/1 [==============================] - 0s 29ms/step\n",
            "Загружено: ('roses', array([[0., 0., 1., 0., 0.]], dtype=float32))\n",
            "1/1 [==============================] - 0s 31ms/step\n",
            "Загружено: ('dandelion', array([[0., 1., 0., 0., 0.]], dtype=float32))\n",
            "1/1 [==============================] - 0s 31ms/step\n",
            "Загружено: ('daisy', array([[1., 0., 0., 0., 0.]], dtype=float32))\n",
            "1/1 [==============================] - 0s 36ms/step\n",
            "Загружено: ('daisy', array([[1., 0., 0., 0., 0.]], dtype=float32))\n",
            "1/1 [==============================] - 0s 30ms/step\n",
            "Загружено: ('dandelion', array([[0., 1., 0., 0., 0.]], dtype=float32))\n",
            "1/1 [==============================] - 0s 30ms/step\n",
            "Загружено: ('daisy', array([[1., 0., 0., 0., 0.]], dtype=float32))\n",
            "1/1 [==============================] - 0s 31ms/step\n",
            "Загружено: ('dandelion', array([[0., 1., 0., 0., 0.]], dtype=float32))\n",
            "1/1 [==============================] - 0s 49ms/step\n",
            "Загружено: ('sunflowers', array([[0., 0., 0., 1., 0.]], dtype=float32))\n"
          ]
        }
      ]
    },
    {
      "cell_type": "markdown",
      "source": [
        "Задание 3"
      ],
      "metadata": {
        "id": "pmy1JYOn8zvf"
      }
    },
    {
      "cell_type": "code",
      "source": [
        "from sklearn.datasets import fetch_olivetti_faces\n",
        "from sklearn.model_selection import train_test_split\n",
        "\n",
        "data, _ = fetch_olivetti_faces(return_X_y=True)\n",
        "train, test = train_test_split(data, test_size=0.2, random_state=4)"
      ],
      "metadata": {
        "colab": {
          "base_uri": "https://localhost:8080/"
        },
        "id": "HN518wG482qR",
        "outputId": "e9e8ce49-0af1-454e-d0e0-75075e509f2e"
      },
      "execution_count": null,
      "outputs": [
        {
          "output_type": "stream",
          "name": "stdout",
          "text": [
            "downloading Olivetti faces from https://ndownloader.figshare.com/files/5976027 to /root/scikit_learn_data\n"
          ]
        }
      ]
    },
    {
      "cell_type": "code",
      "source": [
        "train.shape"
      ],
      "metadata": {
        "colab": {
          "base_uri": "https://localhost:8080/"
        },
        "id": "4w_l2cKk9KHy",
        "outputId": "b13ce280-dd37-4961-e58a-334a69f47792"
      },
      "execution_count": null,
      "outputs": [
        {
          "output_type": "execute_result",
          "data": {
            "text/plain": [
              "(320, 4096)"
            ]
          },
          "metadata": {},
          "execution_count": 76
        }
      ]
    },
    {
      "cell_type": "code",
      "source": [
        "train = train.reshape((train.shape[0], 64, 64))\n",
        "test = test.reshape((test.shape[0], 64, 64))\n",
        "\n",
        "test.shape"
      ],
      "metadata": {
        "colab": {
          "base_uri": "https://localhost:8080/"
        },
        "id": "gTcy29Nv9Lq6",
        "outputId": "482fdb4d-7977-4b00-ff4a-fcc5a3d054b8"
      },
      "execution_count": null,
      "outputs": [
        {
          "output_type": "execute_result",
          "data": {
            "text/plain": [
              "(80, 64, 64)"
            ]
          },
          "metadata": {},
          "execution_count": 77
        }
      ]
    },
    {
      "cell_type": "code",
      "source": [
        "import matplotlib.pyplot as plt\n",
        "\n",
        "\n",
        "fig, ax = plt.subplots(1, 5, figsize=(15, 10))\n",
        "\n",
        "for i in range(5):\n",
        "    ax[i].imshow(train[i], cmap='gray')\n",
        "    ax[i].axis('off')"
      ],
      "metadata": {
        "colab": {
          "base_uri": "https://localhost:8080/",
          "height": 237
        },
        "id": "-Vv_gPy-9UYg",
        "outputId": "1c2f2f8f-240e-40b4-990c-df771766c55c"
      },
      "execution_count": null,
      "outputs": [
        {
          "output_type": "display_data",
          "data": {
            "text/plain": [
              "<Figure size 1500x1000 with 5 Axes>"
            ],
            "image/png": "[encoded data removed]"
          },
          "metadata": {}
        }
      ]
    },
    {
      "cell_type": "code",
      "source": [
        "n_pixels = train.shape[1]\n",
        "\n",
        "\n",
        "X_train = train[:, :(n_pixels + 1) // 2, :]\n",
        "y_train = train[:, n_pixels // 2:, :]\n",
        "\n",
        "\n",
        "X_test = test[:, :(n_pixels + 1) // 2, :]\n",
        "y_test = test[:, n_pixels // 2:, :]\n",
        "     "
      ],
      "metadata": {
        "id": "SdvoO8Jj9Znb"
      },
      "execution_count": null,
      "outputs": []
    },
    {
      "cell_type": "code",
      "source": [
        "y_train.shape"
      ],
      "metadata": {
        "colab": {
          "base_uri": "https://localhost:8080/"
        },
        "id": "H_HrUkjR-Ewx",
        "outputId": "209bffc3-47a3-4f22-e8c1-21bfb7584d33"
      },
      "execution_count": null,
      "outputs": [
        {
          "output_type": "execute_result",
          "data": {
            "text/plain": [
              "(320, 32, 64)"
            ]
          },
          "metadata": {},
          "execution_count": 81
        }
      ]
    },
    {
      "cell_type": "code",
      "source": [
        "y_test.shape"
      ],
      "metadata": {
        "colab": {
          "base_uri": "https://localhost:8080/"
        },
        "id": "wKHf0Bjw-JJh",
        "outputId": "6db767e4-9696-4d19-f34b-741d9cf9000e"
      },
      "execution_count": null,
      "outputs": [
        {
          "output_type": "execute_result",
          "data": {
            "text/plain": [
              "(80, 32, 64)"
            ]
          },
          "metadata": {},
          "execution_count": 82
        }
      ]
    },
    {
      "cell_type": "code",
      "source": [
        "X_train.shape"
      ],
      "metadata": {
        "colab": {
          "base_uri": "https://localhost:8080/"
        },
        "id": "NVDJiYxm-Od9",
        "outputId": "3a1d5fd5-a27f-4e8a-d2a5-a1bd991a6310"
      },
      "execution_count": null,
      "outputs": [
        {
          "output_type": "execute_result",
          "data": {
            "text/plain": [
              "(320, 32, 64)"
            ]
          },
          "metadata": {},
          "execution_count": 83
        }
      ]
    },
    {
      "cell_type": "code",
      "source": [
        "X_test.shape"
      ],
      "metadata": {
        "colab": {
          "base_uri": "https://localhost:8080/"
        },
        "id": "t87QU0mR-SIq",
        "outputId": "ac86258d-de04-412a-b5df-2f50aad6708b"
      },
      "execution_count": null,
      "outputs": [
        {
          "output_type": "execute_result",
          "data": {
            "text/plain": [
              "(80, 32, 64)"
            ]
          },
          "metadata": {},
          "execution_count": 84
        }
      ]
    },
    {
      "cell_type": "code",
      "source": [
        "import matplotlib.pyplot as plt\n",
        "\n",
        "idx = 0\n",
        "\n",
        "fig, ax = plt.subplots(1, 2, figsize=(15, 8))\n",
        "ax[0].imshow(X_train[idx], cmap='gray')\n",
        "ax[0].set_title('X')\n",
        "ax[1].imshow(y_train[idx], cmap='gray')\n",
        "ax[1].set_title('y')\n",
        "ax[0].axis('off')\n",
        "ax[1].axis('off')\n",
        "\n",
        "plt.show()"
      ],
      "metadata": {
        "colab": {
          "base_uri": "https://localhost:8080/",
          "height": 324
        },
        "id": "SKbU-bB0-Yta",
        "outputId": "a1712375-45a2-4af9-fb89-ae49ee2cd4f8"
      },
      "execution_count": null,
      "outputs": [
        {
          "output_type": "display_data",
          "data": {
            "text/plain": [
              "<Figure size 1500x800 with 2 Axes>"
            ],
            "image/png": "[encoded data removed]"
          },
          "metadata": {}
        }
      ]
    },
    {
      "cell_type": "code",
      "source": [
        "y_train_n = y_train.reshape(y_train.shape[0], 32 * 64)\n",
        "y_test_n = y_test.reshape(y_test.shape[0], 32 * 64)\n",
        "\n",
        "y_test_n.shape"
      ],
      "metadata": {
        "colab": {
          "base_uri": "https://localhost:8080/"
        },
        "id": "TFVwkv1h-eYT",
        "outputId": "4b3d0916-42ce-4bf1-f51e-7239751da809"
      },
      "execution_count": null,
      "outputs": [
        {
          "output_type": "execute_result",
          "data": {
            "text/plain": [
              "(80, 2048)"
            ]
          },
          "metadata": {},
          "execution_count": 86
        }
      ]
    },
    {
      "cell_type": "code",
      "source": [
        "y_train_n[0]"
      ],
      "metadata": {
        "colab": {
          "base_uri": "https://localhost:8080/"
        },
        "id": "3wED9eKq-jKB",
        "outputId": "d3bfe792-76db-48af-9259-8c8a0dd1dab1"
      },
      "execution_count": null,
      "outputs": [
        {
          "output_type": "execute_result",
          "data": {
            "text/plain": [
              "array([0.58264464, 0.677686  , 0.6859504 , ..., 0.45454547, 0.23966943,\n",
              "       0.1983471 ], dtype=float32)"
            ]
          },
          "metadata": {},
          "execution_count": 87
        }
      ]
    },
    {
      "cell_type": "code",
      "source": [
        "y_train_n.shape\n"
      ],
      "metadata": {
        "colab": {
          "base_uri": "https://localhost:8080/"
        },
        "id": "u3SxISOd-pW9",
        "outputId": "89d65543-0db1-4479-d539-047c85740ef0"
      },
      "execution_count": null,
      "outputs": [
        {
          "output_type": "execute_result",
          "data": {
            "text/plain": [
              "(320, 2048)"
            ]
          },
          "metadata": {},
          "execution_count": 88
        }
      ]
    },
    {
      "cell_type": "code",
      "source": [
        "from sklearn.preprocessing import LabelBinarizer\n",
        "from sklearn.model_selection import train_test_split\n",
        "from sklearn.metrics import classification_report\n",
        "from keras.models import Sequential\n",
        "from keras.layers.core import Dense\n",
        "from keras.optimizers import SGD\n",
        "from imutils import paths\n",
        "import matplotlib.pyplot as plt\n",
        "import numpy as np\n",
        "import random\n",
        "import pickle\n",
        "import cv2\n",
        "from google.colab.patches import cv2_imshow\n",
        "import os\n",
        "from plotly.subplots import make_subplots\n",
        "import plotly.graph_objects as go\n",
        "import math\n",
        "import numpy as np\n",
        "from keras.layers import Conv2D, MaxPooling2D, Dense, Flatten,  AveragePooling2D\n",
        " \n",
        "from keras.optimizers import Adam, SGD\n",
        "import matplotlib.pyplot as plt\n",
        "import numpy as np\n",
        "import keras"
      ],
      "metadata": {
        "id": "iJiWZnw3-s8d"
      },
      "execution_count": null,
      "outputs": []
    },
    {
      "cell_type": "code",
      "source": [
        "from keras.layers import Dense, Flatten\n",
        "from keras.models import Sequential\n",
        "\n",
        "\n",
        "model = Sequential([\n",
        "    Flatten(input_shape=(32, 64)),\n",
        "    Dense(1024, activation='relu'),\n",
        "    Dense(1024, activation='relu'),\n",
        "    Dense(32 * 64, activation='linear')\n",
        "])\n",
        "\n",
        "model.summary()"
      ],
      "metadata": {
        "colab": {
          "base_uri": "https://localhost:8080/"
        },
        "id": "6KXEhCi_-yG4",
        "outputId": "5486d4f9-83ac-42ea-f614-e30bd52f9304"
      },
      "execution_count": null,
      "outputs": [
        {
          "output_type": "stream",
          "name": "stdout",
          "text": [
            "Model: \"sequential_6\"\n",
            "_________________________________________________________________\n",
            " Layer (type)                Output Shape              Param #   \n",
            "=================================================================\n",
            " flatten_3 (Flatten)         (None, 2048)              0         \n",
            "                                                                 \n",
            " dense_21 (Dense)            (None, 1024)              2098176   \n",
            "                                                                 \n",
            " dense_22 (Dense)            (None, 1024)              1049600   \n",
            "                                                                 \n",
            " dense_23 (Dense)            (None, 2048)              2099200   \n",
            "                                                                 \n",
            "=================================================================\n",
            "Total params: 5,246,976\n",
            "Trainable params: 5,246,976\n",
            "Non-trainable params: 0\n",
            "_________________________________________________________________\n"
          ]
        }
      ]
    },
    {
      "cell_type": "code",
      "source": [
        "y_train_n"
      ],
      "metadata": {
        "colab": {
          "base_uri": "https://localhost:8080/"
        },
        "id": "p39FkqRg-6LM",
        "outputId": "4862c2e1-5c70-443b-c81e-f4733dca4ac7"
      },
      "execution_count": null,
      "outputs": [
        {
          "output_type": "execute_result",
          "data": {
            "text/plain": [
              "array([[0.58264464, 0.677686  , 0.6859504 , ..., 0.45454547, 0.23966943,\n",
              "        0.1983471 ],\n",
              "       [0.56198347, 0.57438016, 0.58264464, ..., 0.21487603, 0.2107438 ,\n",
              "        0.2231405 ],\n",
              "       [0.607438  , 0.55785125, 0.54545456, ..., 0.30165288, 0.44214877,\n",
              "        0.49586776],\n",
              "       ...,\n",
              "       [0.37603307, 0.38842976, 0.35123968, ..., 0.58677685, 0.59090906,\n",
              "        0.60330576],\n",
              "       [0.6404959 , 0.5247934 , 0.6280992 , ..., 0.2768595 , 0.2892562 ,\n",
              "        0.2603306 ],\n",
              "       [0.6322314 , 0.5371901 , 0.5206612 , ..., 0.46694216, 0.46280992,\n",
              "        0.45454547]], dtype=float32)"
            ]
          },
          "metadata": {},
          "execution_count": 91
        }
      ]
    },
    {
      "cell_type": "code",
      "source": [
        "model.compile(optimizer='adam', loss='mse', metrics='mae')"
      ],
      "metadata": {
        "id": "1IYf09_V-9cj"
      },
      "execution_count": null,
      "outputs": []
    },
    {
      "cell_type": "code",
      "source": [
        "y_train_n"
      ],
      "metadata": {
        "colab": {
          "base_uri": "https://localhost:8080/"
        },
        "id": "OUfEI-jt_C4J",
        "outputId": "29e95201-a211-49b4-ee68-f3e708f705a0"
      },
      "execution_count": null,
      "outputs": [
        {
          "output_type": "execute_result",
          "data": {
            "text/plain": [
              "array([[0.58264464, 0.677686  , 0.6859504 , ..., 0.45454547, 0.23966943,\n",
              "        0.1983471 ],\n",
              "       [0.56198347, 0.57438016, 0.58264464, ..., 0.21487603, 0.2107438 ,\n",
              "        0.2231405 ],\n",
              "       [0.607438  , 0.55785125, 0.54545456, ..., 0.30165288, 0.44214877,\n",
              "        0.49586776],\n",
              "       ...,\n",
              "       [0.37603307, 0.38842976, 0.35123968, ..., 0.58677685, 0.59090906,\n",
              "        0.60330576],\n",
              "       [0.6404959 , 0.5247934 , 0.6280992 , ..., 0.2768595 , 0.2892562 ,\n",
              "        0.2603306 ],\n",
              "       [0.6322314 , 0.5371901 , 0.5206612 , ..., 0.46694216, 0.46280992,\n",
              "        0.45454547]], dtype=float32)"
            ]
          },
          "metadata": {},
          "execution_count": 93
        }
      ]
    },
    {
      "cell_type": "code",
      "source": [
        "model.fit(X_train, y_train_n, epochs=300)"
      ],
      "metadata": {
        "colab": {
          "base_uri": "https://localhost:8080/"
        },
        "id": "R2hOnYoN_G1G",
        "outputId": "c4773b73-0a6d-43fa-d220-7be6b2986460"
      },
      "execution_count": null,
      "outputs": [
        {
          "output_type": "stream",
          "name": "stdout",
          "text": [
            "Epoch 1/300\n",
            "10/10 [==============================] - 5s 186ms/step - loss: 0.1002 - mae: 0.2297\n",
            "Epoch 2/300\n",
            "10/10 [==============================] - 2s 177ms/step - loss: 0.0233 - mae: 0.1209\n",
            "Epoch 3/300\n",
            "10/10 [==============================] - 2s 158ms/step - loss: 0.0193 - mae: 0.1097\n",
            "Epoch 4/300\n",
            "10/10 [==============================] - 2s 179ms/step - loss: 0.0179 - mae: 0.1052\n",
            "Epoch 5/300\n",
            "10/10 [==============================] - 1s 99ms/step - loss: 0.0181 - mae: 0.1061\n",
            "Epoch 6/300\n",
            "10/10 [==============================] - 1s 102ms/step - loss: 0.0165 - mae: 0.1009\n",
            "Epoch 7/300\n",
            "10/10 [==============================] - 1s 112ms/step - loss: 0.0156 - mae: 0.0966\n",
            "Epoch 8/300\n",
            "10/10 [==============================] - 2s 152ms/step - loss: 0.0159 - mae: 0.0987\n",
            "Epoch 9/300\n",
            "10/10 [==============================] - 2s 162ms/step - loss: 0.0151 - mae: 0.0955\n",
            "Epoch 10/300\n",
            "10/10 [==============================] - 1s 142ms/step - loss: 0.0145 - mae: 0.0935\n",
            "Epoch 11/300\n",
            "10/10 [==============================] - 1s 108ms/step - loss: 0.0151 - mae: 0.0950\n",
            "Epoch 12/300\n",
            "10/10 [==============================] - 1s 102ms/step - loss: 0.0154 - mae: 0.0966\n",
            "Epoch 13/300\n",
            "10/10 [==============================] - 1s 104ms/step - loss: 0.0141 - mae: 0.0912\n",
            "Epoch 14/300\n",
            "10/10 [==============================] - 1s 102ms/step - loss: 0.0135 - mae: 0.0897\n",
            "Epoch 15/300\n",
            "10/10 [==============================] - 1s 103ms/step - loss: 0.0133 - mae: 0.0884\n",
            "Epoch 16/300\n",
            "10/10 [==============================] - 1s 104ms/step - loss: 0.0135 - mae: 0.0892\n",
            "Epoch 17/300\n",
            "10/10 [==============================] - 1s 136ms/step - loss: 0.0135 - mae: 0.0896\n",
            "Epoch 18/300\n",
            "10/10 [==============================] - 2s 175ms/step - loss: 0.0133 - mae: 0.0888\n",
            "Epoch 19/300\n",
            "10/10 [==============================] - 2s 230ms/step - loss: 0.0129 - mae: 0.0867\n",
            "Epoch 20/300\n",
            "10/10 [==============================] - 2s 228ms/step - loss: 0.0131 - mae: 0.0876\n",
            "Epoch 21/300\n",
            "10/10 [==============================] - 2s 189ms/step - loss: 0.0138 - mae: 0.0911\n",
            "Epoch 22/300\n",
            "10/10 [==============================] - 2s 162ms/step - loss: 0.0127 - mae: 0.0863\n",
            "Epoch 23/300\n",
            "10/10 [==============================] - 1s 142ms/step - loss: 0.0127 - mae: 0.0862\n",
            "Epoch 24/300\n",
            "10/10 [==============================] - 2s 148ms/step - loss: 0.0127 - mae: 0.0866\n",
            "Epoch 25/300\n",
            "10/10 [==============================] - 2s 184ms/step - loss: 0.0131 - mae: 0.0884\n",
            "Epoch 26/300\n",
            "10/10 [==============================] - 1s 103ms/step - loss: 0.0128 - mae: 0.0871\n",
            "Epoch 27/300\n",
            "10/10 [==============================] - 1s 102ms/step - loss: 0.0124 - mae: 0.0850\n",
            "Epoch 28/300\n",
            "10/10 [==============================] - 1s 124ms/step - loss: 0.0118 - mae: 0.0830\n",
            "Epoch 29/300\n",
            "10/10 [==============================] - 2s 165ms/step - loss: 0.0119 - mae: 0.0836\n",
            "Epoch 30/300\n",
            "10/10 [==============================] - 2s 151ms/step - loss: 0.0122 - mae: 0.0845\n",
            "Epoch 31/300\n",
            "10/10 [==============================] - 1s 129ms/step - loss: 0.0114 - mae: 0.0814\n",
            "Epoch 32/300\n",
            "10/10 [==============================] - 2s 186ms/step - loss: 0.0127 - mae: 0.0877\n",
            "Epoch 33/300\n",
            "10/10 [==============================] - 2s 156ms/step - loss: 0.0126 - mae: 0.0867\n",
            "Epoch 34/300\n",
            "10/10 [==============================] - 1s 146ms/step - loss: 0.0116 - mae: 0.0826\n",
            "Epoch 35/300\n",
            "10/10 [==============================] - 2s 172ms/step - loss: 0.0120 - mae: 0.0839\n",
            "Epoch 36/300\n",
            "10/10 [==============================] - 2s 155ms/step - loss: 0.0111 - mae: 0.0804\n",
            "Epoch 37/300\n",
            "10/10 [==============================] - 2s 153ms/step - loss: 0.0106 - mae: 0.0783\n",
            "Epoch 38/300\n",
            "10/10 [==============================] - 2s 229ms/step - loss: 0.0107 - mae: 0.0788\n",
            "Epoch 39/300\n",
            "10/10 [==============================] - 3s 266ms/step - loss: 0.0109 - mae: 0.0791\n",
            "Epoch 40/300\n",
            "10/10 [==============================] - 1s 103ms/step - loss: 0.0107 - mae: 0.0784\n",
            "Epoch 41/300\n",
            "10/10 [==============================] - 1s 103ms/step - loss: 0.0122 - mae: 0.0856\n",
            "Epoch 42/300\n",
            "10/10 [==============================] - 1s 104ms/step - loss: 0.0120 - mae: 0.0846\n",
            "Epoch 43/300\n",
            "10/10 [==============================] - 1s 105ms/step - loss: 0.0106 - mae: 0.0783\n",
            "Epoch 44/300\n",
            "10/10 [==============================] - 1s 102ms/step - loss: 0.0106 - mae: 0.0788\n",
            "Epoch 45/300\n",
            "10/10 [==============================] - 1s 103ms/step - loss: 0.0106 - mae: 0.0780\n",
            "Epoch 46/300\n",
            "10/10 [==============================] - 1s 101ms/step - loss: 0.0108 - mae: 0.0791\n",
            "Epoch 47/300\n",
            "10/10 [==============================] - 1s 103ms/step - loss: 0.0110 - mae: 0.0804\n",
            "Epoch 48/300\n",
            "10/10 [==============================] - 2s 169ms/step - loss: 0.0103 - mae: 0.0774\n",
            "Epoch 49/300\n",
            "10/10 [==============================] - 2s 235ms/step - loss: 0.0097 - mae: 0.0743\n",
            "Epoch 50/300\n",
            "10/10 [==============================] - 3s 268ms/step - loss: 0.0105 - mae: 0.0785\n",
            "Epoch 51/300\n",
            "10/10 [==============================] - 2s 164ms/step - loss: 0.0105 - mae: 0.0781\n",
            "Epoch 52/300\n",
            "10/10 [==============================] - 2s 162ms/step - loss: 0.0098 - mae: 0.0748\n",
            "Epoch 53/300\n",
            "10/10 [==============================] - 2s 152ms/step - loss: 0.0096 - mae: 0.0739\n",
            "Epoch 54/300\n",
            "10/10 [==============================] - 2s 190ms/step - loss: 0.0096 - mae: 0.0740\n",
            "Epoch 55/300\n",
            "10/10 [==============================] - 1s 106ms/step - loss: 0.0095 - mae: 0.0739\n",
            "Epoch 56/300\n",
            "10/10 [==============================] - 1s 105ms/step - loss: 0.0096 - mae: 0.0746\n",
            "Epoch 57/300\n",
            "10/10 [==============================] - 1s 105ms/step - loss: 0.0093 - mae: 0.0729\n",
            "Epoch 58/300\n",
            "10/10 [==============================] - 1s 137ms/step - loss: 0.0091 - mae: 0.0722\n",
            "Epoch 59/300\n",
            "10/10 [==============================] - 2s 164ms/step - loss: 0.0092 - mae: 0.0723\n",
            "Epoch 60/300\n",
            "10/10 [==============================] - 2s 224ms/step - loss: 0.0093 - mae: 0.0729\n",
            "Epoch 61/300\n",
            "10/10 [==============================] - 2s 156ms/step - loss: 0.0091 - mae: 0.0726\n",
            "Epoch 62/300\n",
            "10/10 [==============================] - 2s 161ms/step - loss: 0.0097 - mae: 0.0750\n",
            "Epoch 63/300\n",
            "10/10 [==============================] - 2s 165ms/step - loss: 0.0090 - mae: 0.0719\n",
            "Epoch 64/300\n",
            "10/10 [==============================] - 2s 156ms/step - loss: 0.0090 - mae: 0.0721\n",
            "Epoch 65/300\n",
            "10/10 [==============================] - 2s 152ms/step - loss: 0.0090 - mae: 0.0720\n",
            "Epoch 66/300\n",
            "10/10 [==============================] - 1s 102ms/step - loss: 0.0093 - mae: 0.0740\n",
            "Epoch 67/300\n",
            "10/10 [==============================] - 1s 107ms/step - loss: 0.0088 - mae: 0.0712\n",
            "Epoch 68/300\n",
            "10/10 [==============================] - 1s 150ms/step - loss: 0.0084 - mae: 0.0690\n",
            "Epoch 69/300\n",
            "10/10 [==============================] - 2s 158ms/step - loss: 0.0087 - mae: 0.0706\n",
            "Epoch 70/300\n",
            "10/10 [==============================] - 2s 198ms/step - loss: 0.0083 - mae: 0.0688\n",
            "Epoch 71/300\n",
            "10/10 [==============================] - 2s 156ms/step - loss: 0.0087 - mae: 0.0707\n",
            "Epoch 72/300\n",
            "10/10 [==============================] - 2s 158ms/step - loss: 0.0086 - mae: 0.0701\n",
            "Epoch 73/300\n",
            "10/10 [==============================] - 1s 143ms/step - loss: 0.0086 - mae: 0.0699\n",
            "Epoch 74/300\n",
            "10/10 [==============================] - 2s 177ms/step - loss: 0.0081 - mae: 0.0677\n",
            "Epoch 75/300\n",
            "10/10 [==============================] - 1s 104ms/step - loss: 0.0081 - mae: 0.0677\n",
            "Epoch 76/300\n",
            "10/10 [==============================] - 1s 104ms/step - loss: 0.0080 - mae: 0.0677\n",
            "Epoch 77/300\n",
            "10/10 [==============================] - 1s 99ms/step - loss: 0.0080 - mae: 0.0673\n",
            "Epoch 78/300\n",
            "10/10 [==============================] - 1s 140ms/step - loss: 0.0084 - mae: 0.0691\n",
            "Epoch 79/300\n",
            "10/10 [==============================] - 1s 148ms/step - loss: 0.0081 - mae: 0.0678\n",
            "Epoch 80/300\n",
            "10/10 [==============================] - 1s 151ms/step - loss: 0.0080 - mae: 0.0673\n",
            "Epoch 81/300\n",
            "10/10 [==============================] - 1s 120ms/step - loss: 0.0081 - mae: 0.0683\n",
            "Epoch 82/300\n",
            "10/10 [==============================] - 1s 103ms/step - loss: 0.0087 - mae: 0.0711\n",
            "Epoch 83/300\n",
            "10/10 [==============================] - 1s 101ms/step - loss: 0.0079 - mae: 0.0669\n",
            "Epoch 84/300\n",
            "10/10 [==============================] - 1s 100ms/step - loss: 0.0077 - mae: 0.0660\n",
            "Epoch 85/300\n",
            "10/10 [==============================] - 1s 105ms/step - loss: 0.0083 - mae: 0.0693\n",
            "Epoch 86/300\n",
            "10/10 [==============================] - 1s 103ms/step - loss: 0.0074 - mae: 0.0646\n",
            "Epoch 87/300\n",
            "10/10 [==============================] - 1s 103ms/step - loss: 0.0077 - mae: 0.0663\n",
            "Epoch 88/300\n",
            "10/10 [==============================] - 1s 105ms/step - loss: 0.0070 - mae: 0.0629\n",
            "Epoch 89/300\n",
            "10/10 [==============================] - 1s 101ms/step - loss: 0.0069 - mae: 0.0622\n",
            "Epoch 90/300\n",
            "10/10 [==============================] - 1s 102ms/step - loss: 0.0068 - mae: 0.0618\n",
            "Epoch 91/300\n",
            "10/10 [==============================] - 1s 147ms/step - loss: 0.0070 - mae: 0.0630\n",
            "Epoch 92/300\n",
            "10/10 [==============================] - 2s 150ms/step - loss: 0.0076 - mae: 0.0656\n",
            "Epoch 93/300\n",
            "10/10 [==============================] - 2s 164ms/step - loss: 0.0078 - mae: 0.0672\n",
            "Epoch 94/300\n",
            "10/10 [==============================] - 1s 107ms/step - loss: 0.0071 - mae: 0.0631\n",
            "Epoch 95/300\n",
            "10/10 [==============================] - 1s 104ms/step - loss: 0.0070 - mae: 0.0629\n",
            "Epoch 96/300\n",
            "10/10 [==============================] - 1s 101ms/step - loss: 0.0073 - mae: 0.0644\n",
            "Epoch 97/300\n",
            "10/10 [==============================] - 1s 104ms/step - loss: 0.0068 - mae: 0.0619\n",
            "Epoch 98/300\n",
            "10/10 [==============================] - 1s 103ms/step - loss: 0.0068 - mae: 0.0619\n",
            "Epoch 99/300\n",
            "10/10 [==============================] - 1s 102ms/step - loss: 0.0069 - mae: 0.0623\n",
            "Epoch 100/300\n",
            "10/10 [==============================] - 1s 101ms/step - loss: 0.0077 - mae: 0.0667\n",
            "Epoch 101/300\n",
            "10/10 [==============================] - 1s 103ms/step - loss: 0.0074 - mae: 0.0652\n",
            "Epoch 102/300\n",
            "10/10 [==============================] - 1s 103ms/step - loss: 0.0070 - mae: 0.0627\n",
            "Epoch 103/300\n",
            "10/10 [==============================] - 1s 118ms/step - loss: 0.0069 - mae: 0.0626\n",
            "Epoch 104/300\n",
            "10/10 [==============================] - 2s 243ms/step - loss: 0.0068 - mae: 0.0619\n",
            "Epoch 105/300\n",
            "10/10 [==============================] - 2s 227ms/step - loss: 0.0065 - mae: 0.0607\n",
            "Epoch 106/300\n",
            "10/10 [==============================] - 2s 174ms/step - loss: 0.0062 - mae: 0.0587\n",
            "Epoch 107/300\n",
            "10/10 [==============================] - 2s 164ms/step - loss: 0.0061 - mae: 0.0581\n",
            "Epoch 108/300\n",
            "10/10 [==============================] - 1s 149ms/step - loss: 0.0063 - mae: 0.0594\n",
            "Epoch 109/300\n",
            "10/10 [==============================] - 1s 147ms/step - loss: 0.0063 - mae: 0.0591\n",
            "Epoch 110/300\n",
            "10/10 [==============================] - 2s 214ms/step - loss: 0.0062 - mae: 0.0588\n",
            "Epoch 111/300\n",
            "10/10 [==============================] - 2s 198ms/step - loss: 0.0059 - mae: 0.0571\n",
            "Epoch 112/300\n",
            "10/10 [==============================] - 2s 228ms/step - loss: 0.0059 - mae: 0.0573\n",
            "Epoch 113/300\n",
            "10/10 [==============================] - 3s 250ms/step - loss: 0.0062 - mae: 0.0593\n",
            "Epoch 114/300\n",
            "10/10 [==============================] - 2s 232ms/step - loss: 0.0060 - mae: 0.0574\n",
            "Epoch 115/300\n",
            "10/10 [==============================] - 2s 178ms/step - loss: 0.0059 - mae: 0.0573\n",
            "Epoch 116/300\n",
            "10/10 [==============================] - 2s 169ms/step - loss: 0.0059 - mae: 0.0572\n",
            "Epoch 117/300\n",
            "10/10 [==============================] - 2s 177ms/step - loss: 0.0057 - mae: 0.0560\n",
            "Epoch 118/300\n",
            "10/10 [==============================] - 2s 185ms/step - loss: 0.0058 - mae: 0.0568\n",
            "Epoch 119/300\n",
            "10/10 [==============================] - 3s 258ms/step - loss: 0.0059 - mae: 0.0575\n",
            "Epoch 120/300\n",
            "10/10 [==============================] - 2s 238ms/step - loss: 0.0059 - mae: 0.0575\n",
            "Epoch 121/300\n",
            "10/10 [==============================] - 2s 174ms/step - loss: 0.0060 - mae: 0.0582\n",
            "Epoch 122/300\n",
            "10/10 [==============================] - 1s 152ms/step - loss: 0.0060 - mae: 0.0581\n",
            "Epoch 123/300\n",
            "10/10 [==============================] - 1s 103ms/step - loss: 0.0058 - mae: 0.0569\n",
            "Epoch 124/300\n",
            "10/10 [==============================] - 1s 102ms/step - loss: 0.0056 - mae: 0.0553\n",
            "Epoch 125/300\n",
            "10/10 [==============================] - 1s 105ms/step - loss: 0.0055 - mae: 0.0552\n",
            "Epoch 126/300\n",
            "10/10 [==============================] - 1s 104ms/step - loss: 0.0055 - mae: 0.0551\n",
            "Epoch 127/300\n",
            "10/10 [==============================] - 1s 105ms/step - loss: 0.0058 - mae: 0.0572\n",
            "Epoch 128/300\n",
            "10/10 [==============================] - 1s 103ms/step - loss: 0.0063 - mae: 0.0598\n",
            "Epoch 129/300\n",
            "10/10 [==============================] - 1s 112ms/step - loss: 0.0064 - mae: 0.0602\n",
            "Epoch 130/300\n",
            "10/10 [==============================] - 1s 146ms/step - loss: 0.0058 - mae: 0.0571\n",
            "Epoch 131/300\n",
            "10/10 [==============================] - 1s 146ms/step - loss: 0.0052 - mae: 0.0537\n",
            "Epoch 132/300\n",
            "10/10 [==============================] - 2s 153ms/step - loss: 0.0052 - mae: 0.0534\n",
            "Epoch 133/300\n",
            "10/10 [==============================] - 1s 109ms/step - loss: 0.0053 - mae: 0.0544\n",
            "Epoch 134/300\n",
            "10/10 [==============================] - 1s 108ms/step - loss: 0.0053 - mae: 0.0537\n",
            "Epoch 135/300\n",
            "10/10 [==============================] - 1s 103ms/step - loss: 0.0051 - mae: 0.0527\n",
            "Epoch 136/300\n",
            "10/10 [==============================] - 1s 107ms/step - loss: 0.0052 - mae: 0.0538\n",
            "Epoch 137/300\n",
            "10/10 [==============================] - 1s 103ms/step - loss: 0.0051 - mae: 0.0531\n",
            "Epoch 138/300\n",
            "10/10 [==============================] - 1s 106ms/step - loss: 0.0049 - mae: 0.0515\n",
            "Epoch 139/300\n",
            "10/10 [==============================] - 1s 103ms/step - loss: 0.0048 - mae: 0.0512\n",
            "Epoch 140/300\n",
            "10/10 [==============================] - 1s 105ms/step - loss: 0.0048 - mae: 0.0515\n",
            "Epoch 141/300\n",
            "10/10 [==============================] - 1s 104ms/step - loss: 0.0054 - mae: 0.0551\n",
            "Epoch 142/300\n",
            "10/10 [==============================] - 1s 138ms/step - loss: 0.0056 - mae: 0.0563\n",
            "Epoch 143/300\n",
            "10/10 [==============================] - 2s 154ms/step - loss: 0.0053 - mae: 0.0542\n",
            "Epoch 144/300\n",
            "10/10 [==============================] - 2s 152ms/step - loss: 0.0052 - mae: 0.0540\n",
            "Epoch 145/300\n",
            "10/10 [==============================] - 1s 125ms/step - loss: 0.0054 - mae: 0.0551\n",
            "Epoch 146/300\n",
            "10/10 [==============================] - 1s 105ms/step - loss: 0.0053 - mae: 0.0542\n",
            "Epoch 147/300\n",
            "10/10 [==============================] - 1s 106ms/step - loss: 0.0052 - mae: 0.0539\n",
            "Epoch 148/300\n",
            "10/10 [==============================] - 1s 103ms/step - loss: 0.0049 - mae: 0.0515\n",
            "Epoch 149/300\n",
            "10/10 [==============================] - 1s 102ms/step - loss: 0.0047 - mae: 0.0507\n",
            "Epoch 150/300\n",
            "10/10 [==============================] - 1s 102ms/step - loss: 0.0045 - mae: 0.0494\n",
            "Epoch 151/300\n",
            "10/10 [==============================] - 1s 103ms/step - loss: 0.0044 - mae: 0.0486\n",
            "Epoch 152/300\n",
            "10/10 [==============================] - 1s 102ms/step - loss: 0.0045 - mae: 0.0493\n",
            "Epoch 153/300\n",
            "10/10 [==============================] - 1s 106ms/step - loss: 0.0046 - mae: 0.0498\n",
            "Epoch 154/300\n",
            "10/10 [==============================] - 1s 103ms/step - loss: 0.0044 - mae: 0.0486\n",
            "Epoch 155/300\n",
            "10/10 [==============================] - 1s 147ms/step - loss: 0.0047 - mae: 0.0514\n",
            "Epoch 156/300\n",
            "10/10 [==============================] - 1s 147ms/step - loss: 0.0047 - mae: 0.0508\n",
            "Epoch 157/300\n",
            "10/10 [==============================] - 1s 149ms/step - loss: 0.0046 - mae: 0.0499\n",
            "Epoch 158/300\n",
            "10/10 [==============================] - 1s 105ms/step - loss: 0.0044 - mae: 0.0491\n",
            "Epoch 159/300\n",
            "10/10 [==============================] - 1s 112ms/step - loss: 0.0045 - mae: 0.0496\n",
            "Epoch 160/300\n",
            "10/10 [==============================] - 1s 101ms/step - loss: 0.0044 - mae: 0.0491\n",
            "Epoch 161/300\n",
            "10/10 [==============================] - 1s 99ms/step - loss: 0.0043 - mae: 0.0483\n",
            "Epoch 162/300\n",
            "10/10 [==============================] - 1s 103ms/step - loss: 0.0041 - mae: 0.0469\n",
            "Epoch 163/300\n",
            "10/10 [==============================] - 1s 105ms/step - loss: 0.0042 - mae: 0.0476\n",
            "Epoch 164/300\n",
            "10/10 [==============================] - 1s 105ms/step - loss: 0.0042 - mae: 0.0478\n",
            "Epoch 165/300\n",
            "10/10 [==============================] - 1s 104ms/step - loss: 0.0044 - mae: 0.0490\n",
            "Epoch 166/300\n",
            "10/10 [==============================] - 1s 104ms/step - loss: 0.0042 - mae: 0.0477\n",
            "Epoch 167/300\n",
            "10/10 [==============================] - 1s 119ms/step - loss: 0.0042 - mae: 0.0480\n",
            "Epoch 168/300\n",
            "10/10 [==============================] - 1s 148ms/step - loss: 0.0042 - mae: 0.0480\n",
            "Epoch 169/300\n",
            "10/10 [==============================] - 1s 148ms/step - loss: 0.0043 - mae: 0.0486\n",
            "Epoch 170/300\n",
            "10/10 [==============================] - 1s 139ms/step - loss: 0.0043 - mae: 0.0483\n",
            "Epoch 171/300\n",
            "10/10 [==============================] - 1s 105ms/step - loss: 0.0043 - mae: 0.0487\n",
            "Epoch 172/300\n",
            "10/10 [==============================] - 1s 103ms/step - loss: 0.0042 - mae: 0.0478\n",
            "Epoch 173/300\n",
            "10/10 [==============================] - 1s 105ms/step - loss: 0.0042 - mae: 0.0474\n",
            "Epoch 174/300\n",
            "10/10 [==============================] - 1s 102ms/step - loss: 0.0042 - mae: 0.0480\n",
            "Epoch 175/300\n",
            "10/10 [==============================] - 1s 102ms/step - loss: 0.0043 - mae: 0.0487\n",
            "Epoch 176/300\n",
            "10/10 [==============================] - 1s 105ms/step - loss: 0.0040 - mae: 0.0466\n",
            "Epoch 177/300\n",
            "10/10 [==============================] - 1s 104ms/step - loss: 0.0038 - mae: 0.0454\n",
            "Epoch 178/300\n",
            "10/10 [==============================] - 1s 100ms/step - loss: 0.0040 - mae: 0.0463\n",
            "Epoch 179/300\n",
            "10/10 [==============================] - 1s 100ms/step - loss: 0.0040 - mae: 0.0464\n",
            "Epoch 180/300\n",
            "10/10 [==============================] - 1s 131ms/step - loss: 0.0039 - mae: 0.0458\n",
            "Epoch 181/300\n",
            "10/10 [==============================] - 1s 145ms/step - loss: 0.0043 - mae: 0.0490\n",
            "Epoch 182/300\n",
            "10/10 [==============================] - 1s 144ms/step - loss: 0.0043 - mae: 0.0487\n",
            "Epoch 183/300\n",
            "10/10 [==============================] - 1s 125ms/step - loss: 0.0041 - mae: 0.0474\n",
            "Epoch 184/300\n",
            "10/10 [==============================] - 1s 108ms/step - loss: 0.0038 - mae: 0.0455\n",
            "Epoch 185/300\n",
            "10/10 [==============================] - 1s 108ms/step - loss: 0.0038 - mae: 0.0450\n",
            "Epoch 186/300\n",
            "10/10 [==============================] - 1s 108ms/step - loss: 0.0038 - mae: 0.0449\n",
            "Epoch 187/300\n",
            "10/10 [==============================] - 1s 104ms/step - loss: 0.0038 - mae: 0.0452\n",
            "Epoch 188/300\n",
            "10/10 [==============================] - 1s 103ms/step - loss: 0.0038 - mae: 0.0455\n",
            "Epoch 189/300\n",
            "10/10 [==============================] - 1s 104ms/step - loss: 0.0039 - mae: 0.0464\n",
            "Epoch 190/300\n",
            "10/10 [==============================] - 1s 104ms/step - loss: 0.0038 - mae: 0.0456\n",
            "Epoch 191/300\n",
            "10/10 [==============================] - 1s 104ms/step - loss: 0.0038 - mae: 0.0458\n",
            "Epoch 192/300\n",
            "10/10 [==============================] - 1s 105ms/step - loss: 0.0037 - mae: 0.0449\n",
            "Epoch 193/300\n",
            "10/10 [==============================] - 1s 141ms/step - loss: 0.0038 - mae: 0.0453\n",
            "Epoch 194/300\n",
            "10/10 [==============================] - 1s 148ms/step - loss: 0.0042 - mae: 0.0487\n",
            "Epoch 195/300\n",
            "10/10 [==============================] - 2s 154ms/step - loss: 0.0044 - mae: 0.0499\n",
            "Epoch 196/300\n",
            "10/10 [==============================] - 1s 113ms/step - loss: 0.0041 - mae: 0.0477\n",
            "Epoch 197/300\n",
            "10/10 [==============================] - 1s 108ms/step - loss: 0.0037 - mae: 0.0451\n",
            "Epoch 198/300\n",
            "10/10 [==============================] - 1s 107ms/step - loss: 0.0035 - mae: 0.0432\n",
            "Epoch 199/300\n",
            "10/10 [==============================] - 2s 176ms/step - loss: 0.0035 - mae: 0.0437\n",
            "Epoch 200/300\n",
            "10/10 [==============================] - 1s 103ms/step - loss: 0.0035 - mae: 0.0437\n",
            "Epoch 201/300\n",
            "10/10 [==============================] - 1s 103ms/step - loss: 0.0037 - mae: 0.0447\n",
            "Epoch 202/300\n",
            "10/10 [==============================] - 1s 100ms/step - loss: 0.0035 - mae: 0.0434\n",
            "Epoch 203/300\n",
            "10/10 [==============================] - 1s 102ms/step - loss: 0.0036 - mae: 0.0443\n",
            "Epoch 204/300\n",
            "10/10 [==============================] - 1s 102ms/step - loss: 0.0036 - mae: 0.0444\n",
            "Epoch 205/300\n",
            "10/10 [==============================] - 1s 149ms/step - loss: 0.0034 - mae: 0.0426\n",
            "Epoch 206/300\n",
            "10/10 [==============================] - 2s 156ms/step - loss: 0.0032 - mae: 0.0416\n",
            "Epoch 207/300\n",
            "10/10 [==============================] - 1s 151ms/step - loss: 0.0032 - mae: 0.0413\n",
            "Epoch 208/300\n",
            "10/10 [==============================] - 1s 107ms/step - loss: 0.0032 - mae: 0.0411\n",
            "Epoch 209/300\n",
            "10/10 [==============================] - 1s 101ms/step - loss: 0.0032 - mae: 0.0414\n",
            "Epoch 210/300\n",
            "10/10 [==============================] - 1s 105ms/step - loss: 0.0034 - mae: 0.0426\n",
            "Epoch 211/300\n",
            "10/10 [==============================] - 1s 105ms/step - loss: 0.0034 - mae: 0.0427\n",
            "Epoch 212/300\n",
            "10/10 [==============================] - 1s 102ms/step - loss: 0.0035 - mae: 0.0439\n",
            "Epoch 213/300\n",
            "10/10 [==============================] - 1s 104ms/step - loss: 0.0036 - mae: 0.0446\n",
            "Epoch 214/300\n",
            "10/10 [==============================] - 1s 103ms/step - loss: 0.0036 - mae: 0.0445\n",
            "Epoch 215/300\n",
            "10/10 [==============================] - 1s 105ms/step - loss: 0.0036 - mae: 0.0443\n",
            "Epoch 216/300\n",
            "10/10 [==============================] - 1s 102ms/step - loss: 0.0036 - mae: 0.0445\n",
            "Epoch 217/300\n",
            "10/10 [==============================] - 1s 110ms/step - loss: 0.0035 - mae: 0.0440\n",
            "Epoch 218/300\n",
            "10/10 [==============================] - 2s 151ms/step - loss: 0.0037 - mae: 0.0452\n",
            "Epoch 219/300\n",
            "10/10 [==============================] - 1s 147ms/step - loss: 0.0036 - mae: 0.0450\n",
            "Epoch 220/300\n",
            "10/10 [==============================] - 1s 147ms/step - loss: 0.0034 - mae: 0.0431\n",
            "Epoch 221/300\n",
            "10/10 [==============================] - 1s 106ms/step - loss: 0.0037 - mae: 0.0454\n",
            "Epoch 222/300\n",
            "10/10 [==============================] - 1s 107ms/step - loss: 0.0035 - mae: 0.0442\n",
            "Epoch 223/300\n",
            "10/10 [==============================] - 1s 108ms/step - loss: 0.0032 - mae: 0.0419\n",
            "Epoch 224/300\n",
            "10/10 [==============================] - 1s 106ms/step - loss: 0.0034 - mae: 0.0431\n",
            "Epoch 225/300\n",
            "10/10 [==============================] - 1s 104ms/step - loss: 0.0035 - mae: 0.0439\n",
            "Epoch 226/300\n",
            "10/10 [==============================] - 1s 104ms/step - loss: 0.0036 - mae: 0.0447\n",
            "Epoch 227/300\n",
            "10/10 [==============================] - 1s 105ms/step - loss: 0.0032 - mae: 0.0419\n",
            "Epoch 228/300\n",
            "10/10 [==============================] - 2s 174ms/step - loss: 0.0030 - mae: 0.0405\n",
            "Epoch 229/300\n",
            "10/10 [==============================] - 2s 230ms/step - loss: 0.0031 - mae: 0.0406\n",
            "Epoch 230/300\n",
            "10/10 [==============================] - 1s 146ms/step - loss: 0.0031 - mae: 0.0412\n",
            "Epoch 231/300\n",
            "10/10 [==============================] - 1s 151ms/step - loss: 0.0034 - mae: 0.0435\n",
            "Epoch 232/300\n",
            "10/10 [==============================] - 1s 113ms/step - loss: 0.0031 - mae: 0.0412\n",
            "Epoch 233/300\n",
            "10/10 [==============================] - 1s 101ms/step - loss: 0.0032 - mae: 0.0416\n",
            "Epoch 234/300\n",
            "10/10 [==============================] - 1s 102ms/step - loss: 0.0031 - mae: 0.0416\n",
            "Epoch 235/300\n",
            "10/10 [==============================] - 1s 106ms/step - loss: 0.0031 - mae: 0.0412\n",
            "Epoch 236/300\n",
            "10/10 [==============================] - 1s 107ms/step - loss: 0.0030 - mae: 0.0404\n",
            "Epoch 237/300\n",
            "10/10 [==============================] - 1s 104ms/step - loss: 0.0029 - mae: 0.0395\n",
            "Epoch 238/300\n",
            "10/10 [==============================] - 1s 107ms/step - loss: 0.0029 - mae: 0.0396\n",
            "Epoch 239/300\n",
            "10/10 [==============================] - 1s 104ms/step - loss: 0.0031 - mae: 0.0408\n",
            "Epoch 240/300\n",
            "10/10 [==============================] - 1s 106ms/step - loss: 0.0028 - mae: 0.0389\n",
            "Epoch 241/300\n",
            "10/10 [==============================] - 1s 114ms/step - loss: 0.0027 - mae: 0.0381\n",
            "Epoch 242/300\n",
            "10/10 [==============================] - 2s 156ms/step - loss: 0.0027 - mae: 0.0379\n",
            "Epoch 243/300\n",
            "10/10 [==============================] - 2s 153ms/step - loss: 0.0027 - mae: 0.0381\n",
            "Epoch 244/300\n",
            "10/10 [==============================] - 1s 147ms/step - loss: 0.0028 - mae: 0.0390\n",
            "Epoch 245/300\n",
            "10/10 [==============================] - 1s 105ms/step - loss: 0.0028 - mae: 0.0388\n",
            "Epoch 246/300\n",
            "10/10 [==============================] - 1s 108ms/step - loss: 0.0030 - mae: 0.0407\n",
            "Epoch 247/300\n",
            "10/10 [==============================] - 1s 106ms/step - loss: 0.0029 - mae: 0.0400\n",
            "Epoch 248/300\n",
            "10/10 [==============================] - 1s 109ms/step - loss: 0.0029 - mae: 0.0398\n",
            "Epoch 249/300\n",
            "10/10 [==============================] - 1s 105ms/step - loss: 0.0030 - mae: 0.0403\n",
            "Epoch 250/300\n",
            "10/10 [==============================] - 1s 103ms/step - loss: 0.0030 - mae: 0.0403\n",
            "Epoch 251/300\n",
            "10/10 [==============================] - 1s 102ms/step - loss: 0.0029 - mae: 0.0394\n",
            "Epoch 252/300\n",
            "10/10 [==============================] - 1s 101ms/step - loss: 0.0028 - mae: 0.0387\n",
            "Epoch 253/300\n",
            "10/10 [==============================] - 1s 104ms/step - loss: 0.0026 - mae: 0.0373\n",
            "Epoch 254/300\n",
            "10/10 [==============================] - 1s 127ms/step - loss: 0.0026 - mae: 0.0374\n",
            "Epoch 255/300\n",
            "10/10 [==============================] - 1s 148ms/step - loss: 0.0025 - mae: 0.0369\n",
            "Epoch 256/300\n",
            "10/10 [==============================] - 1s 149ms/step - loss: 0.0025 - mae: 0.0366\n",
            "Epoch 257/300\n",
            "10/10 [==============================] - 1s 132ms/step - loss: 0.0025 - mae: 0.0362\n",
            "Epoch 258/300\n",
            "10/10 [==============================] - 1s 107ms/step - loss: 0.0025 - mae: 0.0364\n",
            "Epoch 259/300\n",
            "10/10 [==============================] - 1s 105ms/step - loss: 0.0026 - mae: 0.0372\n",
            "Epoch 260/300\n",
            "10/10 [==============================] - 1s 105ms/step - loss: 0.0026 - mae: 0.0376\n",
            "Epoch 261/300\n",
            "10/10 [==============================] - 1s 102ms/step - loss: 0.0027 - mae: 0.0383\n",
            "Epoch 262/300\n",
            "10/10 [==============================] - 1s 105ms/step - loss: 0.0026 - mae: 0.0377\n",
            "Epoch 263/300\n",
            "10/10 [==============================] - 1s 107ms/step - loss: 0.0026 - mae: 0.0371\n",
            "Epoch 264/300\n",
            "10/10 [==============================] - 1s 104ms/step - loss: 0.0025 - mae: 0.0364\n",
            "Epoch 265/300\n",
            "10/10 [==============================] - 1s 105ms/step - loss: 0.0025 - mae: 0.0364\n",
            "Epoch 266/300\n",
            "10/10 [==============================] - 1s 105ms/step - loss: 0.0025 - mae: 0.0363\n",
            "Epoch 267/300\n",
            "10/10 [==============================] - 1s 151ms/step - loss: 0.0025 - mae: 0.0365\n",
            "Epoch 268/300\n",
            "10/10 [==============================] - 1s 147ms/step - loss: 0.0024 - mae: 0.0357\n",
            "Epoch 269/300\n",
            "10/10 [==============================] - 1s 146ms/step - loss: 0.0024 - mae: 0.0361\n",
            "Epoch 270/300\n",
            "10/10 [==============================] - 1s 113ms/step - loss: 0.0026 - mae: 0.0375\n",
            "Epoch 271/300\n",
            "10/10 [==============================] - 1s 107ms/step - loss: 0.0025 - mae: 0.0368\n",
            "Epoch 272/300\n",
            "10/10 [==============================] - 1s 102ms/step - loss: 0.0025 - mae: 0.0370\n",
            "Epoch 273/300\n",
            "10/10 [==============================] - 1s 104ms/step - loss: 0.0023 - mae: 0.0354\n",
            "Epoch 274/300\n",
            "10/10 [==============================] - 1s 102ms/step - loss: 0.0023 - mae: 0.0355\n",
            "Epoch 275/300\n",
            "10/10 [==============================] - 1s 106ms/step - loss: 0.0024 - mae: 0.0356\n",
            "Epoch 276/300\n",
            "10/10 [==============================] - 1s 102ms/step - loss: 0.0024 - mae: 0.0353\n",
            "Epoch 277/300\n",
            "10/10 [==============================] - 1s 105ms/step - loss: 0.0023 - mae: 0.0353\n",
            "Epoch 278/300\n",
            "10/10 [==============================] - 1s 100ms/step - loss: 0.0023 - mae: 0.0353\n",
            "Epoch 279/300\n",
            "10/10 [==============================] - 1s 113ms/step - loss: 0.0023 - mae: 0.0350\n",
            "Epoch 280/300\n",
            "10/10 [==============================] - 1s 148ms/step - loss: 0.0024 - mae: 0.0363\n",
            "Epoch 281/300\n",
            "10/10 [==============================] - 1s 145ms/step - loss: 0.0025 - mae: 0.0365\n",
            "Epoch 282/300\n",
            "10/10 [==============================] - 1s 139ms/step - loss: 0.0024 - mae: 0.0363\n",
            "Epoch 283/300\n",
            "10/10 [==============================] - 1s 101ms/step - loss: 0.0025 - mae: 0.0368\n",
            "Epoch 284/300\n",
            "10/10 [==============================] - 1s 105ms/step - loss: 0.0023 - mae: 0.0352\n",
            "Epoch 285/300\n",
            "10/10 [==============================] - 1s 104ms/step - loss: 0.0022 - mae: 0.0346\n",
            "Epoch 286/300\n",
            "10/10 [==============================] - 1s 104ms/step - loss: 0.0022 - mae: 0.0346\n",
            "Epoch 287/300\n",
            "10/10 [==============================] - 1s 105ms/step - loss: 0.0021 - mae: 0.0337\n",
            "Epoch 288/300\n",
            "10/10 [==============================] - 1s 103ms/step - loss: 0.0021 - mae: 0.0338\n",
            "Epoch 289/300\n",
            "10/10 [==============================] - 1s 104ms/step - loss: 0.0021 - mae: 0.0333\n",
            "Epoch 290/300\n",
            "10/10 [==============================] - 1s 102ms/step - loss: 0.0021 - mae: 0.0333\n",
            "Epoch 291/300\n",
            "10/10 [==============================] - 1s 101ms/step - loss: 0.0022 - mae: 0.0343\n",
            "Epoch 292/300\n",
            "10/10 [==============================] - 1s 124ms/step - loss: 0.0022 - mae: 0.0340\n",
            "Epoch 293/300\n",
            "10/10 [==============================] - 1s 148ms/step - loss: 0.0021 - mae: 0.0338\n",
            "Epoch 294/300\n",
            "10/10 [==============================] - 2s 154ms/step - loss: 0.0021 - mae: 0.0336\n",
            "Epoch 295/300\n",
            "10/10 [==============================] - 1s 130ms/step - loss: 0.0022 - mae: 0.0344\n",
            "Epoch 296/300\n",
            "10/10 [==============================] - 1s 103ms/step - loss: 0.0023 - mae: 0.0353\n",
            "Epoch 297/300\n",
            "10/10 [==============================] - 1s 102ms/step - loss: 0.0023 - mae: 0.0352\n",
            "Epoch 298/300\n",
            "10/10 [==============================] - 1s 100ms/step - loss: 0.0023 - mae: 0.0350\n",
            "Epoch 299/300\n",
            "10/10 [==============================] - 1s 106ms/step - loss: 0.0022 - mae: 0.0348\n",
            "Epoch 300/300\n",
            "10/10 [==============================] - 1s 105ms/step - loss: 0.0025 - mae: 0.0375\n"
          ]
        },
        {
          "output_type": "execute_result",
          "data": {
            "text/plain": [
              "<keras.callbacks.History at 0x7f7de03e18a0>"
            ]
          },
          "metadata": {},
          "execution_count": 94
        }
      ]
    },
    {
      "cell_type": "code",
      "source": [
        "preds = model.predict(X_test)"
      ],
      "metadata": {
        "colab": {
          "base_uri": "https://localhost:8080/"
        },
        "id": "Jkj4KrjI_Kj7",
        "outputId": "66348bb2-9896-4659-9d83-3798ada2610f"
      },
      "execution_count": null,
      "outputs": [
        {
          "output_type": "stream",
          "name": "stdout",
          "text": [
            "3/3 [==============================] - 0s 15ms/step\n"
          ]
        }
      ]
    },
    {
      "cell_type": "code",
      "source": [
        "X_test[1]"
      ],
      "metadata": {
        "colab": {
          "base_uri": "https://localhost:8080/"
        },
        "id": "QuxD95E1_StA",
        "outputId": "f187140b-4488-4af7-d133-e479775ab1b8"
      },
      "execution_count": null,
      "outputs": [
        {
          "output_type": "execute_result",
          "data": {
            "text/plain": [
              "array([[0.3305785 , 0.30578512, 0.3305785 , ..., 0.3966942 , 0.37190083,\n",
              "        0.28512397],\n",
              "       [0.32231405, 0.32231405, 0.29752067, ..., 0.41322315, 0.338843  ,\n",
              "        0.2603306 ],\n",
              "       [0.3264463 , 0.30991736, 0.30578512, ..., 0.40495867, 0.36363637,\n",
              "        0.27272728],\n",
              "       ...,\n",
              "       [0.59090906, 0.61157024, 0.6404959 , ..., 0.6363636 , 0.61157024,\n",
              "        0.57438016],\n",
              "       [0.59090906, 0.61157024, 0.6487603 , ..., 0.6404959 , 0.607438  ,\n",
              "        0.5785124 ],\n",
              "       [0.58677685, 0.60330576, 0.661157  , ..., 0.6363636 , 0.59917355,\n",
              "        0.57438016]], dtype=float32)"
            ]
          },
          "metadata": {},
          "execution_count": 96
        }
      ]
    },
    {
      "cell_type": "code",
      "source": [
        "preds.shape"
      ],
      "metadata": {
        "colab": {
          "base_uri": "https://localhost:8080/"
        },
        "id": "qNZu8nav_XxT",
        "outputId": "c0b0fdb5-367e-4ac9-962b-1ec5a61f91a4"
      },
      "execution_count": null,
      "outputs": [
        {
          "output_type": "execute_result",
          "data": {
            "text/plain": [
              "(80, 2048)"
            ]
          },
          "metadata": {},
          "execution_count": 97
        }
      ]
    },
    {
      "cell_type": "code",
      "source": [
        "from sklearn.metrics import mean_absolute_error\n",
        "\n",
        "mean_absolute_error(preds, y_test_n)"
      ],
      "metadata": {
        "colab": {
          "base_uri": "https://localhost:8080/"
        },
        "id": "JWfiKT11_dOL",
        "outputId": "df668b4c-60bb-4fa1-f356-adeec5176206"
      },
      "execution_count": null,
      "outputs": [
        {
          "output_type": "execute_result",
          "data": {
            "text/plain": [
              "0.07295847"
            ]
          },
          "metadata": {},
          "execution_count": 98
        }
      ]
    },
    {
      "cell_type": "code",
      "source": [
        "pred_test = preds.reshape(preds.shape[0], 32, 64)\n",
        "pred_test.shape"
      ],
      "metadata": {
        "colab": {
          "base_uri": "https://localhost:8080/"
        },
        "id": "hHyCBSy4_ht0",
        "outputId": "2ddcab9f-9691-498b-e4e8-47ed99aa8188"
      },
      "execution_count": null,
      "outputs": [
        {
          "output_type": "execute_result",
          "data": {
            "text/plain": [
              "(80, 32, 64)"
            ]
          },
          "metadata": {},
          "execution_count": 99
        }
      ]
    },
    {
      "cell_type": "code",
      "source": [
        "n_faces = 5\n",
        "n_cols = 2\n",
        "image_shape = (64, 64)\n",
        "plt.figure(figsize=(3 * n_cols, 3 * n_faces))\n",
        "\n",
        "\n",
        "for i in range(5):\n",
        "    true_face = np.vstack((X_test[i], y_test[i]))\n",
        "\n",
        "    if i:\n",
        "        sub = plt.subplot(n_faces, n_cols, i * n_cols + 1)\n",
        "    else:\n",
        "        sub = plt.subplot(n_faces, n_cols, i * n_cols + 1, title=\"true faces\")\n",
        "\n",
        "    sub.axis(\"off\")\n",
        "    sub.imshow(\n",
        "        true_face.reshape(image_shape), cmap=plt.cm.gray, interpolation=\"nearest\"\n",
        "    )\n",
        "\n",
        "    completed_face = np.vstack((X_test[i], pred_test[i]))\n",
        "\n",
        "    if i:\n",
        "        sub = plt.subplot(n_faces, n_cols, i * n_cols + 2)\n",
        "\n",
        "    else:\n",
        "        sub = plt.subplot(n_faces, n_cols, i * n_cols + 2)\n",
        "\n",
        "    sub.axis(\"off\")\n",
        "    sub.imshow(\n",
        "        completed_face.reshape(image_shape),\n",
        "        cmap=plt.cm.gray,\n",
        "        interpolation=\"nearest\",\n",
        "    )"
      ],
      "metadata": {
        "colab": {
          "base_uri": "https://localhost:8080/",
          "height": 1000
        },
        "id": "U5D2Qfvj_hh4",
        "outputId": "6d37de04-37a5-4571-a534-520da7e23035"
      },
      "execution_count": null,
      "outputs": [
        {
          "output_type": "display_data",
          "data": {
            "text/plain": [
              "<Figure size 600x1500 with 10 Axes>"
            ],
            "image/png": "[encoded data removed]"
          },
          "metadata": {}
        }
      ]
    }
  ],
  "metadata": {
    "colab": {
      "provenance": [],
      "mount_file_id": "12loUs-LgtYDfbiqgCgH2TrH126BQX4za",
      "authorship_tag": "ABX9TyPTiJIx2TFnNDzn7wRCMkmb",
      "include_colab_link": true
    },
    "kernelspec": {
      "display_name": "Python 3",
      "name": "python3"
    },
    "language_info": {
      "name": "python"
    }
  },
  "nbformat": 4,
  "nbformat_minor": 0
}