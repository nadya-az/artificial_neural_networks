{
  "nbformat": 4,
  "nbformat_minor": 0,
  "metadata": {
    "colab": {
      "provenance": [],
      "authorship_tag": "ABX9TyPLyqNlLa0uDbagGNQBedXF",
      "include_colab_link": true
    },
    "kernelspec": {
      "name": "python3",
      "display_name": "Python 3"
    },
    "language_info": {
      "name": "python"
    }
  },
  "cells": [
    {
      "cell_type": "markdown",
      "metadata": {
        "id": "view-in-github",
        "colab_type": "text"
      },
      "source": [
        "<a href=\"https://colab.research.google.com/github/nadya-az/artificial_neural_networks/blob/main/%D0%9F%D1%80%D0%B0%D0%BA%D1%82%D0%B8%D1%87%D0%B5%D1%81%D0%BA%D0%B0%D1%8F_%D1%80%D0%B0%D0%B1%D0%BE%D1%82%D0%B0_%E2%84%961.ipynb\" target=\"_parent\"><img src=\"https://colab.research.google.com/assets/colab-badge.svg\" alt=\"Open In Colab\"/></a>"
      ]
    },
    {
      "cell_type": "markdown",
      "source": [
        "И"
      ],
      "metadata": {
        "id": "PuSSFbyXStsB"
      }
    },
    {
      "cell_type": "code",
      "execution_count": 1,
      "metadata": {
        "id": "5MwuRfZZRr9L",
        "colab": {
          "base_uri": "https://localhost:8080/"
        },
        "outputId": "84cf271e-6ab0-4899-f5f0-668cfe97b4d1"
      },
      "outputs": [
        {
          "output_type": "stream",
          "name": "stdout",
          "text": [
            "[0.3, 0.48]\n"
          ]
        }
      ],
      "source": [
        "from random import randint\n",
        "speed = 0.3\n",
        "\n",
        "w = [randint(0, 100)/ 100, randint(0, 100)/ 100]\n",
        "print(w)\n",
        "\n",
        "x_train = [[1, 1], [1, 0], [0, 1], [0, 0]]\n",
        "y_train = [1, 0, 0, 0]\n",
        "\n"
      ]
    },
    {
      "cell_type": "code",
      "source": [
        "def predict_1(x_train):\n",
        "  summator = x_train[0] * w[0] + x_train[1] * w[1]\n",
        "  act = 1 if summator >= 1 else 0\n",
        "  return act"
      ],
      "metadata": {
        "id": "JJPs8MuSS6a0"
      },
      "execution_count": 2,
      "outputs": []
    },
    {
      "cell_type": "code",
      "source": [
        "def train(x_rain, y_train, w):\n",
        "  for i in range(len(x_train)):\n",
        "    error = y_train[i] - predict_1(x_train[i])\n",
        "    if error != 0:\n",
        "      w[0] = w[0] + error + x_train[i][0] * speed \n",
        "      print(w)\n",
        "      w[1] = w[1] + error + x_train[i][1] * speed \n",
        "      print(w)\n"
      ],
      "metadata": {
        "id": "oi4eScx8T3w3"
      },
      "execution_count": 3,
      "outputs": []
    },
    {
      "cell_type": "code",
      "source": [
        "def epoch(count, func_train, x_train, y_train, w):\n",
        "  \n",
        "  for i in range(count):\n",
        "    func_train(x_train, y_train, w)"
      ],
      "metadata": {
        "id": "zOlQq0UOVjg4"
      },
      "execution_count": 4,
      "outputs": []
    },
    {
      "cell_type": "code",
      "source": [
        "epoch(5, train, x_train, y_train, w)\n",
        "print(\"\\nКонечные веса: \",w)"
      ],
      "metadata": {
        "colab": {
          "base_uri": "https://localhost:8080/"
        },
        "id": "PbdqwAY-V3xA",
        "outputId": "a1a0b952-de0a-4a60-8149-00e375fdae22"
      },
      "execution_count": 5,
      "outputs": [
        {
          "output_type": "stream",
          "name": "stdout",
          "text": [
            "[1.6, 0.48]\n",
            "[1.6, 1.78]\n",
            "[0.9000000000000001, 1.78]\n",
            "[0.9000000000000001, 0.78]\n",
            "\n",
            "Конечные веса:  [0.9000000000000001, 0.78]\n"
          ]
        }
      ]
    },
    {
      "cell_type": "code",
      "source": [
        "print(predict_1([1,1]))\n",
        "print(predict_1([1,0]))\n",
        "print(predict_1([0,1]))\n",
        "print(predict_1([0,0]))"
      ],
      "metadata": {
        "id": "9q4d7MKjXvRk",
        "colab": {
          "base_uri": "https://localhost:8080/"
        },
        "outputId": "7f27843e-c3fe-46fe-e93f-1379db69de1b"
      },
      "execution_count": 6,
      "outputs": [
        {
          "output_type": "stream",
          "name": "stdout",
          "text": [
            "1\n",
            "0\n",
            "0\n",
            "0\n"
          ]
        }
      ]
    },
    {
      "cell_type": "markdown",
      "source": [
        "ИЛИ\n"
      ],
      "metadata": {
        "id": "77ukX1sQSqxB"
      }
    },
    {
      "cell_type": "code",
      "source": [
        "w = [randint(0, 100)/ 100, randint(0, 100)/ 100]\n",
        "print(w)\n",
        "\n",
        "x_train = [[1, 1], [1, 0], [0, 1], [0, 0]]\n",
        "y_train = [1, 1, 1, 0]\n"
      ],
      "metadata": {
        "colab": {
          "base_uri": "https://localhost:8080/"
        },
        "id": "rPYspYP0TSu1",
        "outputId": "e516b39e-9df5-40b5-b882-8ac2f5d4eaea"
      },
      "execution_count": 7,
      "outputs": [
        {
          "output_type": "stream",
          "name": "stdout",
          "text": [
            "[0.8, 0.42]\n"
          ]
        }
      ]
    },
    {
      "cell_type": "code",
      "source": [
        "def predict_2(x_train):\n",
        "  summator = x_train[0] * w[0] + x_train[1] * w[1]\n",
        "  act = 1 if summator >= 1 else 0\n",
        "  return act"
      ],
      "metadata": {
        "id": "TxOi4-x2W0fs"
      },
      "execution_count": 8,
      "outputs": []
    },
    {
      "cell_type": "code",
      "source": [
        "def train(x_rain, y_train, w):\n",
        "  for i in range(len(x_train)):\n",
        "    error = y_train[i] - predict_2(x_train[i])\n",
        "    if error != 0:\n",
        "      w[0] = w[0] + error + x_train[i][0] * speed \n",
        "      \n",
        "      w[1] = w[1] + error + x_train[i][1] * speed \n",
        "      \n"
      ],
      "metadata": {
        "id": "oHANx1FRWWjN"
      },
      "execution_count": 9,
      "outputs": []
    },
    {
      "cell_type": "code",
      "source": [
        "def epoch(count, func_train, x_train, y_train, w):\n",
        "  \n",
        "  for i in range(count):\n",
        "    func_train(x_train, y_train, w)"
      ],
      "metadata": {
        "id": "9dDWQZLXXD7_"
      },
      "execution_count": 10,
      "outputs": []
    },
    {
      "cell_type": "code",
      "source": [
        "epoch(5, train, x_train, y_train, w)\n",
        "print(\"\\nКонечные веса: \",w)"
      ],
      "metadata": {
        "colab": {
          "base_uri": "https://localhost:8080/"
        },
        "id": "L8HFyTTfWNWt",
        "outputId": "dbfc2880-7903-407d-8f60-192f450ad111"
      },
      "execution_count": 11,
      "outputs": [
        {
          "output_type": "stream",
          "name": "stdout",
          "text": [
            "\n",
            "Конечные веса:  [2.1, 1.42]\n"
          ]
        }
      ]
    },
    {
      "cell_type": "code",
      "source": [
        "print(predict_2([1,1]))\n",
        "print(predict_2([1,0]))\n",
        "print(predict_2([0,1]))\n",
        "print(predict_2([0,0]))"
      ],
      "metadata": {
        "colab": {
          "base_uri": "https://localhost:8080/"
        },
        "id": "ptsIx6TuaKl-",
        "outputId": "833a74d6-e6e1-45c2-969b-46672b4843f6"
      },
      "execution_count": 12,
      "outputs": [
        {
          "output_type": "stream",
          "name": "stdout",
          "text": [
            "1\n",
            "1\n",
            "1\n",
            "0\n"
          ]
        }
      ]
    },
    {
      "cell_type": "markdown",
      "source": [
        "xor1"
      ],
      "metadata": {
        "id": "4o3Wls9vU6Fc"
      }
    },
    {
      "cell_type": "code",
      "source": [
        "w = [randint(0, 100)/ 100, randint(0, 100)/ 100]\n",
        "print(w)\n",
        "\n",
        "speed = 0.3\n",
        "\n",
        "x_train = [[1, 1], [1, 0], [0, 1], [0, 0]]\n",
        "y_train = [0, 1, 1, 0]"
      ],
      "metadata": {
        "colab": {
          "base_uri": "https://localhost:8080/"
        },
        "id": "qY37ssXaU4r4",
        "outputId": "ed0efe70-ac59-4f1c-977b-90a95be10b4b"
      },
      "execution_count": 13,
      "outputs": [
        {
          "output_type": "stream",
          "name": "stdout",
          "text": [
            "[0.34, 0.21]\n"
          ]
        }
      ]
    },
    {
      "cell_type": "code",
      "source": [
        "def predict_3(x_train):\n",
        "  summator = x_train[0] * w[0] + x_train[1] * w[1] \n",
        "  act = 1 if summator >= 1 else 0\n",
        "  return act"
      ],
      "metadata": {
        "id": "PzNSKBTXVLvE"
      },
      "execution_count": 14,
      "outputs": []
    },
    {
      "cell_type": "code",
      "source": [
        "def train(x_train, y_train, w):\n",
        "  for i in range(len(x_train)):\n",
        "    error = y_train[i] - predict_3(x_train[i])\n",
        "    if error != 0:\n",
        "      w[0] = w[0] + error + x_train[i][0] * speed \n",
        "      w[1] = w[1] + error + x_train[i][1] * speed \n",
        "    print(error, w, y_train[i])"
      ],
      "metadata": {
        "id": "kY90bUETVOD9"
      },
      "execution_count": 15,
      "outputs": []
    },
    {
      "cell_type": "code",
      "source": [
        "def epoch(count, func_train, x_train, y_train, w):\n",
        "  for i in range(count):\n",
        "    func_train(x_train, y_train, w)\n",
        "epoch(5, train, x_train, y_train, w)"
      ],
      "metadata": {
        "colab": {
          "base_uri": "https://localhost:8080/"
        },
        "id": "1Q8K0IMXVV1b",
        "outputId": "c71423fb-3bbf-4b99-ffed-7b3a26cdc680"
      },
      "execution_count": 18,
      "outputs": [
        {
          "output_type": "stream",
          "name": "stdout",
          "text": [
            "-1 [1.4400000000000002, 1.3099999999999998] 0\n",
            "0 [1.4400000000000002, 1.3099999999999998] 1\n",
            "0 [1.4400000000000002, 1.3099999999999998] 1\n",
            "0 [1.4400000000000002, 1.3099999999999998] 0\n",
            "-1 [0.7400000000000002, 0.6099999999999999] 0\n",
            "1 [2.04, 1.6099999999999999] 1\n",
            "0 [2.04, 1.6099999999999999] 1\n",
            "0 [2.04, 1.6099999999999999] 0\n",
            "-1 [1.34, 0.9099999999999999] 0\n",
            "0 [1.34, 0.9099999999999999] 1\n",
            "1 [2.34, 2.21] 1\n",
            "0 [2.34, 2.21] 0\n",
            "-1 [1.64, 1.51] 0\n",
            "0 [1.64, 1.51] 1\n",
            "0 [1.64, 1.51] 1\n",
            "0 [1.64, 1.51] 0\n",
            "-1 [0.94, 0.81] 0\n",
            "1 [2.2399999999999998, 1.81] 1\n",
            "0 [2.2399999999999998, 1.81] 1\n",
            "0 [2.2399999999999998, 1.81] 0\n"
          ]
        }
      ]
    },
    {
      "cell_type": "code",
      "source": [
        "\n",
        "print(predict_3([1,1]))\n",
        "print(predict_3([1,0]))\n",
        "print(predict_3([0,1]))\n",
        "print(predict_3([0,0]))"
      ],
      "metadata": {
        "colab": {
          "base_uri": "https://localhost:8080/"
        },
        "id": "_gP1OKp_WiFa",
        "outputId": "904426ff-c240-4382-a51d-86f6c0e905b4"
      },
      "execution_count": 19,
      "outputs": [
        {
          "output_type": "stream",
          "name": "stdout",
          "text": [
            "1\n",
            "1\n",
            "1\n",
            "0\n"
          ]
        }
      ]
    },
    {
      "cell_type": "markdown",
      "source": [
        "xor2"
      ],
      "metadata": {
        "id": "uryBDvM-HESS"
      }
    },
    {
      "cell_type": "code",
      "source": [
        "w = [randint(0, 100)/ 100, randint(0, 100)/ 100]\n",
        "print(w)\n",
        "\n",
        "speed = 0.3\n",
        "\n",
        "x_train = [[0, 1], [0, 0], [1, 1], [1, 0]]\n",
        "y_train = [0, 0, 1, 0]"
      ],
      "metadata": {
        "colab": {
          "base_uri": "https://localhost:8080/"
        },
        "id": "wKZCtObMHK4t",
        "outputId": "96a308c7-b9f4-433e-fdf4-e48fec241315"
      },
      "execution_count": 57,
      "outputs": [
        {
          "output_type": "stream",
          "name": "stdout",
          "text": [
            "[0.08, 0.19]\n"
          ]
        }
      ]
    },
    {
      "cell_type": "code",
      "source": [
        "def predict_4(x_train):\n",
        "  summator = x_train[0] * w[0] + x_train[1] * w[1] \n",
        "  act = 1 if summator >= 1 else 0\n",
        "  return act"
      ],
      "metadata": {
        "id": "6WDqoFUCIYD1"
      },
      "execution_count": 58,
      "outputs": []
    },
    {
      "cell_type": "code",
      "source": [
        "def train(x_train, y_train, w):\n",
        "  for i in range(len(x_train)):\n",
        "    error = y_train[i] - predict_4(x_train[i])\n",
        "    if error != 0:\n",
        "      w[0] = w[0] + error + x_train[i][0] * speed \n",
        "      w[1] = w[1] + error + x_train[i][1] * speed \n",
        "    print(error, w, y_train[i])"
      ],
      "metadata": {
        "id": "HCc-M0tOIcMb"
      },
      "execution_count": 59,
      "outputs": []
    },
    {
      "cell_type": "code",
      "source": [
        "train(x_train, y_train, w)"
      ],
      "metadata": {
        "colab": {
          "base_uri": "https://localhost:8080/"
        },
        "id": "iDz1FHMlIf0u",
        "outputId": "c8ae4b68-0b92-4211-a3c9-03a405d57c54"
      },
      "execution_count": 60,
      "outputs": [
        {
          "output_type": "stream",
          "name": "stdout",
          "text": [
            "0 [0.08, 0.19] 0\n",
            "0 [0.08, 0.19] 0\n",
            "1 [1.3800000000000001, 1.49] 1\n",
            "-1 [0.6800000000000002, 0.49] 0\n"
          ]
        }
      ]
    },
    {
      "cell_type": "code",
      "source": [
        "print(predict_4([0,1]))\n",
        "print(predict_4([0,0]))\n",
        "print(predict_4([1,1]))\n",
        "print(predict_4([1,0]))"
      ],
      "metadata": {
        "colab": {
          "base_uri": "https://localhost:8080/"
        },
        "id": "KRpBjQyoIjoP",
        "outputId": "cd07cec6-d32b-4f9e-839e-27b59bd0df4a"
      },
      "execution_count": 61,
      "outputs": [
        {
          "output_type": "stream",
          "name": "stdout",
          "text": [
            "0\n",
            "0\n",
            "1\n",
            "0\n"
          ]
        }
      ]
    },
    {
      "cell_type": "markdown",
      "source": [
        "конъюнкция x1 и отрицания x2\n",
        "\n"
      ],
      "metadata": {
        "id": "WNIDORtYSgdm"
      }
    },
    {
      "cell_type": "code",
      "source": [
        "w = [randint(0, 100)/ 100, randint(0, 100)/ 100]\n",
        "print(w)\n",
        "\n",
        "speed = 0.3\n",
        "\n",
        "x_train = [[1, 0], [1, 1], [0, 0], [0, 1]]\n",
        "y_train = [0, 1, 0, 0]"
      ],
      "metadata": {
        "colab": {
          "base_uri": "https://localhost:8080/"
        },
        "id": "eW9VXROaRnDL",
        "outputId": "b5104202-9d46-4e14-9ca7-bb44d358b6e8"
      },
      "execution_count": 89,
      "outputs": [
        {
          "output_type": "stream",
          "name": "stdout",
          "text": [
            "[0.27, 0.47]\n"
          ]
        }
      ]
    },
    {
      "cell_type": "code",
      "source": [
        "def predict_5(x_train):\n",
        "  summator = x_train[0] * w[0] + x_train[1] * w[1]\n",
        "  act = abs(summator)\n",
        "  act = 1 if act >= 0.5 else 0\n",
        "  return act"
      ],
      "metadata": {
        "id": "eH8i8QizS1U4"
      },
      "execution_count": 90,
      "outputs": []
    },
    {
      "cell_type": "code",
      "source": [
        "def train(x_train, y_train, w):\n",
        "  for i in range(len(x_train)):\n",
        "    error = y_train[i] - predict_5(x_train[i])\n",
        "    if error != 0:\n",
        "      w[0] = w[0] + error + x_train[i][0] * speed \n",
        "      w[1] = w[1] + error + x_train[i][1] * speed \n",
        "    print(error, w, y_train[i])"
      ],
      "metadata": {
        "id": "3SvOMfMrSjkn"
      },
      "execution_count": 91,
      "outputs": []
    },
    {
      "cell_type": "code",
      "source": [
        "def epoch(count, func_train, x_train, y_train, w):\n",
        "  for i in range(count):\n",
        "    func_train(x_train, y_train, w)\n",
        "epoch(5, train, x_train, y_train, w)"
      ],
      "metadata": {
        "colab": {
          "base_uri": "https://localhost:8080/"
        },
        "id": "AHDYSeAxUm1v",
        "outputId": "b6bab861-ffe6-4296-a82c-b1f05d0c5e81"
      },
      "execution_count": 92,
      "outputs": [
        {
          "output_type": "stream",
          "name": "stdout",
          "text": [
            "0 [0.27, 0.47] 0\n",
            "0 [0.27, 0.47] 1\n",
            "0 [0.27, 0.47] 0\n",
            "0 [0.27, 0.47] 0\n",
            "0 [0.27, 0.47] 0\n",
            "0 [0.27, 0.47] 1\n",
            "0 [0.27, 0.47] 0\n",
            "0 [0.27, 0.47] 0\n",
            "0 [0.27, 0.47] 0\n",
            "0 [0.27, 0.47] 1\n",
            "0 [0.27, 0.47] 0\n",
            "0 [0.27, 0.47] 0\n",
            "0 [0.27, 0.47] 0\n",
            "0 [0.27, 0.47] 1\n",
            "0 [0.27, 0.47] 0\n",
            "0 [0.27, 0.47] 0\n",
            "0 [0.27, 0.47] 0\n",
            "0 [0.27, 0.47] 1\n",
            "0 [0.27, 0.47] 0\n",
            "0 [0.27, 0.47] 0\n"
          ]
        }
      ]
    },
    {
      "cell_type": "code",
      "source": [
        "print(predict_5([1,0]))\n",
        "print(predict_5([1,1]))\n",
        "print(predict_5([0,0]))\n",
        "print(predict_5([0,1]))"
      ],
      "metadata": {
        "colab": {
          "base_uri": "https://localhost:8080/"
        },
        "id": "NoniUJaTSnGx",
        "outputId": "793146c9-57d2-41aa-8ea6-68e55869231b"
      },
      "execution_count": 93,
      "outputs": [
        {
          "output_type": "stream",
          "name": "stdout",
          "text": [
            "0\n",
            "1\n",
            "0\n",
            "0\n"
          ]
        }
      ]
    },
    {
      "cell_type": "markdown",
      "source": [
        "Задание 4"
      ],
      "metadata": {
        "id": "nHW2GqakCamS"
      }
    },
    {
      "cell_type": "markdown",
      "source": [
        "----------------------------"
      ],
      "metadata": {
        "id": "vBGtt5ouSjmy"
      }
    },
    {
      "cell_type": "code",
      "source": [
        "w = [randint(0, 100)/ 100, randint(0, 100)/ 100]\n",
        "print(w)\n",
        "\n",
        "speed = 0.3\n",
        "\n",
        "x_train = [[1, 1], [1, -1], [-1, 1], [-1, -1]]\n",
        "y_train = [1, -1, -1, -1]\n"
      ],
      "metadata": {
        "colab": {
          "base_uri": "https://localhost:8080/"
        },
        "id": "c4UYHLQWMyRM",
        "outputId": "9c0f2a67-d5c0-41e7-c360-5d9b6d7632eb"
      },
      "execution_count": 180,
      "outputs": [
        {
          "output_type": "stream",
          "name": "stdout",
          "text": [
            "[0.76, 0.16, 0.25]\n"
          ]
        }
      ]
    },
    {
      "cell_type": "code",
      "source": [
        "def predict_6(x_train):\n",
        "  summator = x_train[0] * w[0] + x_train[1] * w[1]\n",
        "  act = 1 if summator > 0 else -1\n",
        "  return act"
      ],
      "metadata": {
        "id": "jprZ3K7fM6Oq"
      },
      "execution_count": 181,
      "outputs": []
    },
    {
      "cell_type": "code",
      "source": [
        "def train(x_train, y_train, w):\n",
        "  for i in range(len(x_train)):\n",
        "    error = y_train[i] - predict_6([x_train[i][0], x_train[i][1]])\n",
        "    if error != 0:\n",
        "      w[0] = w[0] + error * x_train[i][0] * speed\n",
        "      print(w)\n",
        "      w[1] = w[1] + error * x_train[i][1] * speed\n",
        "      print(w)"
      ],
      "metadata": {
        "id": "0bA1IpE4OB_Q"
      },
      "execution_count": 182,
      "outputs": []
    },
    {
      "cell_type": "code",
      "source": [
        "def epoch(count, func_train, x_train, y_train, w):\n",
        "  for i in range(count):\n",
        "    func_train(x_train, y_train, w)\n",
        "epoch(5, train, x_train, y_train, w)"
      ],
      "metadata": {
        "colab": {
          "base_uri": "https://localhost:8080/"
        },
        "id": "2Z63atkSP3TK",
        "outputId": "164b47ee-2e23-4989-f1b9-569dedc44a1f"
      },
      "execution_count": 183,
      "outputs": [
        {
          "output_type": "stream",
          "name": "stdout",
          "text": [
            "[0.16000000000000003, 0.16, 0.25]\n",
            "[0.16000000000000003, 0.76, 0.25]\n",
            "[0.76, 0.76, 0.25]\n",
            "[0.76, 0.16000000000000003, 0.25]\n",
            "[0.16000000000000003, 0.16000000000000003, 0.25]\n",
            "[0.16000000000000003, 0.76, 0.25]\n",
            "[0.76, 0.76, 0.25]\n",
            "[0.76, 0.16000000000000003, 0.25]\n",
            "[0.16000000000000003, 0.16000000000000003, 0.25]\n",
            "[0.16000000000000003, 0.76, 0.25]\n",
            "[0.76, 0.76, 0.25]\n",
            "[0.76, 0.16000000000000003, 0.25]\n",
            "[0.16000000000000003, 0.16000000000000003, 0.25]\n",
            "[0.16000000000000003, 0.76, 0.25]\n",
            "[0.76, 0.76, 0.25]\n",
            "[0.76, 0.16000000000000003, 0.25]\n",
            "[0.16000000000000003, 0.16000000000000003, 0.25]\n",
            "[0.16000000000000003, 0.76, 0.25]\n",
            "[0.76, 0.76, 0.25]\n",
            "[0.76, 0.16000000000000003, 0.25]\n"
          ]
        }
      ]
    },
    {
      "cell_type": "code",
      "source": [
        "print(predict_6([1, 1]))\n",
        "print(predict_6([1,-1]))\n",
        "print(predict_6([-1,1]))\n",
        "print(predict_6([-1,-1]))\n"
      ],
      "metadata": {
        "colab": {
          "base_uri": "https://localhost:8080/"
        },
        "id": "5RK2M4mxNIxe",
        "outputId": "5f87e7f4-cea2-4262-b7ed-5dea96f8b4a7"
      },
      "execution_count": 184,
      "outputs": [
        {
          "output_type": "stream",
          "name": "stdout",
          "text": [
            "1\n",
            "1\n",
            "-1\n",
            "-1\n"
          ]
        }
      ]
    },
    {
      "cell_type": "markdown",
      "source": [
        "Задание 5"
      ],
      "metadata": {
        "id": "Mc1f7Ql3Lt2h"
      }
    },
    {
      "cell_type": "code",
      "source": [
        "w = [randint(0, 100)/ 100, randint(0, 100)/ 100, randint(0, 100)/ 100]\n",
        "print(w)\n",
        "\n",
        "speed = 0.3\n",
        "\n",
        "x_train = [[1, 1], [1, -1], [-1, 1], [-1, -1]]\n",
        "y_train = [1, -1, -1, -1]"
      ],
      "metadata": {
        "id": "Pzs9w5rIQeWY",
        "outputId": "dbf367ca-d290-4fc8-a0ea-9f5f0f6a236f",
        "colab": {
          "base_uri": "https://localhost:8080/"
        }
      },
      "execution_count": 185,
      "outputs": [
        {
          "output_type": "stream",
          "name": "stdout",
          "text": [
            "[0.16, 0.27, 0.25]\n"
          ]
        }
      ]
    },
    {
      "cell_type": "code",
      "source": [
        "def predict_7(x_train):\n",
        "  summator = x_train[0] * w[0] + x_train[1] * w[1] + w[2]\n",
        "  act = 1 if summator > 0 else -1\n",
        "  return act"
      ],
      "metadata": {
        "id": "FWl28P3lMNiG"
      },
      "execution_count": 186,
      "outputs": []
    },
    {
      "cell_type": "code",
      "source": [
        "def train(x_train, y_train, w):\n",
        "  for i in range(len(x_train)):\n",
        "    error = y_train[i] - predict_7([x_train[i][0], x_train[i][1]])\n",
        "    if error != 0:\n",
        "      w[0] = w[0] + error * x_train[i][0] * speed\n",
        "      print(w)\n",
        "      w[1] = w[1] + error * x_train[i][1] * speed\n",
        "      print(w)\n",
        "      w[2] = w[2] + error * speed\n",
        "      print(w)"
      ],
      "metadata": {
        "id": "qpDZtgH3Mdt3"
      },
      "execution_count": 187,
      "outputs": []
    },
    {
      "cell_type": "code",
      "source": [
        "def epoch(count, func_train, x_train, y_train, w):\n",
        "  for i in range(count):\n",
        "    func_train(x_train, y_train, w)\n",
        "epoch(5, train, x_train, y_train, w)"
      ],
      "metadata": {
        "id": "7sCZX9YIMp_7",
        "outputId": "00b2c359-6753-4be8-8e07-9bc7edac0128",
        "colab": {
          "base_uri": "https://localhost:8080/"
        }
      },
      "execution_count": 188,
      "outputs": [
        {
          "output_type": "stream",
          "name": "stdout",
          "text": [
            "[-0.43999999999999995, 0.27, 0.25]\n",
            "[-0.43999999999999995, 0.87, 0.25]\n",
            "[-0.43999999999999995, 0.87, -0.35]\n",
            "[0.16000000000000003, 0.87, -0.35]\n",
            "[0.16000000000000003, 0.27, -0.35]\n",
            "[0.16000000000000003, 0.27, -0.95]\n",
            "[0.76, 0.27, -0.95]\n",
            "[0.76, 0.87, -0.95]\n",
            "[0.76, 0.87, -0.35]\n"
          ]
        }
      ]
    },
    {
      "cell_type": "code",
      "source": [
        "print(predict_7([1, 1]))\n",
        "print(predict_7([1,-1]))\n",
        "print(predict_7([-1,1]))\n",
        "print(predict_7([-1,-1]))"
      ],
      "metadata": {
        "id": "BGFKwEgUM1X4",
        "outputId": "a913aef7-c6d7-4f94-8bb6-56be3f042edf",
        "colab": {
          "base_uri": "https://localhost:8080/"
        }
      },
      "execution_count": 189,
      "outputs": [
        {
          "output_type": "stream",
          "name": "stdout",
          "text": [
            "1\n",
            "-1\n",
            "-1\n",
            "-1\n"
          ]
        }
      ]
    },
    {
      "cell_type": "markdown",
      "source": [
        "Задание 6"
      ],
      "metadata": {
        "id": "r-dbCrJgNIzq"
      }
    },
    {
      "cell_type": "code",
      "source": [
        "w = [randint(0, 100)/ 100, randint(0, 100)/ 100, randint(0, 100)/ 100, randint(0, 100)/ 100, randint(0, 100)/ 100, randint(0, 100)/ 100]\n",
        "print(w)\n",
        "\n",
        "x_train = [[1,1], [1,0], [0,1], [0,0]]\n",
        "\n",
        "y_train_1 = [0, 0, 1, 0]\n",
        "y_train_2 = [0, 1, 0, 0]\n",
        "y_train_3 = [1, 1, 1, 0]"
      ],
      "metadata": {
        "id": "xGZd_XhtNEPB",
        "outputId": "57b03c28-3264-4b6b-b514-db04bcc489b9",
        "colab": {
          "base_uri": "https://localhost:8080/"
        }
      },
      "execution_count": 190,
      "outputs": [
        {
          "output_type": "stream",
          "name": "stdout",
          "text": [
            "[0.35, 0.61, 0.93, 0.29, 0.85, 0.69]\n"
          ]
        }
      ]
    },
    {
      "cell_type": "code",
      "source": [
        "def predict_8_1(x_train):\n",
        "  summator = x_train[0] * w[0] + x_train[1] * w[1]\n",
        "  act = 1 if summator >= 1 else 0\n",
        "  return act"
      ],
      "metadata": {
        "id": "2RvCbbpiNxJT"
      },
      "execution_count": 191,
      "outputs": []
    },
    {
      "cell_type": "code",
      "source": [
        "def predict_8_2(x_train):\n",
        "  summator = x_train[0] * w[2] + x_train[1] * w[3]\n",
        "  act = 1 if summator >= 1 else 0\n",
        "  return act"
      ],
      "metadata": {
        "id": "dBmspDtjPAAZ"
      },
      "execution_count": 192,
      "outputs": []
    },
    {
      "cell_type": "code",
      "source": [
        "def predict_8_3(x_train):\n",
        "  summator = x_train[0] * w[4] + x_train[1] * w[5]\n",
        "  act = 1 if summator >= 1 else 0\n",
        "  return act"
      ],
      "metadata": {
        "id": "PekGa5ETPrbt"
      },
      "execution_count": 193,
      "outputs": []
    },
    {
      "cell_type": "code",
      "source": [
        "def train(x_train, y_train_1, y_train_2, y_train_3, w):\n",
        "  for i in range(len(x_train)):\n",
        "    error_1 = y_train_1[i] - predict_8_1(x_train[i])\n",
        "    if error_1 !=0:\n",
        "      w[0] = w[0] + error_1 * x_train[i][0] * speed\n",
        "      w[1] = w[1] + error_1 * x_train[i][1] * speed\n",
        "      print(error_1, w)\n",
        "\n",
        "    error_2 = y_train_2[i] - predict_8_2(x_train[i])\n",
        "    if error_2 !=0:\n",
        "      w[2] = w[2] + error_2 * x_train[i][0] * speed\n",
        "      w[3] = w[3] + error_2 * x_train[i][1] * speed\n",
        "      print(error_2, w)\n",
        "\n",
        "    error_3 = y_train_3[i] - predict_8_3(x_train[i])\n",
        "    if error_3 !=0:\n",
        "      w[4] = w[4] + error_3 * x_train[i][0] * speed\n",
        "      w[5] = w[5] + error_3 * x_train[i][1] * speed\n",
        "      print(error_3, w)"
      ],
      "metadata": {
        "id": "Bf_S4Qf1PxEa"
      },
      "execution_count": 194,
      "outputs": []
    },
    {
      "cell_type": "code",
      "source": [
        "def epoch(count, func_train, x_train, y_train_1, y_train_2, y_train_3, w):\n",
        "  for i in range(count):\n",
        "    func_train(x_train, y_train_1, y_train_2, y_train_3, w)\n"
      ],
      "metadata": {
        "id": "0e2dnGwZP9gY"
      },
      "execution_count": 195,
      "outputs": []
    },
    {
      "cell_type": "code",
      "source": [
        "def predict_8_4(x_train):\n",
        "  return predict_8_3([predict_8_1(x_train), predict_8_2(x_train)])"
      ],
      "metadata": {
        "id": "RLPDAPR9QHvs"
      },
      "execution_count": 196,
      "outputs": []
    },
    {
      "cell_type": "code",
      "source": [
        "epoch(10, train, x_train, y_train_1, y_train_2, y_train_3, w)"
      ],
      "metadata": {
        "id": "tP486HuRQQ3X",
        "outputId": "11163627-aae2-4955-916b-a48218720f1d",
        "colab": {
          "base_uri": "https://localhost:8080/"
        }
      },
      "execution_count": 197,
      "outputs": [
        {
          "output_type": "stream",
          "name": "stdout",
          "text": [
            "-1 [0.35, 0.61, 0.6300000000000001, -0.010000000000000009, 0.85, 0.69]\n",
            "1 [0.35, 0.61, 0.9300000000000002, -0.010000000000000009, 0.85, 0.69]\n",
            "1 [0.35, 0.61, 0.9300000000000002, -0.010000000000000009, 1.15, 0.69]\n",
            "1 [0.35, 0.9099999999999999, 0.9300000000000002, -0.010000000000000009, 1.15, 0.69]\n",
            "1 [0.35, 0.9099999999999999, 0.9300000000000002, -0.010000000000000009, 1.15, 0.99]\n",
            "-1 [0.04999999999999999, 0.6099999999999999, 0.9300000000000002, -0.010000000000000009, 1.15, 0.99]\n",
            "1 [0.04999999999999999, 0.6099999999999999, 1.2300000000000002, -0.010000000000000009, 1.15, 0.99]\n",
            "1 [0.04999999999999999, 0.9099999999999999, 1.2300000000000002, -0.010000000000000009, 1.15, 0.99]\n",
            "1 [0.04999999999999999, 0.9099999999999999, 1.2300000000000002, -0.010000000000000009, 1.15, 1.29]\n",
            "-1 [0.04999999999999999, 0.9099999999999999, 0.9300000000000002, -0.31, 1.15, 1.29]\n",
            "1 [0.04999999999999999, 0.9099999999999999, 1.2300000000000002, -0.31, 1.15, 1.29]\n",
            "1 [0.04999999999999999, 1.21, 1.2300000000000002, -0.31, 1.15, 1.29]\n",
            "-1 [-0.25, 0.9099999999999999, 1.2300000000000002, -0.31, 1.15, 1.29]\n",
            "1 [-0.25, 1.21, 1.2300000000000002, -0.31, 1.15, 1.29]\n"
          ]
        }
      ]
    },
    {
      "cell_type": "code",
      "source": [
        "print(predict_8_4([1,1]))\n",
        "print(predict_8_4([1,0]))\n",
        "print(predict_8_4([0,1]))\n",
        "print(predict_8_4([0,0]))"
      ],
      "metadata": {
        "id": "ON-0alb9QXBE",
        "outputId": "70e21d49-f940-4cd0-9055-a8c104b5cb5e",
        "colab": {
          "base_uri": "https://localhost:8080/"
        }
      },
      "execution_count": 198,
      "outputs": [
        {
          "output_type": "stream",
          "name": "stdout",
          "text": [
            "0\n",
            "1\n",
            "1\n",
            "0\n"
          ]
        }
      ]
    }
  ]
}