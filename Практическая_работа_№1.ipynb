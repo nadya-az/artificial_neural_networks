{
  "nbformat": 4,
  "nbformat_minor": 0,
  "metadata": {
    "colab": {
      "provenance": [],
      "authorship_tag": "ABX9TyPgB0k/nhgjBf45ZVGC5XFe",
      "include_colab_link": true
    },
    "kernelspec": {
      "name": "python3",
      "display_name": "Python 3"
    },
    "language_info": {
      "name": "python"
    }
  },
  "cells": [
    {
      "cell_type": "markdown",
      "metadata": {
        "id": "view-in-github",
        "colab_type": "text"
      },
      "source": [
        "<a href=\"https://colab.research.google.com/github/nadya-az/artificial_neural_networks/blob/main/%D0%9F%D1%80%D0%B0%D0%BA%D1%82%D0%B8%D1%87%D0%B5%D1%81%D0%BA%D0%B0%D1%8F_%D1%80%D0%B0%D0%B1%D0%BE%D1%82%D0%B0_%E2%84%961.ipynb\" target=\"_parent\"><img src=\"https://colab.research.google.com/assets/colab-badge.svg\" alt=\"Open In Colab\"/></a>"
      ]
    },
    {
      "cell_type": "markdown",
      "source": [
        "И"
      ],
      "metadata": {
        "id": "PuSSFbyXStsB"
      }
    },
    {
      "cell_type": "code",
      "execution_count": null,
      "metadata": {
        "id": "5MwuRfZZRr9L",
        "colab": {
          "base_uri": "https://localhost:8080/"
        },
        "outputId": "3367d68e-326a-455c-a49d-89a1afa829cd"
      },
      "outputs": [
        {
          "output_type": "stream",
          "name": "stdout",
          "text": [
            "[0.37, 0.09]\n"
          ]
        }
      ],
      "source": [
        "from random import randint\n",
        "speed = 0.3\n",
        "\n",
        "w = [randint(0, 100)/ 100, randint(0, 100)/ 100]\n",
        "print(w)\n",
        "\n",
        "x_train = [[1, 1], [1, 0], [0, 1], [0, 0]]\n",
        "y_train = [1, 0, 0, 0]\n",
        "\n"
      ]
    },
    {
      "cell_type": "code",
      "source": [
        "def predict(x_train):\n",
        "  summator = x_train[0] * w[0] + x_train[1] * w[1]\n",
        "  act = 1 if summator >= 1 else 0\n",
        "  return act"
      ],
      "metadata": {
        "id": "JJPs8MuSS6a0"
      },
      "execution_count": null,
      "outputs": []
    },
    {
      "cell_type": "code",
      "source": [
        "def train(x_rain, y_train, w):\n",
        "  for i in range(len(x_train)):\n",
        "    error = y_train[i] - predict(x_train[i])\n",
        "    if error != 0:\n",
        "      w[0] = w[0] + error + x_train[i][0] * speed \n",
        "      print(w)\n",
        "      w[1] = w[1] + error + x_train[i][1] * speed \n",
        "      print(w)\n"
      ],
      "metadata": {
        "id": "oi4eScx8T3w3"
      },
      "execution_count": null,
      "outputs": []
    },
    {
      "cell_type": "code",
      "source": [
        "def epoch(count, func_train, x_train, y_train, w):\n",
        "  \n",
        "  for i in range(count):\n",
        "    func_train(x_train, y_train, w)"
      ],
      "metadata": {
        "id": "zOlQq0UOVjg4"
      },
      "execution_count": null,
      "outputs": []
    },
    {
      "cell_type": "code",
      "source": [
        "epoch(5, train, x_train, y_train, w)\n",
        "print(\"\\nКонечные веса: \",w)"
      ],
      "metadata": {
        "colab": {
          "base_uri": "https://localhost:8080/"
        },
        "id": "PbdqwAY-V3xA",
        "outputId": "9434778a-803e-4dbe-a5e1-bda184c06178"
      },
      "execution_count": null,
      "outputs": [
        {
          "output_type": "stream",
          "name": "stdout",
          "text": [
            "[1.6700000000000002, 0.09]\n",
            "[1.6700000000000002, 1.3900000000000001]\n",
            "[0.9700000000000002, 1.3900000000000001]\n",
            "[0.9700000000000002, 0.3900000000000001]\n",
            "\n",
            "Конечные веса:  [0.9700000000000002, 0.3900000000000001]\n"
          ]
        }
      ]
    },
    {
      "cell_type": "code",
      "source": [
        "print(predict([1,1]))\n",
        "print(predict([1,0]))\n",
        "print(predict([0,1]))\n",
        "print(predict([0,0]))"
      ],
      "metadata": {
        "id": "9q4d7MKjXvRk",
        "colab": {
          "base_uri": "https://localhost:8080/"
        },
        "outputId": "228f761f-0fed-4b68-8cae-7b2ad9861859"
      },
      "execution_count": null,
      "outputs": [
        {
          "output_type": "stream",
          "name": "stdout",
          "text": [
            "1\n",
            "0\n",
            "0\n",
            "0\n"
          ]
        }
      ]
    },
    {
      "cell_type": "markdown",
      "source": [
        "ИЛИ\n"
      ],
      "metadata": {
        "id": "77ukX1sQSqxB"
      }
    },
    {
      "cell_type": "code",
      "source": [
        "w = [randint(0, 100)/ 100, randint(0, 100)/ 100]\n",
        "print(w)\n",
        "\n",
        "x_train = [[1, 1], [1, 0], [0, 1], [0, 0]]\n",
        "y_train = [1, 1, 1, 0]\n"
      ],
      "metadata": {
        "colab": {
          "base_uri": "https://localhost:8080/"
        },
        "id": "rPYspYP0TSu1",
        "outputId": "95865ea9-3ef5-4fa8-c876-c96dd311a535"
      },
      "execution_count": null,
      "outputs": [
        {
          "output_type": "stream",
          "name": "stdout",
          "text": [
            "[0.54, 0.63]\n"
          ]
        }
      ]
    },
    {
      "cell_type": "code",
      "source": [
        "def predict(x_train):\n",
        "  summator = x_train[0] * w[0] + x_train[1] * w[1]\n",
        "  act = 1 if summator >= 1 else 0\n",
        "  return act"
      ],
      "metadata": {
        "id": "TxOi4-x2W0fs"
      },
      "execution_count": null,
      "outputs": []
    },
    {
      "cell_type": "code",
      "source": [
        "def train(x_rain, y_train, w):\n",
        "  for i in range(len(x_train)):\n",
        "    error = y_train[i] - predict(x_train[i])\n",
        "    if error != 0:\n",
        "      w[0] = w[0] + error + x_train[i][0] * speed \n",
        "      \n",
        "      w[1] = w[1] + error + x_train[i][1] * speed \n",
        "      \n"
      ],
      "metadata": {
        "id": "oHANx1FRWWjN"
      },
      "execution_count": null,
      "outputs": []
    },
    {
      "cell_type": "code",
      "source": [
        "def epoch(count, func_train, x_train, y_train, w):\n",
        "  \n",
        "  for i in range(count):\n",
        "    func_train(x_train, y_train, w)"
      ],
      "metadata": {
        "id": "9dDWQZLXXD7_"
      },
      "execution_count": null,
      "outputs": []
    },
    {
      "cell_type": "code",
      "source": [
        "epoch(5, train, x_train, y_train, w)\n",
        "print(\"\\nКонечные веса: \",w)"
      ],
      "metadata": {
        "colab": {
          "base_uri": "https://localhost:8080/"
        },
        "id": "L8HFyTTfWNWt",
        "outputId": "dc92aa18-cf24-4721-efba-23d003fb2b52"
      },
      "execution_count": null,
      "outputs": [
        {
          "output_type": "stream",
          "name": "stdout",
          "text": [
            "\n",
            "Конечные веса:  [1.84, 1.63]\n"
          ]
        }
      ]
    },
    {
      "cell_type": "code",
      "source": [
        "print(predict([1,1]))\n",
        "print(predict([1,0]))\n",
        "print(predict([0,1]))\n",
        "print(predict([0,0]))"
      ],
      "metadata": {
        "colab": {
          "base_uri": "https://localhost:8080/"
        },
        "id": "ptsIx6TuaKl-",
        "outputId": "20949107-0436-4b98-d1aa-8b7da2773064"
      },
      "execution_count": null,
      "outputs": [
        {
          "output_type": "stream",
          "name": "stdout",
          "text": [
            "1\n",
            "1\n",
            "1\n",
            "0\n"
          ]
        }
      ]
    },
    {
      "cell_type": "markdown",
      "source": [
        "xor1"
      ],
      "metadata": {
        "id": "4o3Wls9vU6Fc"
      }
    },
    {
      "cell_type": "code",
      "source": [
        "w = [randint(0, 100)/ 100, randint(0, 100)/ 100]\n",
        "print(w)\n",
        "\n",
        "speed = 0.3\n",
        "\n",
        "x_train = [[1, 1], [1, 0], [0, 1], [0, 0]]\n",
        "y_train = [0, 1, 0, 0]"
      ],
      "metadata": {
        "colab": {
          "base_uri": "https://localhost:8080/"
        },
        "id": "qY37ssXaU4r4",
        "outputId": "adfdc138-4e59-43e4-ab4f-7247a139d033"
      },
      "execution_count": null,
      "outputs": [
        {
          "output_type": "stream",
          "name": "stdout",
          "text": [
            "[0.63, 0.47]\n"
          ]
        }
      ]
    },
    {
      "cell_type": "code",
      "source": [
        "def predict_1(x_train):\n",
        "  summator = x_train[0] * w[0] + x_train[1] * w[1] \n",
        "  act = 1 if summator >= 1 else 0\n",
        "  return act"
      ],
      "metadata": {
        "id": "PzNSKBTXVLvE"
      },
      "execution_count": null,
      "outputs": []
    },
    {
      "cell_type": "code",
      "source": [
        "def train(x_train, y_train, w):\n",
        "  for i in range(len(x_train)):\n",
        "    error = y_train[i] - predict_1(x_train[i])\n",
        "    if error != 0:\n",
        "      w[0] = w[0] + error + x_train[i][0] * speed \n",
        "      w[1] = w[1] + error + x_train[i][1] * speed \n",
        "    print(error, w, y_train[i])"
      ],
      "metadata": {
        "id": "kY90bUETVOD9"
      },
      "execution_count": null,
      "outputs": []
    },
    {
      "cell_type": "code",
      "source": [
        "train(x_train, y_train, w)"
      ],
      "metadata": {
        "colab": {
          "base_uri": "https://localhost:8080/"
        },
        "id": "1Q8K0IMXVV1b",
        "outputId": "5c34c5fd-0684-4fb0-ba12-0d19a369d72c"
      },
      "execution_count": null,
      "outputs": [
        {
          "output_type": "stream",
          "name": "stdout",
          "text": [
            "-1 [1.1300000000000006, -0.5299999999999996] 0\n",
            "0 [1.1300000000000006, -0.5299999999999996] 1\n",
            "0 [1.1300000000000006, -0.5299999999999996] 0\n",
            "0 [1.1300000000000006, -0.5299999999999996] 0\n"
          ]
        }
      ]
    },
    {
      "cell_type": "code",
      "source": [
        "\n",
        "print(predict_1([1,1]))\n",
        "print(predict_1([1,0]))\n",
        "print(predict_1([0,1]))\n",
        "print(predict_1([0,0]))"
      ],
      "metadata": {
        "colab": {
          "base_uri": "https://localhost:8080/"
        },
        "id": "_gP1OKp_WiFa",
        "outputId": "3b5abb73-5141-4d68-dc7b-af89c424bfd2"
      },
      "execution_count": null,
      "outputs": [
        {
          "output_type": "stream",
          "name": "stdout",
          "text": [
            "0\n",
            "1\n",
            "0\n",
            "0\n"
          ]
        }
      ]
    },
    {
      "cell_type": "markdown",
      "source": [
        "xor2"
      ],
      "metadata": {
        "id": "uryBDvM-HESS"
      }
    },
    {
      "cell_type": "code",
      "source": [
        "w = [randint(0, 100)/ 100, randint(0, 100)/ 100]\n",
        "print(w)\n",
        "\n",
        "speed = 0.3\n",
        "\n",
        "x_train = [[1, 1], [1, 0], [0, 1], [0, 0]]\n",
        "y_train = [0, 0, 1, 0]"
      ],
      "metadata": {
        "colab": {
          "base_uri": "https://localhost:8080/"
        },
        "id": "wKZCtObMHK4t",
        "outputId": "8ce2adec-0dc4-4200-a79a-0f73e01f8733"
      },
      "execution_count": null,
      "outputs": [
        {
          "output_type": "stream",
          "name": "stdout",
          "text": [
            "[0.57, 0.0]\n"
          ]
        }
      ]
    },
    {
      "cell_type": "code",
      "source": [
        "def predict_2(x_train):\n",
        "  summator = x_train[0] * w[0] + x_train[1] * w[1] \n",
        "  act = 1 if summator >= 1 else 0\n",
        "  return act"
      ],
      "metadata": {
        "id": "6WDqoFUCIYD1"
      },
      "execution_count": null,
      "outputs": []
    },
    {
      "cell_type": "code",
      "source": [
        "def train(x_train, y_train, w):\n",
        "  for i in range(len(x_train)):\n",
        "    error = y_train[i] - predict_2(x_train[i])\n",
        "    if error != 0:\n",
        "      w[0] = w[0] + error + x_train[i][0] * speed \n",
        "      w[1] = w[1] + error + x_train[i][1] * speed \n",
        "    print(error, w, y_train[i])"
      ],
      "metadata": {
        "id": "HCc-M0tOIcMb"
      },
      "execution_count": null,
      "outputs": []
    },
    {
      "cell_type": "code",
      "source": [
        "train(x_train, y_train, w)"
      ],
      "metadata": {
        "colab": {
          "base_uri": "https://localhost:8080/"
        },
        "id": "iDz1FHMlIf0u",
        "outputId": "9cf65e2c-bd80-4120-f192-b859168b4a96"
      },
      "execution_count": null,
      "outputs": [
        {
          "output_type": "stream",
          "name": "stdout",
          "text": [
            "-1 [-0.6299999999999994, 1.2000000000000002] 0\n",
            "0 [-0.6299999999999994, 1.2000000000000002] 0\n",
            "0 [-0.6299999999999994, 1.2000000000000002] 1\n",
            "0 [-0.6299999999999994, 1.2000000000000002] 0\n"
          ]
        }
      ]
    },
    {
      "cell_type": "code",
      "source": [
        "print(predict_2([1,1]))\n",
        "print(predict_2([1,0]))\n",
        "print(predict_2([0,1]))\n",
        "print(predict_2([0,0]))"
      ],
      "metadata": {
        "colab": {
          "base_uri": "https://localhost:8080/"
        },
        "id": "KRpBjQyoIjoP",
        "outputId": "867d86bc-240d-4c1a-ba95-203c8b5f5aaa"
      },
      "execution_count": null,
      "outputs": [
        {
          "output_type": "stream",
          "name": "stdout",
          "text": [
            "0\n",
            "0\n",
            "1\n",
            "0\n"
          ]
        }
      ]
    },
    {
      "cell_type": "markdown",
      "source": [
        "XOR"
      ],
      "metadata": {
        "id": "WNIDORtYSgdm"
      }
    },
    {
      "cell_type": "code",
      "source": [
        "w = [1, -1]\n",
        "print(w)\n",
        "\n",
        "speed = 0.3\n",
        "\n",
        "x_train = [[1, 1], [1, 0], [0, 1], [0, 0]]\n",
        "y_train = [0, 1, 1, 0]\n"
      ],
      "metadata": {
        "colab": {
          "base_uri": "https://localhost:8080/"
        },
        "id": "eW9VXROaRnDL",
        "outputId": "8065e797-0ac1-494c-df06-dbf878689c6a"
      },
      "execution_count": null,
      "outputs": [
        {
          "output_type": "stream",
          "name": "stdout",
          "text": [
            "[1, -1]\n"
          ]
        }
      ]
    },
    {
      "cell_type": "code",
      "source": [
        "def predict(x_train):\n",
        "  summator = x_train[0] * w[0] + x_train[1] * w[1]\n",
        "  act = abs(summator)\n",
        "  act = 1 if act >= 0.5 else 0\n",
        "  return act"
      ],
      "metadata": {
        "id": "eH8i8QizS1U4"
      },
      "execution_count": null,
      "outputs": []
    },
    {
      "cell_type": "code",
      "source": [
        "def train(x_train, y_train, w):\n",
        "  for i in range(len(x_train)):\n",
        "    error = y_train[i] - predict_2(x_train[i])\n",
        "    if error != 0:\n",
        "      w[0] = w[0] + error + x_train[i][0] * speed \n",
        "      w[1] = w[1] + error + x_train[i][1] * speed \n",
        "    print(error, w, y_train[i])"
      ],
      "metadata": {
        "id": "3SvOMfMrSjkn"
      },
      "execution_count": null,
      "outputs": []
    },
    {
      "cell_type": "code",
      "source": [
        "train(x_train, y_train, w)"
      ],
      "metadata": {
        "colab": {
          "base_uri": "https://localhost:8080/"
        },
        "id": "AHDYSeAxUm1v",
        "outputId": "dcb769fc-fba8-4fae-8cdf-b4902ba283d8"
      },
      "execution_count": null,
      "outputs": [
        {
          "output_type": "stream",
          "name": "stdout",
          "text": [
            "-1 [1.7999999999999992, 1.3] 0\n",
            "0 [1.7999999999999992, 1.3] 1\n",
            "0 [1.7999999999999992, 1.3] 1\n",
            "0 [1.7999999999999992, 1.3] 0\n"
          ]
        }
      ]
    },
    {
      "cell_type": "code",
      "source": [
        "print(predict([1,1]))\n",
        "print(predict([1,0]))\n",
        "print(predict([0,1]))\n",
        "print(predict([0,0]))"
      ],
      "metadata": {
        "colab": {
          "base_uri": "https://localhost:8080/"
        },
        "id": "NoniUJaTSnGx",
        "outputId": "16cd45b2-5a50-4e79-ad24-eac6c188542f"
      },
      "execution_count": null,
      "outputs": [
        {
          "output_type": "stream",
          "name": "stdout",
          "text": [
            "1\n",
            "1\n",
            "1\n",
            "0\n"
          ]
        }
      ]
    },
    {
      "cell_type": "markdown",
      "source": [
        "----------------------------"
      ],
      "metadata": {
        "id": "vBGtt5ouSjmy"
      }
    },
    {
      "cell_type": "code",
      "source": [
        "w = [randint(0, 100)/ 100, randint(0, 100)/ 100, randint(0, 100)/ 100]\n",
        "print(w)\n",
        "\n",
        "speed = 0.3\n",
        "\n",
        "x_train = [[1, 1, 1], [1, 0, 1], [0, 1, 1], [0, 0, 1]]\n",
        "y_train = [1, 0, 1, 1]\n"
      ],
      "metadata": {
        "colab": {
          "base_uri": "https://localhost:8080/"
        },
        "id": "c4UYHLQWMyRM",
        "outputId": "bdc525e9-caf5-438b-c5df-3b15996ebe38"
      },
      "execution_count": null,
      "outputs": [
        {
          "output_type": "stream",
          "name": "stdout",
          "text": [
            "[0.67, 0.2, 0.41]\n"
          ]
        }
      ]
    },
    {
      "cell_type": "code",
      "source": [
        "def predict(x_train):\n",
        "  summator = x_train[0] * w[0] + x_train[1] * w[1] + x_train[2] + w[2]\n",
        "  act = abs(summator)\n",
        "  act = 1 if act >= 1 else 0\n",
        "  return act"
      ],
      "metadata": {
        "id": "jprZ3K7fM6Oq"
      },
      "execution_count": null,
      "outputs": []
    },
    {
      "cell_type": "code",
      "source": [
        "\n",
        "def train(x_train, y_train, w):\n",
        "  for i in range(len(x_train)):\n",
        "    error = y_train[i] - predict(x_train[i])\n",
        "    if error != 0:\n",
        "      w[0] = w[0] + error + x_train[i][0] * speed \n",
        "      w[1] = w[1] + error + x_train[i][1] * speed \n",
        "      w[2] = w[2] + error + x_train[i][2] * speed\n",
        "    print(error, w, y_train[i])"
      ],
      "metadata": {
        "id": "0bA1IpE4OB_Q"
      },
      "execution_count": null,
      "outputs": []
    },
    {
      "cell_type": "code",
      "source": [
        "train(x_train, y_train, w)"
      ],
      "metadata": {
        "colab": {
          "base_uri": "https://localhost:8080/"
        },
        "id": "2Z63atkSP3TK",
        "outputId": "46cb433e-7b4c-4101-9632-ceaa703f5fe1"
      },
      "execution_count": null,
      "outputs": [
        {
          "output_type": "stream",
          "name": "stdout",
          "text": [
            "0 [0.67, 0.2, 0.41] 1\n",
            "-1 [-0.02999999999999997, -0.8, -0.2900000000000001] 0\n",
            "1 [0.97, 0.49999999999999994, 1.01] 1\n",
            "0 [0.97, 0.49999999999999994, 1.01] 1\n"
          ]
        }
      ]
    },
    {
      "cell_type": "code",
      "source": [
        "print(predict([1,1,1]))\n",
        "print(predict([1,0,1]))\n",
        "print(predict([0,1,1]))\n",
        "print(predict([0,0,1]))\n"
      ],
      "metadata": {
        "colab": {
          "base_uri": "https://localhost:8080/"
        },
        "id": "5RK2M4mxNIxe",
        "outputId": "ce55ac5d-b795-45da-daef-17294051c96e"
      },
      "execution_count": null,
      "outputs": [
        {
          "output_type": "stream",
          "name": "stdout",
          "text": [
            "1\n",
            "1\n",
            "1\n",
            "1\n"
          ]
        },
        {
          "output_type": "execute_result",
          "data": {
            "text/plain": [
              "[0.97, 0.49999999999999994, 1.01]"
            ]
          },
          "metadata": {},
          "execution_count": 97
        }
      ]
    },
    {
      "cell_type": "code",
      "source": [],
      "metadata": {
        "id": "Pzs9w5rIQeWY"
      },
      "execution_count": null,
      "outputs": []
    }
  ]
}