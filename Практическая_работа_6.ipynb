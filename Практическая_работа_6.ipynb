{
  "cells": [
    {
      "cell_type": "markdown",
      "metadata": {
        "id": "view-in-github",
        "colab_type": "text"
      },
      "source": [
        "<a href=\"https://colab.research.google.com/github/nadya-az/artificial_neural_networks/blob/main/%D0%9F%D1%80%D0%B0%D0%BA%D1%82%D0%B8%D1%87%D0%B5%D1%81%D0%BA%D0%B0%D1%8F_%D1%80%D0%B0%D0%B1%D0%BE%D1%82%D0%B0_6.ipynb\" target=\"_parent\"><img src=\"https://colab.research.google.com/assets/colab-badge.svg\" alt=\"Open In Colab\"/></a>"
      ]
    },
    {
      "cell_type": "markdown",
      "metadata": {
        "id": "PWp7TwrmD-s7"
      },
      "source": [
        "Задание 1"
      ]
    },
    {
      "cell_type": "code",
      "execution_count": 32,
      "metadata": {
        "id": "PGZZGSpxD36q"
      },
      "outputs": [],
      "source": [
        "from imutils import paths\n",
        "from sklearn.model_selection import train_test_split\n",
        "from keras.layers import Conv2D, UpSampling2D, Input\n",
        "from keras.models import Sequential, Model\n",
        "from keras.preprocessing.image import ImageDataGenerator\n",
        "from keras.applications.vgg19 import VGG19\n",
        "from keras.datasets import cifar100\n",
        "import tensorflow as tf\n",
        "from tensorflow.keras import layers\n",
        "from tensorflow.keras.utils import img_to_array, load_img\n",
        "from skimage.color import rgb2lab, lab2rgb, gray2rgb, rgb2gray\n",
        "from skimage.transform import resize\n",
        "from skimage.io import imsave\n",
        "from matplotlib import pyplot as plt\n",
        "import numpy as np\n",
        "import tensorflow as tf\n",
        "import keras\n",
        "import cv2\n",
        "import os\n",
        "\n",
        "#imagePaths = sorted(list(paths.list_images(\"/content/drive/MyDrive/imagenet-mini\")))"
      ]
    },
    {
      "cell_type": "code",
      "execution_count": 33,
      "metadata": {
        "colab": {
          "base_uri": "https://localhost:8080/"
        },
        "id": "N9gy7FN032m3",
        "outputId": "5a270475-16fd-4925-f695-adef0ebea600"
      },
      "outputs": [
        {
          "output_type": "stream",
          "name": "stdout",
          "text": [
            "Downloading data from https://www.cs.toronto.edu/~kriz/cifar-100-python.tar.gz\n",
            "169001437/169001437 [==============================] - 2s 0us/step\n"
          ]
        }
      ],
      "source": [
        "(x_train, _), (x_test, _) = cifar100.load_data()"
      ]
    },
    {
      "cell_type": "code",
      "source": [
        "gray_train = np.mean(x_train, axis=-1, keepdims=True)\n",
        "gray_test = np.mean(x_test, axis=-1, keepdims=True)"
      ],
      "metadata": {
        "id": "YPU22LPJph48"
      },
      "execution_count": 34,
      "outputs": []
    },
    {
      "cell_type": "code",
      "source": [
        "x_train = x_train / 255.0\n",
        "x_test = x_test / 255.0\n",
        "gray_train = gray_train / 255.0\n",
        "gray_test = gray_test / 255.0"
      ],
      "metadata": {
        "id": "bMl3UXrSpmyU"
      },
      "execution_count": 35,
      "outputs": []
    },
    {
      "cell_type": "code",
      "source": [
        "def build_autoencoder():\n",
        "    # Кодировщик\n",
        "    input_shape = (32, 32, 1)\n",
        "    inputs = Input(shape=input_shape)\n",
        "    vgg19 = VGG19(include_top=False, weights='imagenet', input_tensor=inputs)\n",
        "    for layer in vgg19.layers:\n",
        "        layer.trainable = False\n",
        "    encoded = vgg19.get_layer('block5_conv4').output\n",
        "\n",
        "    decoded = Conv2D(128, (3, 3), activation='relu', padding='same')(encoded)\n",
        "    decoded = UpSampling2D((2, 2))(decoded)\n",
        "    decoded = Conv2D(64, (3, 3), activation='relu', padding='same')(decoded)\n",
        "    decoded = UpSampling2D((2, 2))(decoded)\n",
        "    decoded = Conv2D(32, (3, 3), activation='relu', padding='same')(decoded)\n",
        "    decoded = UpSampling2D((2, 2))(decoded)\n",
        "    decoded = Conv2D(16, (3, 3), activation='relu', padding='same')(decoded)\n",
        "    decoded = UpSampling2D((2, 2))(decoded)\n",
        "    decoded = Conv2D(3, (3,3), activation='sigmoid', padding='same')(decoded)\n",
        "\n",
        "    autoencoder = Model(inputs, decoded)\n",
        "\n",
        "    autoencoder.compile(optimizer='adam', loss='mse')\n",
        "\n",
        "    return autoencoder"
      ],
      "metadata": {
        "id": "cwq5rBn0pqrK"
      },
      "execution_count": 51,
      "outputs": []
    },
    {
      "cell_type": "code",
      "source": [
        "gray_train = gray_train.reshape(gray_train.shape[0], gray_train.shape[1], gray_train.shape[2], 1)\n",
        "gray_test = gray_test.reshape(gray_test.shape[0], gray_test.shape[1], gray_test.shape[2], 1)"
      ],
      "metadata": {
        "id": "EaWcNRz_rqNT"
      },
      "execution_count": 52,
      "outputs": []
    },
    {
      "cell_type": "code",
      "source": [
        "model = build_autoencoder()\n",
        "model.fit(gray_train, x_train, batch_size=32, epochs=10, validation_data=(gray_test, x_test))"
      ],
      "metadata": {
        "id": "OADEOLiBrtWU",
        "outputId": "c751781f-6bb2-4f4f-e329-8e5c556ce4b0",
        "colab": {
          "base_uri": "https://localhost:8080/",
          "height": 416
        }
      },
      "execution_count": 53,
      "outputs": [
        {
          "output_type": "stream",
          "name": "stdout",
          "text": [
            "Downloading data from https://storage.googleapis.com/tensorflow/keras-applications/vgg19/vgg19_weights_tf_dim_ordering_tf_kernels_notop.h5\n",
            "80134624/80134624 [==============================] - 1s 0us/step\n"
          ]
        },
        {
          "output_type": "error",
          "ename": "ValueError",
          "evalue": "ignored",
          "traceback": [
            "\u001b[0;31m---------------------------------------------------------------------------\u001b[0m",
            "\u001b[0;31mValueError\u001b[0m                                Traceback (most recent call last)",
            "\u001b[0;32m<ipython-input-53-9c72e75982d6>\u001b[0m in \u001b[0;36m<cell line: 1>\u001b[0;34m()\u001b[0m\n\u001b[0;32m----> 1\u001b[0;31m \u001b[0mmodel\u001b[0m \u001b[0;34m=\u001b[0m \u001b[0mbuild_autoencoder\u001b[0m\u001b[0;34m(\u001b[0m\u001b[0;34m)\u001b[0m\u001b[0;34m\u001b[0m\u001b[0;34m\u001b[0m\u001b[0m\n\u001b[0m\u001b[1;32m      2\u001b[0m \u001b[0mmodel\u001b[0m\u001b[0;34m.\u001b[0m\u001b[0mfit\u001b[0m\u001b[0;34m(\u001b[0m\u001b[0mgray_train\u001b[0m\u001b[0;34m,\u001b[0m \u001b[0mx_train\u001b[0m\u001b[0;34m,\u001b[0m \u001b[0mbatch_size\u001b[0m\u001b[0;34m=\u001b[0m\u001b[0;36m32\u001b[0m\u001b[0;34m,\u001b[0m \u001b[0mepochs\u001b[0m\u001b[0;34m=\u001b[0m\u001b[0;36m10\u001b[0m\u001b[0;34m,\u001b[0m \u001b[0mvalidation_data\u001b[0m\u001b[0;34m=\u001b[0m\u001b[0;34m(\u001b[0m\u001b[0mgray_test\u001b[0m\u001b[0;34m,\u001b[0m \u001b[0mx_test\u001b[0m\u001b[0;34m)\u001b[0m\u001b[0;34m)\u001b[0m\u001b[0;34m\u001b[0m\u001b[0;34m\u001b[0m\u001b[0m\n",
            "\u001b[0;32m<ipython-input-51-455bcbbca75a>\u001b[0m in \u001b[0;36mbuild_autoencoder\u001b[0;34m()\u001b[0m\n\u001b[1;32m      3\u001b[0m     \u001b[0minput_shape\u001b[0m \u001b[0;34m=\u001b[0m \u001b[0;34m(\u001b[0m\u001b[0;36m32\u001b[0m\u001b[0;34m,\u001b[0m \u001b[0;36m32\u001b[0m\u001b[0;34m,\u001b[0m \u001b[0;36m1\u001b[0m\u001b[0;34m)\u001b[0m\u001b[0;34m\u001b[0m\u001b[0;34m\u001b[0m\u001b[0m\n\u001b[1;32m      4\u001b[0m     \u001b[0minputs\u001b[0m \u001b[0;34m=\u001b[0m \u001b[0mInput\u001b[0m\u001b[0;34m(\u001b[0m\u001b[0mshape\u001b[0m\u001b[0;34m=\u001b[0m\u001b[0minput_shape\u001b[0m\u001b[0;34m)\u001b[0m\u001b[0;34m\u001b[0m\u001b[0;34m\u001b[0m\u001b[0m\n\u001b[0;32m----> 5\u001b[0;31m     \u001b[0mvgg19\u001b[0m \u001b[0;34m=\u001b[0m \u001b[0mVGG19\u001b[0m\u001b[0;34m(\u001b[0m\u001b[0minclude_top\u001b[0m\u001b[0;34m=\u001b[0m\u001b[0;32mFalse\u001b[0m\u001b[0;34m,\u001b[0m \u001b[0mweights\u001b[0m\u001b[0;34m=\u001b[0m\u001b[0;34m'imagenet'\u001b[0m\u001b[0;34m,\u001b[0m \u001b[0minput_tensor\u001b[0m\u001b[0;34m=\u001b[0m\u001b[0minputs\u001b[0m\u001b[0;34m)\u001b[0m\u001b[0;34m\u001b[0m\u001b[0;34m\u001b[0m\u001b[0m\n\u001b[0m\u001b[1;32m      6\u001b[0m     \u001b[0;32mfor\u001b[0m \u001b[0mlayer\u001b[0m \u001b[0;32min\u001b[0m \u001b[0mvgg19\u001b[0m\u001b[0;34m.\u001b[0m\u001b[0mlayers\u001b[0m\u001b[0;34m:\u001b[0m\u001b[0;34m\u001b[0m\u001b[0;34m\u001b[0m\u001b[0m\n\u001b[1;32m      7\u001b[0m         \u001b[0mlayer\u001b[0m\u001b[0;34m.\u001b[0m\u001b[0mtrainable\u001b[0m \u001b[0;34m=\u001b[0m \u001b[0;32mFalse\u001b[0m\u001b[0;34m\u001b[0m\u001b[0;34m\u001b[0m\u001b[0m\n",
            "\u001b[0;32m/usr/local/lib/python3.10/dist-packages/keras/applications/vgg19.py\u001b[0m in \u001b[0;36mVGG19\u001b[0;34m(include_top, weights, input_tensor, input_shape, pooling, classes, classifier_activation)\u001b[0m\n\u001b[1;32m    254\u001b[0m                 \u001b[0mfile_hash\u001b[0m\u001b[0;34m=\u001b[0m\u001b[0;34m\"253f8cb515780f3b799900260a226db6\"\u001b[0m\u001b[0;34m,\u001b[0m\u001b[0;34m\u001b[0m\u001b[0;34m\u001b[0m\u001b[0m\n\u001b[1;32m    255\u001b[0m             )\n\u001b[0;32m--> 256\u001b[0;31m         \u001b[0mmodel\u001b[0m\u001b[0;34m.\u001b[0m\u001b[0mload_weights\u001b[0m\u001b[0;34m(\u001b[0m\u001b[0mweights_path\u001b[0m\u001b[0;34m)\u001b[0m\u001b[0;34m\u001b[0m\u001b[0;34m\u001b[0m\u001b[0m\n\u001b[0m\u001b[1;32m    257\u001b[0m     \u001b[0;32melif\u001b[0m \u001b[0mweights\u001b[0m \u001b[0;32mis\u001b[0m \u001b[0;32mnot\u001b[0m \u001b[0;32mNone\u001b[0m\u001b[0;34m:\u001b[0m\u001b[0;34m\u001b[0m\u001b[0;34m\u001b[0m\u001b[0m\n\u001b[1;32m    258\u001b[0m         \u001b[0mmodel\u001b[0m\u001b[0;34m.\u001b[0m\u001b[0mload_weights\u001b[0m\u001b[0;34m(\u001b[0m\u001b[0mweights\u001b[0m\u001b[0;34m)\u001b[0m\u001b[0;34m\u001b[0m\u001b[0;34m\u001b[0m\u001b[0m\n",
            "\u001b[0;32m/usr/local/lib/python3.10/dist-packages/keras/utils/traceback_utils.py\u001b[0m in \u001b[0;36merror_handler\u001b[0;34m(*args, **kwargs)\u001b[0m\n\u001b[1;32m     68\u001b[0m             \u001b[0;31m# To get the full stack trace, call:\u001b[0m\u001b[0;34m\u001b[0m\u001b[0;34m\u001b[0m\u001b[0m\n\u001b[1;32m     69\u001b[0m             \u001b[0;31m# `tf.debugging.disable_traceback_filtering()`\u001b[0m\u001b[0;34m\u001b[0m\u001b[0;34m\u001b[0m\u001b[0m\n\u001b[0;32m---> 70\u001b[0;31m             \u001b[0;32mraise\u001b[0m \u001b[0me\u001b[0m\u001b[0;34m.\u001b[0m\u001b[0mwith_traceback\u001b[0m\u001b[0;34m(\u001b[0m\u001b[0mfiltered_tb\u001b[0m\u001b[0;34m)\u001b[0m \u001b[0;32mfrom\u001b[0m \u001b[0;32mNone\u001b[0m\u001b[0;34m\u001b[0m\u001b[0;34m\u001b[0m\u001b[0m\n\u001b[0m\u001b[1;32m     71\u001b[0m         \u001b[0;32mfinally\u001b[0m\u001b[0;34m:\u001b[0m\u001b[0;34m\u001b[0m\u001b[0;34m\u001b[0m\u001b[0m\n\u001b[1;32m     72\u001b[0m             \u001b[0;32mdel\u001b[0m \u001b[0mfiltered_tb\u001b[0m\u001b[0;34m\u001b[0m\u001b[0;34m\u001b[0m\u001b[0m\n",
            "\u001b[0;32m/usr/local/lib/python3.10/dist-packages/keras/backend.py\u001b[0m in \u001b[0;36m_assign_value_to_variable\u001b[0;34m(variable, value)\u001b[0m\n\u001b[1;32m   4358\u001b[0m     \u001b[0;32melse\u001b[0m\u001b[0;34m:\u001b[0m\u001b[0;34m\u001b[0m\u001b[0;34m\u001b[0m\u001b[0m\n\u001b[1;32m   4359\u001b[0m         \u001b[0;31m# For the normal tf.Variable assign\u001b[0m\u001b[0;34m\u001b[0m\u001b[0;34m\u001b[0m\u001b[0m\n\u001b[0;32m-> 4360\u001b[0;31m         \u001b[0mvariable\u001b[0m\u001b[0;34m.\u001b[0m\u001b[0massign\u001b[0m\u001b[0;34m(\u001b[0m\u001b[0mvalue\u001b[0m\u001b[0;34m)\u001b[0m\u001b[0;34m\u001b[0m\u001b[0;34m\u001b[0m\u001b[0m\n\u001b[0m\u001b[1;32m   4361\u001b[0m \u001b[0;34m\u001b[0m\u001b[0m\n\u001b[1;32m   4362\u001b[0m \u001b[0;34m\u001b[0m\u001b[0m\n",
            "\u001b[0;31mValueError\u001b[0m: Cannot assign value to variable ' block1_conv1/kernel:0': Shape mismatch.The variable shape (3, 3, 1, 64), and the assigned value shape (64, 3, 3, 3) are incompatible."
          ]
        }
      ]
    },
    {
      "cell_type": "code",
      "execution_count": 3,
      "metadata": {
        "id": "Q3KT7uOM4jhr"
      },
      "outputs": [],
      "source": [
        "for layer in newmodel.layers:\n",
        "  layer.trainable=False"
      ]
    },
    {
      "cell_type": "code",
      "execution_count": 4,
      "metadata": {
        "colab": {
          "base_uri": "https://localhost:8080/"
        },
        "id": "iPhoAwcc4q4v",
        "outputId": "e9e01dfe-313c-4cf2-9e7d-e0f0b67d99d2"
      },
      "outputs": [
        {
          "output_type": "stream",
          "name": "stdout",
          "text": [
            "Found 38924 images belonging to 2 classes.\n",
            "<keras.preprocessing.image.DirectoryIterator object at 0x7fc9ef8aa7d0>\n"
          ]
        }
      ],
      "source": [
        "path = \"/content/drive/MyDrive/imagenet-mini\"\n",
        "\n",
        "train_datagen = ImageDataGenerator(rescale=1. / 255)\n",
        "train = train_datagen.flow_from_directory(path, target_size=(224, 224), batch_size=100, class_mode=None)\n",
        "\n",
        "print(train)"
      ]
    },
    {
      "cell_type": "code",
      "execution_count": 5,
      "metadata": {
        "colab": {
          "base_uri": "https://localhost:8080/"
        },
        "id": "Hx70kTdA47E3",
        "outputId": "16c4f1e7-9000-480a-82e3-bd9df10dae36"
      },
      "outputs": [
        {
          "output_type": "stream",
          "name": "stdout",
          "text": [
            "(100, 224, 224, 3)\n"
          ]
        }
      ],
      "source": [
        "print(train[0].shape)"
      ]
    },
    {
      "cell_type": "code",
      "execution_count": 6,
      "metadata": {
        "colab": {
          "base_uri": "https://localhost:8080/"
        },
        "id": "Pf49kOKy5AIb",
        "outputId": "7f602848-89bc-4f1c-ef3d-b1b84d97238c"
      },
      "outputs": [
        {
          "output_type": "stream",
          "name": "stdout",
          "text": [
            "(100, 224, 224, 1)\n",
            "(100, 224, 224, 2)\n"
          ]
        }
      ],
      "source": [
        "X =[]\n",
        "Y =[]\n",
        "for img in train[0]:\n",
        "  try:\n",
        "      lab = rgb2lab(img)\n",
        "      X.append(lab[:,:,0]) \n",
        "      Y.append(lab[:,:,1:] / 128) # Значения A и B находятся в диапазоне от -127 до 128, \n",
        "      # поэтому мы делим значения на 128, чтобы ограничить значения от -1 до 1.\n",
        "  except:\n",
        "     print('error')\n",
        "X = np.array(X)\n",
        "Y = np.array(Y)\n",
        "X = X.reshape(X.shape+(1,)) #размерности должны быть одинаковыми для X и Y\n",
        "print(X.shape)\n",
        "print(Y.shape)"
      ]
    },
    {
      "cell_type": "code",
      "execution_count": 7,
      "metadata": {
        "colab": {
          "base_uri": "https://localhost:8080/"
        },
        "id": "kCEe19A35Hnf",
        "outputId": "3f9844a3-6d72-4cad-a79e-3e212bd41218"
      },
      "outputs": [
        {
          "output_type": "stream",
          "name": "stdout",
          "text": [
            "1/1 [==============================] - 1s 879ms/step\n",
            "1/1 [==============================] - 1s 681ms/step\n",
            "1/1 [==============================] - 1s 1s/step\n",
            "1/1 [==============================] - 1s 1s/step\n",
            "1/1 [==============================] - 1s 1s/step\n",
            "1/1 [==============================] - 1s 1s/step\n",
            "1/1 [==============================] - 1s 931ms/step\n",
            "1/1 [==============================] - 1s 1s/step\n",
            "1/1 [==============================] - 1s 643ms/step\n",
            "1/1 [==============================] - 1s 657ms/step\n",
            "1/1 [==============================] - 1s 656ms/step\n",
            "1/1 [==============================] - 1s 654ms/step\n",
            "1/1 [==============================] - 1s 658ms/step\n",
            "1/1 [==============================] - 1s 651ms/step\n",
            "1/1 [==============================] - 1s 657ms/step\n",
            "1/1 [==============================] - 1s 661ms/step\n",
            "1/1 [==============================] - 1s 673ms/step\n",
            "1/1 [==============================] - 1s 820ms/step\n",
            "1/1 [==============================] - 1s 1s/step\n",
            "1/1 [==============================] - 1s 1s/step\n",
            "1/1 [==============================] - 1s 1s/step\n",
            "1/1 [==============================] - 1s 914ms/step\n",
            "1/1 [==============================] - 1s 655ms/step\n",
            "1/1 [==============================] - 1s 644ms/step\n",
            "1/1 [==============================] - 1s 636ms/step\n",
            "1/1 [==============================] - 1s 664ms/step\n",
            "1/1 [==============================] - 1s 663ms/step\n",
            "1/1 [==============================] - 1s 631ms/step\n",
            "1/1 [==============================] - 1s 649ms/step\n",
            "1/1 [==============================] - 1s 659ms/step\n",
            "1/1 [==============================] - 1s 638ms/step\n",
            "1/1 [==============================] - 1s 662ms/step\n",
            "1/1 [==============================] - 1s 664ms/step\n",
            "1/1 [==============================] - 1s 650ms/step\n",
            "1/1 [==============================] - 1s 656ms/step\n",
            "1/1 [==============================] - 1s 714ms/step\n",
            "1/1 [==============================] - 1s 1s/step\n",
            "1/1 [==============================] - 1s 1s/step\n",
            "1/1 [==============================] - 1s 1s/step\n",
            "1/1 [==============================] - 1s 987ms/step\n",
            "1/1 [==============================] - 1s 658ms/step\n",
            "1/1 [==============================] - 1s 644ms/step\n",
            "1/1 [==============================] - 1s 637ms/step\n",
            "1/1 [==============================] - 1s 659ms/step\n",
            "1/1 [==============================] - 1s 649ms/step\n",
            "1/1 [==============================] - 1s 655ms/step\n",
            "1/1 [==============================] - 1s 656ms/step\n",
            "1/1 [==============================] - 1s 661ms/step\n",
            "1/1 [==============================] - 1s 651ms/step\n",
            "1/1 [==============================] - 1s 656ms/step\n",
            "1/1 [==============================] - 1s 662ms/step\n",
            "1/1 [==============================] - 1s 663ms/step\n",
            "1/1 [==============================] - 1s 639ms/step\n",
            "1/1 [==============================] - 1s 708ms/step\n",
            "1/1 [==============================] - 1s 1s/step\n",
            "1/1 [==============================] - 1s 1s/step\n",
            "1/1 [==============================] - 1s 1s/step\n",
            "1/1 [==============================] - 1s 1s/step\n",
            "1/1 [==============================] - 1s 636ms/step\n",
            "1/1 [==============================] - 1s 650ms/step\n",
            "1/1 [==============================] - 1s 657ms/step\n",
            "1/1 [==============================] - 1s 639ms/step\n",
            "1/1 [==============================] - 1s 649ms/step\n",
            "1/1 [==============================] - 1s 652ms/step\n",
            "1/1 [==============================] - 1s 640ms/step\n",
            "1/1 [==============================] - 1s 648ms/step\n",
            "1/1 [==============================] - 1s 658ms/step\n",
            "1/1 [==============================] - 1s 648ms/step\n",
            "1/1 [==============================] - 1s 657ms/step\n",
            "1/1 [==============================] - 1s 656ms/step\n",
            "1/1 [==============================] - 1s 676ms/step\n",
            "1/1 [==============================] - 1s 645ms/step\n",
            "1/1 [==============================] - 1s 1s/step\n",
            "1/1 [==============================] - 1s 1s/step\n",
            "1/1 [==============================] - 1s 1s/step\n",
            "1/1 [==============================] - 1s 689ms/step\n",
            "1/1 [==============================] - 1s 695ms/step\n",
            "1/1 [==============================] - 1s 665ms/step\n",
            "1/1 [==============================] - 1s 650ms/step\n",
            "1/1 [==============================] - 1s 645ms/step\n",
            "1/1 [==============================] - 1s 656ms/step\n",
            "1/1 [==============================] - 1s 645ms/step\n",
            "1/1 [==============================] - 1s 642ms/step\n",
            "1/1 [==============================] - 1s 644ms/step\n",
            "1/1 [==============================] - 1s 648ms/step\n",
            "1/1 [==============================] - 1s 650ms/step\n",
            "1/1 [==============================] - 1s 653ms/step\n",
            "1/1 [==============================] - 1s 649ms/step\n",
            "1/1 [==============================] - 1s 830ms/step\n",
            "1/1 [==============================] - 1s 1s/step\n",
            "1/1 [==============================] - 1s 1s/step\n",
            "1/1 [==============================] - 1s 1s/step\n",
            "1/1 [==============================] - 1s 647ms/step\n",
            "1/1 [==============================] - 1s 649ms/step\n",
            "1/1 [==============================] - 1s 651ms/step\n",
            "1/1 [==============================] - 1s 645ms/step\n",
            "1/1 [==============================] - 1s 647ms/step\n",
            "1/1 [==============================] - 1s 650ms/step\n",
            "1/1 [==============================] - 1s 636ms/step\n",
            "1/1 [==============================] - 1s 655ms/step\n",
            "(100, 14, 14, 512)\n"
          ]
        }
      ],
      "source": [
        "vvggfeatures = []\n",
        "for i, sample in enumerate(X):\n",
        "  sample = gray2rgb(sample)\n",
        "  sample = sample.reshape((1,224,224,3))\n",
        "  sample = keras.applications.vgg19.preprocess_input(sample)\n",
        "  prediction = newmodel.predict(sample)\n",
        "  prediction = prediction.reshape((14,14,512))\n",
        "  vvggfeatures.append(prediction)\n",
        "vggfeatures = np.array(vvggfeatures)\n",
        "print(vggfeatures.shape)"
      ]
    },
    {
      "cell_type": "code",
      "execution_count": 8,
      "metadata": {
        "colab": {
          "base_uri": "https://localhost:8080/"
        },
        "id": "6nPLcg9ybYRV",
        "outputId": "79460078-8252-4782-b077-4f4e62b0ac3e"
      },
      "outputs": [
        {
          "output_type": "stream",
          "name": "stdout",
          "text": [
            "1/1 [==============================] - 1s 687ms/step\n",
            "0\n",
            "1/1 [==============================] - 1s 640ms/step\n",
            "1\n",
            "1/1 [==============================] - 1s 688ms/step\n",
            "2\n",
            "1/1 [==============================] - 1s 661ms/step\n",
            "3\n",
            "1/1 [==============================] - 1s 662ms/step\n",
            "4\n",
            "1/1 [==============================] - 1s 678ms/step\n",
            "5\n",
            "1/1 [==============================] - 1s 1s/step\n",
            "6\n",
            "1/1 [==============================] - 1s 1s/step\n",
            "7\n",
            "1/1 [==============================] - 1s 1s/step\n",
            "8\n",
            "1/1 [==============================] - 1s 654ms/step\n",
            "9\n",
            "1/1 [==============================] - 1s 654ms/step\n",
            "10\n",
            "1/1 [==============================] - 1s 667ms/step\n",
            "11\n",
            "1/1 [==============================] - 1s 664ms/step\n",
            "12\n",
            "1/1 [==============================] - 1s 643ms/step\n",
            "13\n",
            "1/1 [==============================] - 1s 657ms/step\n",
            "14\n",
            "1/1 [==============================] - 1s 655ms/step\n",
            "15\n",
            "1/1 [==============================] - 1s 643ms/step\n",
            "16\n",
            "1/1 [==============================] - 1s 671ms/step\n",
            "17\n",
            "1/1 [==============================] - 1s 655ms/step\n",
            "18\n",
            "1/1 [==============================] - 1s 645ms/step\n",
            "19\n",
            "1/1 [==============================] - 1s 659ms/step\n",
            "20\n",
            "1/1 [==============================] - 1s 659ms/step\n",
            "21\n",
            "1/1 [==============================] - 1s 643ms/step\n",
            "22\n",
            "1/1 [==============================] - 1s 1s/step\n",
            "23\n",
            "1/1 [==============================] - 1s 1s/step\n",
            "24\n",
            "1/1 [==============================] - 1s 1s/step\n",
            "25\n",
            "1/1 [==============================] - 1s 840ms/step\n",
            "26\n",
            "1/1 [==============================] - 1s 645ms/step\n",
            "27\n",
            "1/1 [==============================] - 1s 655ms/step\n",
            "28\n",
            "1/1 [==============================] - 1s 655ms/step\n",
            "29\n",
            "1/1 [==============================] - 1s 653ms/step\n",
            "30\n",
            "1/1 [==============================] - 1s 651ms/step\n",
            "31\n",
            "1/1 [==============================] - 1s 667ms/step\n",
            "32\n",
            "1/1 [==============================] - 1s 650ms/step\n",
            "33\n",
            "1/1 [==============================] - 1s 652ms/step\n",
            "34\n",
            "1/1 [==============================] - 1s 663ms/step\n",
            "35\n",
            "1/1 [==============================] - 1s 667ms/step\n",
            "36\n",
            "1/1 [==============================] - 1s 632ms/step\n",
            "37\n",
            "1/1 [==============================] - 1s 667ms/step\n",
            "38\n",
            "1/1 [==============================] - 1s 657ms/step\n",
            "39\n",
            "1/1 [==============================] - 1s 779ms/step\n",
            "40\n",
            "1/1 [==============================] - 1s 1s/step\n",
            "41\n",
            "1/1 [==============================] - 1s 1s/step\n",
            "42\n",
            "1/1 [==============================] - 1s 966ms/step\n",
            "43\n",
            "1/1 [==============================] - 1s 653ms/step\n",
            "44\n",
            "1/1 [==============================] - 1s 650ms/step\n",
            "45\n",
            "1/1 [==============================] - 1s 663ms/step\n",
            "46\n",
            "1/1 [==============================] - 1s 659ms/step\n",
            "47\n",
            "1/1 [==============================] - 1s 646ms/step\n",
            "48\n",
            "1/1 [==============================] - 1s 675ms/step\n",
            "49\n",
            "1/1 [==============================] - 1s 658ms/step\n",
            "50\n",
            "1/1 [==============================] - 1s 649ms/step\n",
            "51\n",
            "1/1 [==============================] - 1s 687ms/step\n",
            "52\n",
            "1/1 [==============================] - 1s 662ms/step\n",
            "53\n",
            "1/1 [==============================] - 1s 649ms/step\n",
            "54\n",
            "1/1 [==============================] - 1s 671ms/step\n",
            "55\n",
            "1/1 [==============================] - 1s 661ms/step\n",
            "56\n",
            "1/1 [==============================] - 1s 917ms/step\n",
            "57\n",
            "1/1 [==============================] - 1s 1s/step\n",
            "58\n",
            "1/1 [==============================] - 1s 1s/step\n",
            "59\n",
            "1/1 [==============================] - 1s 900ms/step\n",
            "60\n",
            "1/1 [==============================] - 1s 681ms/step\n",
            "61\n",
            "1/1 [==============================] - 1s 674ms/step\n",
            "62\n",
            "1/1 [==============================] - 1s 671ms/step\n",
            "63\n",
            "1/1 [==============================] - 1s 649ms/step\n",
            "64\n",
            "1/1 [==============================] - 1s 660ms/step\n",
            "65\n",
            "1/1 [==============================] - 1s 665ms/step\n",
            "66\n",
            "1/1 [==============================] - 1s 654ms/step\n",
            "67\n",
            "1/1 [==============================] - 1s 665ms/step\n",
            "68\n",
            "1/1 [==============================] - 1s 658ms/step\n",
            "69\n",
            "1/1 [==============================] - 1s 653ms/step\n",
            "70\n",
            "1/1 [==============================] - 1s 659ms/step\n",
            "71\n",
            "1/1 [==============================] - 1s 661ms/step\n",
            "72\n",
            "1/1 [==============================] - 1s 647ms/step\n",
            "73\n",
            "1/1 [==============================] - 1s 894ms/step\n",
            "74\n",
            "1/1 [==============================] - 1s 1s/step\n",
            "75\n",
            "1/1 [==============================] - 1s 1s/step\n",
            "76\n",
            "1/1 [==============================] - 1s 946ms/step\n",
            "77\n",
            "1/1 [==============================] - 1s 653ms/step\n",
            "78\n",
            "1/1 [==============================] - 1s 654ms/step\n",
            "79\n",
            "1/1 [==============================] - 1s 652ms/step\n",
            "80\n",
            "1/1 [==============================] - 1s 646ms/step\n",
            "81\n",
            "1/1 [==============================] - 1s 656ms/step\n",
            "82\n",
            "1/1 [==============================] - 1s 666ms/step\n",
            "83\n",
            "1/1 [==============================] - 1s 657ms/step\n",
            "84\n",
            "1/1 [==============================] - 1s 652ms/step\n",
            "85\n",
            "1/1 [==============================] - 1s 653ms/step\n",
            "86\n",
            "1/1 [==============================] - 1s 668ms/step\n",
            "87\n",
            "1/1 [==============================] - 1s 656ms/step\n",
            "88\n",
            "1/1 [==============================] - 1s 659ms/step\n",
            "89\n",
            "1/1 [==============================] - 1s 663ms/step\n",
            "90\n",
            "1/1 [==============================] - 1s 708ms/step\n",
            "91\n",
            "1/1 [==============================] - 1s 1s/step\n",
            "92\n",
            "1/1 [==============================] - 1s 1s/step\n",
            "93\n",
            "1/1 [==============================] - 1s 1s/step\n",
            "94\n",
            "1/1 [==============================] - 1s 652ms/step\n",
            "95\n",
            "1/1 [==============================] - 1s 650ms/step\n",
            "96\n",
            "1/1 [==============================] - 1s 660ms/step\n",
            "97\n",
            "1/1 [==============================] - 1s 643ms/step\n",
            "98\n",
            "1/1 [==============================] - 1s 666ms/step\n",
            "99\n",
            "(100, 14, 14, 512)\n"
          ]
        }
      ],
      "source": [
        "vggfeatures_val = []\n",
        "\n",
        "for i, sample_val in enumerate(X):\n",
        "  sample_val = gray2rgb(sample_val)\n",
        "  sample_val = sample_val.reshape((1,224,224,3))\n",
        "  sample_val = keras.applications.vgg19.preprocess_input(sample_val)\n",
        "  prediction_val = newmodel.predict(sample_val)\n",
        "  prediction_val = prediction_val.reshape((14,14,512))\n",
        "  vggfeatures_val.append(prediction_val)\n",
        "  print(i)\n",
        "vggfeatures_val = np.array(vggfeatures_val)\n",
        "print(vggfeatures_val.shape)\n"
      ]
    },
    {
      "cell_type": "code",
      "execution_count": 9,
      "metadata": {
        "colab": {
          "base_uri": "https://localhost:8080/"
        },
        "id": "8GPlEMFdReLy",
        "outputId": "a2f2881c-45e8-4298-e005-bd86f968dc46"
      },
      "outputs": [
        {
          "output_type": "stream",
          "name": "stdout",
          "text": [
            "Model: \"sequential_1\"\n",
            "_________________________________________________________________\n",
            " Layer (type)                Output Shape              Param #   \n",
            "=================================================================\n",
            " conv2d (Conv2D)             (None, 14, 14, 256)       1179904   \n",
            "                                                                 \n",
            " conv2d_1 (Conv2D)           (None, 14, 14, 128)       295040    \n",
            "                                                                 \n",
            " up_sampling2d (UpSampling2D  (None, 28, 28, 128)      0         \n",
            " )                                                               \n",
            "                                                                 \n",
            " conv2d_2 (Conv2D)           (None, 28, 28, 64)        73792     \n",
            "                                                                 \n",
            " up_sampling2d_1 (UpSampling  (None, 56, 56, 64)       0         \n",
            " 2D)                                                             \n",
            "                                                                 \n",
            " conv2d_3 (Conv2D)           (None, 56, 56, 32)        18464     \n",
            "                                                                 \n",
            " up_sampling2d_2 (UpSampling  (None, 112, 112, 32)     0         \n",
            " 2D)                                                             \n",
            "                                                                 \n",
            " conv2d_4 (Conv2D)           (None, 112, 112, 16)      4624      \n",
            "                                                                 \n",
            " up_sampling2d_3 (UpSampling  (None, 224, 224, 16)     0         \n",
            " 2D)                                                             \n",
            "                                                                 \n",
            " conv2d_5 (Conv2D)           (None, 224, 224, 2)       290       \n",
            "                                                                 \n",
            " up_sampling2d_4 (UpSampling  (None, 224, 224, 2)      0         \n",
            " 2D)                                                             \n",
            "                                                                 \n",
            "=================================================================\n",
            "Total params: 1,572,114\n",
            "Trainable params: 1,572,114\n",
            "Non-trainable params: 0\n",
            "_________________________________________________________________\n"
          ]
        }
      ],
      "source": [
        "model = Sequential()\n",
        "\n",
        "model.add(Conv2D(256, (3,3), activation='relu', padding='same', input_shape=(14,14,512)))\n",
        "model.add(Conv2D(128, (3,3), activation='relu', padding='same'))\n",
        "model.add(UpSampling2D((2, 2)))\n",
        "model.add(Conv2D(64, (3,3), activation='relu', padding='same'))\n",
        "model.add(UpSampling2D((2, 2)))\n",
        "model.add(Conv2D(32, (3,3), activation='relu', padding='same'))\n",
        "model.add(UpSampling2D((2, 2)))\n",
        "model.add(Conv2D(16, (3,3), activation='relu', padding='same'))\n",
        "model.add(UpSampling2D((2, 2)))\n",
        "model.add(Conv2D(2, (3, 3), activation='tanh', padding='same'))\n",
        "model.add(UpSampling2D((1, 1)))\n",
        "model.summary()\n",
        "\n",
        "\n",
        "model.compile(optimizer='Adam', loss='mse' , metrics=['accuracy'])"
      ]
    },
    {
      "cell_type": "code",
      "execution_count": 10,
      "metadata": {
        "colab": {
          "base_uri": "https://localhost:8080/"
        },
        "id": "8F4d-5dORfdS",
        "outputId": "c78b3f78-b9d4-4f4a-d75d-2e94e1334850"
      },
      "outputs": [
        {
          "metadata": {
            "tags": null
          },
          "name": "stdout",
          "output_type": "stream",
          "text": [
            "Epoch 1/50\n",
            "1/1 [==============================] - 20s 20s/step - loss: 0.9365 - accuracy: 0.5508 - val_loss: 0.9601 - val_accuracy: 0.3784\n",
            "Epoch 2/50\n",
            "1/1 [==============================] - 18s 18s/step - loss: 0.9601 - accuracy: 0.3784 - val_loss: 0.9611 - val_accuracy: 0.3746\n",
            "Epoch 3/50\n",
            "1/1 [==============================] - 17s 17s/step - loss: 0.9611 - accuracy: 0.3746 - val_loss: 0.9613 - val_accuracy: 0.3756\n",
            "Epoch 4/50\n",
            "1/1 [==============================] - 17s 17s/step - loss: 0.9613 - accuracy: 0.3756 - val_loss: 0.9615 - val_accuracy: 0.3768\n",
            "Epoch 5/50\n",
            "1/1 [==============================] - 24s 24s/step - loss: 0.9615 - accuracy: 0.3768 - val_loss: 0.9616 - val_accuracy: 0.3753\n",
            "Epoch 6/50\n",
            "1/1 [==============================] - 17s 17s/step - loss: 0.9616 - accuracy: 0.3753 - val_loss: 0.9616 - val_accuracy: 0.3754\n",
            "Epoch 7/50\n",
            "1/1 [==============================] - 24s 24s/step - loss: 0.9616 - accuracy: 0.3754 - val_loss: 0.9617 - val_accuracy: 0.3763\n",
            "Epoch 8/50\n",
            "1/1 [==============================] - 19s 19s/step - loss: 0.9617 - accuracy: 0.3763 - val_loss: 0.9617 - val_accuracy: 0.3745\n",
            "Epoch 9/50\n",
            "1/1 [==============================] - 19s 19s/step - loss: 0.9617 - accuracy: 0.3745 - val_loss: 0.9618 - val_accuracy: 0.3727\n",
            "Epoch 10/50\n",
            "1/1 [==============================] - 18s 18s/step - loss: 0.9618 - accuracy: 0.3727 - val_loss: 0.9618 - val_accuracy: 0.3723\n",
            "Epoch 11/50\n",
            "1/1 [==============================] - 19s 19s/step - loss: 0.9618 - accuracy: 0.3723 - val_loss: 0.9618 - val_accuracy: 0.3726\n",
            "Epoch 12/50\n",
            "1/1 [==============================] - 19s 19s/step - loss: 0.9618 - accuracy: 0.3726 - val_loss: 0.9618 - val_accuracy: 0.3736\n",
            "Epoch 13/50\n",
            "1/1 [==============================] - 18s 18s/step - loss: 0.9618 - accuracy: 0.3736 - val_loss: 0.9619 - val_accuracy: 0.3743\n",
            "Epoch 14/50\n",
            "1/1 [==============================] - 19s 19s/step - loss: 0.9619 - accuracy: 0.3743 - val_loss: 0.9619 - val_accuracy: 0.3745\n",
            "Epoch 15/50\n",
            "1/1 [==============================] - 23s 23s/step - loss: 0.9619 - accuracy: 0.3745 - val_loss: 0.9619 - val_accuracy: 0.3747\n",
            "Epoch 16/50\n",
            "1/1 [==============================] - 17s 17s/step - loss: 0.9619 - accuracy: 0.3747 - val_loss: 0.9618 - val_accuracy: 0.3759\n",
            "Epoch 17/50\n",
            "1/1 [==============================] - 19s 19s/step - loss: 0.9618 - accuracy: 0.3759 - val_loss: 0.9619 - val_accuracy: 0.3805\n",
            "Epoch 18/50\n",
            "1/1 [==============================] - 18s 18s/step - loss: 0.9619 - accuracy: 0.3805 - val_loss: 0.9619 - val_accuracy: 0.3843\n",
            "Epoch 19/50\n",
            "1/1 [==============================] - 17s 17s/step - loss: 0.9619 - accuracy: 0.3843 - val_loss: 0.9618 - val_accuracy: 0.3820\n",
            "Epoch 20/50\n",
            "1/1 [==============================] - 18s 18s/step - loss: 0.9618 - accuracy: 0.3820 - val_loss: 0.9619 - val_accuracy: 0.3788\n",
            "Epoch 21/50\n",
            "1/1 [==============================] - 24s 24s/step - loss: 0.9619 - accuracy: 0.3788 - val_loss: 0.9619 - val_accuracy: 0.3775\n",
            "Epoch 22/50\n",
            "1/1 [==============================] - 19s 19s/step - loss: 0.9619 - accuracy: 0.3775 - val_loss: 0.9619 - val_accuracy: 0.3773\n",
            "Epoch 23/50\n",
            "1/1 [==============================] - 18s 18s/step - loss: 0.9619 - accuracy: 0.3773 - val_loss: 0.9619 - val_accuracy: 0.3771\n",
            "Epoch 24/50\n",
            "1/1 [==============================] - 17s 17s/step - loss: 0.9619 - accuracy: 0.3771 - val_loss: 0.9619 - val_accuracy: 0.3763\n",
            "Epoch 25/50\n",
            "1/1 [==============================] - 19s 19s/step - loss: 0.9619 - accuracy: 0.3763 - val_loss: 0.9619 - val_accuracy: 0.3771\n",
            "Epoch 26/50\n",
            "1/1 [==============================] - 24s 24s/step - loss: 0.9619 - accuracy: 0.3771 - val_loss: 0.9619 - val_accuracy: 0.3773\n",
            "Epoch 27/50\n",
            "1/1 [==============================] - 18s 18s/step - loss: 0.9619 - accuracy: 0.3773 - val_loss: 0.9619 - val_accuracy: 0.3775\n",
            "Epoch 28/50\n",
            "1/1 [==============================] - 24s 24s/step - loss: 0.9619 - accuracy: 0.3775 - val_loss: 0.9619 - val_accuracy: 0.3763\n",
            "Epoch 29/50\n",
            "1/1 [==============================] - 19s 19s/step - loss: 0.9619 - accuracy: 0.3763 - val_loss: 0.9619 - val_accuracy: 0.3761\n",
            "Epoch 30/50\n",
            "1/1 [==============================] - 18s 18s/step - loss: 0.9619 - accuracy: 0.3761 - val_loss: 0.9619 - val_accuracy: 0.3760\n",
            "Epoch 31/50\n",
            "1/1 [==============================] - 17s 17s/step - loss: 0.9619 - accuracy: 0.3760 - val_loss: 0.9619 - val_accuracy: 0.3760\n",
            "Epoch 32/50\n",
            "1/1 [==============================] - 18s 18s/step - loss: 0.9619 - accuracy: 0.3760 - val_loss: 0.9619 - val_accuracy: 0.3760\n",
            "Epoch 33/50\n",
            "1/1 [==============================] - 24s 24s/step - loss: 0.9619 - accuracy: 0.3760 - val_loss: 0.9619 - val_accuracy: 0.3759\n",
            "Epoch 34/50\n",
            "1/1 [==============================] - 17s 17s/step - loss: 0.9619 - accuracy: 0.3759 - val_loss: 0.9619 - val_accuracy: 0.3759\n",
            "Epoch 35/50\n",
            "1/1 [==============================] - 24s 24s/step - loss: 0.9619 - accuracy: 0.3759 - val_loss: 0.9619 - val_accuracy: 0.3758\n",
            "Epoch 36/50\n",
            "1/1 [==============================] - 19s 19s/step - loss: 0.9619 - accuracy: 0.3758 - val_loss: 0.9619 - val_accuracy: 0.3758\n",
            "Epoch 37/50\n",
            "1/1 [==============================] - 24s 24s/step - loss: 0.9619 - accuracy: 0.3758 - val_loss: 0.9619 - val_accuracy: 0.3756\n",
            "Epoch 38/50\n",
            "1/1 [==============================] - 17s 17s/step - loss: 0.9619 - accuracy: 0.3756 - val_loss: 0.9619 - val_accuracy: 0.3756\n",
            "Epoch 39/50\n",
            "1/1 [==============================] - 24s 24s/step - loss: 0.9619 - accuracy: 0.3756 - val_loss: 0.9619 - val_accuracy: 0.3755\n",
            "Epoch 40/50\n",
            "1/1 [==============================] - 18s 18s/step - loss: 0.9619 - accuracy: 0.3755 - val_loss: 0.9619 - val_accuracy: 0.3755\n",
            "Epoch 41/50\n",
            "1/1 [==============================] - 24s 24s/step - loss: 0.9619 - accuracy: 0.3755 - val_loss: 0.9619 - val_accuracy: 0.3755\n",
            "Epoch 42/50\n",
            "1/1 [==============================] - 17s 17s/step - loss: 0.9619 - accuracy: 0.3755 - val_loss: 0.9619 - val_accuracy: 0.3755\n",
            "Epoch 43/50\n",
            "1/1 [==============================] - 24s 24s/step - loss: 0.9619 - accuracy: 0.3755 - val_loss: 0.9619 - val_accuracy: 0.3754\n",
            "Epoch 44/50\n",
            "1/1 [==============================] - 18s 18s/step - loss: 0.9619 - accuracy: 0.3754 - val_loss: 0.9619 - val_accuracy: 0.3745\n",
            "Epoch 45/50\n",
            "1/1 [==============================] - 19s 19s/step - loss: 0.9619 - accuracy: 0.3745 - val_loss: 0.9619 - val_accuracy: 0.3743\n",
            "Epoch 46/50\n",
            "1/1 [==============================] - 25s 25s/step - loss: 0.9619 - accuracy: 0.3743 - val_loss: 0.9619 - val_accuracy: 0.3742\n",
            "Epoch 47/50\n",
            "1/1 [==============================] - 24s 24s/step - loss: 0.9619 - accuracy: 0.3742 - val_loss: 0.9618 - val_accuracy: 0.3732\n",
            "Epoch 48/50\n",
            "1/1 [==============================] - 19s 19s/step - loss: 0.9618 - accuracy: 0.3732 - val_loss: 0.9618 - val_accuracy: 0.3736\n",
            "Epoch 49/50\n",
            "1/1 [==============================] - 23s 23s/step - loss: 0.9618 - accuracy: 0.3736 - val_loss: 0.9619 - val_accuracy: 0.3739\n",
            "Epoch 50/50\n",
            "1/1 [==============================] - 17s 17s/step - loss: 0.9619 - accuracy: 0.3739 - val_loss: 0.9619 - val_accuracy: 0.3743\n"
          ]
        }
      ],
      "source": [
        "model.fit(vggfeatures, Y, verbose=1, epochs=50, batch_size=100, validation_data=(vggfeatures_val, Y), validation_batch_size = 100)\n",
        "\n",
        "model.save('/content/colorize_autoencoder_VGG19.h5')"
      ]
    },
    {
      "cell_type": "code",
      "execution_count": 11,
      "metadata": {
        "id": "UFbZ1c54R-j4"
      },
      "outputs": [],
      "source": [
        "model = tf.keras.models.load_model('/content/colorize_autoencoder_VGG19.h5',\n",
        "                                   custom_objects=None,\n",
        "                                   compile=True)"
      ]
    },
    {
      "cell_type": "code",
      "execution_count": 30,
      "metadata": {
        "colab": {
          "base_uri": "https://localhost:8080/"
        },
        "id": "FoXA6YtoSBii",
        "outputId": "95ed1747-61d1-4a68-fe7c-99e9f64b31c9"
      },
      "outputs": [
        {
          "output_type": "stream",
          "name": "stdout",
          "text": [
            "(1, 224, 224, 3)\n",
            "1/1 [==============================] - 1s 1s/step\n",
            "1/1 [==============================] - 0s 90ms/step\n"
          ]
        },
        {
          "output_type": "stream",
          "name": "stderr",
          "text": [
            "WARNING:imageio:Lossy conversion from float64 to uint8. Range [0, 1]. Convert image to uint8 prior to saving to suppress this warning.\n"
          ]
        },
        {
          "output_type": "stream",
          "name": "stdout",
          "text": [
            "(1, 224, 224, 2)\n",
            "(1, 224, 224, 3)\n",
            "1/1 [==============================] - 1s 872ms/step\n",
            "1/1 [==============================] - 0s 58ms/step\n"
          ]
        },
        {
          "output_type": "stream",
          "name": "stderr",
          "text": [
            "WARNING:imageio:Lossy conversion from float64 to uint8. Range [0, 1]. Convert image to uint8 prior to saving to suppress this warning.\n"
          ]
        },
        {
          "output_type": "stream",
          "name": "stdout",
          "text": [
            "(1, 224, 224, 2)\n",
            "(1, 224, 224, 3)\n",
            "1/1 [==============================] - 1s 664ms/step\n",
            "1/1 [==============================] - 0s 55ms/step\n"
          ]
        },
        {
          "output_type": "stream",
          "name": "stderr",
          "text": [
            "WARNING:imageio:Lossy conversion from float64 to uint8. Range [0, 1]. Convert image to uint8 prior to saving to suppress this warning.\n"
          ]
        },
        {
          "output_type": "stream",
          "name": "stdout",
          "text": [
            "(1, 224, 224, 2)\n",
            "(1, 224, 224, 3)\n",
            "1/1 [==============================] - 1s 672ms/step\n",
            "1/1 [==============================] - 0s 55ms/step\n"
          ]
        },
        {
          "output_type": "stream",
          "name": "stderr",
          "text": [
            "WARNING:imageio:Lossy conversion from float64 to uint8. Range [0, 1]. Convert image to uint8 prior to saving to suppress this warning.\n"
          ]
        },
        {
          "output_type": "stream",
          "name": "stdout",
          "text": [
            "(1, 224, 224, 2)\n",
            "(1, 224, 224, 3)\n",
            "1/1 [==============================] - 1s 660ms/step\n",
            "1/1 [==============================] - 0s 57ms/step\n"
          ]
        },
        {
          "output_type": "stream",
          "name": "stderr",
          "text": [
            "WARNING:imageio:Lossy conversion from float64 to uint8. Range [0, 1]. Convert image to uint8 prior to saving to suppress this warning.\n"
          ]
        },
        {
          "output_type": "stream",
          "name": "stdout",
          "text": [
            "(1, 224, 224, 2)\n"
          ]
        }
      ],
      "source": [
        "from google.colab.patches import cv2_imshow\n",
        "import numpy as np\n",
        "\n",
        "testpath = '/content/drive/MyDrive/dogs/'\n",
        "files = os.listdir(testpath)\n",
        "for idx, file in enumerate(files):\n",
        "\n",
        "    test = img_to_array(load_img(testpath+file))\n",
        "    orig = test.copy()\n",
        "\n",
        "    test = resize(test, (224,224), anti_aliasing=True)\n",
        "    test*= 1.0/255\n",
        "    lab = rgb2lab(test)\n",
        "    l = lab[:,:,0]\n",
        "    L = gray2rgb(l)\n",
        "    L = L.reshape((1,224,224,3))\n",
        "    L = keras.applications.vgg19.preprocess_input(L)\n",
        "    print(L.shape)\n",
        "    vggpred = newmodel.predict(L)\n",
        "    ab = model.predict(vggpred)\n",
        "    print(ab.shape)\n",
        "    ab = ab*128\n",
        "    cur = np.zeros((224, 224, 3))\n",
        "    cur[:,:,0] = l\n",
        "    cur[:,:,1:] = ab\n",
        "    imsave('/content/'+str(idx)+\".jpg\", lab2rgb(cur))\n",
        "\n",
        "   # imo = cv2.cvtColor(orig, cv2.COLOR_BGR2RGB)\n",
        "    #imo = cv2.resize(imo, (256, 256))\n",
        "\n",
        "    #im = cv2.imread('/content/'+str(idx)+\".jpg\")\n",
        "    #im = resize(im, (256, 256))\n",
        "    #pred = np.concatenate((imo, im), axis=1)\n",
        "    #cv2_imshow(pred)"
      ]
    },
    {
      "cell_type": "code",
      "execution_count": 31,
      "metadata": {
        "colab": {
          "base_uri": "https://localhost:8080/",
          "height": 177
        },
        "id": "sQfBFxXnSKYy",
        "outputId": "05bc8030-7e92-4b7b-cf60-d05338f60173"
      },
      "outputs": [
        {
          "output_type": "display_data",
          "data": {
            "text/plain": [
              "<PIL.Image.Image image mode=RGB size=64x32 at 0x7FC9ED262B90>"
            ],
            "image/png": "[encoded data removed]"
          },
          "metadata": {}
        },
        {
          "output_type": "display_data",
          "data": {
            "text/plain": [
              "<PIL.Image.Image image mode=RGB size=64x32 at 0x7FC9ED260A60>"
            ],
            "image/png": "[encoded data removed]"
          },
          "metadata": {}
        },
        {
          "output_type": "display_data",
          "data": {
            "text/plain": [
              "<PIL.Image.Image image mode=RGB size=64x32 at 0x7FC9ED263C10>"
            ],
            "image/png": "[encoded data removed]"
          },
          "metadata": {}
        },
        {
          "output_type": "display_data",
          "data": {
            "text/plain": [
              "<PIL.Image.Image image mode=RGB size=64x32 at 0x7FC9ED262B90>"
            ],
            "image/png": "[encoded data removed]"
          },
          "metadata": {}
        },
        {
          "output_type": "display_data",
          "data": {
            "text/plain": [
              "<PIL.Image.Image image mode=RGB size=64x32 at 0x7FC9ED300280>"
            ],
            "image/png": "[encoded data removed]"
          },
          "metadata": {}
        }
      ],
      "source": [
        "from google.colab.patches import cv2_imshow\n",
        "import numpy as np\n",
        "\n",
        "# def gray(image):\n",
        "#   image = cv2.cvtColor(image, cv2.COLOR_BGR2GRAY)\n",
        "#   image = cv2.cvtColor(image,cv2.COLOR_GRAY2RGB)\n",
        "#   return image\n",
        "\n",
        "\n",
        "im_1 = cv2.imread(\"/content/0.jpg\")\n",
        "im_2 = cv2.imread(\"/content/1.jpg\") \n",
        "im_3 = cv2.imread(\"/content/2.jpg\")\n",
        "im_4 = cv2.imread(\"/content/3.jpg\")\n",
        "im_5 = cv2.imread(\"/content/4.jpg\")\n",
        "\n",
        "\n",
        "# pred_1 = np.concatenate((gray(im_1), im_1), axis=1)\n",
        "# pred_2 = np.concatenate((gray(im_2), im_2), axis=1)\n",
        "# pred_3 = np.concatenate((gray(im_3), im_3), axis=1)\n",
        "# pred_4 = np.concatenate((gray(im_4), im_4), axis=1)\n",
        "# pred_5 = np.concatenate((gray(im_5), im_5), axis=1)\n",
        "\n",
        "\n",
        "cv2_imshow(pred_4)  \n",
        "cv2_imshow(pred_1)\n",
        "cv2_imshow(pred_2)\n",
        "cv2_imshow(pred_3)\n",
        "cv2_imshow(pred_5)"
      ]
    },
    {
      "cell_type": "markdown",
      "metadata": {
        "id": "x17XQTMqEBO3"
      },
      "source": [
        "Задание 2"
      ]
    },
    {
      "cell_type": "code",
      "execution_count": null,
      "metadata": {
        "id": "VzACYBd_EFY-"
      },
      "outputs": [],
      "source": [
        "import numpy as np\n",
        "import tensorflow as tf\n",
        "import matplotlib.pyplot as plt\n",
        "from sklearn.model_selection import train_test_split\n",
        "import cv2\n",
        "\n",
        "from tensorflow.keras import layers\n",
        "from tensorflow.keras.datasets import mnist\n",
        "from tensorflow.keras.models import Model\n",
        "from imutils import paths\n",
        "\n",
        "\n",
        "def preprocess(array):\n",
        "    \"\"\"\n",
        "    Нормализует предоставленный массив и преобразует его в соответствующий формат.\n",
        "\n",
        "    \"\"\"\n",
        "    array = np.array(array, dtype=np.float32)\n",
        "    array = array / 255.0\n",
        "    array = np.reshape(array, (len(array), 32, 32, 3))\n",
        "    return array\n",
        "\n",
        "\n",
        "def noise(array):\n",
        "    \"\"\"\n",
        "    Добавляет случайный шум к каждому изображению в предоставленном массиве.\n",
        "\n",
        "    \"\"\"\n",
        "\n",
        "    noise_factor = 0.4\n",
        "    noisy_array = array + noise_factor * np.random.normal(\n",
        "        loc=0.0, scale=1.0, size=array.shape\n",
        "    )\n",
        "\n",
        "    return np.clip(noisy_array, 0.0, 1.0)\n",
        "\n",
        "\n",
        "def display(array1, array2):\n",
        "    \"\"\"\n",
        "    Отображает десять случайных изображений из каждого из предоставленных массивов.\n",
        "    \"\"\"\n",
        "\n",
        "    n = 8\n",
        "\n",
        "    indices = np.random.randint(len(array1), size=n)\n",
        "    images1 = array1[indices, :]\n",
        "    images2 = array2[indices, :]\n",
        "\n",
        "    plt.figure(figsize=(20, 4))\n",
        "    for i, (image1, image2) in enumerate(zip(images1, images2)):\n",
        "        ax = plt.subplot(2, n, i + 1)\n",
        "        plt.imshow(image1.reshape(32, 32, 3))\n",
        "        # plt.show()\n",
        "        ax.get_xaxis().set_visible(False)\n",
        "        ax.get_yaxis().set_visible(False)\n",
        "\n",
        "        ax = plt.subplot(2, n, i + 1 + n)\n",
        "        plt.imshow(image2.reshape(32, 32, 3))\n",
        "        # plt.show()\n",
        "        ax.get_xaxis().set_visible(False)\n",
        "        ax.get_yaxis().set_visible(False)\n",
        "\n",
        "    plt.show()"
      ]
    },
    {
      "cell_type": "code",
      "execution_count": null,
      "metadata": {
        "id": "iPjMdTJ0OnqJ"
      },
      "outputs": [],
      "source": [
        "from pathlib import Path\n",
        "\n",
        "imagePaths = sorted(list(paths.list_images(\"/content/drive/MyDrive/NighttimeDrivingTest/leftImg8bit/test/night\")))\n",
        "data = []\n",
        "\n",
        "for imagePath in imagePaths:\n",
        "  image = cv2.imread(imagePath) # загружаем изображение\n",
        "  image = cv2.resize(image, (32, 32))\n",
        "  data.append(image) # добавляем в список"
      ]
    },
    {
      "cell_type": "code",
      "execution_count": null,
      "metadata": {
        "id": "SFYkRqf6PZxC"
      },
      "outputs": [],
      "source": [
        "\n",
        "(train_X, test_X) = train_test_split(data, test_size=0.1, random_state=42)"
      ]
    },
    {
      "cell_type": "code",
      "execution_count": null,
      "metadata": {
        "colab": {
          "base_uri": "https://localhost:8080/",
          "height": 205
        },
        "id": "klvkfV1DDxkS",
        "outputId": "8a885d17-4dc5-4067-f324-a88beeba3176"
      },
      "outputs": [
        {
          "data": {
            "image/png": "[encoded data removed]",
            "text/plain": [
              "<Figure size 2000x400 with 16 Axes>"
            ]
          },
          "metadata": {},
          "output_type": "display_data"
        }
      ],
      "source": [
        "train_X = preprocess(train_X)\n",
        "test_X = preprocess(test_X)\n",
        "\n",
        "noisy_train_X_data = noise(train_X)\n",
        "noisy_test_X_data = noise(test_X)\n",
        "\n",
        "display(train_X, noisy_train_X_data)"
      ]
    },
    {
      "cell_type": "code",
      "execution_count": null,
      "metadata": {
        "colab": {
          "base_uri": "https://localhost:8080/"
        },
        "id": "br-_avjYEVwc",
        "outputId": "d1e8306f-f559-4d4b-a587-82c7a037a82b"
      },
      "outputs": [
        {
          "data": {
            "text/plain": [
              "(45, 32, 32, 3)"
            ]
          },
          "execution_count": 8,
          "metadata": {},
          "output_type": "execute_result"
        }
      ],
      "source": [
        "train_X.shape"
      ]
    },
    {
      "cell_type": "code",
      "execution_count": null,
      "metadata": {
        "colab": {
          "base_uri": "https://localhost:8080/"
        },
        "id": "hxcUSb_zEZ9r",
        "outputId": "51d824f6-da17-4402-9628-735db8e9fcef"
      },
      "outputs": [
        {
          "data": {
            "text/plain": [
              "(5, 32, 32, 3)"
            ]
          },
          "execution_count": 9,
          "metadata": {},
          "output_type": "execute_result"
        }
      ],
      "source": [
        "test_X.shape"
      ]
    },
    {
      "cell_type": "code",
      "execution_count": null,
      "metadata": {
        "colab": {
          "base_uri": "https://localhost:8080/"
        },
        "id": "eEf2kLrMEd7M",
        "outputId": "1f17e68b-11bd-493d-da31-b89eea3eb06d"
      },
      "outputs": [
        {
          "data": {
            "text/plain": [
              "(45, 32, 32, 3)"
            ]
          },
          "execution_count": 10,
          "metadata": {},
          "output_type": "execute_result"
        }
      ],
      "source": [
        "noisy_train_X_data.shape"
      ]
    },
    {
      "cell_type": "code",
      "execution_count": null,
      "metadata": {
        "colab": {
          "base_uri": "https://localhost:8080/"
        },
        "id": "LUhZoVZeEisW",
        "outputId": "81f2676b-d302-4e1b-870f-b5a5e15f4167"
      },
      "outputs": [
        {
          "data": {
            "text/plain": [
              "(5, 32, 32, 3)"
            ]
          },
          "execution_count": 11,
          "metadata": {},
          "output_type": "execute_result"
        }
      ],
      "source": [
        "noisy_test_X_data.shape"
      ]
    },
    {
      "cell_type": "code",
      "execution_count": null,
      "metadata": {
        "colab": {
          "base_uri": "https://localhost:8080/"
        },
        "id": "60kGjtdAEiTF",
        "outputId": "b9d3189a-4b7f-4eda-e345-aa1955595296"
      },
      "outputs": [
        {
          "name": "stdout",
          "output_type": "stream",
          "text": [
            "Model: \"model\"\n",
            "_________________________________________________________________\n",
            " Layer (type)                Output Shape              Param #   \n",
            "=================================================================\n",
            " input_1 (InputLayer)        [(None, 32, 32, 3)]       0         \n",
            "                                                                 \n",
            " conv2d (Conv2D)             (None, 32, 32, 64)        1792      \n",
            "                                                                 \n",
            " max_pooling2d (MaxPooling2D  (None, 16, 16, 64)       0         \n",
            " )                                                               \n",
            "                                                                 \n",
            " conv2d_transpose (Conv2DTra  (None, 32, 32, 16)       9232      \n",
            " nspose)                                                         \n",
            "                                                                 \n",
            " conv2d_1 (Conv2D)           (None, 32, 32, 3)         435       \n",
            "                                                                 \n",
            "=================================================================\n",
            "Total params: 11,459\n",
            "Trainable params: 11,459\n",
            "Non-trainable params: 0\n",
            "_________________________________________________________________\n"
          ]
        }
      ],
      "source": [
        "input = layers.Input(shape=(32, 32, 3))\n",
        "\n",
        "# Encoder\n",
        "x = layers.Conv2D(64, (3, 3), activation=\"relu\", padding=\"same\")(input)\n",
        "x = layers.MaxPooling2D((2, 2), padding=\"same\")(x)\n",
        "# x = layers.Conv2D(32, (3, 3), activation=\"relu\", padding=\"same\")(x)\n",
        "# x = layers.MaxPooling2D((2, 2), padding=\"same\")(x)\n",
        "# x = layers.Conv2D(16, (3, 3), activation=\"relu\", padding=\"same\")(x)\n",
        "# x = layers.MaxPooling2D((2, 2), padding=\"same\")(x)\n",
        "\n",
        "# Decoder\n",
        "x = layers.Conv2DTranspose(16, (3, 3), strides=2, activation=\"relu\", padding=\"same\")(x)\n",
        "# x = layers.Conv2DTranspose(32, (3, 3), strides=2, activation=\"relu\", padding=\"same\")(x)\n",
        "# x = layers.Conv2DTranspose(64, (3, 3), strides=2, activation=\"relu\", padding=\"same\")(x)\n",
        "x = layers.Conv2D(3, (3, 3), activation=\"linear\", padding=\"same\")(x)\n",
        "\n",
        "# Autoencoder\n",
        "autoencoder = Model(input, x)\n",
        "autoencoder.compile(optimizer=\"adam\", loss=\"mse\")\n",
        "autoencoder.summary()"
      ]
    },
    {
      "cell_type": "code",
      "execution_count": null,
      "metadata": {
        "colab": {
          "base_uri": "https://localhost:8080/"
        },
        "id": "kFSoPRlFEs3X",
        "outputId": "c44484b4-1043-4994-811e-1e48c2a5103b"
      },
      "outputs": [
        {
          "name": "stdout",
          "output_type": "stream",
          "text": [
            "Epoch 1/150\n",
            "1/1 [==============================] - 3s 3s/step - loss: 0.0691 - val_loss: 0.0474\n",
            "Epoch 2/150\n",
            "1/1 [==============================] - 1s 598ms/step - loss: 0.0643 - val_loss: 0.0445\n",
            "Epoch 3/150\n",
            "1/1 [==============================] - 0s 406ms/step - loss: 0.0606 - val_loss: 0.0419\n",
            "Epoch 4/150\n",
            "1/1 [==============================] - 0s 270ms/step - loss: 0.0573 - val_loss: 0.0395\n",
            "Epoch 5/150\n",
            "1/1 [==============================] - 0s 265ms/step - loss: 0.0541 - val_loss: 0.0370\n",
            "Epoch 6/150\n",
            "1/1 [==============================] - 0s 247ms/step - loss: 0.0509 - val_loss: 0.0345\n",
            "Epoch 7/150\n",
            "1/1 [==============================] - 0s 243ms/step - loss: 0.0475 - val_loss: 0.0318\n",
            "Epoch 8/150\n",
            "1/1 [==============================] - 0s 275ms/step - loss: 0.0439 - val_loss: 0.0289\n",
            "Epoch 9/150\n",
            "1/1 [==============================] - 0s 243ms/step - loss: 0.0401 - val_loss: 0.0260\n",
            "Epoch 10/150\n",
            "1/1 [==============================] - 0s 234ms/step - loss: 0.0362 - val_loss: 0.0231\n",
            "Epoch 11/150\n",
            "1/1 [==============================] - 0s 254ms/step - loss: 0.0321 - val_loss: 0.0203\n",
            "Epoch 12/150\n",
            "1/1 [==============================] - 0s 275ms/step - loss: 0.0281 - val_loss: 0.0177\n",
            "Epoch 13/150\n",
            "1/1 [==============================] - 0s 271ms/step - loss: 0.0244 - val_loss: 0.0155\n",
            "Epoch 14/150\n",
            "1/1 [==============================] - 0s 252ms/step - loss: 0.0211 - val_loss: 0.0139\n",
            "Epoch 15/150\n",
            "1/1 [==============================] - 0s 246ms/step - loss: 0.0186 - val_loss: 0.0130\n",
            "Epoch 16/150\n",
            "1/1 [==============================] - 0s 252ms/step - loss: 0.0168 - val_loss: 0.0126\n",
            "Epoch 17/150\n",
            "1/1 [==============================] - 0s 230ms/step - loss: 0.0158 - val_loss: 0.0127\n",
            "Epoch 18/150\n",
            "1/1 [==============================] - 0s 249ms/step - loss: 0.0153 - val_loss: 0.0130\n",
            "Epoch 19/150\n",
            "1/1 [==============================] - 0s 238ms/step - loss: 0.0152 - val_loss: 0.0132\n",
            "Epoch 20/150\n",
            "1/1 [==============================] - 0s 163ms/step - loss: 0.0151 - val_loss: 0.0133\n",
            "Epoch 21/150\n",
            "1/1 [==============================] - 0s 157ms/step - loss: 0.0150 - val_loss: 0.0132\n",
            "Epoch 22/150\n",
            "1/1 [==============================] - 0s 145ms/step - loss: 0.0147 - val_loss: 0.0129\n",
            "Epoch 23/150\n",
            "1/1 [==============================] - 0s 144ms/step - loss: 0.0142 - val_loss: 0.0125\n",
            "Epoch 24/150\n",
            "1/1 [==============================] - 0s 145ms/step - loss: 0.0137 - val_loss: 0.0120\n",
            "Epoch 25/150\n",
            "1/1 [==============================] - 0s 144ms/step - loss: 0.0133 - val_loss: 0.0116\n",
            "Epoch 26/150\n",
            "1/1 [==============================] - 0s 150ms/step - loss: 0.0129 - val_loss: 0.0113\n",
            "Epoch 27/150\n",
            "1/1 [==============================] - 0s 156ms/step - loss: 0.0126 - val_loss: 0.0109\n",
            "Epoch 28/150\n",
            "1/1 [==============================] - 0s 151ms/step - loss: 0.0124 - val_loss: 0.0107\n",
            "Epoch 29/150\n",
            "1/1 [==============================] - 0s 155ms/step - loss: 0.0122 - val_loss: 0.0104\n",
            "Epoch 30/150\n",
            "1/1 [==============================] - 0s 142ms/step - loss: 0.0120 - val_loss: 0.0103\n",
            "Epoch 31/150\n",
            "1/1 [==============================] - 0s 144ms/step - loss: 0.0119 - val_loss: 0.0101\n",
            "Epoch 32/150\n",
            "1/1 [==============================] - 0s 141ms/step - loss: 0.0118 - val_loss: 0.0100\n",
            "Epoch 33/150\n",
            "1/1 [==============================] - 0s 147ms/step - loss: 0.0117 - val_loss: 0.0098\n",
            "Epoch 34/150\n",
            "1/1 [==============================] - 0s 150ms/step - loss: 0.0116 - val_loss: 0.0097\n",
            "Epoch 35/150\n",
            "1/1 [==============================] - 0s 155ms/step - loss: 0.0115 - val_loss: 0.0097\n",
            "Epoch 36/150\n",
            "1/1 [==============================] - 0s 144ms/step - loss: 0.0114 - val_loss: 0.0096\n",
            "Epoch 37/150\n",
            "1/1 [==============================] - 0s 167ms/step - loss: 0.0113 - val_loss: 0.0096\n",
            "Epoch 38/150\n",
            "1/1 [==============================] - 0s 147ms/step - loss: 0.0112 - val_loss: 0.0095\n",
            "Epoch 39/150\n",
            "1/1 [==============================] - 0s 162ms/step - loss: 0.0111 - val_loss: 0.0095\n",
            "Epoch 40/150\n",
            "1/1 [==============================] - 0s 147ms/step - loss: 0.0110 - val_loss: 0.0094\n",
            "Epoch 41/150\n",
            "1/1 [==============================] - 0s 155ms/step - loss: 0.0109 - val_loss: 0.0093\n",
            "Epoch 42/150\n",
            "1/1 [==============================] - 0s 143ms/step - loss: 0.0107 - val_loss: 0.0091\n",
            "Epoch 43/150\n",
            "1/1 [==============================] - 0s 148ms/step - loss: 0.0106 - val_loss: 0.0089\n",
            "Epoch 44/150\n",
            "1/1 [==============================] - 0s 138ms/step - loss: 0.0104 - val_loss: 0.0087\n",
            "Epoch 45/150\n",
            "1/1 [==============================] - 0s 144ms/step - loss: 0.0103 - val_loss: 0.0086\n",
            "Epoch 46/150\n",
            "1/1 [==============================] - 0s 148ms/step - loss: 0.0102 - val_loss: 0.0085\n",
            "Epoch 47/150\n",
            "1/1 [==============================] - 0s 145ms/step - loss: 0.0101 - val_loss: 0.0084\n",
            "Epoch 48/150\n",
            "1/1 [==============================] - 0s 158ms/step - loss: 0.0100 - val_loss: 0.0083\n",
            "Epoch 49/150\n",
            "1/1 [==============================] - 0s 145ms/step - loss: 0.0099 - val_loss: 0.0082\n",
            "Epoch 50/150\n",
            "1/1 [==============================] - 0s 141ms/step - loss: 0.0098 - val_loss: 0.0081\n",
            "Epoch 51/150\n",
            "1/1 [==============================] - 0s 146ms/step - loss: 0.0097 - val_loss: 0.0080\n",
            "Epoch 52/150\n",
            "1/1 [==============================] - 0s 150ms/step - loss: 0.0096 - val_loss: 0.0079\n",
            "Epoch 53/150\n",
            "1/1 [==============================] - 0s 141ms/step - loss: 0.0095 - val_loss: 0.0079\n",
            "Epoch 54/150\n",
            "1/1 [==============================] - 0s 158ms/step - loss: 0.0094 - val_loss: 0.0078\n",
            "Epoch 55/150\n",
            "1/1 [==============================] - 0s 145ms/step - loss: 0.0093 - val_loss: 0.0077\n",
            "Epoch 56/150\n",
            "1/1 [==============================] - 0s 145ms/step - loss: 0.0092 - val_loss: 0.0076\n",
            "Epoch 57/150\n",
            "1/1 [==============================] - 0s 142ms/step - loss: 0.0091 - val_loss: 0.0075\n",
            "Epoch 58/150\n",
            "1/1 [==============================] - 0s 140ms/step - loss: 0.0090 - val_loss: 0.0074\n",
            "Epoch 59/150\n",
            "1/1 [==============================] - 0s 155ms/step - loss: 0.0089 - val_loss: 0.0073\n",
            "Epoch 60/150\n",
            "1/1 [==============================] - 0s 140ms/step - loss: 0.0088 - val_loss: 0.0072\n",
            "Epoch 61/150\n",
            "1/1 [==============================] - 0s 156ms/step - loss: 0.0087 - val_loss: 0.0071\n",
            "Epoch 62/150\n",
            "1/1 [==============================] - 0s 157ms/step - loss: 0.0086 - val_loss: 0.0070\n",
            "Epoch 63/150\n",
            "1/1 [==============================] - 0s 146ms/step - loss: 0.0085 - val_loss: 0.0070\n",
            "Epoch 64/150\n",
            "1/1 [==============================] - 0s 146ms/step - loss: 0.0084 - val_loss: 0.0069\n",
            "Epoch 65/150\n",
            "1/1 [==============================] - 0s 144ms/step - loss: 0.0083 - val_loss: 0.0068\n",
            "Epoch 66/150\n",
            "1/1 [==============================] - 0s 147ms/step - loss: 0.0082 - val_loss: 0.0067\n",
            "Epoch 67/150\n",
            "1/1 [==============================] - 0s 150ms/step - loss: 0.0081 - val_loss: 0.0067\n",
            "Epoch 68/150\n",
            "1/1 [==============================] - 0s 157ms/step - loss: 0.0080 - val_loss: 0.0066\n",
            "Epoch 69/150\n",
            "1/1 [==============================] - 0s 142ms/step - loss: 0.0079 - val_loss: 0.0065\n",
            "Epoch 70/150\n",
            "1/1 [==============================] - 0s 152ms/step - loss: 0.0078 - val_loss: 0.0065\n",
            "Epoch 71/150\n",
            "1/1 [==============================] - 0s 151ms/step - loss: 0.0077 - val_loss: 0.0064\n",
            "Epoch 72/150\n",
            "1/1 [==============================] - 0s 141ms/step - loss: 0.0076 - val_loss: 0.0063\n",
            "Epoch 73/150\n",
            "1/1 [==============================] - 0s 144ms/step - loss: 0.0075 - val_loss: 0.0063\n",
            "Epoch 74/150\n",
            "1/1 [==============================] - 0s 144ms/step - loss: 0.0075 - val_loss: 0.0062\n",
            "Epoch 75/150\n",
            "1/1 [==============================] - 0s 154ms/step - loss: 0.0074 - val_loss: 0.0062\n",
            "Epoch 76/150\n",
            "1/1 [==============================] - 0s 142ms/step - loss: 0.0073 - val_loss: 0.0061\n",
            "Epoch 77/150\n",
            "1/1 [==============================] - 0s 149ms/step - loss: 0.0072 - val_loss: 0.0061\n",
            "Epoch 78/150\n",
            "1/1 [==============================] - 0s 146ms/step - loss: 0.0071 - val_loss: 0.0060\n",
            "Epoch 79/150\n",
            "1/1 [==============================] - 0s 161ms/step - loss: 0.0071 - val_loss: 0.0059\n",
            "Epoch 80/150\n",
            "1/1 [==============================] - 0s 139ms/step - loss: 0.0070 - val_loss: 0.0059\n",
            "Epoch 81/150\n",
            "1/1 [==============================] - 0s 145ms/step - loss: 0.0069 - val_loss: 0.0058\n",
            "Epoch 82/150\n",
            "1/1 [==============================] - 0s 160ms/step - loss: 0.0069 - val_loss: 0.0058\n",
            "Epoch 83/150\n",
            "1/1 [==============================] - 0s 147ms/step - loss: 0.0068 - val_loss: 0.0058\n",
            "Epoch 84/150\n",
            "1/1 [==============================] - 0s 145ms/step - loss: 0.0067 - val_loss: 0.0057\n",
            "Epoch 85/150\n",
            "1/1 [==============================] - 0s 152ms/step - loss: 0.0067 - val_loss: 0.0057\n",
            "Epoch 86/150\n",
            "1/1 [==============================] - 0s 259ms/step - loss: 0.0066 - val_loss: 0.0056\n",
            "Epoch 87/150\n",
            "1/1 [==============================] - 0s 237ms/step - loss: 0.0066 - val_loss: 0.0056\n",
            "Epoch 88/150\n",
            "1/1 [==============================] - 0s 242ms/step - loss: 0.0065 - val_loss: 0.0055\n",
            "Epoch 89/150\n",
            "1/1 [==============================] - 0s 254ms/step - loss: 0.0065 - val_loss: 0.0055\n",
            "Epoch 90/150\n",
            "1/1 [==============================] - 0s 250ms/step - loss: 0.0064 - val_loss: 0.0055\n",
            "Epoch 91/150\n",
            "1/1 [==============================] - 0s 256ms/step - loss: 0.0063 - val_loss: 0.0054\n",
            "Epoch 92/150\n",
            "1/1 [==============================] - 0s 257ms/step - loss: 0.0063 - val_loss: 0.0054\n",
            "Epoch 93/150\n",
            "1/1 [==============================] - 0s 259ms/step - loss: 0.0062 - val_loss: 0.0053\n",
            "Epoch 94/150\n",
            "1/1 [==============================] - 0s 252ms/step - loss: 0.0062 - val_loss: 0.0053\n",
            "Epoch 95/150\n",
            "1/1 [==============================] - 0s 259ms/step - loss: 0.0061 - val_loss: 0.0052\n",
            "Epoch 96/150\n",
            "1/1 [==============================] - 0s 242ms/step - loss: 0.0061 - val_loss: 0.0052\n",
            "Epoch 97/150\n",
            "1/1 [==============================] - 0s 261ms/step - loss: 0.0060 - val_loss: 0.0051\n",
            "Epoch 98/150\n",
            "1/1 [==============================] - 0s 260ms/step - loss: 0.0060 - val_loss: 0.0051\n",
            "Epoch 99/150\n",
            "1/1 [==============================] - 0s 256ms/step - loss: 0.0059 - val_loss: 0.0051\n",
            "Epoch 100/150\n",
            "1/1 [==============================] - 0s 274ms/step - loss: 0.0059 - val_loss: 0.0050\n",
            "Epoch 101/150\n",
            "1/1 [==============================] - 0s 256ms/step - loss: 0.0058 - val_loss: 0.0050\n",
            "Epoch 102/150\n",
            "1/1 [==============================] - 0s 255ms/step - loss: 0.0058 - val_loss: 0.0049\n",
            "Epoch 103/150\n",
            "1/1 [==============================] - 0s 273ms/step - loss: 0.0057 - val_loss: 0.0049\n",
            "Epoch 104/150\n",
            "1/1 [==============================] - 0s 146ms/step - loss: 0.0057 - val_loss: 0.0049\n",
            "Epoch 105/150\n",
            "1/1 [==============================] - 0s 140ms/step - loss: 0.0056 - val_loss: 0.0048\n",
            "Epoch 106/150\n",
            "1/1 [==============================] - 0s 145ms/step - loss: 0.0056 - val_loss: 0.0048\n",
            "Epoch 107/150\n",
            "1/1 [==============================] - 0s 156ms/step - loss: 0.0055 - val_loss: 0.0048\n",
            "Epoch 108/150\n",
            "1/1 [==============================] - 0s 144ms/step - loss: 0.0055 - val_loss: 0.0047\n",
            "Epoch 109/150\n",
            "1/1 [==============================] - 0s 139ms/step - loss: 0.0055 - val_loss: 0.0047\n",
            "Epoch 110/150\n",
            "1/1 [==============================] - 0s 159ms/step - loss: 0.0054 - val_loss: 0.0047\n",
            "Epoch 111/150\n",
            "1/1 [==============================] - 0s 143ms/step - loss: 0.0054 - val_loss: 0.0046\n",
            "Epoch 112/150\n",
            "1/1 [==============================] - 0s 144ms/step - loss: 0.0053 - val_loss: 0.0046\n",
            "Epoch 113/150\n",
            "1/1 [==============================] - 0s 162ms/step - loss: 0.0053 - val_loss: 0.0046\n",
            "Epoch 114/150\n",
            "1/1 [==============================] - 0s 152ms/step - loss: 0.0052 - val_loss: 0.0045\n",
            "Epoch 115/150\n",
            "1/1 [==============================] - 0s 143ms/step - loss: 0.0052 - val_loss: 0.0045\n",
            "Epoch 116/150\n",
            "1/1 [==============================] - 0s 149ms/step - loss: 0.0052 - val_loss: 0.0045\n",
            "Epoch 117/150\n",
            "1/1 [==============================] - 0s 154ms/step - loss: 0.0051 - val_loss: 0.0044\n",
            "Epoch 118/150\n",
            "1/1 [==============================] - 0s 139ms/step - loss: 0.0051 - val_loss: 0.0044\n",
            "Epoch 119/150\n",
            "1/1 [==============================] - 0s 142ms/step - loss: 0.0050 - val_loss: 0.0044\n",
            "Epoch 120/150\n",
            "1/1 [==============================] - 0s 140ms/step - loss: 0.0050 - val_loss: 0.0043\n",
            "Epoch 121/150\n",
            "1/1 [==============================] - 0s 145ms/step - loss: 0.0050 - val_loss: 0.0043\n",
            "Epoch 122/150\n",
            "1/1 [==============================] - 0s 145ms/step - loss: 0.0049 - val_loss: 0.0043\n",
            "Epoch 123/150\n",
            "1/1 [==============================] - 0s 167ms/step - loss: 0.0049 - val_loss: 0.0043\n",
            "Epoch 124/150\n",
            "1/1 [==============================] - 0s 151ms/step - loss: 0.0048 - val_loss: 0.0042\n",
            "Epoch 125/150\n",
            "1/1 [==============================] - 0s 149ms/step - loss: 0.0048 - val_loss: 0.0042\n",
            "Epoch 126/150\n",
            "1/1 [==============================] - 0s 144ms/step - loss: 0.0048 - val_loss: 0.0042\n",
            "Epoch 127/150\n",
            "1/1 [==============================] - 0s 144ms/step - loss: 0.0047 - val_loss: 0.0041\n",
            "Epoch 128/150\n",
            "1/1 [==============================] - 0s 145ms/step - loss: 0.0047 - val_loss: 0.0041\n",
            "Epoch 129/150\n",
            "1/1 [==============================] - 0s 146ms/step - loss: 0.0047 - val_loss: 0.0041\n",
            "Epoch 130/150\n",
            "1/1 [==============================] - 0s 170ms/step - loss: 0.0046 - val_loss: 0.0040\n",
            "Epoch 131/150\n",
            "1/1 [==============================] - 0s 148ms/step - loss: 0.0046 - val_loss: 0.0040\n",
            "Epoch 132/150\n",
            "1/1 [==============================] - 0s 157ms/step - loss: 0.0046 - val_loss: 0.0040\n",
            "Epoch 133/150\n",
            "1/1 [==============================] - 0s 139ms/step - loss: 0.0045 - val_loss: 0.0040\n",
            "Epoch 134/150\n",
            "1/1 [==============================] - 0s 149ms/step - loss: 0.0045 - val_loss: 0.0039\n",
            "Epoch 135/150\n",
            "1/1 [==============================] - 0s 143ms/step - loss: 0.0045 - val_loss: 0.0039\n",
            "Epoch 136/150\n",
            "1/1 [==============================] - 0s 141ms/step - loss: 0.0044 - val_loss: 0.0039\n",
            "Epoch 137/150\n",
            "1/1 [==============================] - 0s 159ms/step - loss: 0.0044 - val_loss: 0.0039\n",
            "Epoch 138/150\n",
            "1/1 [==============================] - 0s 149ms/step - loss: 0.0044 - val_loss: 0.0038\n",
            "Epoch 139/150\n",
            "1/1 [==============================] - 0s 171ms/step - loss: 0.0043 - val_loss: 0.0038\n",
            "Epoch 140/150\n",
            "1/1 [==============================] - 0s 143ms/step - loss: 0.0043 - val_loss: 0.0038\n",
            "Epoch 141/150\n",
            "1/1 [==============================] - 0s 154ms/step - loss: 0.0043 - val_loss: 0.0038\n",
            "Epoch 142/150\n",
            "1/1 [==============================] - 0s 143ms/step - loss: 0.0043 - val_loss: 0.0037\n",
            "Epoch 143/150\n",
            "1/1 [==============================] - 0s 146ms/step - loss: 0.0042 - val_loss: 0.0037\n",
            "Epoch 144/150\n",
            "1/1 [==============================] - 0s 163ms/step - loss: 0.0042 - val_loss: 0.0037\n",
            "Epoch 145/150\n",
            "1/1 [==============================] - 0s 152ms/step - loss: 0.0042 - val_loss: 0.0037\n",
            "Epoch 146/150\n",
            "1/1 [==============================] - 0s 144ms/step - loss: 0.0041 - val_loss: 0.0036\n",
            "Epoch 147/150\n",
            "1/1 [==============================] - 0s 145ms/step - loss: 0.0041 - val_loss: 0.0036\n",
            "Epoch 148/150\n",
            "1/1 [==============================] - 0s 142ms/step - loss: 0.0041 - val_loss: 0.0036\n",
            "Epoch 149/150\n",
            "1/1 [==============================] - 0s 155ms/step - loss: 0.0041 - val_loss: 0.0036\n",
            "Epoch 150/150\n",
            "1/1 [==============================] - 0s 150ms/step - loss: 0.0040 - val_loss: 0.0036\n"
          ]
        },
        {
          "data": {
            "text/plain": [
              "<keras.callbacks.History at 0x7fd12fe9c370>"
            ]
          },
          "execution_count": 13,
          "metadata": {},
          "output_type": "execute_result"
        }
      ],
      "source": [
        "autoencoder.fit(\n",
        "    x=train_X,\n",
        "    y=train_X,\n",
        "    epochs=150,\n",
        "    batch_size=100,\n",
        "    shuffle=True,\n",
        "    validation_data=(test_X, test_X),\n",
        ")"
      ]
    },
    {
      "cell_type": "code",
      "execution_count": null,
      "metadata": {
        "colab": {
          "base_uri": "https://localhost:8080/",
          "height": 390
        },
        "id": "JkwdW5CdFQur",
        "outputId": "2ba21471-1185-47af-c42b-f6760e50baa1"
      },
      "outputs": [
        {
          "name": "stdout",
          "output_type": "stream",
          "text": [
            "1/1 [==============================] - 0s 264ms/step\n"
          ]
        },
        {
          "name": "stderr",
          "output_type": "stream",
          "text": [
            "WARNING:matplotlib.image:Clipping input data to the valid range for imshow with RGB data ([0..1] for floats or [0..255] for integers).\n",
            "WARNING:matplotlib.image:Clipping input data to the valid range for imshow with RGB data ([0..1] for floats or [0..255] for integers).\n",
            "WARNING:matplotlib.image:Clipping input data to the valid range for imshow with RGB data ([0..1] for floats or [0..255] for integers).\n",
            "WARNING:matplotlib.image:Clipping input data to the valid range for imshow with RGB data ([0..1] for floats or [0..255] for integers).\n",
            "WARNING:matplotlib.image:Clipping input data to the valid range for imshow with RGB data ([0..1] for floats or [0..255] for integers).\n",
            "WARNING:matplotlib.image:Clipping input data to the valid range for imshow with RGB data ([0..1] for floats or [0..255] for integers).\n",
            "WARNING:matplotlib.image:Clipping input data to the valid range for imshow with RGB data ([0..1] for floats or [0..255] for integers).\n",
            "WARNING:matplotlib.image:Clipping input data to the valid range for imshow with RGB data ([0..1] for floats or [0..255] for integers).\n"
          ]
        },
        {
          "data": {
            "image/png": "[encoded data removed]",
            "text/plain": [
              "<Figure size 2000x400 with 16 Axes>"
            ]
          },
          "metadata": {},
          "output_type": "display_data"
        }
      ],
      "source": [
        "predictions = autoencoder.predict(test_X)\n",
        "display(test_X, predictions)"
      ]
    },
    {
      "cell_type": "code",
      "execution_count": null,
      "metadata": {
        "colab": {
          "base_uri": "https://localhost:8080/"
        },
        "id": "6oFkpmw0FXW7",
        "outputId": "48564e9c-a382-4a70-fbf8-5826a6c9d22e"
      },
      "outputs": [
        {
          "name": "stdout",
          "output_type": "stream",
          "text": [
            "Epoch 1/100\n",
            "1/1 [==============================] - 0s 197ms/step - loss: 0.0268 - val_loss: 0.0187\n",
            "Epoch 2/100\n",
            "1/1 [==============================] - 0s 143ms/step - loss: 0.0198 - val_loss: 0.0181\n",
            "Epoch 3/100\n",
            "1/1 [==============================] - 0s 168ms/step - loss: 0.0206 - val_loss: 0.0163\n",
            "Epoch 4/100\n",
            "1/1 [==============================] - 0s 253ms/step - loss: 0.0180 - val_loss: 0.0176\n",
            "Epoch 5/100\n",
            "1/1 [==============================] - 0s 184ms/step - loss: 0.0185 - val_loss: 0.0196\n",
            "Epoch 6/100\n",
            "1/1 [==============================] - 0s 171ms/step - loss: 0.0203 - val_loss: 0.0177\n",
            "Epoch 7/100\n",
            "1/1 [==============================] - 0s 184ms/step - loss: 0.0187 - val_loss: 0.0153\n",
            "Epoch 8/100\n",
            "1/1 [==============================] - 0s 181ms/step - loss: 0.0169 - val_loss: 0.0148\n",
            "Epoch 9/100\n",
            "1/1 [==============================] - 0s 175ms/step - loss: 0.0169 - val_loss: 0.0144\n",
            "Epoch 10/100\n",
            "1/1 [==============================] - 0s 174ms/step - loss: 0.0163 - val_loss: 0.0137\n",
            "Epoch 11/100\n",
            "1/1 [==============================] - 0s 169ms/step - loss: 0.0148 - val_loss: 0.0143\n",
            "Epoch 12/100\n",
            "1/1 [==============================] - 0s 173ms/step - loss: 0.0147 - val_loss: 0.0153\n",
            "Epoch 13/100\n",
            "1/1 [==============================] - 0s 163ms/step - loss: 0.0154 - val_loss: 0.0150\n",
            "Epoch 14/100\n",
            "1/1 [==============================] - 0s 165ms/step - loss: 0.0151 - val_loss: 0.0139\n",
            "Epoch 15/100\n",
            "1/1 [==============================] - 0s 187ms/step - loss: 0.0144 - val_loss: 0.0133\n",
            "Epoch 16/100\n",
            "1/1 [==============================] - 0s 182ms/step - loss: 0.0142 - val_loss: 0.0131\n",
            "Epoch 17/100\n",
            "1/1 [==============================] - 0s 186ms/step - loss: 0.0143 - val_loss: 0.0127\n",
            "Epoch 18/100\n",
            "1/1 [==============================] - 0s 173ms/step - loss: 0.0138 - val_loss: 0.0124\n",
            "Epoch 19/100\n",
            "1/1 [==============================] - 0s 168ms/step - loss: 0.0133 - val_loss: 0.0126\n",
            "Epoch 20/100\n",
            "1/1 [==============================] - 0s 166ms/step - loss: 0.0134 - val_loss: 0.0128\n",
            "Epoch 21/100\n",
            "1/1 [==============================] - 0s 183ms/step - loss: 0.0136 - val_loss: 0.0125\n",
            "Epoch 22/100\n",
            "1/1 [==============================] - 0s 161ms/step - loss: 0.0133 - val_loss: 0.0119\n",
            "Epoch 23/100\n",
            "1/1 [==============================] - 0s 177ms/step - loss: 0.0130 - val_loss: 0.0117\n",
            "Epoch 24/100\n",
            "1/1 [==============================] - 0s 178ms/step - loss: 0.0129 - val_loss: 0.0116\n",
            "Epoch 25/100\n",
            "1/1 [==============================] - 0s 191ms/step - loss: 0.0129 - val_loss: 0.0115\n",
            "Epoch 26/100\n",
            "1/1 [==============================] - 0s 164ms/step - loss: 0.0127 - val_loss: 0.0115\n",
            "Epoch 27/100\n",
            "1/1 [==============================] - 0s 330ms/step - loss: 0.0125 - val_loss: 0.0117\n",
            "Epoch 28/100\n",
            "1/1 [==============================] - 0s 261ms/step - loss: 0.0126 - val_loss: 0.0118\n",
            "Epoch 29/100\n",
            "1/1 [==============================] - 0s 228ms/step - loss: 0.0126 - val_loss: 0.0117\n",
            "Epoch 30/100\n",
            "1/1 [==============================] - 0s 200ms/step - loss: 0.0125 - val_loss: 0.0114\n",
            "Epoch 31/100\n",
            "1/1 [==============================] - 0s 206ms/step - loss: 0.0123 - val_loss: 0.0112\n",
            "Epoch 32/100\n",
            "1/1 [==============================] - 0s 190ms/step - loss: 0.0123 - val_loss: 0.0111\n",
            "Epoch 33/100\n",
            "1/1 [==============================] - 0s 186ms/step - loss: 0.0123 - val_loss: 0.0110\n",
            "Epoch 34/100\n",
            "1/1 [==============================] - 0s 218ms/step - loss: 0.0122 - val_loss: 0.0110\n",
            "Epoch 35/100\n",
            "1/1 [==============================] - 0s 240ms/step - loss: 0.0120 - val_loss: 0.0110\n",
            "Epoch 36/100\n",
            "1/1 [==============================] - 0s 251ms/step - loss: 0.0120 - val_loss: 0.0110\n",
            "Epoch 37/100\n",
            "1/1 [==============================] - 0s 256ms/step - loss: 0.0120 - val_loss: 0.0109\n",
            "Epoch 38/100\n",
            "1/1 [==============================] - 0s 280ms/step - loss: 0.0120 - val_loss: 0.0108\n",
            "Epoch 39/100\n",
            "1/1 [==============================] - 0s 214ms/step - loss: 0.0119 - val_loss: 0.0107\n",
            "Epoch 40/100\n",
            "1/1 [==============================] - 0s 239ms/step - loss: 0.0118 - val_loss: 0.0107\n",
            "Epoch 41/100\n",
            "1/1 [==============================] - 0s 159ms/step - loss: 0.0118 - val_loss: 0.0106\n",
            "Epoch 42/100\n",
            "1/1 [==============================] - 0s 192ms/step - loss: 0.0118 - val_loss: 0.0106\n",
            "Epoch 43/100\n",
            "1/1 [==============================] - 0s 238ms/step - loss: 0.0117 - val_loss: 0.0106\n",
            "Epoch 44/100\n",
            "1/1 [==============================] - 0s 241ms/step - loss: 0.0117 - val_loss: 0.0106\n",
            "Epoch 45/100\n",
            "1/1 [==============================] - 0s 228ms/step - loss: 0.0116 - val_loss: 0.0106\n",
            "Epoch 46/100\n",
            "1/1 [==============================] - 0s 235ms/step - loss: 0.0116 - val_loss: 0.0105\n",
            "Epoch 47/100\n",
            "1/1 [==============================] - 0s 260ms/step - loss: 0.0115 - val_loss: 0.0104\n",
            "Epoch 48/100\n",
            "1/1 [==============================] - 0s 223ms/step - loss: 0.0115 - val_loss: 0.0104\n",
            "Epoch 49/100\n",
            "1/1 [==============================] - 0s 239ms/step - loss: 0.0115 - val_loss: 0.0103\n",
            "Epoch 50/100\n",
            "1/1 [==============================] - 0s 242ms/step - loss: 0.0114 - val_loss: 0.0103\n",
            "Epoch 51/100\n",
            "1/1 [==============================] - 0s 263ms/step - loss: 0.0114 - val_loss: 0.0103\n",
            "Epoch 52/100\n",
            "1/1 [==============================] - 0s 239ms/step - loss: 0.0114 - val_loss: 0.0103\n",
            "Epoch 53/100\n",
            "1/1 [==============================] - 0s 247ms/step - loss: 0.0113 - val_loss: 0.0102\n",
            "Epoch 54/100\n",
            "1/1 [==============================] - 0s 241ms/step - loss: 0.0113 - val_loss: 0.0102\n",
            "Epoch 55/100\n",
            "1/1 [==============================] - 0s 245ms/step - loss: 0.0113 - val_loss: 0.0102\n",
            "Epoch 56/100\n",
            "1/1 [==============================] - 0s 255ms/step - loss: 0.0113 - val_loss: 0.0101\n",
            "Epoch 57/100\n",
            "1/1 [==============================] - 0s 256ms/step - loss: 0.0112 - val_loss: 0.0101\n",
            "Epoch 58/100\n",
            "1/1 [==============================] - 0s 246ms/step - loss: 0.0112 - val_loss: 0.0101\n",
            "Epoch 59/100\n",
            "1/1 [==============================] - 0s 245ms/step - loss: 0.0112 - val_loss: 0.0101\n",
            "Epoch 60/100\n",
            "1/1 [==============================] - 0s 261ms/step - loss: 0.0111 - val_loss: 0.0101\n",
            "Epoch 61/100\n",
            "1/1 [==============================] - 0s 263ms/step - loss: 0.0111 - val_loss: 0.0101\n",
            "Epoch 62/100\n",
            "1/1 [==============================] - 0s 273ms/step - loss: 0.0111 - val_loss: 0.0100\n",
            "Epoch 63/100\n",
            "1/1 [==============================] - 0s 244ms/step - loss: 0.0111 - val_loss: 0.0100\n",
            "Epoch 64/100\n",
            "1/1 [==============================] - 0s 194ms/step - loss: 0.0110 - val_loss: 0.0100\n",
            "Epoch 65/100\n",
            "1/1 [==============================] - 0s 144ms/step - loss: 0.0110 - val_loss: 0.0100\n",
            "Epoch 66/100\n",
            "1/1 [==============================] - 0s 152ms/step - loss: 0.0110 - val_loss: 0.0100\n",
            "Epoch 67/100\n",
            "1/1 [==============================] - 0s 154ms/step - loss: 0.0110 - val_loss: 0.0100\n",
            "Epoch 68/100\n",
            "1/1 [==============================] - 0s 146ms/step - loss: 0.0110 - val_loss: 0.0099\n",
            "Epoch 69/100\n",
            "1/1 [==============================] - 0s 152ms/step - loss: 0.0109 - val_loss: 0.0099\n",
            "Epoch 70/100\n",
            "1/1 [==============================] - 0s 155ms/step - loss: 0.0109 - val_loss: 0.0099\n",
            "Epoch 71/100\n",
            "1/1 [==============================] - 0s 149ms/step - loss: 0.0109 - val_loss: 0.0099\n",
            "Epoch 72/100\n",
            "1/1 [==============================] - 0s 145ms/step - loss: 0.0109 - val_loss: 0.0099\n",
            "Epoch 73/100\n",
            "1/1 [==============================] - 0s 150ms/step - loss: 0.0109 - val_loss: 0.0099\n",
            "Epoch 74/100\n",
            "1/1 [==============================] - 0s 155ms/step - loss: 0.0108 - val_loss: 0.0098\n",
            "Epoch 75/100\n",
            "1/1 [==============================] - 0s 154ms/step - loss: 0.0108 - val_loss: 0.0098\n",
            "Epoch 76/100\n",
            "1/1 [==============================] - 0s 141ms/step - loss: 0.0108 - val_loss: 0.0098\n",
            "Epoch 77/100\n",
            "1/1 [==============================] - 0s 155ms/step - loss: 0.0108 - val_loss: 0.0098\n",
            "Epoch 78/100\n",
            "1/1 [==============================] - 0s 146ms/step - loss: 0.0108 - val_loss: 0.0098\n",
            "Epoch 79/100\n",
            "1/1 [==============================] - 0s 142ms/step - loss: 0.0108 - val_loss: 0.0098\n",
            "Epoch 80/100\n",
            "1/1 [==============================] - 0s 157ms/step - loss: 0.0108 - val_loss: 0.0098\n",
            "Epoch 81/100\n",
            "1/1 [==============================] - 0s 143ms/step - loss: 0.0107 - val_loss: 0.0098\n",
            "Epoch 82/100\n",
            "1/1 [==============================] - 0s 141ms/step - loss: 0.0107 - val_loss: 0.0098\n",
            "Epoch 83/100\n",
            "1/1 [==============================] - 0s 150ms/step - loss: 0.0107 - val_loss: 0.0098\n",
            "Epoch 84/100\n",
            "1/1 [==============================] - 0s 145ms/step - loss: 0.0107 - val_loss: 0.0097\n",
            "Epoch 85/100\n",
            "1/1 [==============================] - 0s 151ms/step - loss: 0.0107 - val_loss: 0.0097\n",
            "Epoch 86/100\n",
            "1/1 [==============================] - 0s 145ms/step - loss: 0.0107 - val_loss: 0.0097\n",
            "Epoch 87/100\n",
            "1/1 [==============================] - 0s 160ms/step - loss: 0.0107 - val_loss: 0.0097\n",
            "Epoch 88/100\n",
            "1/1 [==============================] - 0s 148ms/step - loss: 0.0106 - val_loss: 0.0097\n",
            "Epoch 89/100\n",
            "1/1 [==============================] - 0s 144ms/step - loss: 0.0106 - val_loss: 0.0097\n",
            "Epoch 90/100\n",
            "1/1 [==============================] - 0s 145ms/step - loss: 0.0106 - val_loss: 0.0097\n",
            "Epoch 91/100\n",
            "1/1 [==============================] - 0s 143ms/step - loss: 0.0106 - val_loss: 0.0097\n",
            "Epoch 92/100\n",
            "1/1 [==============================] - 0s 159ms/step - loss: 0.0106 - val_loss: 0.0097\n",
            "Epoch 93/100\n",
            "1/1 [==============================] - 0s 160ms/step - loss: 0.0106 - val_loss: 0.0097\n",
            "Epoch 94/100\n",
            "1/1 [==============================] - 0s 156ms/step - loss: 0.0106 - val_loss: 0.0097\n",
            "Epoch 95/100\n",
            "1/1 [==============================] - 0s 145ms/step - loss: 0.0106 - val_loss: 0.0097\n",
            "Epoch 96/100\n",
            "1/1 [==============================] - 0s 141ms/step - loss: 0.0106 - val_loss: 0.0096\n",
            "Epoch 97/100\n",
            "1/1 [==============================] - 0s 151ms/step - loss: 0.0105 - val_loss: 0.0096\n",
            "Epoch 98/100\n",
            "1/1 [==============================] - 0s 141ms/step - loss: 0.0105 - val_loss: 0.0096\n",
            "Epoch 99/100\n",
            "1/1 [==============================] - 0s 146ms/step - loss: 0.0105 - val_loss: 0.0096\n",
            "Epoch 100/100\n",
            "1/1 [==============================] - 0s 154ms/step - loss: 0.0105 - val_loss: 0.0096\n"
          ]
        },
        {
          "data": {
            "text/plain": [
              "<keras.callbacks.History at 0x7fd1324c89d0>"
            ]
          },
          "execution_count": 15,
          "metadata": {},
          "output_type": "execute_result"
        }
      ],
      "source": [
        "autoencoder.fit(\n",
        "    x=noisy_train_X_data,\n",
        "    y=train_X,\n",
        "    epochs=100,\n",
        "    batch_size=100,\n",
        "    shuffle=True,\n",
        "    validation_data=(noisy_test_X_data, test_X),\n",
        ")"
      ]
    },
    {
      "cell_type": "code",
      "execution_count": null,
      "metadata": {
        "colab": {
          "base_uri": "https://localhost:8080/",
          "height": 390
        },
        "id": "Tsoo5yfTF7l6",
        "outputId": "a8f4c8d3-7668-447f-d50f-e06adacf9bcf"
      },
      "outputs": [
        {
          "name": "stdout",
          "output_type": "stream",
          "text": [
            "1/1 [==============================] - 0s 31ms/step\n"
          ]
        },
        {
          "name": "stderr",
          "output_type": "stream",
          "text": [
            "WARNING:matplotlib.image:Clipping input data to the valid range for imshow with RGB data ([0..1] for floats or [0..255] for integers).\n",
            "WARNING:matplotlib.image:Clipping input data to the valid range for imshow with RGB data ([0..1] for floats or [0..255] for integers).\n",
            "WARNING:matplotlib.image:Clipping input data to the valid range for imshow with RGB data ([0..1] for floats or [0..255] for integers).\n",
            "WARNING:matplotlib.image:Clipping input data to the valid range for imshow with RGB data ([0..1] for floats or [0..255] for integers).\n",
            "WARNING:matplotlib.image:Clipping input data to the valid range for imshow with RGB data ([0..1] for floats or [0..255] for integers).\n",
            "WARNING:matplotlib.image:Clipping input data to the valid range for imshow with RGB data ([0..1] for floats or [0..255] for integers).\n",
            "WARNING:matplotlib.image:Clipping input data to the valid range for imshow with RGB data ([0..1] for floats or [0..255] for integers).\n",
            "WARNING:matplotlib.image:Clipping input data to the valid range for imshow with RGB data ([0..1] for floats or [0..255] for integers).\n"
          ]
        },
        {
          "data": {
            "image/png": "[encoded data removed]",
            "text/plain": [
              "<Figure size 2000x400 with 16 Axes>"
            ]
          },
          "metadata": {},
          "output_type": "display_data"
        }
      ],
      "source": [
        "predictions = autoencoder.predict(noisy_test_X_data)\n",
        "display(noisy_test_X_data, predictions)"
      ]
    },
    {
      "cell_type": "markdown",
      "metadata": {
        "id": "NtQumV_kEDJo"
      },
      "source": [
        "Задание 3"
      ]
    },
    {
      "cell_type": "code",
      "execution_count": null,
      "metadata": {
        "id": "GmeX9rO_EF3M"
      },
      "outputs": [],
      "source": [
        "from imutils import paths\n",
        "from sklearn.model_selection import train_test_split\n",
        "from keras.layers import Conv2D, UpSampling2D, Input\n",
        "from keras.models import Sequential, Model\n",
        "from keras.preprocessing.image import ImageDataGenerator\n",
        "import tensorflow as tf\n",
        "from tensorflow.keras import layers\n",
        "from tensorflow.keras.utils import img_to_array, load_img\n",
        "from skimage.color import rgb2lab, lab2rgb, gray2rgb, rgb2gray\n",
        "from skimage.transform import resize\n",
        "from skimage.io import imsave\n",
        "from matplotlib import pyplot as plt\n",
        "import numpy as np\n",
        "import tensorflow as tf\n",
        "import keras\n",
        "import cv2\n",
        "import os\n",
        "\n",
        "imagePaths = sorted(list(paths.list_images(\"/content/drive/MyDrive/NighttimeDrivingTest/leftImg8bit/test/night\")))"
      ]
    },
    {
      "cell_type": "code",
      "execution_count": null,
      "metadata": {
        "id": "dwIrYR4MGQaq"
      },
      "outputs": [],
      "source": [
        "datas1 = []\n",
        "\n",
        "for imagePath1 in imagePaths:\n",
        "  image1 = cv2.imread(imagePath1)\n",
        "  image1 = cv2.resize(image1, (128, 128))\n",
        "  datas1.append(image1) "
      ]
    },
    {
      "cell_type": "code",
      "execution_count": null,
      "metadata": {
        "id": "7hhUUYP6GWLe"
      },
      "outputs": [],
      "source": [
        "datas2 = []\n",
        "for imagePath2 in imagePaths:\n",
        "  image2 = cv2.imread(imagePath2)\n",
        "  image2 = cv2.resize(image2, (256, 256))\n",
        "  datas2.append(image2) "
      ]
    },
    {
      "cell_type": "code",
      "execution_count": null,
      "metadata": {
        "colab": {
          "base_uri": "https://localhost:8080/"
        },
        "id": "004B0WhfGb4J",
        "outputId": "0add87c4-35ae-4ac9-eeef-834d76043882"
      },
      "outputs": [
        {
          "data": {
            "text/plain": [
              "(256, 256, 3)"
            ]
          },
          "execution_count": 20,
          "metadata": {},
          "output_type": "execute_result"
        }
      ],
      "source": [
        "datas2[0].shape"
      ]
    },
    {
      "cell_type": "code",
      "execution_count": null,
      "metadata": {
        "colab": {
          "base_uri": "https://localhost:8080/"
        },
        "id": "7UKTkJkAGf1a",
        "outputId": "0324349b-1d89-43ef-8cb1-6dc91b89fdf1"
      },
      "outputs": [
        {
          "data": {
            "text/plain": [
              "(128, 128, 3)"
            ]
          },
          "execution_count": 21,
          "metadata": {},
          "output_type": "execute_result"
        }
      ],
      "source": [
        "datas1[0].shape"
      ]
    },
    {
      "cell_type": "code",
      "execution_count": null,
      "metadata": {
        "id": "KQKQDyQPGj4i"
      },
      "outputs": [],
      "source": [
        "x_train, x_test, y_train, y_test = train_test_split(datas1, datas2, test_size=0.2, random_state=42)"
      ]
    },
    {
      "cell_type": "code",
      "execution_count": null,
      "metadata": {
        "id": "JTJmvLmsGoby"
      },
      "outputs": [],
      "source": [
        "def preprocess1(array1): #Создаем функцию с параметром array1\n",
        "\n",
        "    array1 = np.array(array1, dtype=np.float32)\n",
        "    array1 = array1 / 255.0\n",
        "    array1 = np.reshape(array1, (len(array1), 128, 128, 3))\n",
        "    return array1"
      ]
    },
    {
      "cell_type": "code",
      "execution_count": null,
      "metadata": {
        "id": "FXt0Ue7zGtBB"
      },
      "outputs": [],
      "source": [
        "def preprocess2(array2): #Создаем функцию с параметром array2\n",
        "\n",
        "    array2 = np.array(array2, dtype=np.float32) # Cоздаем массив\n",
        "    array2 = array2 / 255.0\n",
        "    array2 = np.reshape(array2, (len(array2), 256, 256, 3)) #Устанавливаем размер\n",
        "    return array2"
      ]
    },
    {
      "cell_type": "code",
      "execution_count": null,
      "metadata": {
        "id": "9cWWz0_5GyuL"
      },
      "outputs": [],
      "source": [
        "x_train = preprocess1(x_train)#помещаем\n",
        "x_test = preprocess1(x_test)\n",
        "y_train = preprocess2(y_train)\n",
        "y_test = preprocess2(y_test)"
      ]
    },
    {
      "cell_type": "code",
      "execution_count": null,
      "metadata": {
        "colab": {
          "base_uri": "https://localhost:8080/"
        },
        "id": "O2IGrKbUG3V4",
        "outputId": "89cfc473-a782-43f6-e9a8-5660e51ed573"
      },
      "outputs": [
        {
          "name": "stdout",
          "output_type": "stream",
          "text": [
            "(40, 128, 128, 3)\n",
            "(40, 256, 256, 3)\n",
            "(10, 128, 128, 3)\n",
            "(10, 256, 256, 3)\n"
          ]
        }
      ],
      "source": [
        "print(x_train.shape)\n",
        "print(y_train.shape)\n",
        "print(x_test.shape)\n",
        "print(y_test.shape)"
      ]
    },
    {
      "cell_type": "code",
      "execution_count": null,
      "metadata": {
        "colab": {
          "base_uri": "https://localhost:8080/"
        },
        "id": "9W-IcFyzG8ET",
        "outputId": "c96b42db-d0ab-497e-cd87-c18f31db0ce8"
      },
      "outputs": [
        {
          "name": "stdout",
          "output_type": "stream",
          "text": [
            "Model: \"model_1\"\n",
            "_________________________________________________________________\n",
            " Layer (type)                Output Shape              Param #   \n",
            "=================================================================\n",
            " input_2 (InputLayer)        [(None, 128, 128, 3)]     0         \n",
            "                                                                 \n",
            " conv2d_2 (Conv2D)           (None, 128, 128, 128)     3584      \n",
            "                                                                 \n",
            " max_pooling2d_1 (MaxPooling  (None, 64, 64, 128)      0         \n",
            " 2D)                                                             \n",
            "                                                                 \n",
            " conv2d_transpose_1 (Conv2DT  (None, 128, 128, 16)     18448     \n",
            " ranspose)                                                       \n",
            "                                                                 \n",
            " conv2d_transpose_2 (Conv2DT  (None, 256, 256, 32)     4640      \n",
            " ranspose)                                                       \n",
            "                                                                 \n",
            " conv2d_3 (Conv2D)           (None, 256, 256, 3)       867       \n",
            "                                                                 \n",
            "=================================================================\n",
            "Total params: 27,539\n",
            "Trainable params: 27,539\n",
            "Non-trainable params: 0\n",
            "_________________________________________________________________\n"
          ]
        }
      ],
      "source": [
        "from tensorflow.keras import layers\n",
        "from tensorflow.keras.models import Model\n",
        "\n",
        "input1 = layers.Input(shape=(128, 128, 3))\n",
        "\n",
        "# Encoder\n",
        "x = layers.Conv2D(128, (3, 3), activation=\"relu\", padding=\"same\")(input1)\n",
        "x = layers.MaxPooling2D((2, 2), padding=\"same\")(x)\n",
        "\n",
        "\n",
        "# Decoder\n",
        "x = layers.Conv2DTranspose(16, (3, 3), strides=2, activation=\"relu\", padding=\"same\")(x)\n",
        "x = layers.Conv2DTranspose(32, (3, 3), strides=2, activation=\"relu\", padding=\"same\")(x)\n",
        "x = layers.Conv2D(3, (3, 3), activation=\"linear\", padding=\"same\")(x)\n",
        "\n",
        "\n",
        "auto = Model(input1, x)\n",
        "auto.compile(optimizer=\"adam\", loss=\"mse\", metrics = [\"mse\", \"accuracy\"])\n",
        "auto.summary()"
      ]
    },
    {
      "cell_type": "code",
      "execution_count": null,
      "metadata": {
        "colab": {
          "base_uri": "https://localhost:8080/"
        },
        "id": "JsBhI9ASHFag",
        "outputId": "a059ee5e-66e7-4c5b-e8c5-88f6725468df"
      },
      "outputs": [
        {
          "name": "stdout",
          "output_type": "stream",
          "text": [
            "(40, 128, 128, 3)\n",
            "(40, 256, 256, 3)\n",
            "(10, 128, 128, 3)\n",
            "(10, 256, 256, 3)\n"
          ]
        }
      ],
      "source": [
        "print(x_train.shape)\n",
        "print(y_train.shape)\n",
        "print(x_test.shape)\n",
        "print(y_test.shape)"
      ]
    },
    {
      "cell_type": "code",
      "execution_count": null,
      "metadata": {
        "id": "4M-I-0BrHJ3z"
      },
      "outputs": [],
      "source": [
        "import tensorflow as tf"
      ]
    },
    {
      "cell_type": "code",
      "execution_count": null,
      "metadata": {
        "colab": {
          "base_uri": "https://localhost:8080/"
        },
        "id": "bZE7lf2AHPM2",
        "outputId": "0e79156f-4871-40a1-d896-d5944028236f"
      },
      "outputs": [
        {
          "name": "stdout",
          "output_type": "stream",
          "text": [
            "Epoch 1/5\n",
            "2/2 [==============================] - 12s 5s/step - loss: 0.0590 - mse: 0.0590 - accuracy: 0.2531 - val_loss: 0.0503 - val_mse: 0.0503 - val_accuracy: 0.2174\n",
            "Epoch 2/5\n",
            "2/2 [==============================] - 10s 6s/step - loss: 0.0526 - mse: 0.0526 - accuracy: 0.2210 - val_loss: 0.0424 - val_mse: 0.0424 - val_accuracy: 0.2423\n",
            "Epoch 3/5\n",
            "2/2 [==============================] - 8s 4s/step - loss: 0.0434 - mse: 0.0434 - accuracy: 0.2532 - val_loss: 0.0317 - val_mse: 0.0317 - val_accuracy: 0.2711\n",
            "Epoch 4/5\n",
            "2/2 [==============================] - 10s 5s/step - loss: 0.0313 - mse: 0.0313 - accuracy: 0.2757 - val_loss: 0.0201 - val_mse: 0.0201 - val_accuracy: 0.2842\n",
            "Epoch 5/5\n",
            "2/2 [==============================] - 9s 5s/step - loss: 0.0194 - mse: 0.0194 - accuracy: 0.2859 - val_loss: 0.0138 - val_mse: 0.0138 - val_accuracy: 0.3119\n"
          ]
        }
      ],
      "source": [
        "history = auto.fit(\n",
        "    x_train,\n",
        "    y_train,\n",
        "    epochs=5,\n",
        "    batch_size=20,\n",
        "    shuffle=True,\n",
        "    validation_data = (x_test, y_test),\n",
        "    )"
      ]
    },
    {
      "cell_type": "code",
      "execution_count": null,
      "metadata": {
        "id": "gk9KnANaHuDr"
      },
      "outputs": [],
      "source": [
        "test_img = x_test[0]\n",
        "\n",
        "test_img = np.reshape(test_img, (1, 128, 128, 3))"
      ]
    },
    {
      "cell_type": "code",
      "execution_count": null,
      "metadata": {
        "colab": {
          "base_uri": "https://localhost:8080/"
        },
        "id": "Iy5zprilHweP",
        "outputId": "29c17a7e-131e-4aa8-b45f-3b4a407d08d6"
      },
      "outputs": [
        {
          "name": "stdout",
          "output_type": "stream",
          "text": [
            "1/1 [==============================] - 0s 314ms/step\n"
          ]
        }
      ],
      "source": [
        "test_pred = auto.predict(test_img)"
      ]
    },
    {
      "cell_type": "code",
      "execution_count": null,
      "metadata": {
        "id": "6Q8czOMyH0uw"
      },
      "outputs": [],
      "source": [
        "test_img = test_img[0,]\n",
        "test_pred = test_pred[0,]"
      ]
    },
    {
      "cell_type": "code",
      "execution_count": null,
      "metadata": {
        "colab": {
          "base_uri": "https://localhost:8080/"
        },
        "id": "lJuH43fPH6c0",
        "outputId": "6ebe82a4-31a7-4baf-8f07-5c7429cf4214"
      },
      "outputs": [
        {
          "data": {
            "text/plain": [
              "array([-0.01673851, -0.01505281, -0.01335861, ...,  1.1968307 ,\n",
              "        1.198568  ,  1.2026715 ], dtype=float32)"
            ]
          },
          "execution_count": 34,
          "metadata": {},
          "output_type": "execute_result"
        }
      ],
      "source": [
        "np.unique(test_pred)"
      ]
    },
    {
      "cell_type": "code",
      "execution_count": null,
      "metadata": {
        "colab": {
          "base_uri": "https://localhost:8080/",
          "height": 243
        },
        "id": "jsy7pY0rH_E-",
        "outputId": "7b31272c-2d6f-44ce-8693-5dfdc77f5480"
      },
      "outputs": [
        {
          "name": "stderr",
          "output_type": "stream",
          "text": [
            "WARNING:matplotlib.image:Clipping input data to the valid range for imshow with RGB data ([0..1] for floats or [0..255] for integers).\n"
          ]
        },
        {
          "data": {
            "image/png": "[encoded data removed]",
            "text/plain": [
              "<Figure size 640x480 with 2 Axes>"
            ]
          },
          "metadata": {},
          "output_type": "display_data"
        }
      ],
      "source": [
        "ax = plt.subplot(2, 2, 1)\n",
        "plt.imshow(test_img)\n",
        "        # plt.show()\n",
        "ax.get_xaxis().set_visible(False)\n",
        "ax.get_yaxis().set_visible(False)\n",
        "\n",
        "ax = plt.subplot(2, 2, 2)\n",
        "plt.imshow(test_pred)\n",
        "        # plt.show()\n",
        "ax.get_xaxis().set_visible(False)\n",
        "ax.get_yaxis().set_visible(False)\n",
        "\n",
        "plt.show()"
      ]
    }
  ],
  "metadata": {
    "colab": {
      "provenance": [],
      "mount_file_id": "1IpjcZNjzIg_KrmG7JeEgOrf7Gigm47St",
      "authorship_tag": "ABX9TyPmggJJP3PuR1rckyKyWGSx",
      "include_colab_link": true
    },
    "kernelspec": {
      "display_name": "Python 3",
      "name": "python3"
    },
    "language_info": {
      "name": "python"
    }
  },
  "nbformat": 4,
  "nbformat_minor": 0
}